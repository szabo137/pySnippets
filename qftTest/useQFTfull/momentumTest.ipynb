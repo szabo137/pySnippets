{
 "cells": [
  {
   "cell_type": "markdown",
   "metadata": {},
   "source": [
    "Momentum test\n",
    "==========="
   ]
  },
  {
   "cell_type": "markdown",
   "metadata": {},
   "source": [
    "Here we test the behavior of the minkowski vector and maybe do some benchmarks"
   ]
  },
  {
   "cell_type": "code",
   "execution_count": null,
   "metadata": {},
   "outputs": [],
   "source": [
    "import numpy as np\n",
    "import sftrident.qft as qft"
   ]
  },
  {
   "cell_type": "markdown",
   "metadata": {},
   "source": [
    "Test with one dimension\n",
    "------"
   ]
  },
  {
   "cell_type": "code",
   "execution_count": null,
   "metadata": {},
   "outputs": [],
   "source": [
    "p0 = qft.parray(np.linspace(0,10,11))\n",
    "p1=qft.parray(0.0)\n",
    "p2=qft.parray(0.0)\n",
    "p3=qft.parray(0.0)\n",
    "\n",
    "mom = qft.MinkowskiVector([p0,p1,p2,p3])\n",
    "print \"mom: %s\"%np.asarray(mom)"
   ]
  },
  {
   "cell_type": "code",
   "execution_count": null,
   "metadata": {},
   "outputs": [],
   "source": []
  },
  {
   "cell_type": "markdown",
   "metadata": {},
   "source": [
    "Test with two dimensions\n",
    "------------"
   ]
  },
  {
   "cell_type": "code",
   "execution_count": null,
   "metadata": {},
   "outputs": [],
   "source": [
    "#with newaxis\n",
    "p0 = qft.parray(np.linspace(1,10,10))[:,np.newaxis,np.newaxis,np.newaxis]\n",
    "p1=qft.parray(np.linspace(11,20,10))[np.newaxis,:,np.newaxis,np.newaxis]\n",
    "p2=qft.parray(np.linspace(21,30,10))[np.newaxis,np.newaxis,:,np.newaxis]\n",
    "p3=qft.parray(np.linspace(31,40,10))[np.newaxis,np.newaxis,np.newaxis,:]\n",
    "\n",
    "mom = qft.MinkowskiVector([p0,p1,p2,p3])\n",
    "#print \"mom: %s\"%np.asarray(mom)\n",
    "\n",
    "print mom[0,0,0,0]*mom[0,0,0,0]\n",
    "print 1*1 - 11*11 - 21*21 - 31*31\n",
    "mass = mom*mom\n",
    "print mass[0,0,0,0]"
   ]
  },
  {
   "cell_type": "markdown",
   "metadata": {},
   "source": [
    "Conclusion:\n",
    "- building up a function, which takes all input as np.array\n",
    "- using the newaxis structure as above, leads the a easy usage of the minkowsi vector: e.g. \n",
    "\n",
    "mom[1,3,4,2] \n",
    "\n",
    "returnes the momentum of p0[1], p1[3], p2[4], p3[2].\n",
    "- moreover if one calculates e.g. the mass: mass = mom*mom the result works exactly like above:\n",
    "\n",
    "mass[1,3,4,2]\n",
    "\n",
    "returns the mass of p0[1], p1[3], p2[4], p3[2]."
   ]
  },
  {
   "cell_type": "markdown",
   "metadata": {},
   "source": [
    "Test computations of the coordinates\n",
    "--------\n"
   ]
  },
  {
   "cell_type": "code",
   "execution_count": null,
   "metadata": {},
   "outputs": [],
   "source": [
    "p0 = qft.parray(np.linspace(1,10,10))[:,np.newaxis,np.newaxis,np.newaxis]\n",
    "print p0.shape\n",
    "p0sq = p0**2\n",
    "print p0sq.shape"
   ]
  },
  {
   "cell_type": "code",
   "execution_count": null,
   "metadata": {},
   "outputs": [],
   "source": [
    "p0 = qft.parray(np.linspace(1,10,10))[:,np.newaxis,np.newaxis,np.newaxis]\n",
    "p1=qft.parray(np.linspace(11,20,10))[np.newaxis,:,np.newaxis,np.newaxis]\n",
    "print \"p0 shape: %s\"%(str(p0.shape))\n",
    "print \"p1 shape: %s\"%(str(p1.shape))\n",
    "p0ADDp1 = p0+p1\n",
    "print \"p0 + p1 shape: %s\"%(str(p0ADDp1.shape))\n",
    "\n",
    "p0p1 = p0*p1\n",
    "print \"p0p1 shape: %s\"%(str(p0p1.shape))"
   ]
  },
  {
   "cell_type": "code",
   "execution_count": null,
   "metadata": {},
   "outputs": [],
   "source": [
    "p0 = qft.parray(np.linspace(1,10,10))[:,np.newaxis,np.newaxis,np.newaxis]\n",
    "p1=qft.parray(np.linspace(11,20,10))[np.newaxis,:,np.newaxis,np.newaxis]\n",
    "print \"p0 shape: %s\"%(str(p0.shape))\n",
    "print \"p1 shape: %s\"%(str(p1.shape))\n",
    "p0ADDp1 = p0+p1\n",
    "print \"(p0 + p1)[1,0]: %s\"%(str(p0ADDp1[1,0]))"
   ]
  },
  {
   "cell_type": "markdown",
   "metadata": {},
   "source": [
    "Test spherical coordinates\n",
    "------------"
   ]
  },
  {
   "cell_type": "code",
   "execution_count": null,
   "metadata": {},
   "outputs": [],
   "source": [
    "Earr = np.linspace(1.0,10.0,10)\n",
    "cthArr = np.linspace(-1,1,10)\n",
    "phiArr = np.linspace(0.0,2.0*np.pi,10)\n",
    "\n",
    "E = Earr[:,np.newaxis,np.newaxis]\n",
    "cth = cthArr[np.newaxis,:,np.newaxis]\n",
    "phi = phiArr[np.newaxis,np.newaxis,:]\n",
    "\n",
    "p0 = qft.parray(E)\n",
    "p1 = qft.parray(np.sqrt(E**2 - 1)*np.sin(np.arccos(cth))*np.cos(phi))\n",
    "p2 = qft.parray(np.sqrt(E**2 - 1)*np.sin(np.arccos(cth))*np.sin(phi))\n",
    "p3 = qft.parray(np.sqrt(E**2 - 1)*cth)\n",
    "\n",
    "mom = qft.MinkowskiVector([p0,p1,p2,p3])\n",
    "\n",
    "print \"p0 shape: %s\"%(str(p0.shape))\n",
    "print \"p1 shape: %s\"%(str(p1.shape))\n",
    "print \"p2 shape: %s\"%(str(p2.shape))\n",
    "print \"p3 shape: %s\"%(str(p3.shape))\n",
    "\n",
    "\n",
    "def testP1(singE,singC,singP):\n",
    "    print \"E: %s\"%Earr[singE]\n",
    "    print \"C: %s\"%cthArr[singC]\n",
    "    print \"P: %s\"%phiArr[singP]\n",
    "    return np.sqrt(Earr[singE]**2 - 1)*np.sin(np.arccos(cthArr[singC]))*np.cos(phiArr[singP])\n",
    "\n",
    "print \"E: %s\"%Earr[1]\n",
    "print \"C: %s\"%cthArr[1]\n",
    "print \"P: %s\"%phiArr[1]\n",
    "print \"test: %s\"%testP1(4,1,1)\n",
    "print \"mom: %s\"%mom._1()[2,1,1]\n",
    "print \"p1: %s\"%p1[2,1,1]"
   ]
  },
  {
   "cell_type": "code",
   "execution_count": null,
   "metadata": {},
   "outputs": [],
   "source": [
    "#print E.shape\n",
    "#print cth.shape\n",
    "#print phi.shape\n",
    "test = np.sqrt(E**2-1)*np.sin(np.arccos(cth))*np.sin(phi)\n",
    "print test.shape\n",
    "print np.sqrt(Earr[1]**2 - 1)*np.sin(np.arccos(cthArr[1]))*np.sin(phiArr[1])\n",
    "print test[1,1,1]"
   ]
  },
  {
   "cell_type": "markdown",
   "metadata": {},
   "source": [
    "Test all spherical coordinates\n",
    "------------"
   ]
  },
  {
   "cell_type": "code",
   "execution_count": null,
   "metadata": {},
   "outputs": [],
   "source": [
    "Earr = np.linspace(1.0,10.0,10)\n",
    "cthArr = np.linspace(-1,1,10)\n",
    "phiArr = np.linspace(0.0,2.0*np.pi,10)\n",
    "\n",
    "E = Earr[:,np.newaxis,np.newaxis]\n",
    "cth = cthArr[np.newaxis,:,np.newaxis]\n",
    "phi = phiArr[np.newaxis,np.newaxis,:]\n",
    "\n",
    "p0 = qft.parray(E)\n",
    "p1 = qft.parray(np.sqrt(E**2 - 1)*np.sin(np.arccos(cth))*np.cos(phi))\n",
    "p2 = qft.parray(np.sqrt(E**2 - 1)*np.sin(np.arccos(cth))*np.sin(phi))\n",
    "p3 = qft.parray(np.sqrt(E**2 - 1)*cth)\n",
    "\n",
    "mom = qft.MinkowskiVector([p0,p1,p2,p3])\n",
    "\n",
    "def testP1(singE,singC,singP):\n",
    "    #print \"E: %s\"%Earr[singE]\n",
    "    #print \"C: %s\"%cthArr[singC]\n",
    "    #print \"P: %s\"%phiArr[singP]\n",
    "    return np.sqrt(Earr[singE]**2 - 1)*np.sin(np.arccos(cthArr[singC]))*np.cos(phiArr[singP])\n",
    "\n",
    "for ie, e in enumerate(Earr):\n",
    "    for ic, c in enumerate(cthArr):\n",
    "        for ip,p in enumerate(phiArr):\n",
    "            print \"----- (%d, %d, %d)\"%(ie,ic,ip)\n",
    "            print \"mom:  %s\"%mom._1()[ie,ic,ip]\n",
    "            print \"test: %s\"%testP1(ie,ic,ip)"
   ]
  },
  {
   "cell_type": "code",
   "execution_count": null,
   "metadata": {},
   "outputs": [],
   "source": [
    "Earr = np.linspace(1.0,10.0,10)\n",
    "cthArr = np.linspace(-1,1,10)\n",
    "phiArr = np.linspace(0.0,2.0*np.pi,10)\n",
    "\n",
    "E = Earr[:,np.newaxis,np.newaxis]\n",
    "cth = cthArr[np.newaxis,:,np.newaxis]\n",
    "phi = phiArr[np.newaxis,np.newaxis,:]\n",
    "\n",
    "p0 = qft.parray(E)\n",
    "p1 = qft.parray(np.sqrt(E**2 - 1)*np.sin(np.arccos(cth))*np.cos(phi))\n",
    "p2 = qft.parray(np.sqrt(E**2 - 1)*np.sin(np.arccos(cth))*np.sin(phi))\n",
    "p3 = qft.parray(np.sqrt(E**2 - 1)*cth)\n",
    "\n",
    "mom = qft.MinkowskiVector([p0,p1,p2,p3])\n",
    "\n",
    "def testP2(singE,singC,singP):\n",
    "    #print \"E: %s\"%Earr[singE]\n",
    "    #print \"C: %s\"%cthArr[singC]\n",
    "    #print \"P: %s\"%phiArr[singP]\n",
    "    return np.sqrt(Earr[singE]**2 - 1)*np.sin(np.arccos(cthArr[singC]))*np.sin(phiArr[singP])\n",
    "\n",
    "for ie, e in enumerate(Earr):\n",
    "    for ic, c in enumerate(cthArr):\n",
    "        for ip,p in enumerate(phiArr):\n",
    "            print \"----- (%d, %d, %d)\"%(ie,ic,ip)\n",
    "            print \"mom:  %s\"%mom._2()[ie,ic,ip]\n",
    "            print \"test: %s\"%testP2(ie,ic,ip)"
   ]
  },
  {
   "cell_type": "code",
   "execution_count": null,
   "metadata": {},
   "outputs": [],
   "source": [
    "Earr = np.linspace(1.0,10.0,10)\n",
    "cthArr = np.linspace(-1,1,10)\n",
    "phiArr = np.linspace(0.0,2.0*np.pi,10)\n",
    "\n",
    "E = Earr[:,np.newaxis,np.newaxis]\n",
    "cth = cthArr[np.newaxis,:,np.newaxis]\n",
    "phi = phiArr[np.newaxis,np.newaxis,:]\n",
    "\n",
    "p0 = qft.parray(E)\n",
    "p1 = qft.parray(np.sqrt(E**2 - 1)*np.sin(np.arccos(cth))*np.cos(phi))\n",
    "p2 = qft.parray(np.sqrt(E**2 - 1)*np.sin(np.arccos(cth))*np.sin(phi))\n",
    "p3 = qft.parray(np.sqrt(E**2 - 1)*cth)\n",
    "\n",
    "mom = qft.MinkowskiVector([p0,p1,p2,p3])\n",
    "\n",
    "def testP3(singE,singC,singP):\n",
    "    #print \"E: %s\"%Earr[singE]\n",
    "    #print \"C: %s\"%cthArr[singC]\n",
    "    #print \"P: %s\"%phiArr[singP]\n",
    "    return np.sqrt(Earr[singE]**2 - 1)*cthArr[singC]\n",
    "\n",
    "for ie, e in enumerate(Earr):\n",
    "    for ic, c in enumerate(cthArr):\n",
    "        for ip,p in enumerate(phiArr):\n",
    "            print \"----- (%d, %d, %d)\"%(ie,ic,ip)\n",
    "            print \"mom:  %s\"%mom._3()[ie,ic,ip]\n",
    "            print \"test: %s\"%testP3(ie,ic,ip)"
   ]
  },
  {
   "cell_type": "code",
   "execution_count": null,
   "metadata": {},
   "outputs": [],
   "source": [
    "spin1 = qft.SpinorU((mom,1.0),1)"
   ]
  },
  {
   "cell_type": "code",
   "execution_count": null,
   "metadata": {},
   "outputs": [],
   "source": [
    "testSp = spin1[:,8,7,6]\n",
    "len(testSp)"
   ]
  },
  {
   "cell_type": "code",
   "execution_count": null,
   "metadata": {},
   "outputs": [],
   "source": []
  },
  {
   "cell_type": "code",
   "execution_count": null,
   "metadata": {},
   "outputs": [],
   "source": []
  }
 ],
 "metadata": {
  "kernelspec": {
   "display_name": "Python 2",
   "language": "python",
   "name": "python2"
  },
  "language_info": {
   "codemirror_mode": {
    "name": "ipython",
    "version": 2
   },
   "file_extension": ".py",
   "mimetype": "text/x-python",
   "name": "python",
   "nbconvert_exporter": "python",
   "pygments_lexer": "ipython2",
   "version": "2.7.12"
  }
 },
 "nbformat": 4,
 "nbformat_minor": 2
}
