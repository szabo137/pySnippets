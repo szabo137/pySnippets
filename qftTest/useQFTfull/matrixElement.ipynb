{
 "cells": [
  {
   "cell_type": "markdown",
   "metadata": {},
   "source": [
    "The matrix element (weak field)\n",
    "============="
   ]
  },
  {
   "cell_type": "code",
   "execution_count": null,
   "metadata": {},
   "outputs": [],
   "source": [
    "from __future__ import print_function\n",
    "import numpy as np\n",
    "from sftrident import current2\n",
    "from sftrident import coordinate\n",
    "from sftrident import alpha\n",
    "from sftrident.weakField import fsquare\n",
    "from sftrident.kinematics import photoNumBW\n",
    "from sftrident import matrixElement"
   ]
  },
  {
   "cell_type": "code",
   "execution_count": null,
   "metadata": {},
   "outputs": [],
   "source": [
    "def buildArr_lcc(Nss,N1m,N1x,N1y,N2m,N2x,N2y,eps=1e-5):\n",
    "    ss = np.linspace(3.1,4.1,Nss)\n",
    "    p1m = np.linspace(eps,1.5,N1m)\n",
    "    p1x = np.linspace(-2,2,N1x)\n",
    "    p1y = np.linspace(-2,2,N1y)\n",
    "    p2m = np.linspace(eps,1.5,N2m)\n",
    "    p2x = np.linspace(-2,2,N2x)\n",
    "    p2y = np.linspace(-2,2,N2y)\n",
    "    return [ss,p1m,p1x,p1y,p2m,p2x,p2y]\n",
    "\n",
    "mass = 1.0\n",
    "Narr1 = (2,2,2,2,2,2,2)\n",
    "frame = 'lab'\n",
    "\n",
    "arrLCC = buildArr_lcc(*Narr1)\n",
    "kinObj = coordinate.momenta(*arrLCC,mass = mass,frame = frame,coordSys='lcc')\n",
    "J0c = current2.J0(kinObj.P3,kinObj.P,kinObj.K,mode='c') # compton part\n",
    "J0bw = current2.J0(kinObj.P2,kinObj.P1,kinObj.K,mode='bw') # bw part\n",
    "J1bw = current2.J0(kinObj.P2,kinObj.P1,kinObj.K,mode='bw') # bw part\n",
    "\n",
    "tempDPHI = 50.0\n",
    "config = {'a0':1e-4,'mass':1.0,'xi':0.0,'dPhi':tempDPHI,'psBounds':[-tempDPHI,tempDPHI],'envelope':'cos','pulseOpt':['analytic'],'deg':2500,'wf':True,'system':'lab'}\n",
    "alphaFKTbw = alpha([kinObj.K,kinObj.P2,kinObj.P1],config)\n",
    "alpha1bw = alphaFKTbw(1)\n",
    "\n",
    "\n",
    "F = fsquare().getF() #change name to  F!!\n",
    "Fsq = lambda s : F(s,config['dPhi'])\n",
    "\n",
    "#k,-p,p1,p2,p3\n",
    "\n",
    "pNum = photoNumBW(0.0,[kinObj.K,-kinObj.P,kinObj.P1,kinObj.P2,kinObj.P3])\n",
    "\n",
    "print('pNum[0]',pNum[0])\n",
    "\n",
    "print(\"mom size:\",kinObj.grid.size)\n",
    "print(\"alpha size:\",alpha1bw.shape)\n",
    "print(pNum.shape)\n"
   ]
  },
  {
   "cell_type": "code",
   "execution_count": null,
   "metadata": {},
   "outputs": [],
   "source": [
    "def prodCurr(curr1,curr2):\n",
    "    def temp(s11,s12,s21,s22):\n",
    "        return curr1(0,s11,s12)*curr2(0,s21,s22) - curr1(1,s11,s12)*curr2(1,s21,s22)-curr1(2,s11,s12)*curr2(2,s21,s22)-curr1(3,s11,s12)*curr2(3,s21,s22)\n",
    "    return temp\n",
    "\n",
    "def M11(s1,s,s2,s3):\n",
    "    termBW = lambda mu,xs2,xs3: J1bw(mu,xs2,xs3) - alpha1bw/pNum*J0bw(mu,xs2,xs3)\n",
    "    tempProd = prodCurr(J0c,termBW)\n",
    "    #print(tempProd(s1,s,s2,s3))\n",
    "    return 2.0*np.pi*tempProd(s1,s,s2,s3)*Fsq(pNum)/((kinObj.P - kinObj.P1)*(kinObj.P - kinObj.P1))"
   ]
  },
  {
   "cell_type": "code",
   "execution_count": null,
   "metadata": {},
   "outputs": [],
   "source": [
    "for s1 in (0,1):\n",
    "    for s in (0,1):\n",
    "        for s2 in (0,1):\n",
    "            for s3 in (0,1):\n",
    "                print(\"-\"*20)\n",
    "                print(s1,s,s2,s3)\n",
    "                print(M11(s1,s,s2,s3)[0])"
   ]
  },
  {
   "cell_type": "code",
   "execution_count": null,
   "metadata": {},
   "outputs": [],
   "source": [
    "matObj = matrixElement(config)\n",
    "LCCpkt = [el[0] for el in arrLCC]\n",
    "kinPara = [LCCpkt[0],LCCpkt[2],LCCpkt[3],LCCpkt[1], LCCpkt[5],LCCpkt[6],LCCpkt[4]]\n",
    "matObj.setKin(kinPara)\n",
    "resOld = matObj.evalMdirPartBW()\n",
    "print(resOld)"
   ]
  },
  {
   "cell_type": "code",
   "execution_count": null,
   "metadata": {},
   "outputs": [],
   "source": [
    "print('====== C mom')\n",
    "print('K',kinObj.K[0])\n",
    "print('P1',kinObj.P3[0])\n",
    "print('P',kinObj.P[0])\n",
    "print('====== BW mom')\n",
    "print('K',kinObj.K[0])\n",
    "print('P2',kinObj.P2[0])\n",
    "print('P3',kinObj.P1[0])"
   ]
  },
  {
   "cell_type": "code",
   "execution_count": null,
   "metadata": {},
   "outputs": [],
   "source": [
    "print(\"U(0)\\n\\t\",J0c.sp2[0][:,0])\n",
    "print(\"U(1)\\n\\t\",J0c.sp2[1][:,0])\n",
    "\n",
    "print(\"U1(0)\\n\\t\",J0bw.sp2[0][:,0])\n",
    "print(\"U1(1)\\n\\t\",J0bw.sp2[1][:,0])\n",
    "\n",
    "print(\"U2(0)\\n\\t\",J0bw.sp1[0][:,0])\n",
    "print(\"U2(1)\\n\\t\",J0bw.sp1[1][:,0])\n",
    "\n",
    "print(\"U3(0)\\n\\t\",J0c.sp1[0][:,0])\n",
    "print(\"U3(1)\\n\\t\",J0c.sp1[1][:,0])"
   ]
  },
  {
   "cell_type": "code",
   "execution_count": null,
   "metadata": {},
   "outputs": [],
   "source": []
  }
 ],
 "metadata": {
  "kernelspec": {
   "display_name": "Python 2",
   "language": "python",
   "name": "python2"
  },
  "language_info": {
   "codemirror_mode": {
    "name": "ipython",
    "version": 2
   },
   "file_extension": ".py",
   "mimetype": "text/x-python",
   "name": "python",
   "nbconvert_exporter": "python",
   "pygments_lexer": "ipython2",
   "version": "2.7.12"
  }
 },
 "nbformat": 4,
 "nbformat_minor": 2
}
