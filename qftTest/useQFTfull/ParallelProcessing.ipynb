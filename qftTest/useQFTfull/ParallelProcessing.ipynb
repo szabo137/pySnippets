{
 "cells": [
  {
   "cell_type": "markdown",
   "metadata": {},
   "source": [
    "Parallel Processing Sandbox\n",
    "============="
   ]
  },
  {
   "cell_type": "markdown",
   "metadata": {},
   "source": [
    "1 Numpy vs. multiprocessing\n",
    "-----"
   ]
  },
  {
   "cell_type": "code",
   "execution_count": 1,
   "metadata": {},
   "outputs": [],
   "source": [
    "from __future__ import print_function\n",
    "import numpy as np\n",
    "import multiprocessing as mp\n",
    "import time\n"
   ]
  },
  {
   "cell_type": "code",
   "execution_count": null,
   "metadata": {},
   "outputs": [],
   "source": []
  },
  {
   "cell_type": "code",
   "execution_count": 7,
   "metadata": {},
   "outputs": [
    {
     "name": "stdout",
     "output_type": "stream",
     "text": [
      "(1000000,)\n",
      "7.58e+00\n",
      "(1000, 1000)\n",
      "2.47e-02\n",
      "True\n",
      "307.008574574\n"
     ]
    }
   ],
   "source": [
    "import itertools\n",
    "\n",
    "def func(x_y):\n",
    "    x,y = x_y\n",
    "    return np.sin(np.sin(np.sin(x))) + np.cos(np.cos(np.cos(y)))\n",
    "\n",
    "\n",
    "cX = np.linspace(-10,10,1000)\n",
    "cY = np.linspace(0,10,1000)\n",
    "cProd = np.array([t for t in itertools.product(cX,cY)])\n",
    "#print cProd.shape\n",
    "\n",
    "pool = mp.Pool(16)\n",
    "start = time.time()\n",
    "cProd = np.array([t for t in itertools.product(cX,cY)])\n",
    "resPP = np.asarray(pool.map(func,cProd))\n",
    "endPP = time.time() -start\n",
    "pool.close()\n",
    "print(resPP.shape)\n",
    "print(\"%1.2e\"%endPP)\n",
    "\n",
    "start = time.time()\n",
    "#XX,YY = np.meshgrid(cX,cY,indexing='ij')\n",
    "resNP = func([cX[:,np.newaxis],cY[np.newaxis,:]])\n",
    "#resNP = func([XX,YY])\n",
    "endNP = time.time() -start\n",
    "print(resNP.shape)\n",
    "print(\"%1.2e\"%endNP)\n",
    "\n",
    "print(np.isclose(resPP,resNP.flatten(),atol=0.0,rtol=1e-10).all())\n",
    "print(endPP/endNP)"
   ]
  },
  {
   "cell_type": "code",
   "execution_count": 4,
   "metadata": {},
   "outputs": [
    {
     "data": {
      "text/plain": [
       "1776.7441860465115"
      ]
     },
     "execution_count": 4,
     "metadata": {},
     "output_type": "execute_result"
    }
   ],
   "source": [
    "7.64e+00/4.30e-03"
   ]
  },
  {
   "cell_type": "code",
   "execution_count": null,
   "metadata": {},
   "outputs": [],
   "source": []
  }
 ],
 "metadata": {
  "kernelspec": {
   "display_name": "Python 2",
   "language": "python",
   "name": "python2"
  },
  "language_info": {
   "codemirror_mode": {
    "name": "ipython",
    "version": 2
   },
   "file_extension": ".py",
   "mimetype": "text/x-python",
   "name": "python",
   "nbconvert_exporter": "python",
   "pygments_lexer": "ipython2",
   "version": "2.7.12"
  }
 },
 "nbformat": 4,
 "nbformat_minor": 2
}
