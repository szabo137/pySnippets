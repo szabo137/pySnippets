{
 "cells": [
  {
   "cell_type": "markdown",
   "metadata": {},
   "source": [
    "Build currents on meshGrids\n",
    "==============="
   ]
  },
  {
   "cell_type": "code",
   "execution_count": 1,
   "metadata": {},
   "outputs": [],
   "source": [
    "import sftrident as sf\n",
    "import sftrident.qft as qft\n",
    "import numpy as np\n",
    "import time\n",
    "times = {}"
   ]
  },
  {
   "cell_type": "markdown",
   "metadata": {},
   "source": [
    "Build grid of kinematic parameters\n",
    "-----------"
   ]
  },
  {
   "cell_type": "code",
   "execution_count": 2,
   "metadata": {},
   "outputs": [
    {
     "name": "stdout",
     "output_type": "stream",
     "text": [
      "coord 0: (1, 10, 10, 20, 3, 3, 20)\n",
      "coord 1: (1, 10, 10, 20, 3, 3, 20)\n",
      "coord 2: (1, 10, 10, 20, 3, 3, 20)\n",
      "coord 3: (1, 10, 10, 20, 3, 3, 20)\n",
      "coord 4: (1, 10, 10, 20, 3, 3, 20)\n",
      "coord 5: (1, 10, 10, 20, 3, 3, 20)\n",
      "coord 6: (1, 10, 10, 20, 3, 3, 20)\n"
     ]
    }
   ],
   "source": [
    "def BuildGrid(ss,p1x,p1y,p1m,p2x,p2y,p2m):\n",
    "    SS, P1x, P1y, P1m, P2x, P2y, P2m = np.meshgrid(ss,p1x,p1y,p1m,p2x,p2y,p2m,indexing='ij')\n",
    "    return [SS,P1x,P1y,P1m,P2x,P2y,P2m]\n",
    "\n",
    "ssInit = np.array([3.353])\n",
    "#p1_x = np.linspace(0.0,3.5,3)\n",
    "p1_x = np.random.uniform(0.0,3.5,10)\n",
    "#print \"p1_x: %s\"%p1_x\n",
    "#p1_y = np.linspace(0.0,3.5,3)\n",
    "p1_y = np.random.uniform(0.0,3.5,10)\n",
    "#print \"p1_y: %s\"%p1_y\n",
    "#p1_m = np.linspace(0.0,3.5,20)\n",
    "p1_m = np.random.uniform(0.0,3.5,20)\n",
    "#print \"p1_m: %s\"%p1_m\n",
    "\n",
    "#p2_x = np.linspace(0.0,3.5,3)\n",
    "p2_x = np.random.uniform(0.0,3.5,3)\n",
    "#print \"p2_x: %s\"%p2_x\n",
    "#p2_y = np.linspace(0.0,3.5,3)\n",
    "p2_y = np.random.uniform(0.0,3.5,3)\n",
    "#print \"p2_y: %s\"%p2_y\n",
    "#p2_m = np.linspace(-1.0,3.5,20)\n",
    "p2_m = np.random.uniform(-1.0,3.5,20)\n",
    "#print \"p2_m: %s\"%p2_m\n",
    "start = time.time()\n",
    "kinGridRaw = BuildGrid(ssInit,p1_x,p1_y,p1_m,p2_x,p2_y,p2_m)\n",
    "end = time.time() - start\n",
    "times['mesh'] = end\n",
    "for i,el in enumerate(kinGridRaw):\n",
    "    print \"coord %d: %s\"%(i,str(el.shape))"
   ]
  },
  {
   "cell_type": "markdown",
   "metadata": {},
   "source": [
    "Build secondary kinematic parameters (initial particles)\n",
    "----------"
   ]
  },
  {
   "cell_type": "code",
   "execution_count": 3,
   "metadata": {},
   "outputs": [
    {
     "name": "stdout",
     "output_type": "stream",
     "text": [
      "omega shape: (1, 10, 10, 20, 3, 3, 20)\n",
      "E shape: (1, 10, 10, 20, 3, 3, 20)\n",
      "Et shape: (1, 10, 10, 20, 3, 3, 20)\n",
      "pt shape: (1, 10, 10, 20, 3, 3, 20)\n"
     ]
    }
   ],
   "source": [
    "def omegaFromSS(ss):\n",
    "    #lab\n",
    "    return (ss**2 - 1.0)/2.0\n",
    "\n",
    "#initial particles\n",
    "\n",
    "start = time.time()\n",
    "omega = omegaFromSS(kinGridRaw[0])\n",
    "end =  time.time() -start\n",
    "times['om']=end\n",
    "print \"omega shape: %s\"%(str(omega.shape))\n",
    "#print \"omega: %s\"%omega\n",
    "\n",
    "start =  time.time()\n",
    "E = np.ones(omega.shape)\n",
    "end =  time.time() - start\n",
    "times['E'] = end\n",
    "print \"E shape: %s\"%(str(E.shape))\n",
    "#print \"E: %s\"%E\n",
    "\n",
    "Et = omega + E\n",
    "pt = omega\n",
    "print \"Et shape: %s\"%(str(Et.shape))\n",
    "#print \"Et: %s\"%Et\n",
    "print \"pt shape: %s\"%(str(pt.shape))\n",
    "#print \"pt: %s\"%pt\n",
    "start =  time.time()\n",
    "#P=qft.MinkowskiVector([E,np.zeros(E.shape),np.zeros(E.shape),np.zeros(E.shape)])\n",
    "P=qft.MinkowskiVector([E,0.0,0.0,0.0])\n",
    "end =  time.time() - start\n",
    "times['Pfirst']=end"
   ]
  },
  {
   "cell_type": "markdown",
   "metadata": {},
   "source": [
    "Build secondary kinematic parameters (final particles)\n",
    "----------"
   ]
  },
  {
   "cell_type": "code",
   "execution_count": 4,
   "metadata": {},
   "outputs": [
    {
     "name": "stdout",
     "output_type": "stream",
     "text": [
      "P3m shape: (1, 10, 10, 20, 3, 3, 20)\n",
      "P3x shape: (1, 10, 10, 20, 3, 3, 20)\n",
      "P3y shape: (1, 10, 10, 20, 3, 3, 20)\n"
     ]
    }
   ],
   "source": [
    "start =  time.time()\n",
    "P3m = 0.5*(P._0() - P._3()) - kinGridRaw[3] - kinGridRaw[6]\n",
    "P3x =  - kinGridRaw[1] - kinGridRaw[4]\n",
    "P3y =  - kinGridRaw[2] - kinGridRaw[5]\n",
    "end =  time.time() - start\n",
    "times['p3coord'] = end\n",
    "\n",
    "print \"P3m shape: %s\"%(str(P3m.shape))\n",
    "print \"P3x shape: %s\"%(str(P3x.shape))\n",
    "print \"P3y shape: %s\"%(str(P3y.shape))"
   ]
  },
  {
   "cell_type": "markdown",
   "metadata": {},
   "source": [
    "Build momenta of final particles (under condition)\n",
    "------------"
   ]
  },
  {
   "cell_type": "code",
   "execution_count": 22,
   "metadata": {},
   "outputs": [
    {
     "name": "stdout",
     "output_type": "stream",
     "text": [
      "physArea: (1, 10, 10, 20, 3, 3, 20)\n",
      "p3m: (1, 10, 10, 20, 3, 3, 20)\n",
      "p3mT: (3600,)\n",
      "Mass test a: True\n",
      "Mass test a: True\n",
      "Mass test a: True\n",
      "max Diff A: 4.55e-13\n",
      "max Diff B: 2.38e-07\n",
      "max Diff C: 2.91e-11\n"
     ]
    }
   ],
   "source": [
    "def physArea(P1m,P2m,P3m):\n",
    "    return (P1m>0) * (P2m>0) * (P3m>0) \n",
    "\n",
    "\n",
    "def BuildFinalMom(px,py,pm):\n",
    "    #print pm\n",
    "    pp = (px**2 + py**2 + 1)/(4.0*pm)\n",
    "    return qft.MinkowskiVector(qft.parray([pp+pm,px,py,pp-pm]))\n",
    "\n",
    "def buildAllMom(p1x,p1y,p1m,p2x,p2y,p2m,p3x,p3y,p3m):\n",
    "    physAreaArr = physArea(p1m,p2m,p3m)\n",
    "    print \"physArea: %s\"%(str(physAreaArr.shape))\n",
    "    #print physAreaArr.all()==False\n",
    "    p1xT = p1x[physAreaArr]\n",
    "    p1yT = p1y[physAreaArr]\n",
    "    p1mT = p1m[physAreaArr]\n",
    "    #print \"p1m: %s\"%(str(p1m.shape))\n",
    "    #print \"p1mT: %s\"%(str(p1mT.shape))\n",
    "    p2xT = p2x[physAreaArr]\n",
    "    p2yT = p2y[physAreaArr]\n",
    "    p2mT = p2m[physAreaArr]\n",
    "    #print \"p2m: %s\"%(str(p2m.shape))\n",
    "    #print \"p2mT: %s\"%(str(p2mT.shape))\n",
    "    p3xT = p3x[physAreaArr]\n",
    "    p3yT = p3y[physAreaArr]\n",
    "    p3mT = p3m[physAreaArr]\n",
    "    print \"p3m: %s\"%(str(p3m.shape))\n",
    "    print \"p3mT: %s\"%(str(p3mT.shape))\n",
    "    P1 = BuildFinalMom(p1xT,p1yT,p1mT)\n",
    "    P2 = BuildFinalMom(p2xT,p2yT,p2mT)\n",
    "    P3 = BuildFinalMom(p3xT,p3yT,p3mT)\n",
    "    return P1,P2,P3\n",
    "\n",
    "start =  time.time()\n",
    "Pa,Pb,Pc = buildAllMom(kinGridRaw[1],kinGridRaw[2],kinGridRaw[3],kinGridRaw[4],kinGridRaw[5],kinGridRaw[6],P3x,P3y,P3m)\n",
    "end =  time.time() - start\n",
    "times['finalMom'] = end\n",
    "#print Pa.shape\n",
    "Ma = Pa*Pa\n",
    "print \"Mass test a: %s\"%np.isclose(Ma,np.ones(Ma.shape)).all()\n",
    "Mb = Pb*Pb\n",
    "print \"Mass test a: %s\"%np.isclose(Mb,np.ones(Mb.shape)).all()\n",
    "Mc = Pc*Pc\n",
    "print \"Mass test a: %s\"%np.isclose(Mc,np.ones(Mc.shape)).all()\n",
    "\n",
    "diffA = Ma-np.ones(Ma.shape)\n",
    "print \"max Diff A: %1.2e\"%diffA.max()\n",
    "diffB = Mb-np.ones(Mb.shape)\n",
    "print \"max Diff B: %1.2e\"%diffB.max()\n",
    "diffC = Mc-np.ones(Mc.shape)\n",
    "print \"max Diff C: %1.2e\"%diffC.max()"
   ]
  },
  {
   "cell_type": "markdown",
   "metadata": {},
   "source": [
    "Test against serial evaluation\n",
    "-------------"
   ]
  },
  {
   "cell_type": "code",
   "execution_count": 6,
   "metadata": {},
   "outputs": [
    {
     "name": "stdout",
     "output_type": "stream",
     "text": [
      "time p1p3: 3.9101e-04\n",
      "time p1p3: 1.0861e-07\n",
      "Done with 0 errors.\n"
     ]
    }
   ],
   "source": [
    "import itertools\n",
    "start = time.time()\n",
    "p1p3 = Pa*Pc\n",
    "end = time.time() - start\n",
    "print \"time p1p3: %1.4e\"%end\n",
    "print \"time p1p3: %1.4e\"%(end/Pc.shape[0])\n",
    "SQkinPara=[t for t in itertools.product(ssInit,p1_x,p1_y,p1_m,p2_x,p2_y,p2_m)]\n",
    "ind = 0\n",
    "err = 0\n",
    "for i,el in enumerate(SQkinPara):\n",
    "    sqP3m = 0.5 - el[3] - el[6]\n",
    "    sqP3x = - el[1] - el[4]\n",
    "    sqP3y = - el[2] - el[5]\n",
    "    if el[3]>0 and el[6] >0 and sqP3m>0:\n",
    "        sqP1 = BuildFinalMom(el[1],el[2],el[3])\n",
    "        sqP2 = BuildFinalMom(el[4],el[5],el[6])\n",
    "        sqP3 = BuildFinalMom(sqP3x,sqP3y,sqP3m)\n",
    "        if np.isclose(sqP1(),Pa[ind]()).all():\n",
    "            pass\n",
    "        else:\n",
    "            err+=1\n",
    "            print \"sq1: %s\"%sqP1()\n",
    "            print \"bl1: %s\"%Pa[ind]()\n",
    "        if np.isclose(sqP2(),Pb[ind]()).all():\n",
    "            pass\n",
    "        else:\n",
    "            err+=1\n",
    "            print \"sq2: %s\"%sqP2()\n",
    "            print \"bl2: %s\"%Pb[ind]()\n",
    "        if np.isclose(sqP3(),Pc[ind]()).all():\n",
    "            pass\n",
    "        else:\n",
    "            err+=1\n",
    "            print \"sq3: %s\"%sqP3()\n",
    "            print \"bl3: %s\"%Pc[ind]()\n",
    "        \n",
    "        #scalar prod test\n",
    "        tp1p3 = sqP1*sqP3\n",
    "        if np.isclose(tp1p3,p1p3[ind]).all():\n",
    "            pass\n",
    "        else:\n",
    "            err+=1\n",
    "            print \"sq: %s\"%tp1p3\n",
    "            print \"bl: %s\"%p1p3[ind]\n",
    "        \n",
    "        ind +=1\n",
    "\n",
    "print \"Done with %d errors.\"%err"
   ]
  },
  {
   "cell_type": "markdown",
   "metadata": {},
   "source": [
    "Build initial momenta\n",
    "------------"
   ]
  },
  {
   "cell_type": "code",
   "execution_count": 7,
   "metadata": {},
   "outputs": [
    {
     "name": "stdout",
     "output_type": "stream",
     "text": [
      "(3600,)\n",
      "(3600,)\n",
      "Mass test a: True\n",
      "Mass test a: True\n"
     ]
    }
   ],
   "source": [
    "def buildInitMom(om,e,p1x,p1y,p1m,p2x,p2y,p2m,p3x,p3y,p3m):\n",
    "    physAreaArr = physArea(p1m,p2m,p3m)\n",
    "    omegaT = om[physAreaArr]\n",
    "    ET = e[physAreaArr]\n",
    "    #P=qft.MinkowskiVector([ET,np.zeros(ET.shape),np.zeros(ET.shape),np.zeros(ET.shape)])\n",
    "    P=qft.MinkowskiVector([ET,0.0,0.0,0.0])\n",
    "    K = qft.MinkowskiVector([omegaT,np.zeros(omegaT.shape),np.zeros(omegaT.shape),omegaT])\n",
    "    return K,P\n",
    "\n",
    "start =  time.time()\n",
    "Ktest,Ptest = buildInitMom(omega,E,kinGridRaw[1],kinGridRaw[2],kinGridRaw[3],kinGridRaw[4],kinGridRaw[5],kinGridRaw[6],P3x,P3y,P3m)\n",
    "end =  time.time() - start\n",
    "times['initMom'] = end\n",
    "print Ktest.shape\n",
    "print Ptest.shape\n",
    "Mp = Ptest*Ptest\n",
    "print \"Mass test a: %s\"%np.equal(Mp,np.ones(Mp.shape)).all()\n",
    "Mk = Ktest*Ktest\n",
    "print \"Mass test a: %s\"%np.equal(Mk,np.zeros(Mk.shape)).all()"
   ]
  },
  {
   "cell_type": "markdown",
   "metadata": {},
   "source": [
    "Build Spinors (single spin)\n",
    "-----------"
   ]
  },
  {
   "cell_type": "code",
   "execution_count": 8,
   "metadata": {},
   "outputs": [],
   "source": [
    "gamma = qft.GammaMatrix()\n",
    "g0,g1,g2,g3 =  gamma[:]\n",
    "\n",
    "U = qft.SpinorU((Ptest,1.0),1)\n",
    "UAb = qft.SpinorUBar((Pa,1.0),1)\n",
    "VB = qft.SpinorV((Pb,1.0),1)\n",
    "UCb = qft.SpinorUBar((Pc,1.0),1)\n",
    "\n"
   ]
  },
  {
   "cell_type": "markdown",
   "metadata": {},
   "source": [
    "Test against serial evaluation\n",
    "--------------"
   ]
  },
  {
   "cell_type": "code",
   "execution_count": 9,
   "metadata": {},
   "outputs": [
    {
     "name": "stdout",
     "output_type": "stream",
     "text": [
      "Done with 0 errors.\n"
     ]
    }
   ],
   "source": [
    "SQkinPara=[t for t in itertools.product(ssInit,p1_x,p1_y,p1_m,p2_x,p2_y,p2_m)]\n",
    "sqP = qft.MinkowskiVector([1.0,0.0,0.0,0.0])\n",
    "ind = 0\n",
    "err = 0\n",
    "for i,el in enumerate(SQkinPara):\n",
    "    sqP3m = 0.5 - el[3] - el[6]\n",
    "    sqP3x = - el[1] - el[4]\n",
    "    sqP3y = - el[2] - el[5]\n",
    "    if el[3]>0 and el[6] >0 and sqP3m>0:\n",
    "        sqP1 = BuildFinalMom(el[1],el[2],el[3])\n",
    "        sqP2 = BuildFinalMom(el[4],el[5],el[6])\n",
    "        sqP3 = BuildFinalMom(sqP3x,sqP3y,sqP3m)\n",
    "        \n",
    "        sqU = qft.SpinorU((sqP,1.0),1)\n",
    "        sqU1b = qft.SpinorUBar((sqP1,1.0),1)\n",
    "        sqV2 = qft.SpinorV((sqP2,1.0),1)\n",
    "        sqU3b = qft.SpinorUBar((sqP3,1.0),1)\n",
    "        #print '-'*25\n",
    "        #print \"sqU: %s\"%(type(sqU[:]))\n",
    "        #print \"blU: %s\"%(type(U[:,ind]))\n",
    "        if np.isclose(sqU[:],U[:,ind]).all():\n",
    "            pass\n",
    "        else:\n",
    "            err+=1\n",
    "        \n",
    "        if np.isclose(sqU1b[:],UAb[:,ind]).all():\n",
    "            pass\n",
    "        else:\n",
    "            err+=1\n",
    "        \n",
    "        if np.isclose(sqV2[:],VB[:,ind]).all():\n",
    "            pass\n",
    "        else:\n",
    "            err+=1\n",
    "        \n",
    "        if np.isclose(sqU3b[:],UCb[:,ind]).all():\n",
    "            pass\n",
    "        else:\n",
    "            err+=1\n",
    "        ind +=1\n",
    "\n",
    "print \"Done with %d errors.\"%err"
   ]
  },
  {
   "cell_type": "markdown",
   "metadata": {},
   "source": [
    "Build spinor products\n",
    "---------"
   ]
  },
  {
   "cell_type": "code",
   "execution_count": 10,
   "metadata": {},
   "outputs": [],
   "source": [
    "j10 = UAb*(g0*U)\n",
    "j20 = UCb*(g0*VB)"
   ]
  },
  {
   "cell_type": "markdown",
   "metadata": {},
   "source": [
    "test against serial evaluation\n",
    "-------------"
   ]
  },
  {
   "cell_type": "code",
   "execution_count": 11,
   "metadata": {},
   "outputs": [
    {
     "name": "stdout",
     "output_type": "stream",
     "text": [
      "Done with 0 errors.\n"
     ]
    }
   ],
   "source": [
    "SQtimes = 0.0\n",
    "start = time.time()\n",
    "SQkinPara=[t for t in itertools.product(ssInit,p1_x,p1_y,p1_m,p2_x,p2_y,p2_m)]\n",
    "end = time.time() - start\n",
    "SQtimes += end\n",
    "sqP = qft.MinkowskiVector([1.0,0.0,0.0,0.0])\n",
    "ind = 0\n",
    "err = 0\n",
    "for i,el in enumerate(SQkinPara):\n",
    "    start = time.time()\n",
    "    sqP3m = 0.5 - el[3] - el[6]\n",
    "    sqP3x = - el[1] - el[4]\n",
    "    sqP3y = - el[2] - el[5]\n",
    "    end = time.time() - start\n",
    "    SQtimes += end\n",
    "    if el[3]>0 and el[6] >0 and sqP3m>0:\n",
    "        start = time.time()\n",
    "        sqP1 = BuildFinalMom(el[1],el[2],el[3])\n",
    "        sqP2 = BuildFinalMom(el[4],el[5],el[6])\n",
    "        sqP3 = BuildFinalMom(sqP3x,sqP3y,sqP3m)\n",
    "        \n",
    "        sqU = qft.SpinorU((sqP,1.0),1)\n",
    "        sqU1b = qft.SpinorUBar((sqP1,1.0),1)\n",
    "        sqV2 = qft.SpinorV((sqP2,1.0),1)\n",
    "        sqU3b = qft.SpinorUBar((sqP3,1.0),1)\n",
    "        end = time.time() - start\n",
    "        SQtimes += end\n",
    "        sqU1b*(g0*sqU)\n",
    "        sqU1b*(g0*sqU)\n",
    "        sqU1b*(g0*sqU)\n",
    "        sqU1b*(g0*sqU)\n",
    "        sqU1b*(g0*sqU)\n",
    "        sqU1b*(g0*sqU)\n",
    "        sqU1b*(g0*sqU)\n",
    "        t1 = sqU1b*(g0*sqU)\n",
    "        end = time.time() - start\n",
    "        SQtimes += end\n",
    "        \n",
    "        t2 = sqU3b*(g0*sqV2)\n",
    "        \n",
    "        #print '-'*25\n",
    "        #print \"sqT1: %s\"%(t1)\n",
    "        #print \"blT1: %s\"%(j10[ind])\n",
    "        if np.isclose(t1,j10[ind]):\n",
    "            pass\n",
    "        else:\n",
    "            err+=1\n",
    "            \n",
    "        if np.isclose(t2,j20[ind]):\n",
    "            pass\n",
    "        else:\n",
    "            err+=1\n",
    "            \n",
    "        ind +=1\n",
    "\n",
    "print \"Done with %d errors.\"%err"
   ]
  },
  {
   "cell_type": "markdown",
   "metadata": {},
   "source": [
    "Build Spinors (all spin)\n",
    "----------"
   ]
  },
  {
   "cell_type": "code",
   "execution_count": 12,
   "metadata": {},
   "outputs": [
    {
     "name": "stdout",
     "output_type": "stream",
     "text": [
      "1.2149e-02\n"
     ]
    }
   ],
   "source": [
    "start =  time.time()\n",
    "gammaMu = qft.GammaMatrix()\n",
    "end =  time.time() - start\n",
    "times['gamma'] = end\n",
    "\n",
    "def buildJ0(mu,s1,s2,spinor1Bar,spinor2):\n",
    "    SP1b = spinor1Bar[s1]\n",
    "    SP2 = spinor2[s2]\n",
    "    return SP1b*(gammaMu[mu]*SP2)\n",
    "\n",
    "start =  time.time()\n",
    "U = np.array([qft.SpinorU((Ptest,1.0),s) for s in (1,2)])\n",
    "UAb = np.array([qft.SpinorUBar((Pa,1.0),1) for s in (1,2)])\n",
    "VB = np.array([qft.SpinorV((Pb,1.0),1) for s in (1,2)])\n",
    "UCb = np.array([qft.SpinorUBar((Pc,1.0),1) for s in (1,2)])\n",
    "end =  time.time() - start\n",
    "times['spinors'] = end\n",
    "\n",
    "start = time.time()\n",
    "J00 = np.array([[[buildJ0(0,s,t,UAb,U) for s in (0,1)] for t in (0,1)] for mu in np.arange(4)])\n",
    "end = time.time() - start\n",
    "times['buildJ00'] = end\n",
    "print\"%1.4e\"%end"
   ]
  },
  {
   "cell_type": "code",
   "execution_count": 13,
   "metadata": {},
   "outputs": [
    {
     "data": {
      "text/plain": [
       "(4, 2, 2, 3600)"
      ]
     },
     "execution_count": 13,
     "metadata": {},
     "output_type": "execute_result"
    }
   ],
   "source": [
    "np.array(J00).shape"
   ]
  },
  {
   "cell_type": "code",
   "execution_count": 14,
   "metadata": {},
   "outputs": [
    {
     "name": "stdout",
     "output_type": "stream",
     "text": [
      "eval points: 3600\n",
      "-------------------------\n",
      "TIMES:\n",
      "-------------------------\n",
      "spinors: 4.8143e-02\n",
      "spinors: 1.3373e-05 (avg.)\n",
      "\n",
      "om: 3.0589e-03\n",
      "om: 8.4970e-07 (avg.)\n",
      "\n",
      "E: 1.5430e-03\n",
      "E: 4.2862e-07 (avg.)\n",
      "\n",
      "finalMom: 8.3048e-03\n",
      "finalMom: 2.3069e-06 (avg.)\n",
      "\n",
      "initMom: 6.4321e-03\n",
      "initMom: 1.7867e-06 (avg.)\n",
      "\n",
      "Pfirst: 1.9973e-02\n",
      "Pfirst: 5.5481e-06 (avg.)\n",
      "\n",
      "buildJ00: 1.2149e-02\n",
      "buildJ00: 3.3747e-06 (avg.)\n",
      "\n",
      "p3coord: 1.0803e-02\n",
      "p3coord: 3.0009e-06 (avg.)\n",
      "\n",
      "mesh: 1.0696e-02\n",
      "mesh: 2.9711e-06 (avg.)\n",
      "\n",
      "gamma: 1.7619e-04\n",
      "gamma: 4.8942e-08 (avg.)\n",
      "\n",
      "\n",
      "-------------------------\n",
      "TIMES (cummulative)\n",
      "-------------------------\n",
      "spinors: 4.8143e-02\n",
      "spinors: 1.3373e-05 (avg.)\n",
      "\n",
      "om: 5.1202e-02\n",
      "om: 1.4223e-05 (avg.)\n",
      "\n",
      "E: 5.2745e-02\n",
      "E: 1.4651e-05 (avg.)\n",
      "\n",
      "finalMom: 6.1050e-02\n",
      "finalMom: 1.6958e-05 (avg.)\n",
      "\n",
      "initMom: 6.7482e-02\n",
      "initMom: 1.8745e-05 (avg.)\n",
      "\n",
      "Pfirst: 8.7455e-02\n",
      "Pfirst: 2.4293e-05 (avg.)\n",
      "\n",
      "buildJ00: 9.9604e-02\n",
      "buildJ00: 2.7668e-05 (avg.)\n",
      "\n",
      "p3coord: 1.1041e-01\n",
      "p3coord: 3.0669e-05 (avg.)\n",
      "\n",
      "mesh: 1.2110e-01\n",
      "mesh: 3.3640e-05 (avg.)\n",
      "\n",
      "gamma: 1.2128e-01\n",
      "gamma: 3.3689e-05 (avg.)\n",
      "\n",
      "-------------------------\n",
      "TIMES (properties)\n",
      "-------------------------\n",
      "max: spinors (4.8143e-02)\n",
      "min: gamma (1.7619e-04)\n"
     ]
    }
   ],
   "source": [
    "Npoints =Ktest.shape[0]\n",
    "print \"eval points: %d\"%Npoints\n",
    "print '-'*25\n",
    "print \"TIMES:\"\n",
    "print '-'*25\n",
    "for el in times.iterkeys():\n",
    "    print \"%s: %1.4e\"%(el,times[el])\n",
    "    print \"%s: %1.4e (avg.)\"%(el,times[el]/Npoints)\n",
    "    print ''\n",
    "print \"\"\n",
    "print '-'*25\n",
    "print \"TIMES (cummulative)\"\n",
    "print '-'*25\n",
    "fullTime = 0.0\n",
    "for el in times.iterkeys():\n",
    "    fullTime+=times[el]\n",
    "    print \"%s: %1.4e\"%(el,fullTime)\n",
    "    print \"%s: %1.4e (avg.)\"%(el,fullTime/Npoints)\n",
    "    print ''\n",
    "print '-'*25\n",
    "print \"TIMES (properties)\"\n",
    "print '-'*25\n",
    "maxVal = ['',0.0]\n",
    "\n",
    "for el in times.iterkeys():\n",
    "    if times[el]>=maxVal[1]:\n",
    "        maxVal = [el,times[el]]\n",
    "print \"max: %s (%1.4e)\"%(tuple(maxVal))\n",
    "minVal = maxVal\n",
    "for el in times.iterkeys():\n",
    "    if times[el]<=minVal[1]:\n",
    "        minVal = [el,times[el]]\n",
    "print \"min: %s (%1.4e)\"%(tuple(minVal))\n"
   ]
  },
  {
   "cell_type": "code",
   "execution_count": 15,
   "metadata": {},
   "outputs": [
    {
     "name": "stdout",
     "output_type": "stream",
     "text": [
      "full time (ser.): 2.0220e+01\n",
      "avg. time (ser.): 5.6167e-03\n"
     ]
    }
   ],
   "source": [
    "print \"full time (ser.): %1.4e\"%(SQtimes)\n",
    "print \"avg. time (ser.): %1.4e\"%(SQtimes/Npoints)"
   ]
  },
  {
   "cell_type": "code",
   "execution_count": 16,
   "metadata": {},
   "outputs": [
    {
     "name": "stdout",
     "output_type": "stream",
     "text": [
      "lapack_opt_info:\n",
      "    libraries = ['openblas', 'openblas']\n",
      "    library_dirs = ['/usr/local/lib']\n",
      "    define_macros = [('HAVE_CBLAS', None)]\n",
      "    language = c\n",
      "blas_opt_info:\n",
      "    libraries = ['openblas', 'openblas']\n",
      "    library_dirs = ['/usr/local/lib']\n",
      "    define_macros = [('HAVE_CBLAS', None)]\n",
      "    language = c\n",
      "openblas_info:\n",
      "    libraries = ['openblas', 'openblas']\n",
      "    library_dirs = ['/usr/local/lib']\n",
      "    define_macros = [('HAVE_CBLAS', None)]\n",
      "    language = c\n",
      "blis_info:\n",
      "  NOT AVAILABLE\n",
      "openblas_lapack_info:\n",
      "    libraries = ['openblas', 'openblas']\n",
      "    library_dirs = ['/usr/local/lib']\n",
      "    define_macros = [('HAVE_CBLAS', None)]\n",
      "    language = c\n",
      "lapack_mkl_info:\n",
      "  NOT AVAILABLE\n",
      "blas_mkl_info:\n",
      "  NOT AVAILABLE\n"
     ]
    }
   ],
   "source": [
    "np.__config__.show()"
   ]
  },
  {
   "cell_type": "code",
   "execution_count": null,
   "metadata": {},
   "outputs": [],
   "source": []
  }
 ],
 "metadata": {
  "kernelspec": {
   "display_name": "Python 2",
   "language": "python",
   "name": "python2"
  },
  "language_info": {
   "codemirror_mode": {
    "name": "ipython",
    "version": 2
   },
   "file_extension": ".py",
   "mimetype": "text/x-python",
   "name": "python",
   "nbconvert_exporter": "python",
   "pygments_lexer": "ipython2",
   "version": "2.7.15rc1"
  }
 },
 "nbformat": 4,
 "nbformat_minor": 2
}
