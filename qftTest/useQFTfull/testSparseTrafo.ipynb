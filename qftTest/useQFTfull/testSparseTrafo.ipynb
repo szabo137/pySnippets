{
 "cells": [
  {
   "cell_type": "markdown",
   "metadata": {},
   "source": [
    "Testing coordinate trafos with sparse meshes\n",
    "================="
   ]
  },
  {
   "cell_type": "code",
   "execution_count": 1,
   "metadata": {},
   "outputs": [],
   "source": [
    "from __future__ import print_function\n",
    "import time\n",
    "import numpy as np\n",
    "from sys import getsizeof\n"
   ]
  },
  {
   "cell_type": "code",
   "execution_count": 28,
   "metadata": {},
   "outputs": [
    {
     "name": "stdout",
     "output_type": "stream",
     "text": [
      "sys.long_info(bits_per_digit=30, sizeof_digit=4)\n"
     ]
    }
   ],
   "source": [
    "import sys\n",
    "print(sys.long_info)\n",
    "\n",
    "times = {}\n",
    "sizes = {}\n",
    "\n",
    "Nr,Nc,Np = (11,12,13) # number of points per dim\n",
    "rarr = np.linspace(0.0,10.0,Nr)\n",
    "carr = np.linspace(-1.0,1.0,Nc)\n",
    "parr = np.linspace(0.0,2.0*np.pi,Np)\n"
   ]
  },
  {
   "cell_type": "markdown",
   "metadata": {},
   "source": [
    "Build default mesh - spherical coords\n",
    "-----------"
   ]
  },
  {
   "cell_type": "code",
   "execution_count": 29,
   "metadata": {},
   "outputs": [
    {
     "name": "stdout",
     "output_type": "stream",
     "text": [
      "time build default meshgrid: 0.00523996353149\n",
      "size build default meshgrid: 1.3856e+04 1.3856e+04 1.3856e+04\n",
      "R shape: (11, 12, 13)\n",
      "C shape: (11, 12, 13)\n",
      "P shape: (11, 12, 13)\n"
     ]
    }
   ],
   "source": [
    "start = time.time()\n",
    "Rd,Cd,Pd = np.meshgrid(rarr,carr,parr,indexing='ij')\n",
    "times['dMesh'] = time.time() - start\n",
    "sizes['dMeshR'] = getsizeof(Rd)\n",
    "sizes['dMeshC'] = getsizeof(Cd)\n",
    "sizes['dMeshP'] = getsizeof(Pd)\n",
    "print(\"time build default meshgrid:\",times['dMesh'])\n",
    "print(\"size build default meshgrid: %1.4e %1.4e %1.4e\"%(sizes['dMeshR'],sizes['dMeshC'],sizes['dMeshP']))\n",
    "print(\"R shape:\",Rd.shape)\n",
    "print(\"C shape:\",Cd.shape)\n",
    "print(\"P shape:\",Pd.shape)"
   ]
  },
  {
   "cell_type": "markdown",
   "metadata": {},
   "source": [
    "Build sparse mesh - spherical coords\n",
    "-----------"
   ]
  },
  {
   "cell_type": "code",
   "execution_count": 30,
   "metadata": {},
   "outputs": [
    {
     "name": "stdout",
     "output_type": "stream",
     "text": [
      "time build default meshgrid: 0.000257015228271\n",
      "size build default meshgrid: 2.1600e+02 2.2400e+02 2.3200e+02\n",
      "R shape: (11, 1, 1)\n",
      "C shape: (1, 12, 1)\n",
      "P shape: (1, 1, 13)\n"
     ]
    }
   ],
   "source": [
    "start = time.time()\n",
    "Rs,Cs,Ps = np.meshgrid(rarr,carr,parr,sparse = True,indexing='ij')\n",
    "times['sMesh'] = time.time() - start\n",
    "sizes['sMeshR'] = getsizeof(Rs)\n",
    "sizes['sMeshC'] = getsizeof(Cs)\n",
    "sizes['sMeshP'] = getsizeof(Ps)\n",
    "print(\"time build default meshgrid:\",times['sMesh'])\n",
    "print(\"size build default meshgrid: %1.4e %1.4e %1.4e\"%(sizes['sMeshR'],sizes['sMeshC'],sizes['sMeshP']))\n",
    "print(\"R shape:\",Rs.shape)\n",
    "print(\"C shape:\",Cs.shape)\n",
    "print(\"P shape:\",Ps.shape)"
   ]
  },
  {
   "cell_type": "markdown",
   "metadata": {},
   "source": [
    "Build cartesian coords from spherical\n",
    "----------"
   ]
  },
  {
   "cell_type": "code",
   "execution_count": 96,
   "metadata": {},
   "outputs": [],
   "source": [
    "def trafo(R,C,P):\n",
    "    \"\"\"\n",
    "    transformation from spherical to cartesian coordinates\n",
    "    \"\"\"\n",
    "    S=np.sin(np.arccos(C))\n",
    "    return (R*S*np.cos(P),R*S*np.sin(P),R*C)"
   ]
  },
  {
   "cell_type": "markdown",
   "metadata": {},
   "source": [
    "Build default mesh - cartesian coords\n",
    "-----------"
   ]
  },
  {
   "cell_type": "code",
   "execution_count": 97,
   "metadata": {},
   "outputs": [
    {
     "name": "stdout",
     "output_type": "stream",
     "text": [
      "time trafo default meshgrid: 0.00113201141357\n",
      "size trafo default meshgrid: 1.3856e+04 1.3856e+04 1.3856e+04\n",
      "X shape: (11, 12, 13)\n",
      "Y shape: (11, 12, 13)\n",
      "Z shape: (11, 12, 13)\n"
     ]
    }
   ],
   "source": [
    "start = time.time()\n",
    "Xd,Yd,Zd = trafo(Rd,Cd,Pd)\n",
    "times['dTrafo'] = time.time() - start\n",
    "print(\"time trafo default meshgrid:\",times['dTrafo'])\n",
    "sizes['dMeshX'] = getsizeof(Xd)\n",
    "sizes['dMeshY'] = getsizeof(Yd)\n",
    "sizes['dMeshZ'] = getsizeof(Zd)\n",
    "\n",
    "print(\"size trafo default meshgrid: %1.4e %1.4e %1.4e\"%(sizes['dMeshX'],sizes['dMeshY'],sizes['dMeshZ']))\n",
    "print(\"X shape:\",Xd.shape)\n",
    "print(\"Y shape:\",Yd.shape)\n",
    "print(\"Z shape:\",Zd.shape)"
   ]
  },
  {
   "cell_type": "markdown",
   "metadata": {},
   "source": [
    "Build sparse mesh - cartesian coords\n",
    "-----------"
   ]
  },
  {
   "cell_type": "code",
   "execution_count": 98,
   "metadata": {},
   "outputs": [
    {
     "name": "stdout",
     "output_type": "stream",
     "text": [
      "time trafo default meshgrid: 0.00398516654968\n",
      "size trafo default meshgrid: 1.3856e+04 1.3856e+04 1.1840e+03\n",
      "X shape: (11, 12, 13)\n",
      "Y shape: (11, 12, 13)\n",
      "Z shape: (11, 12, 1)\n"
     ]
    }
   ],
   "source": [
    "start = time.time()\n",
    "Xs,Ys,Zs = trafo(Rs,Cs,Ps)\n",
    "times['sTrafo'] = time.time() - start\n",
    "print(\"time trafo default meshgrid:\",times['sTrafo'])\n",
    "sizes['sMeshX'] = getsizeof(Xs)\n",
    "sizes['sMeshY'] = getsizeof(Ys)\n",
    "sizes['sMeshZ'] = getsizeof(Zs)\n",
    "\n",
    "print(\"size trafo default meshgrid: %1.4e %1.4e %1.4e\"%(sizes['sMeshX'],sizes['sMeshY'],sizes['sMeshZ']))\n",
    "print(\"X shape:\",Xs.shape)\n",
    "print(\"Y shape:\",Ys.shape)\n",
    "print(\"Z shape:\",Zs.shape)"
   ]
  },
  {
   "cell_type": "markdown",
   "metadata": {},
   "source": [
    "Conditions on meshgrids - cartesian\n",
    "-----------"
   ]
  },
  {
   "cell_type": "code",
   "execution_count": 108,
   "metadata": {},
   "outputs": [],
   "source": [
    "def cond(x,y,z):\n",
    "    return (x>0)&(y>0)&(z>0)\n",
    "\n",
    "def condSingle(x):\n",
    "    return x>0"
   ]
  },
  {
   "cell_type": "markdown",
   "metadata": {},
   "source": [
    "default mesh\n",
    "-------"
   ]
  },
  {
   "cell_type": "code",
   "execution_count": 109,
   "metadata": {},
   "outputs": [
    {
     "name": "stdout",
     "output_type": "stream",
     "text": [
      "time cond default mesh:  0.000225067138672\n",
      "size cond default mesh:  1844\n",
      "dCond shape: (11, 12, 13)\n"
     ]
    }
   ],
   "source": [
    "start = time.time()\n",
    "dCond = cond(Xd,Yd,Zd)\n",
    "times['dCond'] = time.time() - start\n",
    "sizes['dCond'] = getsizeof(dCond)\n",
    "print(\"time cond default mesh: \",times['dCond'])\n",
    "print(\"size cond default mesh: \",sizes['dCond'])\n",
    "print(\"dCond shape:\",dCond.shape)\n"
   ]
  },
  {
   "cell_type": "markdown",
   "metadata": {},
   "source": [
    "sparse mesh\n",
    "-------"
   ]
  },
  {
   "cell_type": "code",
   "execution_count": 111,
   "metadata": {},
   "outputs": [
    {
     "name": "stdout",
     "output_type": "stream",
     "text": [
      "time cond sparse mesh:  0.000406980514526\n",
      "size cond sparse mesh:  1844\n",
      "sCond shape: (11, 12, 13)\n",
      "sCondX shape: (11, 12, 13)\n",
      "sCondY shape: (11, 12, 13)\n",
      "sCondZ shape: (11, 12, 1)\n"
     ]
    }
   ],
   "source": [
    "start = time.time()\n",
    "#sCond = cond(Xs,Ys,Zs)\n",
    "sCondX = condSingle(Xs)\n",
    "sCondY = condSingle(Ys)\n",
    "sCondZ = condSingle(Zs)\n",
    "sCond = sCondX & sCondY & sCondZ\n",
    "times['sCond'] = time.time() - start\n",
    "sizes['sCond'] = getsizeof(sCond)\n",
    "print(\"time cond sparse mesh: \",times['sCond'])\n",
    "print(\"size cond sparse mesh: \",sizes['sCond'])\n",
    "print(\"sCond shape:\",sCond.shape)\n",
    "print(\"sCondX shape:\",sCondX.shape)\n",
    "print(\"sCondY shape:\",sCondY.shape)\n",
    "print(\"sCondZ shape:\",sCondZ.shape)\n",
    "#for i,el in enumerate(sCond):\n",
    "#    print(\"el:\",i)\n",
    "#    for i2,el2 in enumerate(el):\n",
    "#        print(\"\\tel2:\",i2)\n",
    "#        print(\"\\t\\t\",el2)"
   ]
  },
  {
   "cell_type": "markdown",
   "metadata": {},
   "source": [
    "compare condtions\n",
    "--------"
   ]
  },
  {
   "cell_type": "code",
   "execution_count": 102,
   "metadata": {},
   "outputs": [
    {
     "name": "stdout",
     "output_type": "stream",
     "text": [
      "Is there any False in dCond: True\n",
      "Is there any True in dCond: True\n",
      "Is there any False in sCond: True\n",
      "Is there any True in sCond: True\n",
      "Testing equality:\n",
      "\tThe conditions are the same!\n"
     ]
    }
   ],
   "source": [
    "print(\"Is there any False in dCond: %s\"%(not dCond.all()))\n",
    "print(\"Is there any True in dCond: %s\"%(sCond.any()))\n",
    "print(\"Is there any False in sCond: %s\"%(not dCond.all()))\n",
    "print(\"Is there any True in sCond: %s\"%(sCond.any()))\n",
    "\n",
    "print(\"Testing equality:\")\n",
    "if np.array_equiv(dCond,sCond):\n",
    "    print(\"\\tThe conditions are the same!\")\n",
    "else:\n",
    "    print(\"\\tThere is somthing wrong with the conditions!\")"
   ]
  },
  {
   "cell_type": "markdown",
   "metadata": {},
   "source": [
    "Build cond arrays\n",
    "----------"
   ]
  },
  {
   "cell_type": "code",
   "execution_count": 103,
   "metadata": {},
   "outputs": [
    {
     "name": "stdout",
     "output_type": "stream",
     "text": [
      "Xc shape: (150,)\n",
      "Yc shape: (150,)\n",
      "Zc shape: (150,)\n",
      "[ 0.09090909  0.09090909  0.09090909  0.27272727  0.27272727  0.27272727\n",
      "  0.45454545  0.45454545  0.45454545  0.63636364  0.63636364  0.63636364\n",
      "  0.81818182  0.81818182  0.81818182  0.18181818  0.18181818  0.18181818\n",
      "  0.54545455  0.54545455  0.54545455  0.90909091  0.90909091  0.90909091\n",
      "  1.27272727  1.27272727  1.27272727  1.63636364  1.63636364  1.63636364\n",
      "  0.27272727  0.27272727  0.27272727  0.81818182  0.81818182  0.81818182\n",
      "  1.36363636  1.36363636  1.36363636  1.90909091  1.90909091  1.90909091\n",
      "  2.45454545  2.45454545  2.45454545  0.36363636  0.36363636  0.36363636\n",
      "  1.09090909  1.09090909  1.09090909  1.81818182  1.81818182  1.81818182\n",
      "  2.54545455  2.54545455  2.54545455  3.27272727  3.27272727  3.27272727\n",
      "  0.45454545  0.45454545  0.45454545  1.36363636  1.36363636  1.36363636\n",
      "  2.27272727  2.27272727  2.27272727  3.18181818  3.18181818  3.18181818\n",
      "  4.09090909  4.09090909  4.09090909  0.54545455  0.54545455  0.54545455\n",
      "  1.63636364  1.63636364  1.63636364  2.72727273  2.72727273  2.72727273\n",
      "  3.81818182  3.81818182  3.81818182  4.90909091  4.90909091  4.90909091\n",
      "  0.63636364  0.63636364  0.63636364  1.90909091  1.90909091  1.90909091\n",
      "  3.18181818  3.18181818  3.18181818  4.45454545  4.45454545  4.45454545\n",
      "  5.72727273  5.72727273  5.72727273  0.72727273  0.72727273  0.72727273\n",
      "  2.18181818  2.18181818  2.18181818  3.63636364  3.63636364  3.63636364\n",
      "  5.09090909  5.09090909  5.09090909  6.54545455  6.54545455  6.54545455\n",
      "  0.81818182  0.81818182  0.81818182  2.45454545  2.45454545  2.45454545\n",
      "  4.09090909  4.09090909  4.09090909  5.72727273  5.72727273  5.72727273\n",
      "  7.36363636  7.36363636  7.36363636  0.90909091  0.90909091  0.90909091\n",
      "  2.72727273  2.72727273  2.72727273  4.54545455  4.54545455  4.54545455\n",
      "  6.36363636  6.36363636  6.36363636  8.18181818  8.18181818  8.18181818]\n"
     ]
    }
   ],
   "source": [
    "start = time.time()\n",
    "Xdc = Xd[dCond]\n",
    "times['dEvalCondX'] = time.time() - start\n",
    "sizes['dEvalCondX'] = getsizeof(Xdc)\n",
    "start = time.time()\n",
    "Ydc = Yd[dCond]\n",
    "times['dEvalCondY'] = time.time() - start\n",
    "sizes['dEvalCondY'] = getsizeof(Ydc)\n",
    "start = time.time()\n",
    "Zdc = Zd[dCond]\n",
    "times['dEvalCondZ'] = time.time() - start\n",
    "sizes['dEvalCondZ'] = getsizeof(Zdc)\n",
    "\n",
    "times['dEvalCond'] = times['dEvalCondX'] +times['dEvalCondY'] +times['dEvalCondZ'] \n",
    "sizes['dEvalCond'] = sizes['dEvalCondZ'] + sizes['dEvalCondY'] + sizes['dEvalCondZ']\n",
    "\n",
    "print(\"Xc shape:\",Xdc.shape)\n",
    "print(\"Yc shape:\",Ydc.shape)\n",
    "print(\"Zc shape:\",Zdc.shape)\n",
    "print (Zdc)"
   ]
  },
  {
   "cell_type": "code",
   "execution_count": 124,
   "metadata": {},
   "outputs": [
    {
     "name": "stdout",
     "output_type": "stream",
     "text": [
      "(array([ 1,  1,  1,  1,  1,  1,  1,  1,  1,  1,  1,  1,  1,  1,  1,  2,  2,\n",
      "        2,  2,  2,  2,  2,  2,  2,  2,  2,  2,  2,  2,  2,  3,  3,  3,  3,\n",
      "        3,  3,  3,  3,  3,  3,  3,  3,  3,  3,  3,  4,  4,  4,  4,  4,  4,\n",
      "        4,  4,  4,  4,  4,  4,  4,  4,  4,  5,  5,  5,  5,  5,  5,  5,  5,\n",
      "        5,  5,  5,  5,  5,  5,  5,  6,  6,  6,  6,  6,  6,  6,  6,  6,  6,\n",
      "        6,  6,  6,  6,  6,  7,  7,  7,  7,  7,  7,  7,  7,  7,  7,  7,  7,\n",
      "        7,  7,  7,  8,  8,  8,  8,  8,  8,  8,  8,  8,  8,  8,  8,  8,  8,\n",
      "        8,  9,  9,  9,  9,  9,  9,  9,  9,  9,  9,  9,  9,  9,  9,  9, 10,\n",
      "       10, 10, 10, 10, 10, 10, 10, 10, 10, 10, 10, 10, 10, 10]), array([ 6,  6,  6,  7,  7,  7,  8,  8,  8,  9,  9,  9, 10, 10, 10,  6,  6,\n",
      "        6,  7,  7,  7,  8,  8,  8,  9,  9,  9, 10, 10, 10,  6,  6,  6,  7,\n",
      "        7,  7,  8,  8,  8,  9,  9,  9, 10, 10, 10,  6,  6,  6,  7,  7,  7,\n",
      "        8,  8,  8,  9,  9,  9, 10, 10, 10,  6,  6,  6,  7,  7,  7,  8,  8,\n",
      "        8,  9,  9,  9, 10, 10, 10,  6,  6,  6,  7,  7,  7,  8,  8,  8,  9,\n",
      "        9,  9, 10, 10, 10,  6,  6,  6,  7,  7,  7,  8,  8,  8,  9,  9,  9,\n",
      "       10, 10, 10,  6,  6,  6,  7,  7,  7,  8,  8,  8,  9,  9,  9, 10, 10,\n",
      "       10,  6,  6,  6,  7,  7,  7,  8,  8,  8,  9,  9,  9, 10, 10, 10,  6,\n",
      "        6,  6,  7,  7,  7,  8,  8,  8,  9,  9,  9, 10, 10, 10]), array([1, 2, 3, 1, 2, 3, 1, 2, 3, 1, 2, 3, 1, 2, 3, 1, 2, 3, 1, 2, 3, 1, 2,\n",
      "       3, 1, 2, 3, 1, 2, 3, 1, 2, 3, 1, 2, 3, 1, 2, 3, 1, 2, 3, 1, 2, 3, 1,\n",
      "       2, 3, 1, 2, 3, 1, 2, 3, 1, 2, 3, 1, 2, 3, 1, 2, 3, 1, 2, 3, 1, 2, 3,\n",
      "       1, 2, 3, 1, 2, 3, 1, 2, 3, 1, 2, 3, 1, 2, 3, 1, 2, 3, 1, 2, 3, 1, 2,\n",
      "       3, 1, 2, 3, 1, 2, 3, 1, 2, 3, 1, 2, 3, 1, 2, 3, 1, 2, 3, 1, 2, 3, 1,\n",
      "       2, 3, 1, 2, 3, 1, 2, 3, 1, 2, 3, 1, 2, 3, 1, 2, 3, 1, 2, 3, 1, 2, 3,\n",
      "       1, 2, 3, 1, 2, 3, 1, 2, 3, 1, 2, 3]))\n",
      "(60,)\n"
     ]
    },
    {
     "ename": "IndexError",
     "evalue": "boolean index did not match indexed array along dimension 0; dimension is 11 but corresponding boolean dimension is 60",
     "output_type": "error",
     "traceback": [
      "\u001b[0;31m---------------------------------------------------------------------------\u001b[0m",
      "\u001b[0;31mIndexError\u001b[0m                                Traceback (most recent call last)",
      "\u001b[0;32m<ipython-input-124-714f2abf3ee5>\u001b[0m in \u001b[0;36m<module>\u001b[0;34m()\u001b[0m\n\u001b[1;32m     19\u001b[0m \u001b[0;31m#Zsc = Zs[condInd[:2]][:,0]\u001b[0m\u001b[0;34m\u001b[0m\u001b[0;34m\u001b[0m\u001b[0m\n\u001b[1;32m     20\u001b[0m \u001b[0;32mprint\u001b[0m \u001b[0;34m(\u001b[0m\u001b[0msCond\u001b[0m\u001b[0;34m[\u001b[0m\u001b[0mnp\u001b[0m\u001b[0;34m.\u001b[0m\u001b[0mwhere\u001b[0m\u001b[0;34m(\u001b[0m\u001b[0msCondZ\u001b[0m\u001b[0;34m)\u001b[0m\u001b[0;34m]\u001b[0m\u001b[0;34m.\u001b[0m\u001b[0mshape\u001b[0m\u001b[0;34m)\u001b[0m\u001b[0;31m#.reshape(sCondZ.shape))\u001b[0m\u001b[0;34m\u001b[0m\u001b[0m\n\u001b[0;32m---> 21\u001b[0;31m \u001b[0mZsc\u001b[0m \u001b[0;34m=\u001b[0m \u001b[0mZs\u001b[0m\u001b[0;34m[\u001b[0m\u001b[0msCond\u001b[0m\u001b[0;34m[\u001b[0m\u001b[0mnp\u001b[0m\u001b[0;34m.\u001b[0m\u001b[0mwhere\u001b[0m\u001b[0;34m(\u001b[0m\u001b[0msCondZ\u001b[0m\u001b[0;34m)\u001b[0m\u001b[0;34m]\u001b[0m\u001b[0;34m]\u001b[0m\u001b[0;34m\u001b[0m\u001b[0m\n\u001b[0m\u001b[1;32m     22\u001b[0m \u001b[0mtimes\u001b[0m\u001b[0;34m[\u001b[0m\u001b[0;34m'sEvalCondZ'\u001b[0m\u001b[0;34m]\u001b[0m \u001b[0;34m=\u001b[0m \u001b[0mtime\u001b[0m\u001b[0;34m.\u001b[0m\u001b[0mtime\u001b[0m\u001b[0;34m(\u001b[0m\u001b[0;34m)\u001b[0m \u001b[0;34m-\u001b[0m \u001b[0mstart\u001b[0m\u001b[0;34m\u001b[0m\u001b[0m\n\u001b[1;32m     23\u001b[0m \u001b[0msizes\u001b[0m\u001b[0;34m[\u001b[0m\u001b[0;34m'sEvalCondZ'\u001b[0m\u001b[0;34m]\u001b[0m \u001b[0;34m=\u001b[0m \u001b[0mgetsizeof\u001b[0m\u001b[0;34m(\u001b[0m\u001b[0mZsc\u001b[0m\u001b[0;34m)\u001b[0m\u001b[0;34m\u001b[0m\u001b[0m\n",
      "\u001b[0;31mIndexError\u001b[0m: boolean index did not match indexed array along dimension 0; dimension is 11 but corresponding boolean dimension is 60"
     ]
    }
   ],
   "source": [
    "start = time.time()\n",
    "condInd = np.where(sCond)\n",
    "times['sEvalCondOverhead'] = time.time() - start\n",
    "sizes['sEvalCondOverhead'] = getsizeof(condInd)\n",
    "\n",
    "print (condInd)\n",
    "\n",
    "start = time.time()\n",
    "Xsc = Xs[sCond]\n",
    "times['sEvalCondX'] = time.time() - start\n",
    "sizes['sEvalCondX'] = getsizeof(Xsc)\n",
    "\n",
    "start = time.time()\n",
    "Ysc = Ys[sCond]\n",
    "times['sEvalCondY'] = time.time() - start\n",
    "sizes['sEvalCondY'] = getsizeof(Ysc)\n",
    "\n",
    "start = time.time()\n",
    "#Zsc = Zs[condInd[:2]][:,0]\n",
    "print (sCond[np.where(sCondZ)].shape)#.reshape(sCondZ.shape))\n",
    "Zsc = Zs[sCond[np.where(sCondZ)]]\n",
    "times['sEvalCondZ'] = time.time() - start\n",
    "sizes['sEvalCondZ'] = getsizeof(Zsc)\n",
    "\n",
    "times['sEvalCond'] = times['sEvalCondX'] +times['sEvalCondY'] +times['sEvalCondZ'] +times['sEvalCondOverhead']\n",
    "sizes['sEvalCond'] = sizes['sEvalCondZ'] + sizes['sEvalCondY'] + sizes['sEvalCondZ'] + sizes['sEvalCondOverhead']\n",
    "\n",
    "\n",
    "print(\"Xc shape:\",Xsc.shape)\n",
    "print(\"Yc shape:\",Ysc.shape)\n",
    "print(\"Zc shape:\",Zsc.shape)\n",
    "print (Zsc)"
   ]
  },
  {
   "cell_type": "markdown",
   "metadata": {},
   "source": [
    "Compare cond arrays\n",
    "-----------"
   ]
  },
  {
   "cell_type": "code",
   "execution_count": 106,
   "metadata": {},
   "outputs": [
    {
     "name": "stdout",
     "output_type": "stream",
     "text": [
      "\tThe condArrayX are the same!\n",
      "\tThe condArrayY are the same!\n",
      "\tThere is somthing wrong with the condArrayZ!\n"
     ]
    }
   ],
   "source": [
    "if np.array_equiv(Xdc,Xsc):\n",
    "    print(\"\\tThe condArrayX are the same!\")\n",
    "else:\n",
    "    print(\"\\tThere is somthing wrong with the condArrayX!\")\n",
    "    #for i,eld in enumerate(Xdc):\n",
    "    #    print(\"el:\",i)\n",
    "    #    print(\"\\tXdc:\",eld)\n",
    "    #    print(\"\\tXsc:\",Xsc[i])\n",
    "\n",
    "if np.array_equiv(Ydc,Ysc):\n",
    "    print(\"\\tThe condArrayY are the same!\")\n",
    "else:\n",
    "    print(\"\\tThere is somthing wrong with the condArrayY!\")\n",
    "    \n",
    "\n",
    "if np.array_equiv(Zdc,Zsc):\n",
    "    print(\"\\tThe condArrayZ are the same!\")\n",
    "else:\n",
    "    print(\"\\tThere is somthing wrong with the condArrayZ!\")"
   ]
  },
  {
   "cell_type": "code",
   "execution_count": 25,
   "metadata": {},
   "outputs": [
    {
     "name": "stdout",
     "output_type": "stream",
     "text": [
      "TIMES\n",
      " --------------------\n",
      "EvalCondZ\n",
      "\ts 0.00149393081665\n",
      "\td 0.00300908088684\n",
      "EvalCondY\n",
      "\ts 0.00163602828979\n",
      "\td 0.0108368396759\n",
      "EvalCondX\n",
      "\ts 0.00218105316162\n",
      "\td 0.0027379989624\n",
      "EvalCondOverhead\n",
      "\ts 0.0111010074615\n",
      "Mesh\n",
      "\ts 0.000253200531006\n",
      "\td 0.0370881557465\n",
      "Cond\n",
      "\ts 0.00744009017944\n",
      "\td 0.0164179801941\n",
      "EvalCond\n",
      "\ts 0.0164120197296\n",
      "\td 0.0165839195251\n",
      "Trafo\n",
      "\ts 0.0306460857391\n",
      "\td 0.359937906265\n",
      "full time default: 4.4661e-01\n",
      "full time sparse:  6.0062e-02\n",
      "SIZES\n",
      " --------------------\n",
      "MeshC\n",
      "\ts 944\n",
      "\td 8488976\n",
      "EvalCondZ\n",
      "\ts 1000096\n",
      "\td 1000096\n",
      "EvalCondY\n",
      "\ts 1000096\n",
      "\td 1000096\n",
      "EvalCondX\n",
      "\ts 1000096\n",
      "\td 1000096\n",
      "EvalCondOverhead\n",
      "\ts 80\n",
      "MeshP\n",
      "\ts 952\n",
      "\td 8488976\n",
      "MeshR\n",
      "\ts 936\n",
      "\td 8488976\n",
      "Cond\n",
      "\ts 1061234\n",
      "\td 1061234\n",
      "EvalCond\n",
      "\ts 3000368\n",
      "\td 3000288\n",
      "MeshX\n",
      "\ts 8488976\n",
      "\td 8488976\n",
      "MeshY\n",
      "\ts 8488976\n",
      "\td 8488976\n",
      "MeshZ\n",
      "\ts 82544\n",
      "\td 8488976\n"
     ]
    }
   ],
   "source": [
    "print('TIMES\\n',\"-\"*20)\n",
    "timesKeys = times.keys()\n",
    "for i,el in enumerate(timesKeys):\n",
    "    timesKeys[i]=el[1:]\n",
    "timesKeys = list(dict.fromkeys(timesKeys))\n",
    "\n",
    "fullTd = 0.0\n",
    "fullTs= 0.0\n",
    "\n",
    "for el in timesKeys:\n",
    "    print(el)\n",
    "    print(\"\\ts\",times['s'+el])\n",
    "    fullTs+=times['s'+el]\n",
    "    try:\n",
    "        print(\"\\td\",times['d'+el])\n",
    "        fullTd += times['d'+el]\n",
    "    except:\n",
    "        pass\n",
    "\n",
    "print('full time default: %1.4e'%fullTd)\n",
    "print('full time sparse:  %1.4e'%(fullTs-times['sEvalCondOverhead']))\n",
    "\n",
    "\n",
    "print('SIZES\\n',\"-\"*20)\n",
    "sizesKeys = sizes.keys()\n",
    "for i,el in enumerate(sizesKeys):\n",
    "    sizesKeys[i]=el[1:]\n",
    "sizesKeys = list(dict.fromkeys(sizesKeys))\n",
    "\n",
    "for el in sizesKeys:\n",
    "    print(el)\n",
    "    print(\"\\ts\",sizes['s'+el])\n",
    "    try:\n",
    "        print(\"\\td\",sizes['d'+el])\n",
    "    except:\n",
    "        pass"
   ]
  },
  {
   "cell_type": "code",
   "execution_count": null,
   "metadata": {},
   "outputs": [],
   "source": []
  }
 ],
 "metadata": {
  "kernelspec": {
   "display_name": "Python 2",
   "language": "python",
   "name": "python2"
  },
  "language_info": {
   "codemirror_mode": {
    "name": "ipython",
    "version": 2
   },
   "file_extension": ".py",
   "mimetype": "text/x-python",
   "name": "python",
   "nbconvert_exporter": "python",
   "pygments_lexer": "ipython2",
   "version": "2.7.15rc1"
  }
 },
 "nbformat": 4,
 "nbformat_minor": 2
}
