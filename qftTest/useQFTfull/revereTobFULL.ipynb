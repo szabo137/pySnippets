{
 "cells": [
  {
   "cell_type": "code",
   "execution_count": 1,
   "metadata": {},
   "outputs": [
    {
     "name": "stderr",
     "output_type": "stream",
     "text": [
      "/Users/szabo/pyTableTest/venv/lib/python2.7/site-packages/scipy/special/__init__.py:640: RuntimeWarning: numpy.dtype size changed, may indicate binary incompatibility. Expected 96, got 88\n",
      "  from ._ufuncs import *\n",
      "/Users/szabo/pyTableTest/venv/lib/python2.7/site-packages/scipy/linalg/basic.py:17: RuntimeWarning: numpy.dtype size changed, may indicate binary incompatibility. Expected 96, got 88\n",
      "  from ._solve_toeplitz import levinson\n",
      "/Users/szabo/pyTableTest/venv/lib/python2.7/site-packages/scipy/linalg/__init__.py:207: RuntimeWarning: numpy.dtype size changed, may indicate binary incompatibility. Expected 96, got 88\n",
      "  from ._decomp_update import *\n",
      "/Users/szabo/pyTableTest/venv/lib/python2.7/site-packages/scipy/special/_ellip_harm.py:7: RuntimeWarning: numpy.dtype size changed, may indicate binary incompatibility. Expected 96, got 88\n",
      "  from ._ellip_harm_2 import _ellipsoid, _ellipsoid_norm\n",
      "/Users/szabo/pyTableTest/venv/lib/python2.7/site-packages/scipy/sparse/lil.py:19: RuntimeWarning: numpy.dtype size changed, may indicate binary incompatibility. Expected 96, got 88\n",
      "  from . import _csparsetools\n",
      "/Users/szabo/pyTableTest/venv/lib/python2.7/site-packages/scipy/sparse/csgraph/__init__.py:165: RuntimeWarning: numpy.dtype size changed, may indicate binary incompatibility. Expected 96, got 88\n",
      "  from ._shortest_path import shortest_path, floyd_warshall, dijkstra,\\\n",
      "/Users/szabo/pyTableTest/venv/lib/python2.7/site-packages/scipy/sparse/csgraph/_validation.py:5: RuntimeWarning: numpy.dtype size changed, may indicate binary incompatibility. Expected 96, got 88\n",
      "  from ._tools import csgraph_to_dense, csgraph_from_dense,\\\n",
      "/Users/szabo/pyTableTest/venv/lib/python2.7/site-packages/scipy/sparse/csgraph/__init__.py:167: RuntimeWarning: numpy.dtype size changed, may indicate binary incompatibility. Expected 96, got 88\n",
      "  from ._traversal import breadth_first_order, depth_first_order, \\\n",
      "/Users/szabo/pyTableTest/venv/lib/python2.7/site-packages/scipy/sparse/csgraph/__init__.py:169: RuntimeWarning: numpy.dtype size changed, may indicate binary incompatibility. Expected 96, got 88\n",
      "  from ._min_spanning_tree import minimum_spanning_tree\n",
      "/Users/szabo/pyTableTest/venv/lib/python2.7/site-packages/scipy/sparse/csgraph/__init__.py:170: RuntimeWarning: numpy.dtype size changed, may indicate binary incompatibility. Expected 96, got 88\n",
      "  from ._reordering import reverse_cuthill_mckee, maximum_bipartite_matching, \\\n",
      "/Users/szabo/pyTableTest/venv/lib/python2.7/site-packages/scipy/optimize/_trlib/__init__.py:1: RuntimeWarning: numpy.dtype size changed, may indicate binary incompatibility. Expected 96, got 88\n",
      "  from ._trlib import TRLIBQuadraticSubproblem\n",
      "/Users/szabo/pyTableTest/venv/lib/python2.7/site-packages/scipy/optimize/_numdiff.py:10: RuntimeWarning: numpy.dtype size changed, may indicate binary incompatibility. Expected 96, got 88\n",
      "  from ._group_columns import group_dense, group_sparse\n",
      "/Users/szabo/pyTableTest/venv/lib/python2.7/site-packages/scipy/interpolate/_bsplines.py:10: RuntimeWarning: numpy.dtype size changed, may indicate binary incompatibility. Expected 96, got 88\n",
      "  from . import _bspl\n",
      "/Users/szabo/pyTableTest/venv/lib/python2.7/site-packages/scipy/spatial/__init__.py:95: RuntimeWarning: numpy.dtype size changed, may indicate binary incompatibility. Expected 96, got 88\n",
      "  from .ckdtree import *\n",
      "/Users/szabo/pyTableTest/venv/lib/python2.7/site-packages/scipy/spatial/__init__.py:96: RuntimeWarning: numpy.dtype size changed, may indicate binary incompatibility. Expected 96, got 88\n",
      "  from .qhull import *\n",
      "/Users/szabo/pyTableTest/venv/lib/python2.7/site-packages/scipy/spatial/_spherical_voronoi.py:18: RuntimeWarning: numpy.dtype size changed, may indicate binary incompatibility. Expected 96, got 88\n",
      "  from . import _voronoi\n",
      "/Users/szabo/pyTableTest/venv/lib/python2.7/site-packages/scipy/spatial/distance.py:122: RuntimeWarning: numpy.dtype size changed, may indicate binary incompatibility. Expected 96, got 88\n",
      "  from . import _hausdorff\n",
      "/Users/szabo/pyTableTest/venv/lib/python2.7/site-packages/scipy/ndimage/measurements.py:36: RuntimeWarning: numpy.dtype size changed, may indicate binary incompatibility. Expected 96, got 88\n",
      "  from . import _ni_label\n"
     ]
    }
   ],
   "source": [
    "import sftrident.qft as qft\n",
    "import numpy as np\n",
    "import Konstanten as con\n",
    "import Grid_cms as grid"
   ]
  },
  {
   "cell_type": "code",
   "execution_count": 2,
   "metadata": {},
   "outputs": [],
   "source": [
    "m=1.0\n",
    "\n",
    "\n",
    "def eps_laser(l):\n",
    "    return (l==1)*qft.MinkowskiVector( [0,1,0,0] ) + (l==2)*qft.MinkowskiVector( [0,0,1,0] )\n",
    "\n",
    "def eps_photon(l):\n",
    "    return (l==1)*qft.MinkowskiVector([0,np.cos(theta_ph)*np.cos(phi_ph),np.cos(theta_ph)*np.sin(phi_ph),-np.sin(theta_ph)])\\\n",
    "           +(l==2)*qft.MinkowskiVector( [0,-np.sin(phi_ph),np.cos(phi_ph),0])\n",
    "\n",
    "\n",
    "w_laser     = 0.75/m\n",
    "w_photon    = w_laser\n",
    "w_cms       = w_laser\n",
    "w           = w_laser\n",
    "sqrt_s      = 2.*w_laser\n",
    "\n",
    "pplusp = w_laser\n",
    "\n",
    "a0            = 1.0\n",
    "sigma         = 25 #pulse length\n",
    "w_laser_l     = 1.e0\n",
    "w_photon_l    = 4.e0\n",
    "ksi           = np.pi/4.\n",
    "\n",
    "Genau_theta   = 5\n",
    "Genau_gamma   = 5\n",
    "\n",
    "Harmonic_max  = 1\n",
    "\n",
    "\n",
    "Envelope      = 'cos^2'\n",
    "\n",
    "m_eff         = m*np.sqrt(1+0.5*a0**2)\n",
    "\n",
    "\n",
    "theta_ph      = 0.\n",
    "phi_ph        = 0.\n",
    "phi_pos       = 0.\n",
    "\n",
    "\n",
    "Abstand   = 2.0\n",
    "\n",
    "y0_min  = lambda l: np.log ( w_cms/m - np.sqrt( w_cms**2/m**2 - 1./l ) )\n",
    "y1_max  = lambda l: np.log ( w_cms/m + np.sqrt( w_cms**2/m**2 - 1./l ) )\n",
    "\n",
    "y_z    = qft.parray(np.linspace(y0_min(Harmonic_max + Abstand),y1_max(Harmonic_max + Abstand),Genau_theta),axis=1)[np.newaxis,:]\n",
    "#p_perp=qft.parray(1.0)\n",
    "#print \"pT: %s\"%(p_perp)\n",
    "#m_perp  = sqrt(1 + p_perp**2)\n",
    "p_perp  = qft.parray(grid.Grid_rap(y_z[0,:], w_cms, 0 , Harmonic_max + Abstand , Genau_gamma , a0)) #p_T\n",
    "m_perp  = np.sqrt(1 + p_perp**2)\n",
    "\n",
    "\n",
    "#y_z    = parray(linspace(y0_min(Harmonic_max + Abstand),y1_max(Harmonic_max + Abstand),Genau_theta),axis=1)[newaxis,:]\n",
    "#y_z = qft.parray(np.log(pplusp/m_perp))\n",
    "\n",
    "#print \"yz: %s\"%(y_z)\n"
   ]
  },
  {
   "cell_type": "code",
   "execution_count": 3,
   "metadata": {},
   "outputs": [],
   "source": [
    "\n",
    "m=1.0\n",
    "def kinematik():\n",
    "\n",
    "    k_laser       = qft.MinkowskiVector([w_laser,0,0,-w_laser])\n",
    "    n1            = qft.MinkowskiVector([1, np.sin(theta_ph)*np.cos(phi_ph), np.sin(theta_ph)*np.sin(phi_ph), np.cos(theta_ph)])\n",
    "    k_photon      = w_photon*n1\n",
    "\n",
    "    p_pos  = qft.MinkowskiVector([ m_perp*np.cosh(y_z),\n",
    "                            p_perp*np.cos(phi_pos),\n",
    "                            p_perp*np.sin(phi_pos),\n",
    "                            m_perp*np.sinh(y_z)] )\n",
    "\n",
    "    q_pos      = p_pos + (m**2*a0**2)/(4.*(k_laser*p_pos))*k_laser # eff Mom Pos\n",
    "\n",
    "\n",
    "    p_el_plus  =     k_photon.plus_component()     -     p_pos.plus_component()\n",
    "    p_el_1     =     k_photon._1()                 -     p_pos._1()\n",
    "    p_el_2     =     k_photon._2()                 -     p_pos._2()\n",
    "\n",
    "    p_el_minus = (m**2+p_el_1**2+p_el_2**2)/p_el_plus\n",
    "\n",
    "    p_el_0     = 0.5*(p_el_plus + p_el_minus)\n",
    "    p_el_3     = 0.5*(p_el_plus - p_el_minus)\n",
    "    p_el       = qft.MinkowskiVector([ p_el_0, p_el_1 ,p_el_2, p_el_3 ])\n",
    "\n",
    "\n",
    "    eps_m      = eps_laser(1)*np.cos(ksi)-1j*eps_laser(2)*np.sin(ksi)\n",
    "    eps_p      = eps_laser(1)*np.cos(ksi)+1j*eps_laser(2)*np.sin(ksi)\n",
    "\n",
    "\n",
    "    #print \"kp: %s\"%(k_laser)\n",
    "    #print \"k: %s\"%(k_photon)\n",
    "    #print \"pp: %s\"%(p_pos)\n",
    "    #print \"p: %s\"%(p_el)\n",
    "\n",
    "\n",
    "    return (p_pos,p_el,k_laser,k_photon,q_pos,eps_m,eps_p)"
   ]
  },
  {
   "cell_type": "code",
   "execution_count": 4,
   "metadata": {},
   "outputs": [],
   "source": [
    "p_pos,p_el,k_laser,k_photon,q_pos,eps_m,eps_p = kinematik()"
   ]
  },
  {
   "cell_type": "code",
   "execution_count": 5,
   "metadata": {},
   "outputs": [
    {
     "name": "stdout",
     "output_type": "stream",
     "text": [
      "(2,)\n",
      "(2,)\n"
     ]
    }
   ],
   "source": [
    "V = np.array([qft.SpinorV((p_pos, m),s1) for s1 in [1,2]])\n",
    "Ubar = np.array([qft.SpinorUBar((p_el,m),s1) for s1 in [1,2]])\n",
    "\n",
    "print V.shape\n",
    "print Ubar.shape"
   ]
  },
  {
   "cell_type": "code",
   "execution_count": 21,
   "metadata": {},
   "outputs": [],
   "source": [
    "d_el  = m*a0/(4.*k_laser*p_el)\n",
    "d_pos = m*a0/(4.*k_laser*p_pos)\n",
    "\n",
    "fd=lambda x: qft.feyndagg(x)"
   ]
  },
  {
   "cell_type": "code",
   "execution_count": 22,
   "metadata": {},
   "outputs": [],
   "source": [
    "J_00  = lambda l: fd(eps_photon(l))\n",
    "#print \"j0: %s\"%(Ubar[r-1]*J_00(lp)*V[rp-1])\n",
    "J_11  = lambda l: d_el * fd(eps_m)* fd(k_laser)   * fd(eps_photon(l)) - d_pos * fd(eps_photon(l))*fd(k_laser)* fd(eps_m)\n",
    "J_1_1 = lambda l: d_el * fd(eps_p)* fd(k_laser)   * fd(eps_photon(l)) - d_pos * fd(eps_photon(l))*fd(k_laser)* fd(eps_p)\n",
    "J_20  = lambda l: -4.  *  k_laser * eps_photon(l) * d_pos * d_el  * fd(k_laser)\n",
    "J_22  = lambda l: 0.5  *  J_20(l) * (cos(ksi)**2  - sin(ksi)**2)\n",
    "J_2_2 = lambda l:         J_22(l)"
   ]
  },
  {
   "cell_type": "code",
   "execution_count": 23,
   "metadata": {},
   "outputs": [
    {
     "name": "stdout",
     "output_type": "stream",
     "text": [
      "(4, 4)\n"
     ]
    }
   ],
   "source": [
    "a = sigma/w_laser\n",
    "t=J_00(1)\n",
    "print t.shape"
   ]
  },
  {
   "cell_type": "code",
   "execution_count": 9,
   "metadata": {},
   "outputs": [],
   "source": [
    "def g(phi,sigma,Envelope):\n",
    "\n",
    "    if Envelope == 'cos^2':\n",
    "        return np.cos(np.pi*phi/2./sigma)**2*(phi>-sigma)*(phi<sigma)\n",
    "    \n",
    "    \n",
    "            \n",
    "def Int_g_2(phi,sigma,Envelope):\n",
    "    \n",
    "    if   Envelope == 'cos^2':\n",
    "        a = np.pi/2./sigma\n",
    "        Wert = (  0.25  * np.cos(a*phi)**3* np.sin(a*phi) \\\n",
    "                + 3./8. * np.cos(a*phi)   * np.sin(a*phi) \\\n",
    "                + 3./8. * (phi)  *a ) /a         * (phi>=-sigma)*(phi<=sigma)\\\n",
    "                + 3./8. *  sigma *(phi>sigma)\n",
    "\n",
    "        return Wert "
   ]
  },
  {
   "cell_type": "code",
   "execution_count": 10,
   "metadata": {},
   "outputs": [],
   "source": [
    "def A_m_n(M,N,x_plus,p_el,p_pos,k_photon,k_laser):\n",
    "\n",
    "    def f1(p):\n",
    "        return -(m*a0)/(pk(p)) * g(phi,sigma,Envelope) *( pe(1,p) * np.cos(ksi) * np.cos(phi) + pe(2,p) * np.sin(ksi) * np.sin(phi) )\n",
    "        \n",
    "    def f2(p):\n",
    "        return -(m*a0)**2/(2.*pk(p))*g(phi,sigma,Envelope)**2*((np.cos(ksi)*np.cos(phi))**2+(np.sin(ksi)*np.sin(phi))**2)          \n",
    "    \n",
    "    def f(p):\n",
    "        return f1(p)+f2(p)\n",
    "    \n",
    "    def f1_SVEA(p):\n",
    "        return -(m*a0)/(pk(p))*g(phi,sigma,Envelope)*(pe(1,p)*np.cos(ksi)*np.sin(phi)-pe(2,p)*np.sin(ksi)*np.cos(phi))\n",
    "\n",
    "    def f2_SVEA(p):\n",
    "        return -(m*a0)**2/(4.*pk(p))*(Int_g_2(phi,sigma,Envelope)+g(phi,sigma,Envelope)**2*np.cos(phi)*np.sin(phi)*(np.cos(ksi)**2-np.sin(ksi)**2))\n",
    "\n",
    "    def f_SVEA(p):\n",
    "        return f1_SVEA(p)+f2_SVEA(p)\n",
    "\n",
    "    pk  =  lambda imp:    (imp * k_laser)\n",
    "    pe  =  lambda l,imp:  (imp * eps_laser(l))\n",
    "    \n",
    "    P_  =  p_pos.minus() + p_el.minus() - k_photon.minus()    \n",
    "    s   =  P_/k_laser.minus()\n",
    "\n",
    "    phi =  w_laser       * x_plus\n",
    "    \n",
    "    H_plus =  s*phi - f_SVEA(p_el) + f_SVEA(-p_pos)\n",
    "\n",
    "    if M == 0:        \n",
    "        A       = -1./s *  (f(-p_pos) - f(p_el)) * exp(1j  * H_plus)\n",
    "    \n",
    "    else:\n",
    "        A       =  g(phi,sigma,Envelope)**M *np.exp(  1j* ( H_plus + N*phi))\n",
    "    \n",
    "    return A  \n",
    "\n",
    "def A_0_0  (A11,A1_1,A20,A22,A2_2):\n",
    "    \n",
    "\n",
    "    \n",
    "    p_pos,p_el,k_laser,k_photon,q_pos,eps_m,eps_p = kinematik()\n",
    "    \n",
    "    pk  =  lambda p:    (p * k_laser)\n",
    "    d_p = lambda p: m*a0 / ( 4.* pk(p) )    \n",
    "        \n",
    "    P_  =  p_pos.minus() + p_el.minus() - k_photon.minus()    \n",
    "    s   =  P_/k_laser.minus()\n",
    "        \n",
    "    Wert = 2./s * (  ( d_p(p_pos)*p_pos*eps_m - d_p(p_el)*p_el*eps_m ) * A11  \\\n",
    "                   + ( d_p(p_pos)*p_pos*eps_p - d_p(p_el)*p_el*eps_p ) * A1_1 \\\n",
    "                   -  k_laser*k_photon*d_p(p_pos)*d_p(p_el)                   \\\n",
    "                   * ( 2.*A20 + (np.cos(ksi)**2 - np.sin(ksi)**2) * (A22 + A2_2) )  )\n",
    "    \n",
    "    return Wert\n"
   ]
  },
  {
   "cell_type": "code",
   "execution_count": 11,
   "metadata": {},
   "outputs": [],
   "source": [
    "from sftrident.qft import asimps\n",
    "\n",
    "def integrate(p_el,p_pos,k_photon,k_laser,M,N):\n",
    "        return asimps.asimps( lambda x: A_m_n(M,N,x,p_el,p_pos,k_photon,k_laser),- a, a, Nx=421 , errorabs = 1e-4, maxrecur = 100 )"
   ]
  },
  {
   "cell_type": "code",
   "execution_count": 12,
   "metadata": {},
   "outputs": [],
   "source": [
    "A_11  = integrate(p_el,p_pos,k_photon,k_laser,1,1)\n",
    "A_1_1 = integrate(p_el,p_pos,k_photon,k_laser,1,-1)\n",
    "A_20  = integrate(p_el,p_pos,k_photon,k_laser,2,0)\n",
    "A_22  = integrate(p_el,p_pos,k_photon,k_laser,2,2)\n",
    "A_2_2  = integrate(p_el,p_pos,k_photon,k_laser,2,-2)\n",
    "A_00  = A_0_0(A_11[0],A_1_1[0],A_20[0],A_22[0],A_2_2[0] )\n"
   ]
  },
  {
   "cell_type": "code",
   "execution_count": 27,
   "metadata": {},
   "outputs": [],
   "source": [
    "Lambda_1  = np.array([ J_00(l)*qft.parray(A_00) + ( J_11(l)*qft.parray(A_11[0])+J_1_1(l)*qft.parray(A_1_1[0])+\\\n",
    "                J_20(l)*qft.parray(A_20[0]) ) for l in [1,2]])"
   ]
  },
  {
   "cell_type": "code",
   "execution_count": 40,
   "metadata": {},
   "outputs": [
    {
     "name": "stdout",
     "output_type": "stream",
     "text": [
      "<class 'sftrident.qft.spinors.DiracMatrix'>\n",
      "(4, 4, 5, 5)\n",
      "(2,)\n",
      "(1, 2, 1)\n"
     ]
    }
   ],
   "source": [
    "print type(Lambda_1[0])\n",
    "print np.shape(Lambda_1[0])\n",
    "print Lambda_1.shape\n",
    "print Lambda_1[np.newaxis,:,np.newaxis].shape"
   ]
  },
  {
   "cell_type": "code",
   "execution_count": 34,
   "metadata": {},
   "outputs": [
    {
     "name": "stdout",
     "output_type": "stream",
     "text": [
      "(2, 1, 1)\n"
     ]
    }
   ],
   "source": [
    "print V[:,np.newaxis,np.newaxis].shape"
   ]
  },
  {
   "cell_type": "code",
   "execution_count": 35,
   "metadata": {},
   "outputs": [],
   "source": [
    "test = Lambda_1[np.newaxis,:,np.newaxis]*V[:,np.newaxis,np.newaxis]"
   ]
  },
  {
   "cell_type": "code",
   "execution_count": 36,
   "metadata": {},
   "outputs": [
    {
     "name": "stdout",
     "output_type": "stream",
     "text": [
      "(2, 2, 1)\n"
     ]
    }
   ],
   "source": [
    "print test.shape"
   ]
  },
  {
   "cell_type": "code",
   "execution_count": null,
   "metadata": {},
   "outputs": [],
   "source": []
  }
 ],
 "metadata": {
  "kernelspec": {
   "display_name": "Python 2",
   "language": "python",
   "name": "python2"
  },
  "language_info": {
   "codemirror_mode": {
    "name": "ipython",
    "version": 2
   },
   "file_extension": ".py",
   "mimetype": "text/x-python",
   "name": "python",
   "nbconvert_exporter": "python",
   "pygments_lexer": "ipython2",
   "version": "2.7.10"
  }
 },
 "nbformat": 4,
 "nbformat_minor": 2
}
