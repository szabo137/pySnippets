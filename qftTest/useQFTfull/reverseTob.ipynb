{
 "cells": [
  {
   "cell_type": "markdown",
   "metadata": {},
   "source": [
    "Notebook to investigate the QFT library\n",
    "==============\n",
    "here we do the reverse engeneering the tobias programm"
   ]
  },
  {
   "cell_type": "code",
   "execution_count": 1,
   "metadata": {},
   "outputs": [
    {
     "name": "stderr",
     "output_type": "stream",
     "text": [
      "/Users/szabo/pyTableTest/venv/lib/python2.7/site-packages/scipy/special/__init__.py:640: RuntimeWarning: numpy.dtype size changed, may indicate binary incompatibility. Expected 96, got 88\n",
      "  from ._ufuncs import *\n",
      "/Users/szabo/pyTableTest/venv/lib/python2.7/site-packages/scipy/linalg/basic.py:17: RuntimeWarning: numpy.dtype size changed, may indicate binary incompatibility. Expected 96, got 88\n",
      "  from ._solve_toeplitz import levinson\n",
      "/Users/szabo/pyTableTest/venv/lib/python2.7/site-packages/scipy/linalg/__init__.py:207: RuntimeWarning: numpy.dtype size changed, may indicate binary incompatibility. Expected 96, got 88\n",
      "  from ._decomp_update import *\n",
      "/Users/szabo/pyTableTest/venv/lib/python2.7/site-packages/scipy/special/_ellip_harm.py:7: RuntimeWarning: numpy.dtype size changed, may indicate binary incompatibility. Expected 96, got 88\n",
      "  from ._ellip_harm_2 import _ellipsoid, _ellipsoid_norm\n",
      "/Users/szabo/pyTableTest/venv/lib/python2.7/site-packages/scipy/sparse/lil.py:19: RuntimeWarning: numpy.dtype size changed, may indicate binary incompatibility. Expected 96, got 88\n",
      "  from . import _csparsetools\n",
      "/Users/szabo/pyTableTest/venv/lib/python2.7/site-packages/scipy/sparse/csgraph/__init__.py:165: RuntimeWarning: numpy.dtype size changed, may indicate binary incompatibility. Expected 96, got 88\n",
      "  from ._shortest_path import shortest_path, floyd_warshall, dijkstra,\\\n",
      "/Users/szabo/pyTableTest/venv/lib/python2.7/site-packages/scipy/sparse/csgraph/_validation.py:5: RuntimeWarning: numpy.dtype size changed, may indicate binary incompatibility. Expected 96, got 88\n",
      "  from ._tools import csgraph_to_dense, csgraph_from_dense,\\\n",
      "/Users/szabo/pyTableTest/venv/lib/python2.7/site-packages/scipy/sparse/csgraph/__init__.py:167: RuntimeWarning: numpy.dtype size changed, may indicate binary incompatibility. Expected 96, got 88\n",
      "  from ._traversal import breadth_first_order, depth_first_order, \\\n",
      "/Users/szabo/pyTableTest/venv/lib/python2.7/site-packages/scipy/sparse/csgraph/__init__.py:169: RuntimeWarning: numpy.dtype size changed, may indicate binary incompatibility. Expected 96, got 88\n",
      "  from ._min_spanning_tree import minimum_spanning_tree\n",
      "/Users/szabo/pyTableTest/venv/lib/python2.7/site-packages/scipy/sparse/csgraph/__init__.py:170: RuntimeWarning: numpy.dtype size changed, may indicate binary incompatibility. Expected 96, got 88\n",
      "  from ._reordering import reverse_cuthill_mckee, maximum_bipartite_matching, \\\n",
      "/Users/szabo/pyTableTest/venv/lib/python2.7/site-packages/scipy/optimize/_trlib/__init__.py:1: RuntimeWarning: numpy.dtype size changed, may indicate binary incompatibility. Expected 96, got 88\n",
      "  from ._trlib import TRLIBQuadraticSubproblem\n",
      "/Users/szabo/pyTableTest/venv/lib/python2.7/site-packages/scipy/optimize/_numdiff.py:10: RuntimeWarning: numpy.dtype size changed, may indicate binary incompatibility. Expected 96, got 88\n",
      "  from ._group_columns import group_dense, group_sparse\n",
      "/Users/szabo/pyTableTest/venv/lib/python2.7/site-packages/scipy/interpolate/_bsplines.py:10: RuntimeWarning: numpy.dtype size changed, may indicate binary incompatibility. Expected 96, got 88\n",
      "  from . import _bspl\n",
      "/Users/szabo/pyTableTest/venv/lib/python2.7/site-packages/scipy/spatial/__init__.py:95: RuntimeWarning: numpy.dtype size changed, may indicate binary incompatibility. Expected 96, got 88\n",
      "  from .ckdtree import *\n",
      "/Users/szabo/pyTableTest/venv/lib/python2.7/site-packages/scipy/spatial/__init__.py:96: RuntimeWarning: numpy.dtype size changed, may indicate binary incompatibility. Expected 96, got 88\n",
      "  from .qhull import *\n",
      "/Users/szabo/pyTableTest/venv/lib/python2.7/site-packages/scipy/spatial/_spherical_voronoi.py:18: RuntimeWarning: numpy.dtype size changed, may indicate binary incompatibility. Expected 96, got 88\n",
      "  from . import _voronoi\n",
      "/Users/szabo/pyTableTest/venv/lib/python2.7/site-packages/scipy/spatial/distance.py:122: RuntimeWarning: numpy.dtype size changed, may indicate binary incompatibility. Expected 96, got 88\n",
      "  from . import _hausdorff\n",
      "/Users/szabo/pyTableTest/venv/lib/python2.7/site-packages/scipy/ndimage/measurements.py:36: RuntimeWarning: numpy.dtype size changed, may indicate binary incompatibility. Expected 96, got 88\n",
      "  from . import _ni_label\n"
     ]
    },
    {
     "ename": "IndentationError",
     "evalue": "expected an indented block (Grid_cms.py, line 6)",
     "output_type": "error",
     "traceback": [
      "\u001b[0;36m  File \u001b[0;32m\"Grid_cms.py\"\u001b[0;36m, line \u001b[0;32m6\u001b[0m\n\u001b[0;31m    <<<<<<< HEAD\u001b[0m\n\u001b[0m     ^\u001b[0m\n\u001b[0;31mIndentationError\u001b[0m\u001b[0;31m:\u001b[0m expected an indented block\n"
     ]
    }
   ],
   "source": [
    "import sftrident.qft as qft\n",
    "import numpy as np\n",
    "import Konstanten as con\n",
    "import Grid_cms as grid"
   ]
  },
  {
   "cell_type": "code",
   "execution_count": null,
   "metadata": {},
   "outputs": [],
   "source": [
    "\n",
    "def eps_laser(l):\n",
    "    return (l==1)*qft.MinkowskiVector( [0,1,0,0] ) + (l==2)*qft.MinkowskiVector( [0,0,1,0] )\n",
    "\n",
    "def eps_photon(l):\n",
    "    return (l==1)*qft.MinkowskiVector([0,np.cos(theta_ph)*np.cos(phi_ph),np.cos(theta_ph)*np.sin(phi_ph),-np.sin(theta_ph)])\\\n",
    "           +(l==2)*MinkowskiVector( [0,-np.sin(phi_ph),np.cos(phi_ph),0])\n",
    "\n",
    "\n",
    "w_laser     = 0.75/con.m\n",
    "w_photon    = w_laser\n",
    "w_cms       = w_laser\n",
    "w           = w_laser\n",
    "sqrt_s      = 2.*w_laser\n",
    "\n",
    "pplusp = w_laser\n",
    "\n",
    "a0            = 1.0\n",
    "sigma         = 25 #pulse length\n",
    "w_laser_l     = 1.e0\n",
    "w_photon_l    = 4.e0\n",
    "ksi           = con.pi/4.\n",
    "\n",
    "Genau_theta   = 10\n",
    "Genau_gamma   = 5\n",
    "\n",
    "Harmonic_max  = 2\n",
    "\n",
    "\n",
    "Envelope      = 'cos^2'\n",
    "\n",
    "m_eff         = con.m*np.sqrt(1+0.5*a0**2)\n",
    "\n",
    "\n",
    "theta_ph      = 0.\n",
    "phi_ph        = 0.\n",
    "phi_pos       = 0.\n",
    "\n",
    "\n",
    "Abstand   = 2.0\n",
    "\n",
    "y0_min  = lambda l: np.log ( w_cms/con.m - np.sqrt( w_cms**2/con.m**2 - 1./l ) )\n",
    "y1_max  = lambda l: np.log ( w_cms/con.m + np.sqrt( w_cms**2/con.m**2 - 1./l ) )\n",
    "\n",
    "y_z    = qft.parray(np.linspace(y0_min(Harmonic_max + Abstand),y1_max(Harmonic_max + Abstand),Genau_theta),axis=1)[np.newaxis,:]\n",
    "#y_z = qft.parray(np.array([y_zOLD[0,1]]))[np.newaxis,:]\n",
    "#y_z = qft.parray(np.log(pplusp/m_perp))\n",
    "\n",
    "print \"yz: %s\"%(y_z)\n",
    "print \"yz.shape: %s\"%(str(y_z.shape))\n",
    "\n",
    "#p_perp=qft.parray(1.0)\n",
    "\n",
    "#m_perp  = sqrt(1 + p_perp**2)\n",
    "p_perp  = qft.parray(grid.Grid_rap(y_z[0,:], w_cms, 0 , Harmonic_max + Abstand , Genau_gamma , a0)) #p_T\n",
    "m_perp  = np.sqrt(1 + p_perp**2)\n",
    "print \"pT: %s\"%(p_perp)\n",
    "print \"pT.shape: %s\"%(str(p_perp.shape))\n",
    "\n",
    "\n"
   ]
  },
  {
   "cell_type": "code",
   "execution_count": null,
   "metadata": {},
   "outputs": [],
   "source": [
    "k_laser = qft.MinkowskiVector([w_laser,0,0,-w_laser])\n",
    "print \"k(laser): %s\"%np.asarray(k_laser)\n",
    "n1 = qft.MinkowskiVector([1, np.sin(theta_ph)*np.cos(phi_ph), np.sin(theta_ph)*np.sin(phi_ph), np.cos(theta_ph)])\n",
    "print \"norm vec n (photon): %s\"%np.asarray(n1)\n",
    "k_photon = w_photon*n1\n",
    "print \"k (photon): %s\"%np.asarray(k_photon)\n",
    "p_pos = qft.MinkowskiVector([ m_perp*np.cosh(y_z),\n",
    "                            p_perp*np.cos(phi_pos),\n",
    "                            p_perp*np.sin(phi_pos),\n",
    "                            m_perp*np.sinh(y_z)] )\n",
    "print \"mom Positron: %s\"%np.asarray(p_pos)\n",
    "print \"mom0 Positron: %s\"%np.asarray(m_perp*np.cosh(y_z))\n",
    "\n",
    "q_pos = p_pos + (con.m**2*a0**2)/(4.*(k_laser*p_pos))*k_laser # eff Mom Pos\n",
    "\n",
    "\n",
    "p_el_plus = k_photon.plus_component() - p_pos.plus_component()\n",
    "p_el_1= k_photon._1() - p_pos._1()\n",
    "p_el_2 = k_photon._2()                 -     p_pos._2()\n",
    "\n",
    "p_el_minus = (con.m**2+p_el_1**2+p_el_2**2)/p_el_plus\n",
    "\n",
    "p_el_0     = 0.5*(p_el_plus + p_el_minus)\n",
    "p_el_3     = 0.5*(p_el_plus - p_el_minus)\n",
    "p_el       = qft.MinkowskiVector([ p_el_0, p_el_1 ,p_el_2, p_el_3 ])\n",
    "#print \"mom Electron: %s\"%np.asarray(p_el)\n",
    "\n",
    "eps_m      = eps_laser(1)*np.cos(ksi)-1j*eps_laser(2)*np.sin(ksi)\n",
    "eps_p      = eps_laser(1)*np.cos(ksi)+1j*eps_laser(2)*np.sin(ksi)"
   ]
  },
  {
   "cell_type": "code",
   "execution_count": null,
   "metadata": {},
   "outputs": [],
   "source": []
  },
  {
   "cell_type": "code",
   "execution_count": null,
   "metadata": {},
   "outputs": [],
   "source": []
  }
 ],
 "metadata": {
  "kernelspec": {
   "display_name": "Python 2",
   "language": "python",
   "name": "python2"
  },
  "language_info": {
   "codemirror_mode": {
    "name": "ipython",
    "version": 2
   },
   "file_extension": ".py",
   "mimetype": "text/x-python",
   "name": "python",
   "nbconvert_exporter": "python",
   "pygments_lexer": "ipython2",
   "version": "2.7.10"
  }
 },
 "nbformat": 4,
 "nbformat_minor": 2
}
