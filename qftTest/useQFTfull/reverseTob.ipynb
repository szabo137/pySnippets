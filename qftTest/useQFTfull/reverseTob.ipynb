{
 "cells": [
  {
   "cell_type": "markdown",
   "metadata": {},
   "source": [
    "Notebook to investigate the QFT library\n",
    "==============\n",
    "here we do the reverse engeneering the tobias programm"
   ]
  },
  {
   "cell_type": "code",
   "execution_count": 1,
   "metadata": {},
   "outputs": [],
   "source": [
    "import sftrident.qft as qft\n",
    "import numpy as np\n",
    "import Konstanten as con\n",
    "import Grid_cms as grid"
   ]
  },
  {
   "cell_type": "code",
   "execution_count": 6,
   "metadata": {},
   "outputs": [
    {
     "name": "stdout",
     "output_type": "stream",
     "text": [
      "yz: [[-3.12686725 -2.58604057 -2.04521389 -1.50438721 -0.96356052 -0.42273384\n",
      "   0.11809284  0.65891953  1.19974621  1.74057289]]\n",
      "yz.shape: (1, 10)\n",
      "(10,)\n",
      "pT: [[ 0.          0.          0.          0.          0.          0.          0.\n",
      "   0.          0.          0.        ]\n",
      " [ 0.          0.17439981  0.33216602  0.52940876  0.69619421  0.69619421\n",
      "   0.52940876  0.33216602  0.17439981  0.        ]\n",
      " [ 0.          0.34879961  0.66433204  1.05881751  1.39238841  1.39238841\n",
      "   1.05881751  0.66433204  0.34879961  0.        ]\n",
      " [ 0.          0.52319942  0.99649807  1.58822627  2.08858262  2.08858262\n",
      "   1.58822627  0.99649807  0.52319942  0.        ]\n",
      " [ 0.          0.69759923  1.32866409  2.11763503  2.78477683  2.78477683\n",
      "   2.11763503  1.32866409  0.69759923  0.        ]]\n",
      "pT.shape: (5, 10)\n"
     ]
    }
   ],
   "source": [
    "\n",
    "def eps_laser(l):\n",
    "    return (l==1)*qft.MinkowskiVector( [0,1,0,0] ) + (l==2)*qft.MinkowskiVector( [0,0,1,0] )\n",
    "\n",
    "def eps_photon(l):\n",
    "    return (l==1)*qft.MinkowskiVector([0,np.cos(theta_ph)*np.cos(phi_ph),np.cos(theta_ph)*np.sin(phi_ph),-np.sin(theta_ph)])\\\n",
    "           +(l==2)*MinkowskiVector( [0,-np.sin(phi_ph),np.cos(phi_ph),0])\n",
    "\n",
    "\n",
    "w_laser     = 0.75/con.m\n",
    "w_photon    = w_laser\n",
    "w_cms       = w_laser\n",
    "w           = w_laser\n",
    "sqrt_s      = 2.*w_laser\n",
    "\n",
    "pplusp = w_laser\n",
    "\n",
    "a0            = 1.0\n",
    "sigma         = 25 #pulse length\n",
    "w_laser_l     = 1.e0\n",
    "w_photon_l    = 4.e0\n",
    "ksi           = con.pi/4.\n",
    "\n",
    "Genau_theta   = 10\n",
    "Genau_gamma   = 5\n",
    "\n",
    "Harmonic_max  = 2\n",
    "\n",
    "\n",
    "Envelope      = 'cos^2'\n",
    "\n",
    "m_eff         = con.m*np.sqrt(1+0.5*a0**2)\n",
    "\n",
    "\n",
    "theta_ph      = 0.\n",
    "phi_ph        = 0.\n",
    "phi_pos       = 0.\n",
    "\n",
    "\n",
    "Abstand   = 2.0\n",
    "\n",
    "y0_min  = lambda l: np.log ( w_cms/con.m - np.sqrt( w_cms**2/con.m**2 - 1./l ) )\n",
    "y1_max  = lambda l: np.log ( w_cms/con.m + np.sqrt( w_cms**2/con.m**2 - 1./l ) )\n",
    "\n",
    "y_z    = qft.parray(np.linspace(y0_min(Harmonic_max + Abstand),y1_max(Harmonic_max + Abstand),Genau_theta),axis=1)[np.newaxis,:]\n",
    "#y_z = qft.parray(np.array([y_zOLD[0,1]]))[np.newaxis,:]\n",
    "#y_z = qft.parray(np.log(pplusp/m_perp))\n",
    "\n",
    "print \"yz: %s\"%(y_z)\n",
    "print \"yz.shape: %s\"%(str(y_z.shape))\n",
    "\n",
    "#p_perp=qft.parray(1.0)\n",
    "\n",
    "#m_perp  = sqrt(1 + p_perp**2)\n",
    "p_perp  = qft.parray(grid.Grid_rap(y_z[0,:], w_cms, 0 , Harmonic_max + Abstand , Genau_gamma , a0)) #p_T\n",
    "m_perp  = np.sqrt(1 + p_perp**2)\n",
    "print \"pT: %s\"%(p_perp)\n",
    "print \"pT.shape: %s\"%(str(p_perp.shape))\n",
    "\n",
    "\n"
   ]
  },
  {
   "cell_type": "code",
   "execution_count": 3,
   "metadata": {},
   "outputs": [
    {
     "name": "stdout",
     "output_type": "stream",
     "text": [
      "k(laser): [ 1.46771037  0.          0.         -1.46771037]\n",
      "norm vec n (photon): [ 1.  0.  0.  1.]\n",
      "k (photon): [ 1.46771037  0.          0.          1.46771037]\n",
      "mom Positron: [[[ 11.42314414   3.45060843   1.25         1.14030083   2.9380141 ]\n",
      "  [ 11.42314414   3.68969827   1.54223021   1.21931134   2.9380141 ]\n",
      "  [ 11.42314414   4.32844055   2.19690602   1.43039248   2.9380141 ]\n",
      "  [ 11.42314414   5.22219029   2.9843368    1.72574433   2.9380141 ]\n",
      "  [ 11.42314414   6.26270667   3.82336034   2.06959722   2.9380141 ]]\n",
      "\n",
      " [[  0.           0.           0.           0.           0.        ]\n",
      "  [  0.           0.37865467   0.72265024   0.37865467   0.        ]\n",
      "  [  0.           0.75730933   1.44530048   0.75730933   0.        ]\n",
      "  [  0.           1.135964     2.16795072   1.135964     0.        ]\n",
      "  [  0.           1.51461866   2.89060097   1.51461866   0.        ]]\n",
      "\n",
      " [[  0.           0.           0.           0.           0.        ]\n",
      "  [  0.           0.           0.           0.           0.        ]\n",
      "  [  0.           0.           0.           0.           0.        ]\n",
      "  [  0.           0.           0.           0.           0.        ]\n",
      "  [  0.           0.           0.           0.           0.        ]]\n",
      "\n",
      " [[-11.37928917  -3.30252911  -0.75         0.54798356   2.76259423]\n",
      "  [-11.37928917  -3.53135865  -0.92533813   0.58595289   2.76259423]\n",
      "  [-11.37928917  -4.14268997  -1.31814361   0.68739015   2.76259423]\n",
      "  [-11.37928917  -4.99808536  -1.79060208   0.82932459   2.76259423]\n",
      "  [-11.37928917  -5.99394904  -2.2940162    0.99456671   2.76259423]]]\n",
      "mom0 Positron: [[ 11.42314414   3.45060843   1.25         1.14030083   2.9380141 ]\n",
      " [ 11.42314414   3.68969827   1.54223021   1.21931134   2.9380141 ]\n",
      " [ 11.42314414   4.32844055   2.19690602   1.43039248   2.9380141 ]\n",
      " [ 11.42314414   5.22219029   2.9843368    1.72574433   2.9380141 ]\n",
      " [ 11.42314414   6.26270667   3.82336034   2.06959722   2.9380141 ]]\n"
     ]
    }
   ],
   "source": [
    "k_laser = qft.MinkowskiVector([w_laser,0,0,-w_laser])\n",
    "print \"k(laser): %s\"%np.asarray(k_laser)\n",
    "n1 = qft.MinkowskiVector([1, np.sin(theta_ph)*np.cos(phi_ph), np.sin(theta_ph)*np.sin(phi_ph), np.cos(theta_ph)])\n",
    "print \"norm vec n (photon): %s\"%np.asarray(n1)\n",
    "k_photon = w_photon*n1\n",
    "print \"k (photon): %s\"%np.asarray(k_photon)\n",
    "p_pos = qft.MinkowskiVector([ m_perp*np.cosh(y_z),\n",
    "                            p_perp*np.cos(phi_pos),\n",
    "                            p_perp*np.sin(phi_pos),\n",
    "                            m_perp*np.sinh(y_z)] )\n",
    "print \"mom Positron: %s\"%np.asarray(p_pos)\n",
    "print \"mom0 Positron: %s\"%np.asarray(m_perp*np.cosh(y_z))\n",
    "\n",
    "q_pos = p_pos + (con.m**2*a0**2)/(4.*(k_laser*p_pos))*k_laser # eff Mom Pos\n",
    "\n",
    "\n",
    "p_el_plus = k_photon.plus_component() - p_pos.plus_component()\n",
    "p_el_1= k_photon._1() - p_pos._1()\n",
    "p_el_2 = k_photon._2()                 -     p_pos._2()\n",
    "\n",
    "p_el_minus = (con.m**2+p_el_1**2+p_el_2**2)/p_el_plus\n",
    "\n",
    "p_el_0     = 0.5*(p_el_plus + p_el_minus)\n",
    "p_el_3     = 0.5*(p_el_plus - p_el_minus)\n",
    "p_el       = qft.MinkowskiVector([ p_el_0, p_el_1 ,p_el_2, p_el_3 ])\n",
    "#print \"mom Electron: %s\"%np.asarray(p_el)\n",
    "\n",
    "eps_m      = eps_laser(1)*np.cos(ksi)-1j*eps_laser(2)*np.sin(ksi)\n",
    "eps_p      = eps_laser(1)*np.cos(ksi)+1j*eps_laser(2)*np.sin(ksi)"
   ]
  },
  {
   "cell_type": "code",
   "execution_count": null,
   "metadata": {},
   "outputs": [],
   "source": []
  },
  {
   "cell_type": "code",
   "execution_count": null,
   "metadata": {},
   "outputs": [],
   "source": []
  }
 ],
 "metadata": {
  "kernelspec": {
   "display_name": "Python 2",
   "language": "python",
   "name": "python2"
  },
  "language_info": {
   "codemirror_mode": {
    "name": "ipython",
    "version": 2
   },
   "file_extension": ".py",
   "mimetype": "text/x-python",
   "name": "python",
   "nbconvert_exporter": "python",
   "pygments_lexer": "ipython2",
   "version": "2.7.15rc1"
  }
 },
 "nbformat": 4,
 "nbformat_minor": 2
}
