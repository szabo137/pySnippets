{
 "cells": [
  {
   "cell_type": "code",
   "execution_count": 1,
   "metadata": {},
   "outputs": [],
   "source": [
    "from __future__ import print_function\n",
    "import time\n",
    "import numpy as np\n",
    "from sys import getsizeof\n"
   ]
  },
  {
   "cell_type": "markdown",
   "metadata": {},
   "source": [
    "Using different float types in vector multiplication\n",
    "-----------------"
   ]
  },
  {
   "cell_type": "code",
   "execution_count": 2,
   "metadata": {},
   "outputs": [
    {
     "name": "stdout",
     "output_type": "stream",
     "text": [
      "N = 1000 time float64 and float64 2.12029600143 \n"
     ]
    },
    {
     "name": "stderr",
     "output_type": "stream",
     "text": [
      "/home/szabo/Venvs/venv_oldMan/lib/python2.7/site-packages/ipykernel_launcher.py:10: DeprecationWarning: Numeric-style type codes are deprecated and will result in an error in the future.\n",
      "  # Remove the CWD from sys.path while we load stuff.\n"
     ]
    },
    {
     "name": "stdout",
     "output_type": "stream",
     "text": [
      "N = 1000 time float64 and float32 2.33061790466 \n"
     ]
    },
    {
     "name": "stderr",
     "output_type": "stream",
     "text": [
      "/home/szabo/Venvs/venv_oldMan/lib/python2.7/site-packages/ipykernel_launcher.py:15: DeprecationWarning: Numeric-style type codes are deprecated and will result in an error in the future.\n",
      "  from ipykernel import kernelapp as app\n",
      "/home/szabo/Venvs/venv_oldMan/lib/python2.7/site-packages/ipykernel_launcher.py:16: DeprecationWarning: Numeric-style type codes are deprecated and will result in an error in the future.\n",
      "  app.launch_new_instance()\n"
     ]
    },
    {
     "name": "stdout",
     "output_type": "stream",
     "text": [
      "N = 1000 time float32 and float32 1.50007390976 \n",
      "N = 3000 time float64 and float64 61.2303569317 \n"
     ]
    },
    {
     "name": "stderr",
     "output_type": "stream",
     "text": [
      "/home/szabo/Venvs/venv_oldMan/lib/python2.7/site-packages/ipykernel_launcher.py:32: DeprecationWarning: Numeric-style type codes are deprecated and will result in an error in the future.\n"
     ]
    },
    {
     "name": "stdout",
     "output_type": "stream",
     "text": [
      "N = 3000 time float64 and float32 51.9553370476 \n"
     ]
    },
    {
     "name": "stderr",
     "output_type": "stream",
     "text": [
      "/home/szabo/Venvs/venv_oldMan/lib/python2.7/site-packages/ipykernel_launcher.py:37: DeprecationWarning: Numeric-style type codes are deprecated and will result in an error in the future.\n",
      "/home/szabo/Venvs/venv_oldMan/lib/python2.7/site-packages/ipykernel_launcher.py:38: DeprecationWarning: Numeric-style type codes are deprecated and will result in an error in the future.\n"
     ]
    },
    {
     "name": "stdout",
     "output_type": "stream",
     "text": [
      "N = 3000 time float32 and float32 40.0536940098 \n",
      "min rel err: 5.7623851584e-10\n"
     ]
    }
   ],
   "source": [
    "N = 1000\n",
    "X = np.random.rand(N,N)\n",
    "Y = np.random.rand(N,N)\n",
    "\n",
    "t = time.time()\n",
    "aux = np.dot(X,Y)\n",
    "elapsed_time = time.time() - t\n",
    "print(\"N = 1000 time float64 and float64 {} \".format(elapsed_time))\n",
    "X = np.random.rand(N,N)\n",
    "Y = np.array(np.random.rand(N,N), dtype=\"Float32\")\n",
    "t = time.time()\n",
    "aux2 = np.dot(X,Y)\n",
    "elapsed_time = time.time() - t\n",
    "print(\"N = 1000 time float64 and float32 {} \".format(elapsed_time))\n",
    "X = np.array(np.random.rand(N,N), dtype=\"Float32\")\n",
    "Y = np.array(np.random.rand(N,N), dtype=\"Float32\")\n",
    "t = time.time()\n",
    "aux2 = np.dot(X,Y)\n",
    "elapsed_time = time.time() - t\n",
    "print(\"N = 1000 time float32 and float32 {} \".format(elapsed_time))\n",
    "\n",
    "\n",
    "N = 3000\n",
    "X = np.random.rand(N,N)\n",
    "Y = np.random.rand(N,N)\n",
    "\n",
    "t = time.time()\n",
    "aux = np.dot(X,Y)\n",
    "elapsed_time = time.time() - t\n",
    "print(\"N = 3000 time float64 and float64 {} \".format(elapsed_time))\n",
    "X1 = np.random.rand(N,N)\n",
    "Y1 = np.array(np.random.rand(N,N), dtype=\"Float32\")\n",
    "t = time.time()\n",
    "aux2 = np.dot(X1,Y1)\n",
    "elapsed_time = time.time() - t\n",
    "print(\"N = 3000 time float64 and float32 {} \".format(elapsed_time))\n",
    "X2 = np.array(np.random.rand(N,N), dtype=\"Float32\")\n",
    "Y2 = np.array(np.random.rand(N,N), dtype=\"Float32\")\n",
    "t = time.time()\n",
    "aux3 = np.dot(X2,Y2)\n",
    "elapsed_time = time.time() - t\n",
    "print(\"N = 3000 time float32 and float32 {} \".format(elapsed_time))\n",
    "\n",
    "test = np.abs(aux2-aux3)/(np.abs(aux2+aux3))\n",
    "print(\"min rel err:\",test.min())"
   ]
  },
  {
   "cell_type": "code",
   "execution_count": null,
   "metadata": {},
   "outputs": [],
   "source": []
  }
 ],
 "metadata": {
  "kernelspec": {
   "display_name": "Python 2",
   "language": "python",
   "name": "python2"
  },
  "language_info": {
   "codemirror_mode": {
    "name": "ipython",
    "version": 2
   },
   "file_extension": ".py",
   "mimetype": "text/x-python",
   "name": "python",
   "nbconvert_exporter": "python",
   "pygments_lexer": "ipython2",
   "version": "2.7.15rc1"
  }
 },
 "nbformat": 4,
 "nbformat_minor": 2
}
