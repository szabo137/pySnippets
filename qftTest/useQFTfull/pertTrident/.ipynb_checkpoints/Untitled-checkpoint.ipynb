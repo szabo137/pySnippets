{
 "cells": [
  {
   "cell_type": "markdown",
   "metadata": {},
   "source": [
    "Momenta of pertTrident\n",
    "================="
   ]
  },
  {
   "cell_type": "markdown",
   "metadata": {},
   "source": [
    "Here we prototype the momenta of pertTrident in array evaluation\n"
   ]
  },
  {
   "cell_type": "code",
   "execution_count": null,
   "metadata": {},
   "outputs": [],
   "source": [
    "import numpy as np\n",
    "import perttrident.qft as qft"
   ]
  },
  {
   "cell_type": "markdown",
   "metadata": {},
   "source": [
    "Kinematic Parameters\n",
    "---------"
   ]
  },
  {
   "cell_type": "code",
   "execution_count": null,
   "metadata": {},
   "outputs": [],
   "source": [
    "def absP(en,m=1):\n",
    "    return np.sqrt(en**2 - 1)\n",
    "\n",
    "def buildPara(ss,e1,cth1,phi1,e2,cth2):\n",
    "    SS = ss[:,np.newaxis,np.newaxis,np.newaxis,np.newaxis,np.newaxis]\n",
    "    E1 = e1[np.newaxis,:,np.newaxis,np.newaxis,np.newaxis,np.newaxis]\n",
    "    C1 = cth1[np.newaxis,np.newaxis,:,np.newaxis,np.newaxis,np.newaxis]\n",
    "    PH1 = phi1[np.newaxis,np.newaxis,np.newaxis,:,np.newaxis,np.newaxis]\n",
    "    E2 = e2[np.newaxis,np.newaxis,np.newaxis,np.newaxis,:,np.newaxis]\n",
    "    C2 = cth2[np.newaxis,np.newaxis,np.newaxis,np.newaxis,np.newaxis,:]\n",
    "    return [SS,E1,C1,PH1,E2,C2]\n",
    "\n",
    "ss = np.array([3.353])\n",
    "E1 = np.linspace(1.1,3.5,100)\n",
    "cTh1 = np.array([0.965])\n",
    "phi1 = np.array([0.0])\n",
    "E2 = np.linspace(1.1,3.5,20)\n",
    "cTh2 = np.linspace(0.9,0.99,11)#np.array([0.95,0.965])\n",
    "\n",
    "kinGrid = buildPara(ss,E1,cTh1,phi1,E2,cTh2)\n",
    "\n"
   ]
  },
  {
   "cell_type": "code",
   "execution_count": null,
   "metadata": {},
   "outputs": [],
   "source": [
    "omega = (kinGrid[0]**2 - 1)/2.0\n",
    "E= np.ones(kinGrid[0].shape)\n",
    "rho1 = np.sqrt(kinGrid[1]**2 - 1)\n",
    "sTh1 = np.sin(np.arccos(kinGrid[2]))\n",
    "rho2 = np.sqrt(kinGrid[1]**2 - 1)\n",
    "sTh2 = np.sin(np.arccos(kinGrid[2]))\n",
    "\n",
    "\n",
    "\n"
   ]
  },
  {
   "cell_type": "markdown",
   "metadata": {},
   "source": [
    "Bound of $\\cos\\theta_1$:\n",
    "--------"
   ]
  },
  {
   "cell_type": "code",
   "execution_count": null,
   "metadata": {},
   "outputs": [],
   "source": [
    "# bound of cThetaA\n",
    "def a1(Et,pt,Ea,Eb,cThetab):\n",
    "    s=Et**2 - pt**2\n",
    "    return s+1.0 - 2.0*(Et*Eb - pt*absP(Eb)*cThetab + Ea*Et - Ea*Eb)\n",
    "\n",
    "def b1(Et,pt,Ea,Eb,cThetab):\n",
    "    return 2.0*(absP(Ea)*pt - absP(Ea)*absP(Eb)*cThetab)\n",
    "\n",
    "def c1(Et,pt,Ea,Eb,cThetab):\n",
    "    return 2.0*absP(Ea)*absP(Eb)*np.sqrt(1-cThetab**2)\n",
    "\n",
    "\n",
    "def a2(Et,pt,Ea,Eb,cThetab):\n",
    "    return b1(Et,pt,Ea,Eb,cThetab)**2 + c1(Et,pt,Ea,Eb,cThetab)**2\n",
    "\n",
    "def b2(Et,pt,Ea,Eb,cThetab):\n",
    "    return 2.0 * a1(Et,pt,Ea,Eb,cThetab)*b1(Et,pt,Ea,Eb,cThetab)\n",
    "\n",
    "def c2(Et,pt,Ea,Eb,cThetab):\n",
    "    return a1(Et,pt,Ea,Eb,cThetab)**2 - c1(Et,pt,Ea,Eb,cThetab)**2\n",
    "\n",
    "def discrimCthetaA(Et,pt,Ea,Eb,cThetab):\n",
    "    return b2(Et,pt,Ea,Eb,cThetab)**2 - 4.0*a2(Et,pt,Ea,Eb,cThetab)*c2(Et,pt,Ea,Eb,cThetab)\n",
    "\n"
   ]
  },
  {
   "cell_type": "markdown",
   "metadata": {},
   "source": [
    "Old fashion way:\n",
    "-----"
   ]
  },
  {
   "cell_type": "code",
   "execution_count": null,
   "metadata": {},
   "outputs": [],
   "source": [
    "\n",
    "def upCthetaA(Et,pt,Ea,Eb,cThetab):\n",
    "    discr = discrimCthetaA(Et,pt,Ea,Eb,cThetab)\n",
    "    if discr>=0:\n",
    "        temp = (-b2(Et,pt,Ea,Eb,cThetab) + np.sqrt(discr))/(2.0*a2(Et,pt,Ea,Eb,cThetab))\n",
    "        return temp\n",
    "    else:\n",
    "        return False\n",
    "\n",
    "def lowCthetaA(Et,pt,Ea,Eb,cThetab):\n",
    "    discr = discrimCthetaA(Et,pt,Ea,Eb,cThetab)\n",
    "    if discr>=0:\n",
    "        return (-b2(Et,pt,Ea,Eb,cThetab) - np.sqrt(discr))/(2.0*a2(Et,pt,Ea,Eb,cThetab))\n",
    "    else:\n",
    "        return False\n",
    "\n",
    "def charCthetaA(Et,pt,Ea,Eb,cThA,cThetab):\n",
    "    tempUp = upCthetaA(Et,pt,Ea,Eb,cThetab)\n",
    "    tempLow = lowCthetaA(Et,pt,Ea,Eb,cThetab)\n",
    "    if tempUp and tempLow:\n",
    "        return (cThA < tempUp) and (cThA > tempLow)\n",
    "    else:\n",
    "        return False"
   ]
  },
  {
   "cell_type": "markdown",
   "metadata": {},
   "source": [
    "New fashion way:\n",
    "--------"
   ]
  },
  {
   "cell_type": "code",
   "execution_count": null,
   "metadata": {},
   "outputs": [],
   "source": [
    "def legitDiscr(Et,pt,Ea,Eb,cThetab):\n",
    "    d = discrimCthetaA(Et,pt,Ea,Eb,cThetab)\n",
    "    return d"
   ]
  },
  {
   "cell_type": "code",
   "execution_count": null,
   "metadata": {},
   "outputs": [],
   "source": [
    "Et = omega + E\n",
    "pt = omega\n",
    "\n",
    "\n",
    "def charCTH1(Et,pt,Ea,Eb,cThetab,cthA):\n",
    "    discr = discrimCthetaA(Et,pt,Ea,Eb,cThetab)\n",
    "    cond0 = discr>=0\n",
    "    discr2 = discr*cond0\n",
    "    res1 = ((-b2(Et,pt,Ea,Eb,cThetab) - np.sqrt(discr2))/(2.0*a2(Et,pt,Ea,Eb,cThetab)))*cond0\n",
    "    cond1 = (res1 - cthA)<=0\n",
    "    res2 = ((-b2(Et,pt,Ea,Eb,cThetab) + np.sqrt(discr2))/(2.0*a2(Et,pt,Ea,Eb,cThetab)))*cond0\n",
    "    cond2 = (res2 - cthA)>=0\n",
    "    return cond1*cond2*cond0\n",
    "    \n",
    "res = charCTH1(Et,pt,kinGrid[1],kinGrid[4],kinGrid[5],kinGrid[2])\n"
   ]
  },
  {
   "cell_type": "markdown",
   "metadata": {},
   "source": [
    "Compare both:\n",
    "----------"
   ]
  },
  {
   "cell_type": "code",
   "execution_count": null,
   "metadata": {},
   "outputs": [],
   "source": [
    "import time\n",
    "startNEW = time.time()\n",
    "res = charCTH1(Et,pt,kinGrid[1],kinGrid[4],kinGrid[5],kinGrid[2])\n",
    "timeNEW = time.time() - startNEW\n",
    "evals = 0\n",
    "timeOLD = 0.0\n",
    "for i1,e1 in enumerate(E1):\n",
    "    for i2,e2 in enumerate(E2):\n",
    "        for i3,c in enumerate(cTh2):\n",
    "            dirRes = 0.0\n",
    "            arrRes = 0.0\n",
    "            startOLD = time.time()\n",
    "            resOLD = charCthetaA(Et,pt,e1,e2,cTh1[0],c)\n",
    "            endOLD = time.time() - startOLD\n",
    "            timeOLD += endOLD\n",
    "            if resOLD:\n",
    "                dirRes = 1.0\n",
    "            if res[0,i1,0,0,i2,i3]:\n",
    "                arrRes = 1.0\n",
    "\n",
    "            if dirRes!=arrRes:\n",
    "                print \"-\"*20\n",
    "                print \"dir E1: %s\"%e1\n",
    "                print \"dir E2: %s\"%e2\n",
    "                print \"dir cth2: %s\"%c\n",
    "                print \"arr E1: %s\"%kinGrid[1][0,i1,0,0,0,0]\n",
    "                print \"arr E2: %s\"%kinGrid[4][0,0,0,0,i2,0]\n",
    "                print \"arr cth2: %s\"%kinGrid[5][0,0,0,0,0,i3]\n",
    "            evals+=1\n",
    "print \"Done. (%d evals)\"%evals\n",
    "print \"time NEW: %1.4e\"%(timeNEW)\n",
    "print \"time OLD: %1.4e\"%(timeOLD)"
   ]
  },
  {
   "cell_type": "code",
   "execution_count": null,
   "metadata": {},
   "outputs": [],
   "source": [
    "test = kinGrid[1] * kinGrid[4]\n",
    "#print test\n",
    "#print test.shape\n",
    "cond = test>3\n",
    "better = test*cond\n",
    "res = ((better/10*cond - kinGrid[5])<0)*cond\n",
    "\n",
    "evals = 0\n",
    "\n",
    "for i1,e1 in enumerate(E1):\n",
    "    for i2,e2 in enumerate(E2):\n",
    "        for i3,c in enumerate(cTh2):\n",
    "            dirRes = 0.0\n",
    "            arrRes = 0.0\n",
    "            if e1*e2 >3:\n",
    "                #print e1*e2-c\n",
    "                if (e1*e2/10-c)<0:\n",
    "                    dirRes = 1.0\n",
    "            if res[0,i1,0,0,i2,i3]:\n",
    "                arrRes = 1.0\n",
    "\n",
    "            if dirRes!=arrRes:\n",
    "                print \"-\"*20\n",
    "                print \"dir E1: %s\"%e1\n",
    "                print \"dir E2: %s\"%e2\n",
    "                print \"dir cth2: %s\"%c\n",
    "                print \"arr E1: %s\"%kinGrid[1][0,i1,0,0,0,0]\n",
    "                print \"arr E2: %s\"%kinGrid[4][0,0,0,0,i2,0]\n",
    "                print \"arr cth2: %s\"%kinGrid[5][0,0,0,0,0,i3]\n",
    "            evals+=1\n",
    "print \"Done. (%d evals)\"%evals"
   ]
  },
  {
   "cell_type": "code",
   "execution_count": null,
   "metadata": {},
   "outputs": [],
   "source": [
    "True+False"
   ]
  },
  {
   "cell_type": "code",
   "execution_count": null,
   "metadata": {},
   "outputs": [],
   "source": [
    "def condition(cond,alter=0.0):\n",
    "    def condEvaluator(func):\n",
    "        def tempFunc(x,y,z):\n",
    "            select_indices = np.where(cond)\n",
    "            resArr=np.ones(cond.shape)*alter\n",
    "            resArr[select_indices]=func(x[select_indices[0]][0][0],y[0][select_indices[1]][0],z[0][0][select_indices[2]])\n",
    "            return resArr\n",
    "        return tempFunc\n",
    "    return condEvaluator\n",
    "\n",
    "a=np.linspace(-1,1,10)\n",
    "b=np.linspace(1,2,5)\n",
    "c=np.linspace(3,4,10)\n",
    "A= a[:,np.newaxis,np.newaxis]\n",
    "B= b[np.newaxis,:,np.newaxis]\n",
    "C= c[np.newaxis,np.newaxis,:]\n",
    "startCond = time.time()\n",
    "physArea = A*B*C>=0\n",
    "endCond = time.time() - startCond\n",
    "\n",
    "\n",
    "startBuild = time.time()\n",
    "@condition(physArea)\n",
    "def func(x,y,z):\n",
    "    return np.sqrt(x*y*z)\n",
    "endBuild = time.time() - startBuild\n",
    "\n",
    "#for el in dir(np):\n",
    "#    print el\n",
    "start = time.time()\n",
    "resCond = func(A,B,C)\n",
    "end = time.time() - start\n",
    "print \"time calcCond: %1.4e\"%(endCond)\n",
    "print \"time build: %1.4e\"%(endBuild)\n",
    "print \"time eval: %1.4e\"%(end)\n",
    "print \"time full: %1.4e\"%(endCond+endBuild+end)"
   ]
  },
  {
   "cell_type": "code",
   "execution_count": null,
   "metadata": {},
   "outputs": [],
   "source": [
    "def funcOLD(x,y,z):\n",
    "    radi = x*y*z\n",
    "    if radi>0:\n",
    "        return np.sqrt(radi)\n",
    "    else:\n",
    "        return 0.0\n",
    "\n",
    "startOLD = time.time()\n",
    "res = np.array([funcOLD(x1,x2,x3) for x1 in a for x2 in b for x3 in c])\n",
    "endOLD = time.time() - startOLD\n",
    "print \"time OLD: %1.4e\"%(endOLD)\n",
    "resOLD = res.reshape(10,5,10)\n",
    "for i in np.arange(10):\n",
    "    for j in np.arange(5):\n",
    "        for k in np.arange(10):\n",
    "            print \"resCond: %s\"%resCond[i][j][k]\n",
    "            print \"resOLD:  %s\"%resOLD[i][j][k]\n",
    "            print \"absErr:  %s\"%(np.abs(resCond[i][j][k] - resOLD[i][j][k]))"
   ]
  },
  {
   "cell_type": "code",
   "execution_count": null,
   "metadata": {},
   "outputs": [],
   "source": [
    "sPre = time.time()\n",
    "radiPre = A*B*C\n",
    "ePre = time.time() - sPre\n",
    "sCond = time.time()\n",
    "physArea = radiPre>=0\n",
    "eCond = time.time() - sCond\n",
    "sBuild = time.time()\n",
    "radiPost = radiPre*physArea\n",
    "eBuild = time.time() - sBuild\n",
    "sEval = time.time()\n",
    "res = np.sqrt(radiPost)\n",
    "eEval = time.time() - sEval\n",
    "print res\n",
    "print resCond\n",
    "print \"correct result: %s\"%(np.close(res,resCond))\n",
    "print \"time calcCond: %1.4e\"%(endCond)\n",
    "print \"time build: %1.4e\"%(endBuild)\n",
    "print \"time eval: %1.4e\"%(end)\n",
    "print \"time full: %1.4e\"%(endCond+endBuild+end)"
   ]
  },
  {
   "cell_type": "code",
   "execution_count": null,
   "metadata": {},
   "outputs": [],
   "source": []
  },
  {
   "cell_type": "code",
   "execution_count": null,
   "metadata": {},
   "outputs": [],
   "source": [
    "[[ 0.57735027  0.58794474  0.59835165  0.60858062  0.61864048\n",
    "    0.62853936  0.63828474  0.64788354  0.6573422   0.66666667]\n",
    "  [ 0.64549722  0.6573422   0.66897748  0.68041382  0.69166109\n",
    "    0.70272837  0.71362403  0.72435582  0.73493092  0.74535599]\n",
    "  [ 0.70710678  0.7200823   0.73282811  0.74535599  0.75767676\n",
    "    0.76980036  0.78173596  0.79349205  0.80507649  0.81649658]\n",
    "  [ 0.76376262  0.77777778  0.79154482  0.80507649  0.81838444\n",
    "    0.83147942  0.84437134  0.85706937  0.86958199  0.8819171 ]\n",
    "  [ 0.81649658  0.83147942  0.84619701  0.86066297  0.87488976\n",
    "    0.88888889  0.90267093  0.91624569  0.92962225  0.94280904]]\n",
    "\n",
    "[[0.57735027 0.58794474 0.59835165 0.60858062 0.61864048 0.62853936\n",
    "   0.63828474 0.64788354 0.6573422  0.66666667]\n",
    "  [0.64549722 0.6573422  0.66897748 0.68041382 0.69166109 0.70272837\n",
    "   0.71362403 0.72435582 0.73493092 0.74535599]\n",
    "  [0.70710678 0.7200823  0.73282811 0.74535599 0.75767676 0.76980036\n",
    "   0.78173596 0.79349205 0.80507649 0.81649658]\n",
    "  [0.76376262 0.77777778 0.79154482 0.80507649 0.81838444 0.83147942\n",
    "   0.84437134 0.85706937 0.86958199 0.8819171 ]\n",
    "  [0.81649658 0.83147942 0.84619701 0.86066297 0.87488976 0.88888889\n",
    "   0.90267093 0.91624569 0.92962225 0.94280904]]"
   ]
  },
  {
   "cell_type": "code",
   "execution_count": null,
   "metadata": {},
   "outputs": [],
   "source": []
  }
 ],
 "metadata": {
  "kernelspec": {
   "display_name": "Python 2",
   "language": "python",
   "name": "python2"
  },
  "language_info": {
   "codemirror_mode": {
    "name": "ipython",
    "version": 2
   },
   "file_extension": ".py",
   "mimetype": "text/x-python",
   "name": "python",
   "nbconvert_exporter": "python",
   "pygments_lexer": "ipython2",
   "version": "2.7.10"
  }
 },
 "nbformat": 4,
 "nbformat_minor": 2
}
