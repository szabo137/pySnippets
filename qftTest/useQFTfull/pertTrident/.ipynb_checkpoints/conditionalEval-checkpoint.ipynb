{
 "cells": [
  {
   "cell_type": "markdown",
   "metadata": {},
   "source": [
    "Conditional evaluation of the numpy array grid\n",
    "============"
   ]
  },
  {
   "cell_type": "code",
   "execution_count": 1,
   "metadata": {},
   "outputs": [],
   "source": [
    "import numpy as np\n",
    "import perttrident.qft as qft\n",
    "\n",
    "def absP(en,m=1):\n",
    "    return np.sqrt(en**2 - 1)\n",
    "\n",
    "def buildPara(ss,e1,cth1,phi1,e2,cth2):\n",
    "    SS = ss[:,np.newaxis,np.newaxis,np.newaxis,np.newaxis,np.newaxis]\n",
    "    E1 = e1[np.newaxis,:,np.newaxis,np.newaxis,np.newaxis,np.newaxis]\n",
    "    C1 = cth1[np.newaxis,np.newaxis,:,np.newaxis,np.newaxis,np.newaxis]\n",
    "    PH1 = phi1[np.newaxis,np.newaxis,np.newaxis,:,np.newaxis,np.newaxis]\n",
    "    E2 = e2[np.newaxis,np.newaxis,np.newaxis,np.newaxis,:,np.newaxis]\n",
    "    C2 = cth2[np.newaxis,np.newaxis,np.newaxis,np.newaxis,np.newaxis,:]\n",
    "    return [SS,E1,C1,PH1,E2,C2]\n",
    "\n",
    "ss = np.array([3.353])\n",
    "E1 = np.linspace(1.1,3.5,100)\n",
    "cTh1 = np.array([0.965])\n",
    "phi1 = np.array([0.0])\n",
    "E2 = np.linspace(1.1,3.5,20)\n",
    "cTh2 = np.linspace(0.9,0.99,11)#np.array([0.95,0.965])\n",
    "\n",
    "kinGrid = buildPara(ss,E1,cTh1,phi1,E2,cTh2)"
   ]
  },
  {
   "cell_type": "code",
   "execution_count": 2,
   "metadata": {},
   "outputs": [],
   "source": [
    "omega = (kinGrid[0]**2 - 1)/2.0\n",
    "E= np.ones(kinGrid[0].shape)\n",
    "rho1 = np.sqrt(kinGrid[1]**2 - 1)\n",
    "sTh1 = np.sin(np.arccos(kinGrid[2]))\n",
    "rho2 = np.sqrt(kinGrid[1]**2 - 1)\n",
    "sTh2 = np.sin(np.arccos(kinGrid[2]))"
   ]
  },
  {
   "cell_type": "markdown",
   "metadata": {},
   "source": [
    "Physical Area\n",
    "---------"
   ]
  },
  {
   "cell_type": "markdown",
   "metadata": {},
   "source": [
    "Bound of $\\cos\\theta_1$:\n",
    "--------"
   ]
  },
  {
   "cell_type": "code",
   "execution_count": 4,
   "metadata": {},
   "outputs": [],
   "source": [
    "# bound of cThetaA\n",
    "def a1(Et,pt,Ea,Eb,cThetab):\n",
    "    s=Et**2 - pt**2\n",
    "    return s+1.0 - 2.0*(Et*Eb - pt*absP(Eb)*cThetab + Ea*Et - Ea*Eb)\n",
    "\n",
    "def b1(Et,pt,Ea,Eb,cThetab):\n",
    "    return 2.0*(absP(Ea)*pt - absP(Ea)*absP(Eb)*cThetab)\n",
    "\n",
    "def c1(Et,pt,Ea,Eb,cThetab):\n",
    "    return 2.0*absP(Ea)*absP(Eb)*np.sqrt(1-cThetab**2)\n",
    "\n",
    "\n",
    "def a2(Et,pt,Ea,Eb,cThetab):\n",
    "    return b1(Et,pt,Ea,Eb,cThetab)**2 + c1(Et,pt,Ea,Eb,cThetab)**2\n",
    "\n",
    "def b2(Et,pt,Ea,Eb,cThetab):\n",
    "    return 2.0 * a1(Et,pt,Ea,Eb,cThetab)*b1(Et,pt,Ea,Eb,cThetab)\n",
    "\n",
    "def c2(Et,pt,Ea,Eb,cThetab):\n",
    "    return a1(Et,pt,Ea,Eb,cThetab)**2 - c1(Et,pt,Ea,Eb,cThetab)**2\n",
    "\n",
    "def discrimCthetaA(Et,pt,Ea,Eb,cThetab):\n",
    "    return b2(Et,pt,Ea,Eb,cThetab)**2 - 4.0*a2(Et,pt,Ea,Eb,cThetab)*c2(Et,pt,Ea,Eb,cThetab)"
   ]
  },
  {
   "cell_type": "code",
   "execution_count": 5,
   "metadata": {},
   "outputs": [],
   "source": [
    "def legitDiscr(Et,pt,Ea,Eb,cThetab):\n",
    "    d = discrimCthetaA(Et,pt,Ea,Eb,cThetab)\n",
    "    return d\n",
    "\n",
    "Et = omega + E\n",
    "pt = omega\n",
    "\n",
    "\n"
   ]
  },
  {
   "cell_type": "markdown",
   "metadata": {},
   "source": [
    "New implementation\n",
    "----------"
   ]
  },
  {
   "cell_type": "code",
   "execution_count": 22,
   "metadata": {},
   "outputs": [
    {
     "name": "stdout",
     "output_type": "stream",
     "text": [
      "(1, 1, 1, 1, 20, 1)\n",
      "fullshape: [  1 100   1   1  20  11]\n"
     ]
    }
   ],
   "source": [
    "fullShape = sum([np.array(el.shape) for el in kinGrid])-5\n",
    "print kinGrid[4].shape\n",
    "print \"fullshape: %s\"%fullShape"
   ]
  },
  {
   "cell_type": "code",
   "execution_count": 28,
   "metadata": {},
   "outputs": [
    {
     "name": "stdout",
     "output_type": "stream",
     "text": [
      "(1, 100, 1, 1, 20, 11)\n",
      "points in physArea:     2960\n",
      "points not in physArea: 19040\n",
      "22000\n"
     ]
    }
   ],
   "source": [
    "def charCTH1(Et,pt,Ea,Eb,cThetab,cthA):\n",
    "    discr = discrimCthetaA(Et,pt,Ea,Eb,cThetab)\n",
    "    print discr.shape\n",
    "    cond0 = discr>=0\n",
    "    discr2 = discr*cond0\n",
    "    res1 = ((-b2(Et,pt,Ea,Eb,cThetab) - np.sqrt(discr2))/(2.0*a2(Et,pt,Ea,Eb,cThetab)))*cond0\n",
    "    cond1 = (res1 - cthA)<=0\n",
    "    res2 = ((-b2(Et,pt,Ea,Eb,cThetab) + np.sqrt(discr2))/(2.0*a2(Et,pt,Ea,Eb,cThetab)))*cond0\n",
    "    cond2 = (res2 - cthA)>=0\n",
    "    return cond1*cond2*cond0\n",
    "\n",
    "res = physMask(Et,pt,kinGrid[1],kinGrid[4],kinGrid[5],kinGrid[2])\n",
    "nT = 0\n",
    "nF = 0\n",
    "for i1,e1 in enumerate(E1):\n",
    "    for i2,e2 in enumerate(E2):\n",
    "        for i3,c in enumerate(cTh2):\n",
    "            if res[0,i1,0,0,i2,i3]:\n",
    "                nT+=1\n",
    "            else:\n",
    "                nF+=1\n",
    "print \"points in physArea:     %d\"%nT\n",
    "print \"points not in physArea: %d\"%nF\n",
    "print nT + nF"
   ]
  },
  {
   "cell_type": "code",
   "execution_count": null,
   "metadata": {},
   "outputs": [],
   "source": []
  }
 ],
 "metadata": {
  "kernelspec": {
   "display_name": "Python 2",
   "language": "python",
   "name": "python2"
  },
  "language_info": {
   "codemirror_mode": {
    "name": "ipython",
    "version": 2
   },
   "file_extension": ".py",
   "mimetype": "text/x-python",
   "name": "python",
   "nbconvert_exporter": "python",
   "pygments_lexer": "ipython2",
   "version": "2.7.10"
  }
 },
 "nbformat": 4,
 "nbformat_minor": 2
}
