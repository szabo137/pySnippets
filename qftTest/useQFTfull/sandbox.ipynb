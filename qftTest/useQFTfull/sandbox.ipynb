{
 "cells": [
  {
   "cell_type": "code",
   "execution_count": 69,
   "metadata": {},
   "outputs": [],
   "source": [
    "from __future__ import print_function\n",
    "import time\n",
    "import numpy as np\n",
    "from sys import getsizeof\n",
    "\n"
   ]
  },
  {
   "cell_type": "markdown",
   "metadata": {},
   "source": [
    "Using different float types in vector multiplication\n",
    "-----------------"
   ]
  },
  {
   "cell_type": "code",
   "execution_count": 70,
   "metadata": {},
   "outputs": [
    {
     "name": "stdout",
     "output_type": "stream",
     "text": [
      "N = 1000 time float64 and float64 0.0816390514374 \n",
      "N = 1000 time float64 and float32 0.0517408847809 \n",
      "N = 1000 time float32 and float32 0.0219750404358 \n"
     ]
    },
    {
     "name": "stderr",
     "output_type": "stream",
     "text": [
      "/gpfs/home/hernan68/Venvs/venv_homer/lib/python2.7/site-packages/ipykernel_launcher.py:11: DeprecationWarning: Numeric-style type codes are deprecated and will result in an error in the future.\n",
      "  # This is added back by InteractiveShellApp.init_path()\n",
      "/gpfs/home/hernan68/Venvs/venv_homer/lib/python2.7/site-packages/ipykernel_launcher.py:16: DeprecationWarning: Numeric-style type codes are deprecated and will result in an error in the future.\n",
      "  app.launch_new_instance()\n",
      "/gpfs/home/hernan68/Venvs/venv_homer/lib/python2.7/site-packages/ipykernel_launcher.py:17: DeprecationWarning: Numeric-style type codes are deprecated and will result in an error in the future.\n"
     ]
    },
    {
     "name": "stdout",
     "output_type": "stream",
     "text": [
      "N = 3000 time float64 and float64 0.721986055374 \n"
     ]
    },
    {
     "name": "stderr",
     "output_type": "stream",
     "text": [
      "/gpfs/home/hernan68/Venvs/venv_homer/lib/python2.7/site-packages/ipykernel_launcher.py:33: DeprecationWarning: Numeric-style type codes are deprecated and will result in an error in the future.\n"
     ]
    },
    {
     "name": "stdout",
     "output_type": "stream",
     "text": [
      "N = 3000 time float64 and float32 0.771102905273 \n"
     ]
    },
    {
     "name": "stderr",
     "output_type": "stream",
     "text": [
      "/gpfs/home/hernan68/Venvs/venv_homer/lib/python2.7/site-packages/ipykernel_launcher.py:38: DeprecationWarning: Numeric-style type codes are deprecated and will result in an error in the future.\n",
      "/gpfs/home/hernan68/Venvs/venv_homer/lib/python2.7/site-packages/ipykernel_launcher.py:39: DeprecationWarning: Numeric-style type codes are deprecated and will result in an error in the future.\n"
     ]
    },
    {
     "name": "stdout",
     "output_type": "stream",
     "text": [
      "N = 3000 time float32 and float32 0.330883979797 \n",
      "min rel err: 6.923863943959597e-10\n"
     ]
    }
   ],
   "source": [
    "\n",
    "N = 1000\n",
    "X = np.random.rand(N,N)\n",
    "Y = np.random.rand(N,N)\n",
    "\n",
    "t = time.time()\n",
    "aux = np.dot(X,Y)\n",
    "elapsed_time = time.time() - t\n",
    "print(\"N = 1000 time float64 and float64 {} \".format(elapsed_time))\n",
    "X = np.random.rand(N,N)\n",
    "Y = np.array(np.random.rand(N,N), dtype=\"Float32\")\n",
    "t = time.time()\n",
    "aux2 = np.dot(X,Y)\n",
    "elapsed_time = time.time() - t\n",
    "print(\"N = 1000 time float64 and float32 {} \".format(elapsed_time))\n",
    "X = np.array(np.random.rand(N,N), dtype=\"Float32\")\n",
    "Y = np.array(np.random.rand(N,N), dtype=\"Float32\")\n",
    "t = time.time()\n",
    "aux2 = np.dot(X,Y)\n",
    "elapsed_time = time.time() - t\n",
    "print(\"N = 1000 time float32 and float32 {} \".format(elapsed_time))\n",
    "\n",
    "\n",
    "N = 3000\n",
    "X = np.random.rand(N,N)\n",
    "Y = np.random.rand(N,N)\n",
    "\n",
    "t = time.time()\n",
    "aux = np.dot(X,Y)\n",
    "elapsed_time = time.time() - t\n",
    "print(\"N = 3000 time float64 and float64 {} \".format(elapsed_time))\n",
    "X1 = np.random.rand(N,N)\n",
    "Y1 = np.array(np.random.rand(N,N), dtype=\"Float32\")\n",
    "t = time.time()\n",
    "aux2 = np.dot(X1,Y1)\n",
    "elapsed_time = time.time() - t\n",
    "print(\"N = 3000 time float64 and float32 {} \".format(elapsed_time))\n",
    "X2 = np.array(np.random.rand(N,N), dtype=\"Float32\")\n",
    "Y2 = np.array(np.random.rand(N,N), dtype=\"Float32\")\n",
    "t = time.time()\n",
    "aux3 = np.dot(X2,Y2)\n",
    "elapsed_time = time.time() - t\n",
    "print(\"N = 3000 time float32 and float32 {} \".format(elapsed_time))\n",
    "\n",
    "test = np.abs(aux2-aux3)/(np.abs(aux2+aux3))\n",
    "print(\"min rel err:\",test.min())\n",
    "\n"
   ]
  },
  {
   "cell_type": "markdown",
   "metadata": {},
   "source": [
    "Meshgrid - timing\n",
    "=============="
   ]
  },
  {
   "cell_type": "code",
   "execution_count": 87,
   "metadata": {},
   "outputs": [
    {
     "name": "stdout",
     "output_type": "stream",
     "text": [
      "sys.long_info(bits_per_digit=30, sizeof_digit=4)\n"
     ]
    }
   ],
   "source": [
    "import sys\n",
    "print(sys.long_info)\n",
    "\n",
    "times = {}\n",
    "sizes = {}\n",
    "\n",
    "Nx,Ny,Nz = (1001,1002,1003) # number of points per dim\n",
    "xarr = np.linspace(-10,10,Nx)\n",
    "yarr = np.linspace(-10,10,Ny)\n",
    "zarr = np.linspace(-10,10,Nz)\n"
   ]
  },
  {
   "cell_type": "markdown",
   "metadata": {},
   "source": [
    "default meshgrid\n",
    "---------------"
   ]
  },
  {
   "cell_type": "code",
   "execution_count": 72,
   "metadata": {},
   "outputs": [
    {
     "name": "stdout",
     "output_type": "stream",
     "text": [
      "time build default meshgrid: 1.42018699646\n",
      "size build default meshgrid: 8.1204e+08 8.1204e+08 8.1204e+08\n",
      "X shape: (101, 1002, 1003)\n",
      "Y shape: (101, 1002, 1003)\n",
      "Z shape: (101, 1002, 1003)\n"
     ]
    }
   ],
   "source": [
    "start = time.time()\n",
    "Xm,Ym,Zm = np.meshgrid(xarr,yarr,zarr,indexing='ij')\n",
    "times['dMesh'] = time.time() - start\n",
    "sizes['dMeshX'] = getsizeof(Xm)\n",
    "sizes['dMeshY'] = getsizeof(Ym)\n",
    "sizes['dMeshZ'] = getsizeof(Zm)\n",
    "print(\"time build default meshgrid:\",times['dMesh'])\n",
    "print(\"size build default meshgrid: %1.4e %1.4e %1.4e\"%(sizes['dMeshX'],sizes['dMeshY'],sizes['dMeshZ']))\n",
    "print(\"X shape:\",Xm.shape)\n",
    "print(\"Y shape:\",Ym.shape)\n",
    "print(\"Z shape:\",Zm.shape)"
   ]
  },
  {
   "cell_type": "markdown",
   "metadata": {},
   "source": [
    "sparse meshgrid\n",
    "-----------"
   ]
  },
  {
   "cell_type": "code",
   "execution_count": 88,
   "metadata": {},
   "outputs": [
    {
     "name": "stdout",
     "output_type": "stream",
     "text": [
      "time build sparse meshgrid: 0.00021505355835\n",
      "size build sparse meshgrid: 8.1360e+03 8.1440e+03 8.1520e+03\n",
      "X shape: (1001, 1, 1)\n",
      "Y shape: (1, 1002, 1)\n",
      "Z shape: (1, 1, 1003)\n"
     ]
    }
   ],
   "source": [
    "start = time.time()\n",
    "Xs,Ys,Zs = np.meshgrid(xarr,yarr,zarr,sparse = True,indexing='ij')\n",
    "times['sMesh'] = time.time() - start\n",
    "sizes['sMeshX'] = getsizeof(Xs)\n",
    "sizes['sMeshY'] = getsizeof(Ys)\n",
    "sizes['sMeshZ'] = getsizeof(Zs)\n",
    "print(\"time build sparse meshgrid:\",times['sMesh'])\n",
    "print(\"size build sparse meshgrid: %1.4e %1.4e %1.4e\"%(sizes['sMeshX'],sizes['sMeshY'],sizes['sMeshZ']))\n",
    "print(\"X shape:\",Xs.shape)\n",
    "print(\"Y shape:\",Ys.shape)\n",
    "print(\"Z shape:\",Zs.shape)"
   ]
  },
  {
   "cell_type": "markdown",
   "metadata": {},
   "source": [
    "Calculations with meshgrids\n",
    "======================="
   ]
  },
  {
   "cell_type": "code",
   "execution_count": 74,
   "metadata": {},
   "outputs": [],
   "source": [
    "def add(x,y,z):\n",
    "    return x+y+z\n",
    "\n",
    "\n",
    "def mul(x,y,z):\n",
    "    return x*y*z\n",
    "\n"
   ]
  },
  {
   "cell_type": "markdown",
   "metadata": {},
   "source": [
    "default meshgrid\n",
    "-----------"
   ]
  },
  {
   "cell_type": "code",
   "execution_count": 75,
   "metadata": {},
   "outputs": [
    {
     "data": {
      "text/plain": [
       "'\\nstart = time.time()\\ndAdd = add(Xm,Ym,Zm)\\ntimes[\\'dAdd\\'] = time.time() - start\\nsizes[\\'dAdd\\'] = getsizeof(dAdd)\\nprint(\"time add default mesh: \",times[\\'dAdd\\'])\\nprint(\"size add default mesh: \",sizes[\\'dAdd\\'])\\n\\nstart = time.time()\\ndMul = mul(Xm,Ym,Zm)\\ntimes[\\'dMul\\'] = time.time() - start\\nsizes[\\'dMul\\'] = getsizeof(dMul)\\nprint(\"time Mul default mesh: \",times[\\'dMul\\'])\\nprint(\"size Mul default mesh: \",sizes[\\'dMul\\'])\\nprint(\"add shape:\",dAdd.shape)\\nprint(\"mul shape:\",dMul.shape)\\n'"
      ]
     },
     "execution_count": 75,
     "metadata": {},
     "output_type": "execute_result"
    }
   ],
   "source": [
    "\"\"\"\n",
    "start = time.time()\n",
    "dAdd = add(Xm,Ym,Zm)\n",
    "times['dAdd'] = time.time() - start\n",
    "sizes['dAdd'] = getsizeof(dAdd)\n",
    "print(\"time add default mesh: \",times['dAdd'])\n",
    "print(\"size add default mesh: \",sizes['dAdd'])\n",
    "\n",
    "start = time.time()\n",
    "dMul = mul(Xm,Ym,Zm)\n",
    "times['dMul'] = time.time() - start\n",
    "sizes['dMul'] = getsizeof(dMul)\n",
    "print(\"time Mul default mesh: \",times['dMul'])\n",
    "print(\"size Mul default mesh: \",sizes['dMul'])\n",
    "print(\"add shape:\",dAdd.shape)\n",
    "print(\"mul shape:\",dMul.shape)\n",
    "\"\"\""
   ]
  },
  {
   "cell_type": "markdown",
   "metadata": {},
   "source": [
    "sparse meshgrid\n",
    "------------"
   ]
  },
  {
   "cell_type": "code",
   "execution_count": 76,
   "metadata": {},
   "outputs": [
    {
     "data": {
      "text/plain": [
       "'\\nstart = time.time()\\nsAdd = add(Xs,Ys,Zs)\\ntimes[\\'sAdd\\'] = time.time() - start\\nsizes[\\'sAdd\\'] = getsizeof(dAdd)\\nprint(\"time add sparse mesh: \",times[\\'sAdd\\'])\\nprint(\"size add sparse mesh: \",sizes[\\'sAdd\\'])\\n\\nstart = time.time()\\nsMul = mul(Xs,Ys,Zs)\\ntimes[\\'sMul\\'] = time.time() - start\\nsizes[\\'sMul\\'] = getsizeof(sMul)\\nprint(\"time Mul sparse mesh: \",times[\\'sMul\\'])\\nprint(\"size Mul sparse mesh: \",sizes[\\'sMul\\'])\\nprint(\"add shape:\",sAdd.shape)\\nprint(\"mul shape:\",sMul.shape)\\n'"
      ]
     },
     "execution_count": 76,
     "metadata": {},
     "output_type": "execute_result"
    }
   ],
   "source": [
    "\"\"\"\n",
    "start = time.time()\n",
    "sAdd = add(Xs,Ys,Zs)\n",
    "times['sAdd'] = time.time() - start\n",
    "sizes['sAdd'] = getsizeof(dAdd)\n",
    "print(\"time add sparse mesh: \",times['sAdd'])\n",
    "print(\"size add sparse mesh: \",sizes['sAdd'])\n",
    "\n",
    "start = time.time()\n",
    "sMul = mul(Xs,Ys,Zs)\n",
    "times['sMul'] = time.time() - start\n",
    "sizes['sMul'] = getsizeof(sMul)\n",
    "print(\"time Mul sparse mesh: \",times['sMul'])\n",
    "print(\"size Mul sparse mesh: \",sizes['sMul'])\n",
    "print(\"add shape:\",sAdd.shape)\n",
    "print(\"mul shape:\",sMul.shape)\n",
    "\"\"\""
   ]
  },
  {
   "cell_type": "markdown",
   "metadata": {},
   "source": [
    "conditions on meshgrids\n",
    "============"
   ]
  },
  {
   "cell_type": "code",
   "execution_count": 77,
   "metadata": {},
   "outputs": [],
   "source": [
    "def cond(x,y,z):\n",
    "    return (x>0)*(y>0)*(z>0)\n",
    "\n",
    "def cond2(x,y,z):\n",
    "    return (x>0)&(y>0)&(z>0)"
   ]
  },
  {
   "cell_type": "markdown",
   "metadata": {},
   "source": [
    "default meshgrid\n",
    "---------------"
   ]
  },
  {
   "cell_type": "code",
   "execution_count": 78,
   "metadata": {},
   "outputs": [
    {
     "name": "stdout",
     "output_type": "stream",
     "text": [
      "time cond default mesh:  0.617211818695\n",
      "size cond default mesh:  101505734\n",
      "dCond shape: (101, 1002, 1003)\n"
     ]
    }
   ],
   "source": [
    "start = time.time()\n",
    "dCond = cond(Xm,Ym,Zm)\n",
    "times['dCond'] = time.time() - start\n",
    "sizes['dCond'] = getsizeof(dCond)\n",
    "print(\"time cond default mesh: \",times['dCond'])\n",
    "print(\"size cond default mesh: \",sizes['dCond'])\n",
    "print(\"dCond shape:\",dCond.shape)\n"
   ]
  },
  {
   "cell_type": "markdown",
   "metadata": {},
   "source": [
    "sparse meshgrid\n",
    "--------------"
   ]
  },
  {
   "cell_type": "code",
   "execution_count": 89,
   "metadata": {},
   "outputs": [
    {
     "name": "stdout",
     "output_type": "stream",
     "text": [
      "time cond sparse mesh:  0.691859960556\n",
      "size cond sparse mesh:  1006011134\n",
      "sCond shape: (1001, 1002, 1003)\n"
     ]
    }
   ],
   "source": [
    "start = time.time()\n",
    "sCond = cond(Xs,Ys,Zs)\n",
    "times['sCond'] = time.time() - start\n",
    "sizes['sCond'] = getsizeof(sCond)\n",
    "print(\"time cond sparse mesh: \",times['sCond'])\n",
    "print(\"size cond sparse mesh: \",sizes['sCond'])\n",
    "print(\"sCond shape:\",sCond.shape)"
   ]
  },
  {
   "cell_type": "markdown",
   "metadata": {},
   "source": [
    "build cond arrays\n",
    "-------------"
   ]
  },
  {
   "cell_type": "code",
   "execution_count": 80,
   "metadata": {},
   "outputs": [
    {
     "name": "stdout",
     "output_type": "stream",
     "text": [
      "Xc shape: (12550050,)\n",
      "Yc shape: (12550050,)\n",
      "Zc shape: (12550050,)\n"
     ]
    }
   ],
   "source": [
    "start = time.time()\n",
    "Xmc = Xm[dCond]\n",
    "times['dEvalCondX'] = time.time() - start\n",
    "sizes['dEvalCondX'] = getsizeof(Xmc)\n",
    "start = time.time()\n",
    "Ymc = Ym[dCond]\n",
    "times['dEvalCondY'] = time.time() - start\n",
    "sizes['dEvalCondY'] = getsizeof(Ymc)\n",
    "start = time.time()\n",
    "Zmc = Zm[dCond]\n",
    "times['dEvalCondZ'] = time.time() - start\n",
    "sizes['dEvalCondZ'] = getsizeof(Zmc)\n",
    "\n",
    "times['dEvalCond'] = times['dEvalCondX'] +times['dEvalCondY'] +times['dEvalCondZ'] \n",
    "sizes['dEvalCond'] = sizes['dEvalCondZ'] + sizes['dEvalCondY'] + sizes['dEvalCondZ']\n",
    "\n",
    "print(\"Xc shape:\",Xmc.shape)\n",
    "print(\"Yc shape:\",Ymc.shape)\n",
    "print(\"Zc shape:\",Zmc.shape)"
   ]
  },
  {
   "cell_type": "code",
   "execution_count": 90,
   "metadata": {},
   "outputs": [
    {
     "name": "stdout",
     "output_type": "stream",
     "text": [
      "Xc shape: (125500500,)\n",
      "Yc shape: (125500500,)\n",
      "Zc shape: (125500500,)\n"
     ]
    }
   ],
   "source": [
    "start = time.time()\n",
    "condInd = np.where(sCond)\n",
    "times['sEvalCondOverhead'] = time.time() - start\n",
    "sizes['sEvalCondOverhead'] = getsizeof(condInd)\n",
    "\n",
    "start = time.time()\n",
    "Xsc = xarr[condInd[0]]\n",
    "times['sEvalCondX'] = time.time() - start\n",
    "sizes['sEvalCondX'] = getsizeof(Xsc)\n",
    "\n",
    "start = time.time()\n",
    "Ysc = yarr[condInd[1]]\n",
    "times['sEvalCondY'] = time.time() - start\n",
    "sizes['sEvalCondY'] = getsizeof(Ysc)\n",
    "\n",
    "start = time.time()\n",
    "Zsc = zarr[condInd[2]]\n",
    "times['sEvalCondZ'] = time.time() - start\n",
    "sizes['sEvalCondZ'] = getsizeof(Zsc)\n",
    "\n",
    "times['sEvalCond'] = times['sEvalCondX'] +times['sEvalCondY'] +times['sEvalCondZ'] +times['sEvalCondOverhead']\n",
    "sizes['sEvalCond'] = sizes['sEvalCondZ'] + sizes['sEvalCondY'] + sizes['sEvalCondZ'] + sizes['sEvalCondOverhead']\n",
    "\n",
    "\n",
    "print(\"Xc shape:\",Xsc.shape)\n",
    "print(\"Yc shape:\",Ysc.shape)\n",
    "print(\"Zc shape:\",Zsc.shape)"
   ]
  },
  {
   "cell_type": "code",
   "execution_count": 86,
   "metadata": {},
   "outputs": [
    {
     "name": "stdout",
     "output_type": "stream",
     "text": [
      "TIMES\n",
      " --------------------\n",
      "EvalCondZ\n",
      "\ts 0.0961730480194\n",
      "\td 0.115271806717\n",
      "EvalCondY\n",
      "\ts 0.0941860675812\n",
      "\td 0.114634990692\n",
      "EvalCondX\n",
      "\ts 0.0969140529633\n",
      "\td 0.116515159607\n",
      "EvalCondOverhead\n",
      "\ts 0.681484937668\n",
      "Mesh\n",
      "\ts 0.000259876251221\n",
      "\td 1.42018699646\n",
      "Cond\n",
      "\ts 0.0744321346283\n",
      "\td 0.617211818695\n",
      "EvalCond\n",
      "\ts 0.968758106232\n",
      "\td 0.346421957016\n",
      "full time default: 2.7302e+00\n",
      "full time sparse:  1.3307e+00\n",
      "SIZES\n",
      " --------------------\n",
      "EvalCondZ\n",
      "\ts 100400496\n",
      "\td 100400496\n",
      "EvalCondY\n",
      "\ts 100400496\n",
      "\td 100400496\n",
      "EvalCondX\n",
      "\ts 100400496\n",
      "\td 100400496\n",
      "EvalCondOverhead\n",
      "\ts 80\n",
      "Cond\n",
      "\ts 101505734\n",
      "\td 101505734\n",
      "EvalCond\n",
      "\ts 301201568\n",
      "\td 301201488\n",
      "MeshX\n",
      "\ts 936\n",
      "\td 812044976\n",
      "MeshY\n",
      "\ts 8144\n",
      "\td 812044976\n",
      "MeshZ\n",
      "\ts 8152\n",
      "\td 812044976\n"
     ]
    }
   ],
   "source": [
    "print('TIMES\\n',\"-\"*20)\n",
    "timesKeys = times.keys()\n",
    "for i,el in enumerate(timesKeys):\n",
    "    timesKeys[i]=el[1:]\n",
    "timesKeys = list(dict.fromkeys(timesKeys))\n",
    "\n",
    "fullTd = 0.0\n",
    "fullTs= 0.0\n",
    "\n",
    "for el in timesKeys:\n",
    "    print(el)\n",
    "    print(\"\\ts\",times['s'+el])\n",
    "    fullTs+=times['s'+el]\n",
    "    try:\n",
    "        print(\"\\td\",times['d'+el])\n",
    "        fullTd += times['d'+el]\n",
    "    except:\n",
    "        pass\n",
    "\n",
    "print('full time default: %1.4e'%fullTd)\n",
    "print('full time sparse:  %1.4e'%(fullTs-times['sEvalCondOverhead']))\n",
    "\n",
    "\n",
    "print('SIZES\\n',\"-\"*20)\n",
    "sizesKeys = sizes.keys()\n",
    "for i,el in enumerate(sizesKeys):\n",
    "    sizesKeys[i]=el[1:]\n",
    "sizesKeys = list(dict.fromkeys(sizesKeys))\n",
    "\n",
    "for el in sizesKeys:\n",
    "    print(el)\n",
    "    print(\"\\ts\",sizes['s'+el])\n",
    "    try:\n",
    "        print(\"\\td\",sizes['d'+el])\n",
    "    except:\n",
    "        pass"
   ]
  },
  {
   "cell_type": "code",
   "execution_count": null,
   "metadata": {},
   "outputs": [],
   "source": []
  },
  {
   "cell_type": "code",
   "execution_count": null,
   "metadata": {},
   "outputs": [],
   "source": []
  }
 ],
 "metadata": {
  "kernelspec": {
   "display_name": "Python 2",
   "language": "python",
   "name": "python2"
  },
  "language_info": {
   "codemirror_mode": {
    "name": "ipython",
    "version": 2
   },
   "file_extension": ".py",
   "mimetype": "text/x-python",
   "name": "python",
   "nbconvert_exporter": "python",
   "pygments_lexer": "ipython2",
   "version": "2.7.12"
  }
 },
 "nbformat": 4,
 "nbformat_minor": 2
}
