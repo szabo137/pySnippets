{
 "cells": [
  {
   "cell_type": "markdown",
   "metadata": {},
   "source": [
    "Amplitude Test\n",
    "========="
   ]
  },
  {
   "cell_type": "markdown",
   "metadata": {},
   "source": [
    "The goal is to test the amplitude calculated on numpy arrays with the serial evaluation already implemented."
   ]
  },
  {
   "cell_type": "code",
   "execution_count": null,
   "metadata": {},
   "outputs": [],
   "source": [
    "from __future__ import print_function\n",
    "import numpy as np\n",
    "import sftrident as sf\n",
    "from sftrident.amplitude2 import amplitude\n",
    "import time\n",
    "timesNP = {}\n",
    "timesSQ = {}"
   ]
  },
  {
   "cell_type": "code",
   "execution_count": null,
   "metadata": {},
   "outputs": [],
   "source": [
    "\n",
    "def buildArr_lcc(Nss,N1m,N1x,N1y,N2m,N2x,N2y,eps=1e-5):\n",
    "    ss = np.linspace(3.1,4.1,Nss)\n",
    "    p1m = np.linspace(eps,1.5,N1m)\n",
    "    p1x = np.linspace(-2,2,N1x)\n",
    "    p1y = np.linspace(-2,2,N1y)\n",
    "    p2m = np.linspace(eps,1.5,N2m)\n",
    "    p2x = np.linspace(-2,2,N2x)\n",
    "    p2y = np.linspace(-2,2,N2y)\n",
    "    return [ss,p1m,p1x,p1y,p2m,p2x,p2y]\n",
    "\n",
    "\n",
    "def buildArr_lcc_single(eps=1e-5):\n",
    "    ss = np.array([3.1])\n",
    "    p1m = np.array([eps])\n",
    "    p1x = np.array([-2.0])\n",
    "    p1y = np.array([-2.0])\n",
    "    p2m = np.array([eps])\n",
    "    p2x = np.array([-2.0])\n",
    "    p2y = np.array([-2.0])\n",
    "    return [ss,p1m,p1x,p1y,p2m,p2x,p2y]\n",
    "\n",
    "\n",
    "def buildArr_sph(Nss,Ne1,Nc1,Np1,Ne2,Nc2,Np2,eps=1e-5):\n",
    "    ss = np.linspace(3.1,4.1,Nss)\n",
    "    e1 = np.linspace(1.0+eps,5,Ne1)\n",
    "    c1 = np.linspace(-1.0,1.0,Nc1)\n",
    "    p1 = np.linspace(0.0,2.0*np.pi,Np1)\n",
    "    e2 = np.linspace(1.0+eps,5,Ne2)\n",
    "    c2 = np.linspace(-1.0,1.0,Nc2)\n",
    "    p2 = np.linspace(0.0,2.0*np.pi,Np2)\n",
    "    return [ss,e1,c1,p1,e2,c2,p2]\n",
    "\n",
    "mass = 1.0\n",
    "Narr1 = (2,3,2,5,6,7,8)\n",
    "#Narr1 = (2,2,2,2,2,2,2)\n",
    "frame = 'lab'\n",
    "tempDPHI = 50.0\n",
    "\n",
    "arrLCC = buildArr_lcc(*Narr1)\n",
    "#arrSPH = buildArr_sph(*Narr1)\n",
    "#arrLCC = buildArr_lcc_single()\n",
    "\n",
    "configNP = {'a0':1e-4,'coordSys':'lcc','mass':1.0,'xi':0.0,'dPhi':tempDPHI,'psBounds':[-tempDPHI,tempDPHI],'envelope':'cos','pulseOpt':['analytic'],'deg':2500,'wf':True,'system':'lab'}\n",
    "configSQ = {'a0':1e-4,'coordSys':'lightcone','mass':1.0,'xi':0.0,'dPhi':tempDPHI,'psBounds':[-tempDPHI,tempDPHI],'envelope':'cos','pulseOpt':['analytic'],'deg':2500,'wf':True,'system':'lab'}\n",
    "\n",
    "ampObj = amplitude(**configNP)\n",
    "\n",
    "start = time.time()\n",
    "resMesh = ampObj(*arrLCC)\n",
    "#resMesh = ampObj(*arrSPH)\n",
    "timesNP['calc']=time.time() - start"
   ]
  },
  {
   "cell_type": "code",
   "execution_count": null,
   "metadata": {},
   "outputs": [],
   "source": [
    "print(timesNP['calc'])\n",
    "print(timesNP['calc']/ampObj.kin.grid.size)"
   ]
  },
  {
   "cell_type": "code",
   "execution_count": null,
   "metadata": {},
   "outputs": [],
   "source": [
    "import itertools\n",
    "from pathos.multiprocessing import ProcessingPool as Pool\n",
    "\n",
    "\n",
    "ampObjSQ = sf.diffCSFull(configSQ)\n",
    "\n",
    "\n",
    "start = time.time()\n",
    "kinPara = np.array([t for t in itertools.product(arrLCC[0],arrLCC[2],arrLCC[3],arrLCC[1],arrLCC[5],arrLCC[6],arrLCC[4])])\n",
    "#kinPara = np.array([t for t in itertools.product(arrSPH[0],arrSPH[1],arrSPH[2],arrSPH[3],arrSPH[4],arrSPH[5],arrSPH[6])])\n",
    "timesSQ['buildKin'] = time.time() - start\n",
    "pool = Pool(8)\n",
    "start = time.time()\n",
    "resSQ = pool.map(ampObjSQ,kinPara)\n",
    "#resSQ = map(ampObjSQ,kinPara)\n",
    "timesSQ['calc']=time.time() - start\n",
    "pool.close()"
   ]
  },
  {
   "cell_type": "code",
   "execution_count": null,
   "metadata": {
    "scrolled": true
   },
   "outputs": [],
   "source": [
    "print(timesSQ['calc'])\n",
    "print(timesSQ['calc']/ampObj.kin.grid.size*8)"
   ]
  },
  {
   "cell_type": "code",
   "execution_count": null,
   "metadata": {},
   "outputs": [],
   "source": [
    "print(ampObj.kin.grid.size)"
   ]
  },
  {
   "cell_type": "code",
   "execution_count": null,
   "metadata": {},
   "outputs": [],
   "source": [
    "cShape = resMesh.shape\n",
    "ind = 0\n",
    "err = 0\n",
    "for i0 in np.arange(cShape[0]):\n",
    "    for i2 in np.arange(cShape[2]):\n",
    "        for i3 in np.arange(cShape[3]):\n",
    "            for i1 in np.arange(cShape[1]):\n",
    "                for i5 in np.arange(cShape[5]):\n",
    "                    for i6 in np.arange(cShape[6]):\n",
    "                        for i4 in np.arange(cShape[4]):\n",
    "                            \n",
    "                            if not np.isclose(resMesh[i0,i1,i2,i3,i4,i5,i6],resSQ[ind],atol=0.0,rtol=1e-6):\n",
    "                                err+=1\n",
    "                                print('-'*20)\n",
    "                                \n",
    "                                print('NP',resMesh[i0,i1,i2,i3,i4,i5,i6])\n",
    "                                print('SQ',resSQ[ind])\n",
    "                                \n",
    "                                print()\n",
    "                                print('\\tss ')\n",
    "                                print('\\t\\t',arrLCC[0][i0])\n",
    "                                print('\\t\\t',kinPara[ind][0])\n",
    "                            \n",
    "                                print('\\tp2x ')\n",
    "                                print('\\t\\t',arrLCC[2][i2])\n",
    "                                print('\\t\\t',kinPara[ind][1])\n",
    "                            \n",
    "                                print('\\tp2y ')\n",
    "                                print('\\t\\t',arrLCC[3][i3])\n",
    "                                print('\\t\\t',kinPara[ind][2])\n",
    "                            \n",
    "                                print('\\tp2m ')\n",
    "                                print('\\t\\t',arrLCC[1][i1])\n",
    "                                print('\\t\\t',kinPara[ind][3])\n",
    "                            \n",
    "                                print('\\tp3x ')\n",
    "                                print('\\t\\t',arrLCC[5][i5])\n",
    "                                print('\\t\\t',kinPara[ind][4])\n",
    "                            \n",
    "                                print('\\tp3y ')\n",
    "                                print('\\t\\t',arrLCC[6][i6])\n",
    "                                print('\\t\\t',kinPara[ind][5])\n",
    "                            \n",
    "                                print('\\tp3m ')\n",
    "                                print('\\t\\t',arrLCC[4][i4])\n",
    "                                print('\\t\\t',kinPara[ind][6])\n",
    "                            \n",
    "                            ind+=1\n",
    "print(\"Done with %d errors!\"%err)"
   ]
  },
  {
   "cell_type": "code",
   "execution_count": null,
   "metadata": {},
   "outputs": [],
   "source": []
  },
  {
   "cell_type": "code",
   "execution_count": null,
   "metadata": {},
   "outputs": [],
   "source": []
  }
 ],
 "metadata": {
  "kernelspec": {
   "display_name": "Python 2",
   "language": "python",
   "name": "python2"
  },
  "language_info": {
   "codemirror_mode": {
    "name": "ipython",
    "version": 2
   },
   "file_extension": ".py",
   "mimetype": "text/x-python",
   "name": "python",
   "nbconvert_exporter": "python",
   "pygments_lexer": "ipython2",
   "version": "2.7.12"
  }
 },
 "nbformat": 4,
 "nbformat_minor": 2
}
