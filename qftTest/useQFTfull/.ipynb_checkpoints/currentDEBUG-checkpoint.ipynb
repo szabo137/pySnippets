{
 "cells": [
  {
   "cell_type": "code",
   "execution_count": null,
   "metadata": {},
   "outputs": [],
   "source": [
    "import sftrident.qft as qft\n",
    "import numpy as np\n",
    "from sftrident import coordinate\n",
    "import sftrident as sf\n",
    "from sftrident import current2"
   ]
  },
  {
   "cell_type": "code",
   "execution_count": null,
   "metadata": {},
   "outputs": [],
   "source": [
    "def buildArr_lcc(Nss,N1m,N1x,N1y,N2m,N2x,N2y,eps=1e-5):\n",
    "    ss = np.linspace(3.1,4.1,Nss)\n",
    "    p1m = np.linspace(eps,1.5,N1m)\n",
    "    p1x = np.linspace(-2,2,N1x)\n",
    "    p1y = np.linspace(-2,2,N1y)\n",
    "    p2m = np.linspace(eps,1.5,N2m)\n",
    "    p2x = np.linspace(-2,2,N2x)\n",
    "    p2y = np.linspace(-2,2,N2y)\n",
    "    return [ss,p1m,p1x,p1y,p2m,p2x,p2y]\n",
    "\n",
    "mass = 1.0\n",
    "Narr1 = (2,2,2,2,2,2,2)\n",
    "frame = 'lab'\n",
    "\n",
    "arrLCC = buildArr_lcc(*Narr1)\n",
    "kinObj = coordinate.momenta(*arrLCC,mass = mass,frame = frame,coordSys='lcc')\n",
    "\n",
    "spins = [[0,0],[1,1],[0,1],[1,0]]"
   ]
  },
  {
   "cell_type": "code",
   "execution_count": null,
   "metadata": {},
   "outputs": [],
   "source": [
    "J0bw = current2.J0(kinObj.P2,kinObj.P3,kinObj.K,mode='bw') # bw part\n",
    "\n",
    "\n",
    "testCurr = sf.currentClass({'a0':1e-4,'mass':1.0,'xi':0.0})\n",
    "u2bar = [sf.qft.SpinorUBar((kinObj.P2[0],1.0),s) for s in (1,2)]\n",
    "u1 = [sf.qft.SpinorV((kinObj.P3[0],1.0),s) for s in (1,2)]\n",
    "\n",
    "testCurr.setKin(kinObj.K[0],kinObj.P2[0],kinObj.P3[0],u2bar,u1)\n",
    "print(\"===============\")\n",
    "for el in np.arange(4):\n",
    "    test = testCurr.J0[el]\n",
    "    print\"spin: %s -------\"%(spins[el])\n",
    "    for mu in np.arange(4):\n",
    "        print(\"%s: \\t%s\"%(mu,J0bw(mu,*spins[el])[0]))\n",
    "        print(\"\\t%s\"%(test()[mu]))"
   ]
  },
  {
   "cell_type": "code",
   "execution_count": null,
   "metadata": {},
   "outputs": [],
   "source": [
    "J1bw = current2.J1(kinObj.P2,kinObj.P3,kinObj.K,mode='bw') # bw part\n",
    "\n",
    "Nkin = 28\n",
    "\n",
    "testCurr = sf.currentClass({'a0':1e-4,'mass':1.0,'xi':0.0})\n",
    "u2bar = [sf.qft.SpinorUBar((kinObj.P2[Nkin],1.0),s) for s in (1,2)]\n",
    "u1 = [sf.qft.SpinorV((kinObj.P3[Nkin],1.0),s) for s in (1,2)]\n",
    "\n",
    "testCurr.setKin(kinObj.K[Nkin],kinObj.P2[Nkin],kinObj.P3[Nkin],u2bar,u1)\n",
    "print(\"===============\")\n",
    "for el in np.arange(4):\n",
    "    test = testCurr.J1[el]\n",
    "    print\"spin: %s -------\"%(spins[el])\n",
    "    for mu in np.arange(4):\n",
    "        print(\"%s: \\t%s\"%(mu,J1bw(mu,*spins[el])[Nkin]))\n",
    "        print(\"\\t%s\"%(test()[mu]))"
   ]
  },
  {
   "cell_type": "code",
   "execution_count": null,
   "metadata": {},
   "outputs": [],
   "source": [
    "J2bw = current2.J2(kinObj.P2,kinObj.P3,kinObj.K,mode='bw') # bw part\n",
    "\n",
    "Nkin = 28\n",
    "\n",
    "testCurr = sf.currentClass({'a0':1e-4,'mass':1.0,'xi':0.0})\n",
    "u2bar = [sf.qft.SpinorUBar((kinObj.P2[Nkin],1.0),s) for s in (1,2)]\n",
    "u1 = [sf.qft.SpinorV((kinObj.P3[Nkin],1.0),s) for s in (1,2)]\n",
    "\n",
    "testCurr.setKin(kinObj.K[Nkin],kinObj.P2[Nkin],kinObj.P3[Nkin],u2bar,u1)\n",
    "print(\"===============\")\n",
    "for el in np.arange(4):\n",
    "    test = testCurr.J2[el]\n",
    "    print\"spin: %s -------\"%(spins[el])\n",
    "    for mu in np.arange(4):\n",
    "        print(\"%s: \\t%s\"%(mu,J2bw(mu,*spins[el])[Nkin]))\n",
    "        print(\"\\t%s\"%(test()[mu]))"
   ]
  },
  {
   "cell_type": "code",
   "execution_count": null,
   "metadata": {},
   "outputs": [],
   "source": [
    "J0c = current2.J0(kinObj.P1,kinObj.P,kinObj.K,mode='c') # bw part\n",
    "\n",
    "Nkin = 28\n",
    "\n",
    "testCurr = sf.currentClass({'a0':1e-4,'mass':1.0,'xi':0.0})\n",
    "u1bar = [sf.qft.SpinorUBar((kinObj.P1[Nkin],1.0),s) for s in (1,2)]\n",
    "u = [sf.qft.SpinorU((kinObj.P[Nkin],1.0),s) for s in (1,2)]\n",
    "\n",
    "testCurr.setKin(kinObj.K[Nkin],kinObj.P1[Nkin],kinObj.P[Nkin],u1bar,u)\n",
    "print(\"===============\")\n",
    "for el in np.arange(4):\n",
    "    test = testCurr.J0[el]\n",
    "    print\"spin: %s -------\"%(spins[el])\n",
    "    for mu in np.arange(4):\n",
    "        print(\"%s: \\t%s\"%(mu,J0c(mu,*spins[el])[Nkin]))\n",
    "        print(\"\\t%s\"%(test()[mu]))"
   ]
  },
  {
   "cell_type": "code",
   "execution_count": null,
   "metadata": {},
   "outputs": [],
   "source": [
    "J1c = current2.J1(kinObj.P1,kinObj.P,kinObj.K,mode='c') # bw part\n",
    "\n",
    "Nkin = 28\n",
    "\n",
    "testCurr = sf.currentClass({'a0':1e-4,'mass':1.0,'xi':0.0})\n",
    "u1bar = [sf.qft.SpinorUBar((kinObj.P1[Nkin],1.0),s) for s in (1,2)]\n",
    "u = [sf.qft.SpinorU((kinObj.P[Nkin],1.0),s) for s in (1,2)]\n",
    "\n",
    "testCurr.setKin(kinObj.K[Nkin],kinObj.P1[Nkin],-kinObj.P[Nkin],u1bar,u)\n",
    "print(\"===============\")\n",
    "for el in np.arange(4):\n",
    "    test = testCurr.J1[el]\n",
    "    print\"spin: %s -------\"%(spins[el])\n",
    "    for mu in np.arange(4):\n",
    "        print(\"%s: \\t%s\"%(mu,J1c(mu,*spins[el])[Nkin]))\n",
    "        print(\"\\t%s\"%(test()[mu]))"
   ]
  },
  {
   "cell_type": "code",
   "execution_count": null,
   "metadata": {},
   "outputs": [],
   "source": [
    "J2c = current2.J2(kinObj.P1,kinObj.P,kinObj.K,mode='c') # bw part\n",
    "\n",
    "Nkin = 28\n",
    "\n",
    "testCurr = sf.currentClass({'a0':1e-4,'mass':1.0,'xi':0.0})\n",
    "u1bar = [sf.qft.SpinorUBar((kinObj.P1[Nkin],1.0),s) for s in (1,2)]\n",
    "u = [sf.qft.SpinorU((kinObj.P[Nkin],1.0),s) for s in (1,2)]\n",
    "\n",
    "testCurr.setKin(kinObj.K[Nkin],kinObj.P1[Nkin],-kinObj.P[Nkin],u1bar,u)\n",
    "print(\"===============\")\n",
    "for el in np.arange(4):\n",
    "    test = testCurr.J2[el]\n",
    "    print\"spin: %s -------\"%(spins[el])\n",
    "    for mu in np.arange(4):\n",
    "        print(\"%s: \\t%s\"%(mu,J2c(mu,*spins[el])[Nkin]))\n",
    "        print(\"\\t%s\"%(test()[mu]))"
   ]
  },
  {
   "cell_type": "code",
   "execution_count": null,
   "metadata": {},
   "outputs": [],
   "source": []
  }
 ],
 "metadata": {
  "kernelspec": {
   "display_name": "Python 2",
   "language": "python",
   "name": "python2"
  },
  "language_info": {
   "codemirror_mode": {
    "name": "ipython",
    "version": 2
   },
   "file_extension": ".py",
   "mimetype": "text/x-python",
   "name": "python",
   "nbconvert_exporter": "python",
   "pygments_lexer": "ipython2",
   "version": "2.7.12"
  }
 },
 "nbformat": 4,
 "nbformat_minor": 2
}
