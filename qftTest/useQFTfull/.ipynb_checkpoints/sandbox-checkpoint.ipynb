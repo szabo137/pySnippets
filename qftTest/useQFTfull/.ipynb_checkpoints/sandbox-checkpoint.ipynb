{
 "cells": [
  {
<<<<<<< HEAD
   "cell_type": "code",
   "execution_count": 8,
=======
   "cell_type": "markdown",
   "metadata": {},
   "source": [
    "Order of different types of arguments\n",
    "=========="
   ]
  },
  {
   "cell_type": "code",
   "execution_count": 11,
>>>>>>> 1b5f7c3b24e7a1c6479da6ff1dde90bcd9fd04bb
   "metadata": {},
   "outputs": [
    {
     "name": "stdout",
     "output_type": "stream",
     "text": [
<<<<<<< HEAD
      "N = 1000 time float64 and float64 0.0881750583649 \n",
      "N = 1000 time float64 and float32 0.0594789981842 \n",
      "N = 1000 time float32 and float32 0.0310139656067 \n"
     ]
    },
    {
     "name": "stderr",
     "output_type": "stream",
     "text": [
      "/Users/szabo/pyTableTest/venv/lib/python2.7/site-packages/ipykernel_launcher.py:15: DeprecationWarning: Numeric-style type codes are deprecated and will result in an error in the future.\n",
      "  from ipykernel import kernelapp as app\n",
      "/Users/szabo/pyTableTest/venv/lib/python2.7/site-packages/ipykernel_launcher.py:20: DeprecationWarning: Numeric-style type codes are deprecated and will result in an error in the future.\n",
      "/Users/szabo/pyTableTest/venv/lib/python2.7/site-packages/ipykernel_launcher.py:21: DeprecationWarning: Numeric-style type codes are deprecated and will result in an error in the future.\n"
     ]
    },
    {
     "name": "stdout",
     "output_type": "stream",
     "text": [
      "N = 3000 time float64 and float64 1.37712097168 \n"
     ]
    },
    {
     "name": "stderr",
     "output_type": "stream",
     "text": [
      "/Users/szabo/pyTableTest/venv/lib/python2.7/site-packages/ipykernel_launcher.py:37: DeprecationWarning: Numeric-style type codes are deprecated and will result in an error in the future.\n"
     ]
    },
=======
      "1.0\n",
      "1.0\n",
      "40.0\n"
     ]
    }
   ],
   "source": [
    "from __future__ import print_function\n",
    "\n",
    "\n",
    "def func(*x,**kwargs):\n",
    "    options = {'m':1.0,'n':1.0}\n",
    "    options.update(kwargs)\n",
    "    m=options['m']\n",
    "    n=options['n']\n",
    "    \n",
    "    print(m)\n",
    "    print(n)\n",
    "    return m*sum([el for el in x])**n\n",
    "\n",
    "print(func(1,2,3,4,6,7,8,9))"
   ]
  },
  {
   "cell_type": "code",
   "execution_count": 1,
   "metadata": {},
   "outputs": [],
   "source": [
    "a = [[[1,2],[3,4],[5,6]],[[7,8],[9,10],[11,12]]]"
   ]
  },
  {
   "cell_type": "code",
   "execution_count": 2,
   "metadata": {},
   "outputs": [],
   "source": [
    "b = [item for sublist in a for item in sublist]"
   ]
  },
  {
   "cell_type": "code",
   "execution_count": 3,
   "metadata": {},
   "outputs": [
>>>>>>> 1b5f7c3b24e7a1c6479da6ff1dde90bcd9fd04bb
    {
     "name": "stdout",
     "output_type": "stream",
     "text": [
<<<<<<< HEAD
      "N = 3000 time float64 and float32 1.66704201698 \n"
     ]
    },
    {
     "name": "stderr",
     "output_type": "stream",
     "text": [
      "/Users/szabo/pyTableTest/venv/lib/python2.7/site-packages/ipykernel_launcher.py:42: DeprecationWarning: Numeric-style type codes are deprecated and will result in an error in the future.\n",
      "/Users/szabo/pyTableTest/venv/lib/python2.7/site-packages/ipykernel_launcher.py:43: DeprecationWarning: Numeric-style type codes are deprecated and will result in an error in the future.\n"
     ]
    },
    {
     "name": "stdout",
     "output_type": "stream",
     "text": [
      "N = 3000 time float32 and float32 1.0978410244 \n"
=======
      "('a', [[[1, 2], [3, 4], [5, 6]], [[7, 8], [9, 10], [11, 12]]])\n",
      "('b', [[1, 2], [3, 4], [5, 6], [7, 8], [9, 10], [11, 12]])\n"
     ]
    }
   ],
   "source": [
    "print('a',a)\n",
    "print('b',b)"
   ]
  },
  {
   "cell_type": "code",
   "execution_count": 5,
   "metadata": {},
   "outputs": [
    {
     "ename": "NameError",
     "evalue": "name 'i' is not defined",
     "output_type": "error",
     "traceback": [
      "\u001b[0;31m---------------------------------------------------------------------------\u001b[0m",
      "\u001b[0;31mNameError\u001b[0m                                 Traceback (most recent call last)",
      "\u001b[0;32m<ipython-input-5-1a62c9bf85b0>\u001b[0m in \u001b[0;36m<module>\u001b[0;34m()\u001b[0m\n\u001b[0;32m----> 1\u001b[0;31m \u001b[0mc\u001b[0m\u001b[0;34m=\u001b[0m\u001b[0;34m[\u001b[0m\u001b[0mel\u001b[0m \u001b[0;32mfor\u001b[0m \u001b[0mel\u001b[0m \u001b[0;32min\u001b[0m \u001b[0ma\u001b[0m\u001b[0;34m[\u001b[0m\u001b[0mi\u001b[0m\u001b[0;34m]\u001b[0m\u001b[0;32mfor\u001b[0m \u001b[0mi\u001b[0m \u001b[0;32min\u001b[0m \u001b[0mrange\u001b[0m\u001b[0;34m(\u001b[0m\u001b[0;36m3\u001b[0m\u001b[0;34m)\u001b[0m \u001b[0;34m]\u001b[0m\u001b[0;34m\u001b[0m\u001b[0m\n\u001b[0m",
      "\u001b[0;31mNameError\u001b[0m: name 'i' is not defined"
>>>>>>> 1b5f7c3b24e7a1c6479da6ff1dde90bcd9fd04bb
     ]
    }
   ],
   "source": [
<<<<<<< HEAD
    "from __future__ import print_function\n",
    "import time\n",
    "import numpy as np\n",
    "\n",
    "\n",
    "N = 1000\n",
    "X = np.random.rand(N,N)\n",
    "Y = np.random.rand(N,N)\n",
    "\n",
    "t = time.time()\n",
    "aux = np.dot(X,Y)\n",
    "elapsed_time = time.time() - t\n",
    "print(\"N = 1000 time float64 and float64 {} \".format(elapsed_time))\n",
    "X = np.random.rand(N,N)\n",
    "Y = np.array(np.random.rand(N,N), dtype=\"Float32\")\n",
    "t = time.time()\n",
    "aux2 = np.dot(X,Y)\n",
    "elapsed_time = time.time() - t\n",
    "print(\"N = 1000 time float64 and float32 {} \".format(elapsed_time))\n",
    "X = np.array(np.random.rand(N,N), dtype=\"Float32\")\n",
    "Y = np.array(np.random.rand(N,N), dtype=\"Float32\")\n",
    "t = time.time()\n",
    "aux2 = np.dot(X,Y)\n",
    "elapsed_time = time.time() - t\n",
    "print(\"N = 1000 time float32 and float32 {} \".format(elapsed_time))\n",
    "\n",
    "\n",
    "N = 3000\n",
    "X = np.random.rand(N,N)\n",
    "Y = np.random.rand(N,N)\n",
    "\n",
    "t = time.time()\n",
    "aux = np.dot(X,Y)\n",
    "elapsed_time = time.time() - t\n",
    "print(\"N = 3000 time float64 and float64 {} \".format(elapsed_time))\n",
    "X1 = np.random.rand(N,N)\n",
    "Y1 = np.array(np.random.rand(N,N), dtype=\"Float32\")\n",
    "t = time.time()\n",
    "aux2 = np.dot(X1,Y1)\n",
    "elapsed_time = time.time() - t\n",
    "print(\"N = 3000 time float64 and float32 {} \".format(elapsed_time))\n",
    "X2 = np.array(np.random.rand(N,N), dtype=\"Float32\")\n",
    "Y2 = np.array(np.random.rand(N,N), dtype=\"Float32\")\n",
    "t = time.time()\n",
    "aux3 = np.dot(X2,Y2)\n",
    "elapsed_time = time.time() - t\n",
    "print(\"N = 3000 time float32 and float32 {} \".format(elapsed_time))\n",
    "\n",
    "test = np.abs(aux2-aux3)/(np.abs(aux2+aux3))\n",
    "\n"
=======
    "c=[el for el in a[i] for i in range(3) ]"
>>>>>>> 1b5f7c3b24e7a1c6479da6ff1dde90bcd9fd04bb
   ]
  },
  {
   "cell_type": "code",
   "execution_count": null,
   "metadata": {},
   "outputs": [],
   "source": []
  }
 ],
 "metadata": {
  "kernelspec": {
   "display_name": "Python 2",
   "language": "python",
   "name": "python2"
  },
  "language_info": {
   "codemirror_mode": {
    "name": "ipython",
    "version": 2
   },
   "file_extension": ".py",
   "mimetype": "text/x-python",
   "name": "python",
   "nbconvert_exporter": "python",
   "pygments_lexer": "ipython2",
<<<<<<< HEAD
   "version": "2.7.10"
=======
   "version": "2.7.15rc1"
>>>>>>> 1b5f7c3b24e7a1c6479da6ff1dde90bcd9fd04bb
  }
 },
 "nbformat": 4,
 "nbformat_minor": 2
}
