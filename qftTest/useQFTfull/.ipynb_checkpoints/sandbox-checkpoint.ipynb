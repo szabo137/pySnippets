{
 "cells": [
  {
   "cell_type": "code",
   "execution_count": 8,
   "metadata": {},
   "outputs": [
    {
     "name": "stdout",
     "output_type": "stream",
     "text": [
      "N = 1000 time float64 and float64 0.0881750583649 \n",
      "N = 1000 time float64 and float32 0.0594789981842 \n",
      "N = 1000 time float32 and float32 0.0310139656067 \n"
     ]
    },
    {
     "name": "stderr",
     "output_type": "stream",
     "text": [
      "/Users/szabo/pyTableTest/venv/lib/python2.7/site-packages/ipykernel_launcher.py:15: DeprecationWarning: Numeric-style type codes are deprecated and will result in an error in the future.\n",
      "  from ipykernel import kernelapp as app\n",
      "/Users/szabo/pyTableTest/venv/lib/python2.7/site-packages/ipykernel_launcher.py:20: DeprecationWarning: Numeric-style type codes are deprecated and will result in an error in the future.\n",
      "/Users/szabo/pyTableTest/venv/lib/python2.7/site-packages/ipykernel_launcher.py:21: DeprecationWarning: Numeric-style type codes are deprecated and will result in an error in the future.\n"
     ]
    },
    {
     "name": "stdout",
     "output_type": "stream",
     "text": [
      "N = 3000 time float64 and float64 1.37712097168 \n"
     ]
    },
    {
     "name": "stderr",
     "output_type": "stream",
     "text": [
      "/Users/szabo/pyTableTest/venv/lib/python2.7/site-packages/ipykernel_launcher.py:37: DeprecationWarning: Numeric-style type codes are deprecated and will result in an error in the future.\n"
     ]
    },
    {
     "name": "stdout",
     "output_type": "stream",
     "text": [
      "N = 3000 time float64 and float32 1.66704201698 \n"
     ]
    },
    {
     "name": "stderr",
     "output_type": "stream",
     "text": [
      "/Users/szabo/pyTableTest/venv/lib/python2.7/site-packages/ipykernel_launcher.py:42: DeprecationWarning: Numeric-style type codes are deprecated and will result in an error in the future.\n",
      "/Users/szabo/pyTableTest/venv/lib/python2.7/site-packages/ipykernel_launcher.py:43: DeprecationWarning: Numeric-style type codes are deprecated and will result in an error in the future.\n"
     ]
    },
    {
     "name": "stdout",
     "output_type": "stream",
     "text": [
      "N = 3000 time float32 and float32 1.0978410244 \n"
     ]
    }
   ],
   "source": [
    "from __future__ import print_function\n",
    "import time\n",
    "import numpy as np\n",
    "\n",
    "\n",
    "N = 1000\n",
    "X = np.random.rand(N,N)\n",
    "Y = np.random.rand(N,N)\n",
    "\n",
    "t = time.time()\n",
    "aux = np.dot(X,Y)\n",
    "elapsed_time = time.time() - t\n",
    "print(\"N = 1000 time float64 and float64 {} \".format(elapsed_time))\n",
    "X = np.random.rand(N,N)\n",
    "Y = np.array(np.random.rand(N,N), dtype=\"Float32\")\n",
    "t = time.time()\n",
    "aux2 = np.dot(X,Y)\n",
    "elapsed_time = time.time() - t\n",
    "print(\"N = 1000 time float64 and float32 {} \".format(elapsed_time))\n",
    "X = np.array(np.random.rand(N,N), dtype=\"Float32\")\n",
    "Y = np.array(np.random.rand(N,N), dtype=\"Float32\")\n",
    "t = time.time()\n",
    "aux2 = np.dot(X,Y)\n",
    "elapsed_time = time.time() - t\n",
    "print(\"N = 1000 time float32 and float32 {} \".format(elapsed_time))\n",
    "\n",
    "\n",
    "N = 3000\n",
    "X = np.random.rand(N,N)\n",
    "Y = np.random.rand(N,N)\n",
    "\n",
    "t = time.time()\n",
    "aux = np.dot(X,Y)\n",
    "elapsed_time = time.time() - t\n",
    "print(\"N = 3000 time float64 and float64 {} \".format(elapsed_time))\n",
    "X1 = np.random.rand(N,N)\n",
    "Y1 = np.array(np.random.rand(N,N), dtype=\"Float32\")\n",
    "t = time.time()\n",
    "aux2 = np.dot(X1,Y1)\n",
    "elapsed_time = time.time() - t\n",
    "print(\"N = 3000 time float64 and float32 {} \".format(elapsed_time))\n",
    "X2 = np.array(np.random.rand(N,N), dtype=\"Float32\")\n",
    "Y2 = np.array(np.random.rand(N,N), dtype=\"Float32\")\n",
    "t = time.time()\n",
    "aux3 = np.dot(X2,Y2)\n",
    "elapsed_time = time.time() - t\n",
    "print(\"N = 3000 time float32 and float32 {} \".format(elapsed_time))\n",
    "\n",
    "test = np.abs(aux2-aux3)/(np.abs(aux2+aux3))\n",
    "\n"
   ]
  },
  {
   "cell_type": "code",
   "execution_count": null,
   "metadata": {},
   "outputs": [],
   "source": []
  }
 ],
 "metadata": {
  "kernelspec": {
   "display_name": "Python 2",
   "language": "python",
   "name": "python2"
  },
  "language_info": {
   "codemirror_mode": {
    "name": "ipython",
    "version": 2
   },
   "file_extension": ".py",
   "mimetype": "text/x-python",
   "name": "python",
   "nbconvert_exporter": "python",
   "pygments_lexer": "ipython2",
   "version": "2.7.10"
  }
 },
 "nbformat": 4,
 "nbformat_minor": 2
}
