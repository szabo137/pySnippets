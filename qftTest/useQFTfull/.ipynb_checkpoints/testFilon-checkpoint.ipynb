{
 "cells": [
  {
   "cell_type": "markdown",
   "metadata": {},
   "source": [
    "Filon integration\n",
    "======="
   ]
  },
  {
   "cell_type": "code",
   "execution_count": null,
   "metadata": {},
   "outputs": [],
   "source": [
    "import numpy as np\n",
    "from scipy.special import sici\n",
    "import filon\n",
    "import matplotlib.pyplot as plt\n",
    "import time\n",
    "times={}"
   ]
  },
  {
   "cell_type": "code",
   "execution_count": null,
   "metadata": {},
   "outputs": [],
   "source": [
    "def testFunc(x,r,a):\n",
    "    return np.log(a*x)*np.cos(x*r)"
   ]
  },
  {
   "cell_type": "code",
   "execution_count": null,
   "metadata": {},
   "outputs": [],
   "source": [
    "plotting = False\n",
    "args = np.linspace(1,2.0*np.pi,3000)\n",
    "if plotting:\n",
    "    for el in np.arange(10,200,10):\n",
    "        fig = plt.figure(figsize=(13,10))\n",
    "        for el2 in [4,5,6,7,8]:\n",
    "            vals = testFunc(args,el,el2)\n",
    "            plt.plot(args,vals,label=\"%s\"%el2)\n",
    "        plt.title(\"$r = %s$\"%el)\n",
    "        plt.show()\n"
   ]
  },
  {
   "cell_type": "markdown",
   "metadata": {},
   "source": [
    "Single evaluation\n",
    "=========="
   ]
  },
  {
   "cell_type": "markdown",
   "metadata": {},
   "source": [
    "Exact solution\n",
    "---------"
   ]
  },
  {
   "cell_type": "code",
   "execution_count": null,
   "metadata": {},
   "outputs": [],
   "source": [
    "def exactINDEF(r,a,x):\n",
    "    return (np.log(a*x)*np.sin(r*x) - sici(r*x)[0])/r\n",
    "\n",
    "def exact(r,a,low,up):\n",
    "    return exactINDEF(r,a,up) - exactINDEF(r,a,low)\n",
    "\n",
    "start = time.time()\n",
    "resE = exact(np.arange(10,200,10),10,1,2.0*np.pi)\n",
    "end = time.time() - start\n",
    "times['exact'] = end"
   ]
  },
  {
   "cell_type": "markdown",
   "metadata": {},
   "source": [
    "Solution with Filon\n",
    "---------"
   ]
  },
  {
   "cell_type": "code",
   "execution_count": null,
   "metadata": {},
   "outputs": [],
   "source": [
    "def integrand(a,x):\n",
    "    return np.log(a*x)\n",
    "\n",
    "def filonInt(r,a,low,up,n=125):\n",
    "    tempArgs,steps = np.linspace(low,up,n,retstep=True,endpoint=True)\n",
    "    intArr = integrand(a,tempArgs)\n",
    "    #print intArr.shape\n",
    "    res = filon.cos_integral(intArr,steps,r,low)\n",
    "    return res\n",
    "start = time.time()\n",
    "resF = filonInt(np.arange(10,200,10),10,1,2.0*np.pi,125)\n",
    "end = time.time() - start\n",
    "times['filon']=end"
   ]
  },
  {
   "cell_type": "code",
   "execution_count": null,
   "metadata": {},
   "outputs": [],
   "source": [
    "print \"=\"*30 + \" test against the exact solution\" + \"=\"*30\n",
    "for i,el in enumerate(resF):\n",
    "    print \"%1.4e \\t%1.4e \\t| %1.4e \\t%1.4e\"%(el,resE[i],resE[i] - el,np.abs((resE[i] - el)/(resE[i] + el)))\n",
    "print \"-\"*80\n",
    "print \"=\"*30 + \" time against the exact solution\" + \"=\"*30\n",
    "calls = len(resF)\n",
    "print \"full time (%d calls):  %1.4e | %1.4e\"%(calls,times['filon'],times['exact'])\n",
    "print \"time per call:         %1.4e | %1.4e\"%(times['filon']/calls,times['exact']/calls)"
   ]
  },
  {
   "cell_type": "markdown",
   "metadata": {},
   "source": [
    "Array evaluation\n",
    "==========="
   ]
  },
  {
   "cell_type": "markdown",
   "metadata": {},
   "source": [
    "Exact solution\n",
    "---------"
   ]
  },
  {
   "cell_type": "code",
   "execution_count": null,
   "metadata": {},
   "outputs": [],
   "source": [
    "rArr = np.arange(10,200,1)\n",
    "aArr = np.arange(101) + np.ones(101)\n",
    "rGrid = rArr[:,np.newaxis]\n",
    "aGrid = aArr[np.newaxis,:]\n",
    "start = time.time()\n",
    "resEall = exact(rGrid,aGrid,1,2.0*np.pi)\n",
    "end = time.time() - start\n",
    "times['exactAll'] = end"
   ]
  },
  {
   "cell_type": "markdown",
   "metadata": {},
   "source": [
    "Solution with Filon\n",
    "---------"
   ]
  },
  {
   "cell_type": "code",
   "execution_count": null,
   "metadata": {},
   "outputs": [],
   "source": [
    "def filonIntAll(r,a,low,up,n=1001): \n",
    "    aGrid = a[np.newaxis,:]\n",
    "    args,steps = np.linspace(low,up,n,retstep=True,endpoint=True)\n",
    "    argsGrid = args[:,np.newaxis]\n",
    "    intArr = integrand(aGrid,argsGrid)\n",
    "    print intArr.shape\n",
    "    res = filon.cos_integral(intArr,steps,r,low,axis=0)\n",
    "    #print a.shape\n",
    "    return res\n",
    "\n",
    "rArr = np.arange(10,200,1)\n",
    "aArr = np.arange(101) + np.ones(101)\n",
    "print rArr\n",
    "start = time.time()\n",
    "resFall = filonIntAll(rArr,aArr,1,2.0*np.pi)\n",
    "end = time.time() - start\n",
    "times['filonAll'] = end"
   ]
  },
  {
   "cell_type": "markdown",
   "metadata": {},
   "source": [
    "Compare Filon with exact\n",
    "-------"
   ]
  },
  {
   "cell_type": "code",
   "execution_count": null,
   "metadata": {},
   "outputs": [],
   "source": [
    "ind = 0\n",
    "for ir,rel in enumerate(rArr):\n",
    "    for ia,ael in enumerate(aArr):\n",
    "        print \"%d:\\t %1.4e\\t%1.4e\\t| %1.4e \\t%1.4e \\t| %1.4e \\t%1.4e\"%(ind,rel,ael,resFall[ir][ia],resEall[ir][ia],resFall[ir][ia]-resEall[ir][ia],np.abs((resFall[ir][ia]-resEall[ir][ia])/(resFall[ir][ia]+resEall[ir][ia])))\n",
    "        ind+=1\n",
    "calls = len(rArr) * len(aArr)\n",
    "print \"full time (%d calls):  \\t%1.4e | %1.4e\"%(calls,times['filonAll'],times['exactAll'])\n",
    "print \"time per call:         \\t\\t%1.4e | %1.4e\"%(times['filonAll']/calls,times['exactAll']/calls)"
   ]
  },
  {
   "cell_type": "code",
   "execution_count": null,
   "metadata": {},
   "outputs": [],
   "source": [
    "relErr = np.abs((resFall-resEall)/(resFall+resEall))\n",
    "i,j = np.unravel_index(relErr.argmax(), relErr.shape)\n",
    "print \"max. relErr: (%1.4e,%1.4e) %1.4e\"%(rArr[i],aArr[j],relErr[i,j])"
   ]
  },
  {
   "cell_type": "code",
   "execution_count": null,
   "metadata": {},
   "outputs": [],
   "source": []
  }
 ],
 "metadata": {
  "kernelspec": {
   "display_name": "Python 2",
   "language": "python",
   "name": "python2"
  },
  "language_info": {
   "codemirror_mode": {
    "name": "ipython",
    "version": 2
   },
   "file_extension": ".py",
   "mimetype": "text/x-python",
   "name": "python",
   "nbconvert_exporter": "python",
   "pygments_lexer": "ipython2",
   "version": "2.7.10"
  }
 },
 "nbformat": 4,
 "nbformat_minor": 2
}
