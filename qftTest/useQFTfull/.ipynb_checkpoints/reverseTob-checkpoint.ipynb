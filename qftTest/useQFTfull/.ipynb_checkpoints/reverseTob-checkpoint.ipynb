{
 "cells": [
  {
   "cell_type": "markdown",
   "metadata": {},
   "source": [
    "Notebook to investigate the QFT library\n",
    "==============\n",
    "here we do the reverse engeneering the tobias programm"
   ]
  },
  {
   "cell_type": "code",
   "execution_count": 43,
   "metadata": {},
   "outputs": [],
   "source": [
    "import sftrident.qft as qft\n",
    "import numpy as np\n",
    "import Konstanten as con\n",
    "import Grid_cms as grid"
   ]
  },
  {
   "cell_type": "code",
   "execution_count": 49,
   "metadata": {},
   "outputs": [
    {
     "name": "stdout",
     "output_type": "stream",
     "text": [
      "yz: [[-1.69294849]]\n",
      "yz.shape: (1, 1)\n",
      "pT: [[0.        ]\n",
      " [0.34479341]\n",
      " [0.68958682]\n",
      " [1.03438022]\n",
      " [1.37917363]]\n",
      "pT.shape: (5, 1)\n"
     ]
    }
   ],
   "source": [
    "\n",
    "def eps_laser(l):\n",
    "    return (l==1)*qft.MinkowskiVector( [0,1,0,0] ) + (l==2)*qft.MinkowskiVector( [0,0,1,0] )\n",
    "\n",
    "def eps_photon(l):\n",
    "    return (l==1)*qft.MinkowskiVector([0,np.cos(theta_ph)*np.cos(phi_ph),np.cos(theta_ph)*np.sin(phi_ph),-np.sin(theta_ph)])\\\n",
    "           +(l==2)*MinkowskiVector( [0,-np.sin(phi_ph),np.cos(phi_ph),0])\n",
    "\n",
    "\n",
    "w_laser     = 0.75/con.m\n",
    "w_photon    = w_laser\n",
    "w_cms       = w_laser\n",
    "w           = w_laser\n",
    "sqrt_s      = 2.*w_laser\n",
    "\n",
    "pplusp = w_laser\n",
    "\n",
    "a0            = 1.0\n",
    "sigma         = 25 #pulse length\n",
    "w_laser_l     = 1.e0\n",
    "w_photon_l    = 4.e0\n",
    "ksi           = con.pi/4.\n",
    "\n",
    "Genau_theta   = 5\n",
    "Genau_gamma   = 5\n",
    "\n",
    "Harmonic_max  = 1\n",
    "\n",
    "\n",
    "Envelope      = 'cos^2'\n",
    "\n",
    "m_eff         = con.m*np.sqrt(1+0.5*a0**2)\n",
    "\n",
    "\n",
    "theta_ph      = 0.\n",
    "phi_ph        = 0.\n",
    "phi_pos       = 0.\n",
    "\n",
    "\n",
    "Abstand   = 2.0\n",
    "\n",
    "y0_min  = lambda l: np.log ( w_cms/con.m - np.sqrt( w_cms**2/con.m**2 - 1./l ) )\n",
    "y1_max  = lambda l: np.log ( w_cms/con.m + np.sqrt( w_cms**2/con.m**2 - 1./l ) )\n",
    "\n",
    "y_zOLD    = qft.parray(np.linspace(y0_min(Harmonic_max + Abstand),y1_max(Harmonic_max + Abstand),Genau_theta),axis=1)[np.newaxis,:]\n",
    "y_z = qft.parray(np.array([y_zOLD[0,1]]))[np.newaxis,:]\n",
    "#y_z = qft.parray(np.log(pplusp/m_perp))\n",
    "\n",
    "print \"yz: %s\"%(y_z)\n",
    "print \"yz.shape: %s\"%(str(y_z.shape))\n",
    "\n",
    "#p_perp=qft.parray(1.0)\n",
    "\n",
    "#m_perp  = sqrt(1 + p_perp**2)\n",
    "p_perp  = qft.parray(grid.Grid_rap(y_z[0,:], w_cms, 0 , Harmonic_max + Abstand , Genau_gamma , a0)) #p_T\n",
    "m_perp  = np.sqrt(1 + p_perp**2)\n",
    "print \"pT: %s\"%(p_perp)\n",
    "print \"pT.shape: %s\"%(str(p_perp.shape))\n",
    "\n",
    "\n"
   ]
  },
  {
   "cell_type": "code",
   "execution_count": 52,
   "metadata": {},
   "outputs": [
    {
     "name": "stdout",
     "output_type": "stream",
     "text": [
      "k(laser): [ 1.46771037  0.          0.         -1.46771037]\n",
      "norm vec n (photon): [1. 0. 0. 1.]\n",
      "k (photon): [1.46771037 0.         0.         1.46771037]\n",
      "mom Positron: [[[ 2.80972991]\n",
      "  [ 2.97205481]\n",
      "  [ 3.41301812]\n",
      "  [ 4.04244119]\n",
      "  [ 4.78654616]]\n",
      "\n",
      " [[ 0.        ]\n",
      "  [ 0.34479341]\n",
      "  [ 0.68958682]\n",
      "  [ 1.03438022]\n",
      "  [ 1.37917363]]\n",
      "\n",
      " [[ 0.        ]\n",
      "  [ 0.        ]\n",
      "  [ 0.        ]\n",
      "  [ 0.        ]\n",
      "  [ 0.        ]]\n",
      "\n",
      " [[-2.62575364]\n",
      "  [-2.77744978]\n",
      "  [-3.18953957]\n",
      "  [-3.77774911]\n",
      "  [-4.47313136]]]\n"
     ]
    },
    {
     "ename": "NameError",
     "evalue": "name 'mom' is not defined",
     "output_type": "error",
     "traceback": [
      "\u001b[0;31m---------------------------------------------------------------------------\u001b[0m",
      "\u001b[0;31mNameError\u001b[0m                                 Traceback (most recent call last)",
      "\u001b[0;32m<ipython-input-52-3a72f52292aa>\u001b[0m in \u001b[0;36m<module>\u001b[0;34m()\u001b[0m\n\u001b[1;32m     10\u001b[0m                             m_perp*np.sinh(y_z)] )\n\u001b[1;32m     11\u001b[0m \u001b[0;32mprint\u001b[0m \u001b[0;34m\"mom Positron: %s\"\u001b[0m\u001b[0;34m%\u001b[0m\u001b[0mnp\u001b[0m\u001b[0;34m.\u001b[0m\u001b[0masarray\u001b[0m\u001b[0;34m(\u001b[0m\u001b[0mp_pos\u001b[0m\u001b[0;34m)\u001b[0m\u001b[0;34m\u001b[0m\u001b[0m\n\u001b[0;32m---> 12\u001b[0;31m \u001b[0;32mprint\u001b[0m \u001b[0mmom\u001b[0m\u001b[0;34m.\u001b[0m\u001b[0mshape\u001b[0m\u001b[0;34m\u001b[0m\u001b[0m\n\u001b[0m\u001b[1;32m     13\u001b[0m \u001b[0;32mprint\u001b[0m \u001b[0;34m\"mom0 Positron: %s\"\u001b[0m\u001b[0;34m%\u001b[0m\u001b[0mnp\u001b[0m\u001b[0;34m.\u001b[0m\u001b[0masarray\u001b[0m\u001b[0;34m(\u001b[0m\u001b[0mm_perp\u001b[0m\u001b[0;34m*\u001b[0m\u001b[0mnp\u001b[0m\u001b[0;34m.\u001b[0m\u001b[0mcosh\u001b[0m\u001b[0;34m(\u001b[0m\u001b[0my_z\u001b[0m\u001b[0;34m)\u001b[0m\u001b[0;34m)\u001b[0m\u001b[0;34m\u001b[0m\u001b[0m\n\u001b[1;32m     14\u001b[0m \u001b[0;34m\u001b[0m\u001b[0m\n",
      "\u001b[0;31mNameError\u001b[0m: name 'mom' is not defined"
     ]
    }
   ],
   "source": [
    "k_laser = qft.MinkowskiVector([w_laser,0,0,-w_laser])\n",
    "print \"k(laser): %s\"%np.asarray(k_laser)\n",
    "n1 = qft.MinkowskiVector([1, np.sin(theta_ph)*np.cos(phi_ph), np.sin(theta_ph)*np.sin(phi_ph), np.cos(theta_ph)])\n",
    "print \"norm vec n (photon): %s\"%np.asarray(n1)\n",
    "k_photon = w_photon*n1\n",
    "print \"k (photon): %s\"%np.asarray(k_photon)\n",
    "p_pos = qft.MinkowskiVector([ m_perp*np.cosh(y_z),\n",
    "                            p_perp*np.cos(phi_pos),\n",
    "                            p_perp*np.sin(phi_pos),\n",
    "                            m_perp*np.sinh(y_z)] )\n",
    "print \"mom Positron: %s\"%np.asarray(p_pos)\n",
    "print \"mom0 Positron: %s\"%np.asarray(m_perp*np.cosh(y_z))\n",
    "\n",
    "q_pos = p_pos + (con.m**2*a0**2)/(4.*(k_laser*p_pos))*k_laser # eff Mom Pos\n",
    "\n",
    "\n",
    "p_el_plus = k_photon.plus_component() - p_pos.plus_component()\n",
    "p_el_1= k_photon._1() - p_pos._1()\n",
    "p_el_2 = k_photon._2()                 -     p_pos._2()\n",
    "\n",
    "p_el_minus = (con.m**2+p_el_1**2+p_el_2**2)/p_el_plus\n",
    "\n",
    "p_el_0     = 0.5*(p_el_plus + p_el_minus)\n",
    "p_el_3     = 0.5*(p_el_plus - p_el_minus)\n",
    "p_el       = qft.MinkowskiVector([ p_el_0, p_el_1 ,p_el_2, p_el_3 ])\n",
    "#print \"mom Electron: %s\"%np.asarray(p_el)\n",
    "\n",
    "eps_m      = eps_laser(1)*np.cos(ksi)-1j*eps_laser(2)*np.sin(ksi)\n",
    "eps_p      = eps_laser(1)*np.cos(ksi)+1j*eps_laser(2)*np.sin(ksi)"
   ]
  },
  {
   "cell_type": "code",
   "execution_count": 51,
   "metadata": {},
   "outputs": [
    {
     "ename": "NameError",
     "evalue": "name 'mom' is not defined",
     "output_type": "error",
     "traceback": [
      "\u001b[0;31m---------------------------------------------------------------------------\u001b[0m",
      "\u001b[0;31mNameError\u001b[0m                                 Traceback (most recent call last)",
      "\u001b[0;32m<ipython-input-51-f0817664c95c>\u001b[0m in \u001b[0;36m<module>\u001b[0;34m()\u001b[0m\n\u001b[0;32m----> 1\u001b[0;31m \u001b[0mspin1\u001b[0m \u001b[0;34m=\u001b[0m \u001b[0mqft\u001b[0m\u001b[0;34m.\u001b[0m\u001b[0mSpinorU\u001b[0m\u001b[0;34m(\u001b[0m\u001b[0;34m(\u001b[0m\u001b[0mmom\u001b[0m\u001b[0;34m,\u001b[0m\u001b[0;36m1.0\u001b[0m\u001b[0;34m)\u001b[0m\u001b[0;34m,\u001b[0m\u001b[0;36m1\u001b[0m\u001b[0;34m)\u001b[0m\u001b[0;34m\u001b[0m\u001b[0m\n\u001b[0m",
      "\u001b[0;31mNameError\u001b[0m: name 'mom' is not defined"
     ]
    }
   ],
   "source": []
  },
  {
   "cell_type": "code",
   "execution_count": null,
   "metadata": {},
   "outputs": [],
   "source": []
  }
 ],
 "metadata": {
  "kernelspec": {
   "display_name": "Python 2",
   "language": "python",
   "name": "python2"
  },
  "language_info": {
   "codemirror_mode": {
    "name": "ipython",
    "version": 2
   },
   "file_extension": ".py",
   "mimetype": "text/x-python",
   "name": "python",
   "nbconvert_exporter": "python",
   "pygments_lexer": "ipython2",
   "version": "2.7.10"
  }
 },
 "nbformat": 4,
 "nbformat_minor": 2
}
