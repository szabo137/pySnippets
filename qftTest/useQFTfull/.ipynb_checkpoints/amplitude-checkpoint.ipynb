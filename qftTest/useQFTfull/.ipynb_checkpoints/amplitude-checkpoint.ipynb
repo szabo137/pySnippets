{
 "cells": [
  {
   "cell_type": "markdown",
   "metadata": {},
   "source": [
    "Amplitude\n",
    "=======\n",
    "We calculate the amplitude from the matrix element for a given set of kinematic arrays and collect the result in a mesh grid."
   ]
  },
  {
   "cell_type": "code",
   "execution_count": null,
   "metadata": {},
   "outputs": [],
   "source": [
    "from __future__ import print_function\n",
    "import sftrident as sf\n",
    "import sftrident.coordinate as corr\n",
    "from sftrident.matrixElement2 import matrixElementWF\n",
    "import numpy as np\n",
    "import time\n",
    "times = {}"
   ]
  },
  {
   "cell_type": "markdown",
   "metadata": {},
   "source": [
    "The amplitude class\n",
    "-------"
   ]
  },
  {
   "cell_type": "code",
   "execution_count": null,
   "metadata": {},
   "outputs": [],
   "source": [
    "def prefac_rate(omega,p1_minus,p2_minus,p3_minus):\n",
    "    print(p1_minus.shape)\n",
    "    print(p2_minus.shape)\n",
    "    print(p3_minus.shape)\n",
    "    chargeSQ = (1.0/137)*4.0*np.pi\n",
    "    kinFac = 1.0/(8.0*(2.0*np.pi)**9*p1_minus*p2_minus*p3_minus)\n",
    "    rateFac = (2.0*np.pi**2*chargeSQ/omega)**2\n",
    "    return kinFac*rateFac\n",
    "\n",
    "def CSnorm(dphi,a0,m,e):\n",
    "    \"\"\"\n",
    "    normalisation of the cross section\n",
    "    \"\"\"\n",
    "    return a0**2*m**2/(2*e**2)*3.0/4.0*dphi\n",
    "\n",
    "class amplitude(object):\n",
    "    config = {\n",
    "        'mass':1.0,\n",
    "        'a0':1e-4,\n",
    "        'dPhi':50.0,\n",
    "        'frame': 'lab',\n",
    "        'coordSys': 'lcc'\n",
    "    }\n",
    "    spins = [(0, 0, 0, 0), (0, 0, 0, 1), (0, 0, 1, 0), (0, 0, 1, 1), (0, 1, 0, 0), (0, 1, 0, 1), (0, 1, 1, 0), (0, 1, 1, 1), (1, 0, 0, 0), (1, 0, 0, 1), (1, 0, 1, 0), (1, 0, 1, 1), (1, 1, 0, 0), (1, 1, 0, 1), (1, 1, 1, 0), (1, 1, 1, 1)]\n",
    "    def __init__(self,**kwargs):\n",
    "        self.config.update(kwargs)\n",
    "        self.norm_rate = CSnorm(self.config['dPhi'],self.config['a0'],self.config['mass'],np.sqrt((1.0/137)*4.0*np.pi))\n",
    "        \n",
    "    \n",
    "    def evalKin(self,*kinArr):\n",
    "        self.kin = corr.momenta(*kinArr,**self.config)\n",
    "        self.mat = matrixElementWF(self.kin,**self.config)\n",
    "        wrapp_mat = lambda spn : self.mat.bw(*spn)+self.mat.c(*spn)-self.mat.bwx(*spn)-self.mat.cx(*spn)\n",
    "        mat_result = np.asarray(map(wrapp_mat,self.spins))\n",
    "        mat_sq = np.sum(np.real(mat_result*np.conjugate(mat_result)),axis=0)\n",
    "        rate_prefac = prefac_rate(self.kin.grid.omegaGrid,self.kin.grid.lccGrid1[0],self.kin.grid.lccGrid2[0],self.kin.grid.lccGrid3[0])\n",
    "        return self.norm_rate*rate_prefac*mat_sq/4.0/((2.0*np.pi)**3)\n",
    "    \n",
    "    def __call__(self,*kinArr):\n",
    "        resGrid = self.evalKin(*kinArr)\n",
    "        resMesh = np.zeros(self.kin.mesh.shape)\n",
    "        resMesh[np.where(self.kin.grid.physArea)] = resGrid\n",
    "        return resMesh\n",
    "        \n",
    "        "
   ]
  },
  {
   "cell_type": "code",
   "execution_count": null,
   "metadata": {},
   "outputs": [],
   "source": [
    "def buildArr_lcc(Nss,N1m,N1x,N1y,N2m,N2x,N2y,eps=1e-5):\n",
    "    ss = np.linspace(3.1,4.1,Nss)\n",
    "    p1m = np.linspace(eps,1.5,N1m)\n",
    "    p1x = np.linspace(-2,2,N1x)\n",
    "    p1y = np.linspace(-2,2,N1y)\n",
    "    p2m = np.linspace(eps,1.5,N2m)\n",
    "    p2x = np.linspace(-2,2,N2x)\n",
    "    p2y = np.linspace(-2,2,N2y)\n",
    "    return [ss,p1m,p1x,p1y,p2m,p2x,p2y]\n",
    "\n",
    "\n",
    "mass = 1.0\n",
    "Narr1 = (2,3,20,5,6,7,8)\n",
    "#Narr1 = (2,2,2,2,2,2,2)\n",
    "frame = 'lab'\n",
    "tempDPHI = 50.0\n",
    "\n",
    "arrLCC = buildArr_lcc(*Narr1)\n",
    "\n",
    "config = {'a0':1e-4,'mass':1.0,'xi':0.0,'dPhi':tempDPHI,'psBounds':[-tempDPHI,tempDPHI],'envelope':'cos','pulseOpt':['analytic'],'deg':2500,'wf':True,'system':'lab'}\n",
    "\n",
    "ampObj = amplitude(**config)\n",
    "start = time.time()\n",
    "resGrid = ampObj.evalKin(*arrLCC)\n",
    "end=time.time() - start\n",
    "print(\"%1.2e\"%end)\n",
    "print(\"%1.2e\"%(end/(ampObj.kin.grid.size)))\n",
    "start = time.time()\n",
    "resMesh = ampObj(*arrLCC)\n",
    "end=time.time() - start\n",
    "print(\"%1.2e\"%end)\n",
    "print(\"%1.2e\"%(end/(ampObj.kin.grid.size)))"
   ]
  },
  {
   "cell_type": "code",
   "execution_count": null,
   "metadata": {},
   "outputs": [],
   "source": [
    "print(resMesh.shape)\n",
    "print(resGrid.shape)"
   ]
  },
  {
   "cell_type": "code",
   "execution_count": null,
   "metadata": {},
   "outputs": [],
   "source": [
    "cShape = resMesh.shape\n",
    "physInd = 0\n",
    "physArea = ampObj.kin.grid.physArea\n",
    "for i0 in np.arange(cShape[0]):\n",
    "    for i1 in np.arange(cShape[1]):\n",
    "        for i2 in np.arange(cShape[2]):\n",
    "            for i3 in np.arange(cShape[3]):\n",
    "                for i4 in np.arange(cShape[4]):\n",
    "                    for i5 in np.arange(cShape[5]):\n",
    "                        for i6 in np.arange(cShape[6]):\n",
    "                            if physArea[i0,i1,i2,i3,i4,i5,i6]:\n",
    "                                print(\"-\"*20)\n",
    "                                print(\"grid\")\n",
    "                                print('\\tres  ',resGrid[physInd])\n",
    "                                print('\\tss ',ampObj.kin.grid.ssGrid[physInd])\n",
    "                                print('\\tp2m ',ampObj.kin.grid.lccGrid1[0][physInd])\n",
    "                                print('\\tp2x ',ampObj.kin.grid.lccGrid1[1][physInd])\n",
    "                                print('\\tp2y ',ampObj.kin.grid.lccGrid1[2][physInd])\n",
    "                                print(\"mesh\")\n",
    "                                print('\\tres',resMesh[i0,i1,i2,i3,i4,i5,i6])\n",
    "                                arrLCC\n",
    "                                print('\\tss ',arrLCC[0][i0])\n",
    "                                print('\\tp2m ',arrLCC[1][i1])\n",
    "                                print('\\tp2x ',arrLCC[2][i2])\n",
    "                                print('\\tp2y ',arrLCC[3][i3])\n",
    "                                \n",
    "                                physInd+=1"
   ]
  },
  {
   "cell_type": "code",
   "execution_count": null,
   "metadata": {},
   "outputs": [],
   "source": [
    "from sys import getsizeof"
   ]
  },
  {
   "cell_type": "code",
   "execution_count": null,
   "metadata": {},
   "outputs": [],
   "source": [
    "print(\"%1.2e\"%(getsizeof(resMesh)))\n",
    "print(\"%1.2e\"%(getsizeof(resGrid)))\n",
    "print(\"%1.2e\"%(getsizeof(ampObj)))"
   ]
  },
  {
   "cell_type": "code",
   "execution_count": null,
   "metadata": {},
   "outputs": [],
   "source": []
  }
 ],
 "metadata": {
  "kernelspec": {
   "display_name": "Python 2",
   "language": "python",
   "name": "python2"
  },
  "language_info": {
   "codemirror_mode": {
    "name": "ipython",
    "version": 2
   },
   "file_extension": ".py",
   "mimetype": "text/x-python",
   "name": "python",
   "nbconvert_exporter": "python",
   "pygments_lexer": "ipython2",
   "version": "2.7.10"
  }
 },
 "nbformat": 4,
 "nbformat_minor": 2
}
