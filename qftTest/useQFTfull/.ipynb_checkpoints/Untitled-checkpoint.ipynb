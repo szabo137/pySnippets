{
 "cells": [
  {
   "cell_type": "markdown",
   "metadata": {},
   "source": [
    "Matrix element (weakfield) - 2nd version\n",
    "========\n",
    "Testenv to check the valitity of the matrix element calculation on a grid."
   ]
  },
  {
   "cell_type": "code",
   "execution_count": null,
   "metadata": {},
   "outputs": [],
   "source": [
    "from __future__ import print_function\n",
    "import sftrident as sf\n",
    "import sftrident.coordinate as corr\n",
    "from sftrident.matrixElement2 import matrixElementWF\n",
    "import numpy as np\n",
    "import time\n",
    "times = {}"
   ]
  },
  {
   "cell_type": "code",
   "execution_count": null,
   "metadata": {},
   "outputs": [],
   "source": [
    "def buildArr_lcc(Nss,N1m,N1x,N1y,N2m,N2x,N2y,eps=1e-5):\n",
    "    ss = np.linspace(3.1,4.1,Nss)\n",
    "    p1m = np.linspace(eps,1.5,N1m)\n",
    "    p1x = np.linspace(-2,2,N1x)\n",
    "    p1y = np.linspace(-2,2,N1y)\n",
    "    p2m = np.linspace(eps,1.5,N2m)\n",
    "    p2x = np.linspace(-2,2,N2x)\n",
    "    p2y = np.linspace(-2,2,N2y)\n",
    "    return [ss,p1m,p1x,p1y,p2m,p2x,p2y]\n",
    "\n",
    "\n",
    "mass = 1.0\n",
    "Narr1 = (2,2,2,2,2,2,2)\n",
    "frame = 'lab'\n",
    "tempDPHI = 50.0\n",
    "\n",
    "arrLCC = buildArr_lcc(*Narr1)\n",
    "\n",
    "start = time.time()\n",
    "kinObj = corr.momenta(*arrLCC,mass = mass,frame = frame,coordSys='lcc')\n",
    "end =  time.time() - start\n",
    "times['initMom']=end\n",
    "\n",
    "config = {'a0':1e-4,'mass':1.0,'xi':0.0,'dPhi':tempDPHI,'psBounds':[-tempDPHI,tempDPHI],'envelope':'cos','pulseOpt':['analytic'],'deg':2500,'wf':True,'system':'lab'}\n",
    "\n",
    "start = time.time()\n",
    "matObj = matrixElementWF(kinObj,**config)\n",
    "end =  time.time() - start\n",
    "times['initMat'] = end\n"
   ]
  },
  {
   "cell_type": "code",
   "execution_count": null,
   "metadata": {},
   "outputs": [],
   "source": [
    "spins = [(0, 0, 0, 0), (0, 0, 0, 1), (0, 0, 1, 0), (0, 0, 1, 1), (0, 1, 0, 0), (0, 1, 0, 1), (0, 1, 1, 0), (0, 1, 1, 1), (1, 0, 0, 0), (1, 0, 0, 1), (1, 0, 1, 0), (1, 0, 1, 1), (1, 1, 0, 0), (1, 1, 0, 1), (1, 1, 1, 0), (1, 1, 1, 1)]\n",
    "\n",
    "wrappBW = lambda spn : np.asarray(matObj.bw(*spn))\n",
    "\n",
    "start = time.time()\n",
    "resBWgrid = np.array(map(wrappBW,spins))\n",
    "end =  time.time() - start\n",
    "times['mapMat'] =end\n",
    "\n",
    "print(resBWgrid[:][2])"
   ]
  },
  {
   "cell_type": "code",
   "execution_count": null,
   "metadata": {},
   "outputs": [],
   "source": [
    "def sorted2List(X,Y):\n",
    "    \"\"\"\n",
    "    sorts the list X with the values of Y\n",
    "    \"\"\"\n",
    "    return [x for _, x in sorted(zip(Y,X), key=lambda pair: pair[0])]\n",
    "\n",
    "\n",
    "from sftrident.matrixElement import modeDict\n",
    "spinMode = np.array([\n",
    "    (0,0,0,0),\n",
    "    (0,0,1,1),\n",
    "    (0,0,0,1),\n",
    "    (0,0,1,0),\n",
    "    (1,1,0,0),\n",
    "    (1,1,1,1),\n",
    "    (1,1,0,1),\n",
    "    (1,1,1,0),\n",
    "    (0,1,0,0),\n",
    "    (0,1,1,1),\n",
    "    (0,1,0,1),\n",
    "    (0,1,1,0),\n",
    "    (1,0,0,0),\n",
    "    (1,0,1,1),\n",
    "    (1,0,0,1),\n",
    "    (1,0,1,0),\n",
    "])\n",
    "    \n",
    "matObjSQ = sf.matrixElement(config)\n",
    "def getMatBW(n):\n",
    "    print(len(arrLCC[0]))\n",
    "    LCCpkt = [el[n] for el in arrLCC]\n",
    "    kinPara = [LCCpkt[0],LCCpkt[2],LCCpkt[3],LCCpkt[1], LCCpkt[5],LCCpkt[6],LCCpkt[4]]\n",
    "    matObjSQ.setKin(kinPara)\n",
    "    resOld = matObjSQ.evalMdirPartBW()\n",
    "    tempSpins = spinMode[modeDict['bw']]\n",
    "    #print(sorted2List([list(t) for t in tempSpins],[list(t) for t in tempSpins]))\n",
    "    return sorted2List(np.asarray(resOld),[list(t) for t in tempSpins])\n",
    "\n",
    "\n",
    "resBW = getMatBW(0)\n",
    "print(resBW)\n",
    "\n",
    "resBW2 = getMatBW(1)\n",
    "print(resBW2)\n",
    "\n",
    "resBW2 = getMatBW(2)\n",
    "print(resBW2)"
   ]
  },
  {
   "cell_type": "code",
   "execution_count": null,
   "metadata": {},
   "outputs": [],
   "source": [
    "for el in times.iterkeys():\n",
    "    print(el,times[el]/(kinObj.grid.size*1.0))"
   ]
  },
  {
   "cell_type": "code",
   "execution_count": null,
   "metadata": {},
   "outputs": [],
   "source": [
    "import random\n",
    "random.shuffle(spins)\n",
    "print(spins)"
   ]
  },
  {
   "cell_type": "code",
   "execution_count": null,
   "metadata": {},
   "outputs": [],
   "source": [
    "temp = np.array(sorted(spins))\n",
    "print(spins)\n",
    "print(temp)"
   ]
  },
  {
   "cell_type": "code",
   "execution_count": null,
   "metadata": {},
   "outputs": [],
   "source": [
    "a=np.arange(len(spins))\n",
    "print(a)"
   ]
  },
  {
   "cell_type": "code",
   "execution_count": null,
   "metadata": {},
   "outputs": [],
   "source": [
    "def sorted2List(X,Y):\n",
    "    \"\"\"\n",
    "    sorts the list X with the values of Y\n",
    "    \"\"\"\n",
    "    print(X.shape)\n",
    "\n",
    "    return [x for _, x in sorted(zip(Y,X), key=lambda pair: pair[0])]\n",
    "\n",
    "test = np.array(spins)\n",
    "print(test)\n",
    "test2 = [list(el) for el in test]\n",
    "print(test2)\n",
    "temp2 = sorted2List(a,test2)\n",
    "print(temp2)"
   ]
  },
  {
   "cell_type": "code",
   "execution_count": null,
   "metadata": {},
   "outputs": [],
   "source": []
  }
 ],
 "metadata": {
  "kernelspec": {
   "display_name": "Python 2",
   "language": "python",
   "name": "python2"
  },
  "language_info": {
   "codemirror_mode": {
    "name": "ipython",
    "version": 2
   },
   "file_extension": ".py",
   "mimetype": "text/x-python",
   "name": "python",
   "nbconvert_exporter": "python",
   "pygments_lexer": "ipython2",
   "version": "2.7.12"
  }
 },
 "nbformat": 4,
 "nbformat_minor": 2
}
