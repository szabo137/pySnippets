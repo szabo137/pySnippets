{
 "cells": [
  {
   "cell_type": "markdown",
   "metadata": {},
   "source": [
    "Matrix element (weakfield) - C version\n",
    "========\n",
    "Testenv to check the valitity of the matrix element calculation on a grid."
   ]
  },
  {
   "cell_type": "code",
   "execution_count": 1,
   "metadata": {},
   "outputs": [],
   "source": [
    "from __future__ import print_function\n",
    "import sftrident as sf\n",
    "import sftrident.coordinate as corr\n",
    "from sftrident.matrixElement2 import matrixElementWF\n",
    "import numpy as np\n",
    "import time\n",
    "times = {}"
   ]
  },
  {
   "cell_type": "code",
   "execution_count": 2,
   "metadata": {},
   "outputs": [
    {
     "name": "stdout",
     "output_type": "stream",
     "text": [
      "(-9.38200414584197e-19+9.382004153440492e-19j)\n"
     ]
    }
   ],
   "source": [
    "def buildArr_lcc(Nss,N1m,N1x,N1y,N2m,N2x,N2y,eps=1e-5):\n",
    "    ss = np.linspace(3.1,4.1,Nss)\n",
    "    p1m = np.linspace(eps,1.5,N1m)\n",
    "    p1x = np.linspace(-2,2,N1x)\n",
    "    p1y = np.linspace(-2,2,N1y)\n",
    "    p2m = np.linspace(eps,1.5,N2m)\n",
    "    p2x = np.linspace(-2,2,N2x)\n",
    "    p2y = np.linspace(-2,2,N2y)\n",
    "    return [ss,p1m,p1x,p1y,p2m,p2x,p2y]\n",
    "\n",
    "\n",
    "mass = 1.0\n",
    "Narr1 = (2,2,2,2,2,2,2)\n",
    "frame = 'lab'\n",
    "tempDPHI = 50.0\n",
    "\n",
    "arrLCC = buildArr_lcc(*Narr1)\n",
    "\n",
    "start = time.time()\n",
    "kinObj = corr.momenta(*arrLCC,mass = mass,frame = frame,coordSys='lcc')\n",
    "end =  time.time() - start\n",
    "times['initMom']=end\n",
    "\n",
    "config = {'a0':1e-4,'mass':1.0,'xi':0.0,'dPhi':tempDPHI,'psBounds':[-tempDPHI,tempDPHI],'envelope':'cos','pulseOpt':['analytic'],'deg':2500,'wf':True,'system':'lab'}\n",
    "\n",
    "start = time.time()\n",
    "matObj = matrixElementWF(kinObj,**config)\n",
    "end =  time.time() - start\n",
    "times['initMat'] = end\n",
    "\n",
    "print(matObj.c(0,1,1,0)[0])"
   ]
  },
  {
   "cell_type": "code",
   "execution_count": 3,
   "metadata": {},
   "outputs": [
    {
     "name": "stdout",
     "output_type": "stream",
     "text": [
      "(16, 32)\n"
     ]
    }
   ],
   "source": [
    "spins = [(0, 0, 0, 0), (0, 0, 0, 1), (0, 0, 1, 0), (0, 0, 1, 1), (0, 1, 0, 0), (0, 1, 0, 1), (0, 1, 1, 0), (0, 1, 1, 1), (1, 0, 0, 0), (1, 0, 0, 1), (1, 0, 1, 0), (1, 0, 1, 1), (1, 1, 0, 0), (1, 1, 0, 1), (1, 1, 1, 0), (1, 1, 1, 1)]\n",
    "\n",
    "wrappC = lambda spn : np.asarray(matObj.c(*spn))\n",
    "\n",
    "start = time.time()\n",
    "resCgrid = np.array(map(wrappC,spins))\n",
    "end =  time.time() - start\n",
    "times['mapMat'] =end\n",
    "\n",
    "print(resCgrid.shape)"
   ]
  },
  {
   "cell_type": "code",
   "execution_count": 4,
   "metadata": {},
   "outputs": [
    {
     "ename": "NameError",
     "evalue": "name 'getMatBW' is not defined",
     "output_type": "error",
     "traceback": [
      "\u001b[0;31m---------------------------------------------------------------------------\u001b[0m",
      "\u001b[0;31mNameError\u001b[0m                                 Traceback (most recent call last)",
      "\u001b[0;32m<ipython-input-4-8d23284decc1>\u001b[0m in \u001b[0;36m<module>\u001b[0;34m()\u001b[0m\n\u001b[1;32m     50\u001b[0m \u001b[0mmaxRERR_I\u001b[0m \u001b[0;34m=\u001b[0m \u001b[0;36m0.0\u001b[0m\u001b[0;34m\u001b[0m\u001b[0;34m\u001b[0m\u001b[0m\n\u001b[1;32m     51\u001b[0m \u001b[0;32mfor\u001b[0m \u001b[0mind\u001b[0m \u001b[0;32min\u001b[0m \u001b[0mnp\u001b[0m\u001b[0;34m.\u001b[0m\u001b[0marange\u001b[0m\u001b[0;34m(\u001b[0m\u001b[0mkinObj\u001b[0m\u001b[0;34m.\u001b[0m\u001b[0mgrid\u001b[0m\u001b[0;34m.\u001b[0m\u001b[0msize\u001b[0m\u001b[0;34m)\u001b[0m\u001b[0;34m:\u001b[0m\u001b[0;34m\u001b[0m\u001b[0;34m\u001b[0m\u001b[0m\n\u001b[0;32m---> 52\u001b[0;31m     \u001b[0mbwResSQ\u001b[0m \u001b[0;34m=\u001b[0m \u001b[0mgetMatBW\u001b[0m\u001b[0;34m(\u001b[0m\u001b[0mind\u001b[0m\u001b[0;34m)\u001b[0m\u001b[0;34m\u001b[0m\u001b[0;34m\u001b[0m\u001b[0m\n\u001b[0m\u001b[1;32m     53\u001b[0m     \u001b[0mMsqSQ\u001b[0m \u001b[0;34m=\u001b[0m \u001b[0;36m0.0\u001b[0m\u001b[0;34m\u001b[0m\u001b[0;34m\u001b[0m\u001b[0m\n\u001b[1;32m     54\u001b[0m     \u001b[0mMsqNP\u001b[0m \u001b[0;34m=\u001b[0m \u001b[0;36m0.0\u001b[0m\u001b[0;34m\u001b[0m\u001b[0;34m\u001b[0m\u001b[0m\n",
      "\u001b[0;31mNameError\u001b[0m: name 'getMatBW' is not defined"
     ]
    }
   ],
   "source": [
    "def sorted2List(X,Y):\n",
    "    \"\"\"\n",
    "    sorts the list X with the values of Y\n",
    "    \"\"\"\n",
    "    return [x for _, x in sorted(zip(Y,X), key=lambda pair: pair[0])]\n",
    "\n",
    "\n",
    "modeDict={\n",
    "'bw':[0, 4, 8, 12, 1, 5, 9, 13, 2, 6, 10, 14, 3, 7, 11, 15],\n",
    "'c':[0, 1, 2, 3, 4, 5, 6, 7, 8, 9, 10, 11, 12, 13, 14, 15],\n",
    "'bwx':[0, 11, 8, 3, 14, 5, 6, 13, 2, 9, 10, 1, 12, 7, 4, 15],\n",
    "'cx':[0, 14, 2, 12, 11, 5, 9, 7, 8, 6, 10, 4, 3, 13, 1, 15]\n",
    "}\n",
    "spinMode = np.array([\n",
    "    (0,0,0,0),\n",
    "    (0,0,1,1),\n",
    "    (0,0,0,1),\n",
    "    (0,0,1,0),\n",
    "    (1,1,0,0),\n",
    "    (1,1,1,1),\n",
    "    (1,1,0,1),\n",
    "    (1,1,1,0),\n",
    "    (0,1,0,0),\n",
    "    (0,1,1,1),\n",
    "    (0,1,0,1),\n",
    "    (0,1,1,0),\n",
    "    (1,0,0,0),\n",
    "    (1,0,1,1),\n",
    "    (1,0,0,1),\n",
    "    (1,0,1,0),\n",
    "])\n",
    "    \n",
    "matObjSQ = sf.matrixElement(config)\n",
    "def getMatC(n):\n",
    "    kinPara = [kinObj.grid.ssGrid[n],kinObj.grid.lccGrid2[1][n], kinObj.grid.lccGrid2[2][n],kinObj.grid.lccGrid2[0][n],kinObj.grid.lccGrid1[1][n], kinObj.grid.lccGrid1[2][n],kinObj.grid.lccGrid1[0][n]]\n",
    "    matObjSQ.setKin(kinPara)\n",
    "    resOld = matObjSQ.evalMdirPartC()\n",
    "    tempSpins = spinMode[modeDict['c']]\n",
    "    #print(sorted2List([list(t) for t in tempSpins],[list(t) for t in tempSpins]))\n",
    "    return sorted2List(np.asarray(resOld),[list(t) for t in tempSpins])\n",
    "    #return kinPara\n",
    "\n",
    "err = 0\n",
    "maxAERR_R = 0.0\n",
    "maxAERR_I = 0.0\n",
    "\n",
    "relERR_R = 0.0\n",
    "maxRERR_R = 0.0\n",
    "relERR_I = 0.0\n",
    "maxRERR_I = 0.0\n",
    "for ind in np.arange(kinObj.grid.size):\n",
    "    bwResSQ = getMatC(ind)\n",
    "    MsqSQ = 0.0\n",
    "    MsqNP = 0.0\n",
    "    for i,spin in enumerate(spins):\n",
    "        #print('i',i)\n",
    "        #print()\n",
    "        #print(el)\n",
    "        #print(\"\\t\",bwResSQ[i])\n",
    "        #print(\"\\t\",resBWgrid[i][ind])\n",
    "        test = np.isclose(bwResSQ[i],resBWgrid[i][ind],atol=1e-15,rtol=1e-8)\n",
    "        absERR_R = bwResSQ[i].real-resBWgrid[i][ind].real\n",
    "        maxAERR_R = max(maxAERR_R,absERR_R)\n",
    "        norm_R = bwResSQ[i].real+resBWgrid[i][ind].real\n",
    "        if norm_R != 0.0:\n",
    "            relERR_R = absERR_R/norm_R\n",
    "        maxRERR_R = max(maxRERR_R,relERR_R)\n",
    "        \n",
    "        absERR_I = bwResSQ[i].imag-resBWgrid[i][ind].imag\n",
    "        maxAERR_I = max(maxAERR_I,absERR_I)\n",
    "        norm_I = bwResSQ[i].imag+resBWgrid[i][ind].imag\n",
    "        if norm_I != 0.0:\n",
    "            relERR_I = absERR_I/norm_I\n",
    "        maxRERR_I = max(maxRERR_I,relERR_I)\n",
    "        if not test:\n",
    "            #print(\"ind\",ind)\n",
    "            #print('i',i)\n",
    "            #print(spin)\n",
    "            #print(spins)\n",
    "            #print(\"\\t\",bwResSQ[i])\n",
    "            #print(\"\\t\",resBWgrid[i][ind])\n",
    "            err+=1\n",
    "        MsqSQ += np.real(bwResSQ[i]*np.conjugate(bwResSQ[i]))\n",
    "        MsqNP += np.real(resBWgrid[i][ind]*np.conjugate(resBWgrid[i][ind]))\n",
    "    print(ind)\n",
    "    print(\"\\t\",MsqSQ)\n",
    "    print(\"\\t\",MsqNP)\n",
    "        \n",
    "print(\"Done with %d errors.\"%err)\n",
    "print(\"max. abs. error: %1.2e + i %1.2e\"%(maxAERR_R,maxAERR_I))\n",
    "print(\"max. rel. error: %1.2e + i %1.2e\"%(maxRERR_R,maxRERR_I))"
   ]
  },
  {
   "cell_type": "code",
   "execution_count": null,
   "metadata": {},
   "outputs": [],
   "source": []
  }
 ],
 "metadata": {
  "kernelspec": {
   "display_name": "Python 2",
   "language": "python",
   "name": "python2"
  },
  "language_info": {
   "codemirror_mode": {
    "name": "ipython",
    "version": 2
   },
   "file_extension": ".py",
   "mimetype": "text/x-python",
   "name": "python",
   "nbconvert_exporter": "python",
   "pygments_lexer": "ipython2",
   "version": "2.7.15+"
  }
 },
 "nbformat": 4,
 "nbformat_minor": 2
}
