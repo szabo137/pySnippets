{
 "cells": [
  {
   "cell_type": "markdown",
   "metadata": {},
   "source": [
    "Benchmark: MatrixElement\n",
    "========\n",
    "This benchmark compares the evaluation time of the matrix element for all dists and all spins over a set of kinematical points. It includes the evaluation of physArea and the calculation of all momenta, spinors and resulting currents."
   ]
  },
  {
   "cell_type": "code",
   "execution_count": null,
   "metadata": {},
   "outputs": [],
   "source": [
    "from __future__ import print_function\n",
    "import sftrident as sf\n",
    "import sftrident.coordinate as corr\n",
    "from sftrident.matrixElement2 import matrixElementWF\n",
    "import numpy as np\n",
    "import time\n",
    "timesNP = {}\n",
    "timesSQ = {}"
   ]
  },
  {
   "cell_type": "markdown",
   "metadata": {},
   "source": [
    "Preliminary build\n",
    "======"
   ]
  },
  {
   "cell_type": "code",
   "execution_count": null,
   "metadata": {},
   "outputs": [],
   "source": [
    "def buildArr_lcc(Nss,N1m,N1x,N1y,N2m,N2x,N2y,eps=1e-5):\n",
    "    ss = np.linspace(3.1,4.1,Nss)\n",
    "    p1m = np.linspace(eps,1.5,N1m)\n",
    "    p1x = np.linspace(-2,2,N1x)\n",
    "    p1y = np.linspace(-2,2,N1y)\n",
    "    p2m = np.linspace(eps,1.5,N2m)\n",
    "    p2x = np.linspace(-2,2,N2x)\n",
    "    p2y = np.linspace(-2,2,N2y)\n",
    "    return [ss,p1m,p1x,p1y,p2m,p2x,p2y]\n",
    "\n",
    "\n",
    "mass = 1.0\n",
    "Narr1 = (2,3,4,5,6,7,8)\n",
    "frame = 'lab'\n",
    "tempDPHI = 50.0\n",
    "config = {'a0':1e-4,'mass':1.0,'xi':0.0,'dPhi':tempDPHI,'psBounds':[-tempDPHI,tempDPHI],'envelope':'cos','pulseOpt':['analytic'],'deg':2500,'wf':True,'system':'lab'}\n",
    "\n",
    "arrLCC = buildArr_lcc(*Narr1)\n",
    "\n",
    "start = time.time()\n",
    "kinObj = corr.momenta(*arrLCC,mass = mass,frame = frame,coordSys='lcc')\n",
    "end =  time.time() - start\n",
    "timesNP['initMom']=end\n",
    "\n",
    "start = time.time()\n",
    "matObj = matrixElementWF(kinObj,**config)\n",
    "wrappMat = lambda spn : np.asarray(matObj.bw(*spn) + matObj.c(*spn) - matObj.bwx(*spn) - matObj.cx(*spn))\n",
    "end =  time.time() - start\n",
    "timesNP['initMat'] = end\n"
   ]
  },
  {
   "cell_type": "code",
   "execution_count": null,
   "metadata": {},
   "outputs": [],
   "source": [
    "spins = [(0, 0, 0, 0), (0, 0, 0, 1), (0, 0, 1, 0), (0, 0, 1, 1), (0, 1, 0, 0), (0, 1, 0, 1), (0, 1, 1, 0), (0, 1, 1, 1), (1, 0, 0, 0), (1, 0, 0, 1), (1, 0, 1, 0), (1, 0, 1, 1), (1, 1, 0, 0), (1, 1, 0, 1), (1, 1, 1, 0), (1, 1, 1, 1)]\n",
    "\n",
    "start = time.time()\n",
    "resGridNP = np.array(map(wrappMat,spins))\n",
    "end =  time.time() - start\n",
    "timesNP['mapMat'] =end\n",
    "\n",
    "print(resGridNP.shape)"
   ]
  },
  {
   "cell_type": "code",
   "execution_count": null,
   "metadata": {},
   "outputs": [],
   "source": [
    "\n",
    "\n",
    "\n",
    "start = time.time()\n",
    "matObjSQ = sf.matrixElement(config)\n",
    "def getMatSQ(n):\n",
    "    kinPara = [kinObj.grid.ssGrid[n],kinObj.grid.lccGrid1[1][n], kinObj.grid.lccGrid1[2][n],kinObj.grid.lccGrid1[0][n],kinObj.grid.lccGrid2[1][n], kinObj.grid.lccGrid2[2][n],kinObj.grid.lccGrid2[0][n]]\n",
    "    matObjSQ.setKin(kinPara)\n",
    "    resOld = matObjSQ.evalMatrixElementpart()\n",
    "    return np.asarray(resOld)\n",
    "timesSQ['initMat'] = time.time() - start\n",
    "\n",
    "start = time.time()\n",
    "resGridSQ = np.array(map(getMatSQ,np.arange(kinObj.grid.size)))\n",
    "timesSQ['mapMat'] = time.time() - start\n"
   ]
  },
  {
   "cell_type": "code",
   "execution_count": null,
   "metadata": {},
   "outputs": [],
   "source": [
    "print(\"=\"*10,\"numpy time\",\"=\"*10)\n",
    "t_np_max = 0.0\n",
    "el_max=0\n",
    "t_np_sum = 0.0\n",
    "for el in timesNP.iterkeys():\n",
    "    t_np= timesNP[el]\n",
    "    if t_np> t_np_max:\n",
    "        t_np_max = t_np\n",
    "        el_max = el\n",
    "    t_np_sum +=t_np\n",
    "    print(\"\\t\",el,\"%1.2e\"%t_np,'(for %d points)'%(kinObj.grid.size))\n",
    "    print(\"\\t\",el,\"%1.2e\"%(t_np/(float(kinObj.grid.size))),'(avg. per point)')\n",
    "print(\"full time: %1.2e\"%t_np_sum,'(for %d points)'%(kinObj.grid.size))\n",
    "print(\"avg. time: %1.2e\"%(t_np_sum/(float(kinObj.grid.size))))\n",
    "print(\"max. time: %1.2e\"%t_np_max,\"(%1.2f percent)\"%(t_np_max/t_np_sum*100.0),'-> %s'%el_max)\n",
    "print()  \n",
    "print(\"=\"*10,\"serial time\",\"=\"*10)\n",
    "t_sq_max = 0.0\n",
    "el_max=0\n",
    "t_sq_sum = 0.0\n",
    "for el in timesSQ.iterkeys():\n",
    "    t_sq= timesSQ[el]\n",
    "    if t_sq> t_sq_max:\n",
    "        t_sq_max = t_sq\n",
    "        el_max = el\n",
    "    t_sq_sum +=t_sq\n",
    "    print(\"\\t\",el,\"%1.2e\"%t_sq,'(for %d points)'%(kinObj.grid.size))\n",
    "    print(\"\\t\",el,\"%1.2e\"%(t_sq/(float(kinObj.grid.size))),'(avg. per point)')\n",
    "print(\"full time: %1.2e\"%t_sq_sum,'(for %d points)'%(kinObj.grid.size))\n",
    "print(\"avg. time: %1.2e\"%(t_sq_sum/(float(kinObj.grid.size))))\n",
    "print(\"max. time: %1.2e\"%t_sq_max,\"(%1.2f percent)\"%(t_sq_max/t_sq_sum*100.0),'-> %s'%el_max)"
   ]
  },
  {
   "cell_type": "code",
   "execution_count": null,
   "metadata": {},
   "outputs": [],
   "source": []
  },
  {
   "cell_type": "code",
   "execution_count": null,
   "metadata": {},
   "outputs": [],
   "source": []
  },
  {
   "cell_type": "code",
   "execution_count": null,
   "metadata": {},
   "outputs": [],
   "source": []
  }
 ],
 "metadata": {
  "kernelspec": {
   "display_name": "Python 2",
   "language": "python",
   "name": "python2"
  },
  "language_info": {
   "codemirror_mode": {
    "name": "ipython",
    "version": 2
   },
   "file_extension": ".py",
   "mimetype": "text/x-python",
   "name": "python",
   "nbconvert_exporter": "python",
   "pygments_lexer": "ipython2",
   "version": "2.7.12"
  }
 },
 "nbformat": 4,
 "nbformat_minor": 2
}
