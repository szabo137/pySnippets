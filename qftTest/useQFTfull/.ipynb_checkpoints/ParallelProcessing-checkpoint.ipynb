{
 "cells": [
  {
   "cell_type": "markdown",
   "metadata": {},
   "source": [
    "Parallel Processing Sandbox\n",
    "============="
   ]
  },
  {
   "cell_type": "markdown",
   "metadata": {},
   "source": [
    "1 Numpy vs. multiprocessing\n",
    "-----"
   ]
  },
  {
   "cell_type": "code",
   "execution_count": 18,
   "metadata": {},
   "outputs": [],
   "source": [
    "from __future__ import print_function\n",
    "import numpy as np\n",
    "import multiprocessing as mp\n",
    "import time\n"
   ]
  },
  {
   "cell_type": "code",
   "execution_count": 19,
   "metadata": {},
   "outputs": [],
   "source": []
  },
  {
   "cell_type": "code",
   "execution_count": null,
   "metadata": {},
   "outputs": [],
   "source": [
    "import itertools\n",
    "\n",
    "def func(x_y):\n",
    "    x,y = x_y\n",
    "    return np.sin(np.sin(np.sin(x))) + np.cos(np.cos(np.cos(x)))\n",
    "\n",
    "\n",
    "cX = np.linspace(-10,10,10000)\n",
    "cY = np.linspace(0,10,10000)\n",
    "cProd = np.array([t for t in itertools.product(cX,cY)])\n",
    "#print cProd.shape\n",
    "\n",
    "pool = mp.Pool(4)\n",
    "start = time.time()\n",
    "resPP = np.asarray(pool.map(func,cProd))\n",
    "end = time.time() -start\n",
    "pool.close()\n",
    "print(resPP.shape)\n",
    "print(\"%1.2e\"%end)\n",
    "\n",
    "start = time.time()\n",
    "resNP = func([cX[:,np.newaxis],cY[np.newaxis,:]])\n",
    "end = time.time() -start\n",
    "print(resNP.shape)\n",
    "print(\"%1.2e\"%end)\n",
    "\n",
    "print(np.isclose(resPP,resNP,atol=0.0,rtol=1e-10).all())"
   ]
  },
  {
   "cell_type": "code",
   "execution_count": null,
   "metadata": {},
   "outputs": [],
   "source": []
  }
 ],
 "metadata": {
  "kernelspec": {
   "display_name": "Python 2",
   "language": "python",
   "name": "python2"
  },
  "language_info": {
   "codemirror_mode": {
    "name": "ipython",
    "version": 2
   },
   "file_extension": ".py",
   "mimetype": "text/x-python",
   "name": "python",
   "nbconvert_exporter": "python",
   "pygments_lexer": "ipython2",
   "version": "2.7.12"
  }
 },
 "nbformat": 4,
 "nbformat_minor": 2
}
