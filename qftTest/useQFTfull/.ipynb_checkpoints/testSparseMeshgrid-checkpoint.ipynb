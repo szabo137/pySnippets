{
 "cells": [
  {
   "cell_type": "code",
   "execution_count": 1,
   "metadata": {},
   "outputs": [],
   "source": [
    "from __future__ import print_function\n",
    "import time\n",
    "import numpy as np\n",
    "from sys import getsizeof\n",
    "\n"
   ]
  },
  {
   "cell_type": "markdown",
   "metadata": {},
   "source": [
    "Meshgrid - timing\n",
    "=============="
   ]
  },
  {
   "cell_type": "code",
   "execution_count": 2,
   "metadata": {},
   "outputs": [
    {
     "name": "stdout",
     "output_type": "stream",
     "text": [
      "sys.long_info(bits_per_digit=30, sizeof_digit=4)\n"
     ]
    }
   ],
   "source": [
    "import sys\n",
    "print(sys.long_info)\n",
    "\n",
    "times = {}\n",
    "sizes = {}\n",
    "\n",
    "Nx,Ny,Nz = (101,102,103) # number of points per dim\n",
    "xarr = np.linspace(-10,10,Nx)\n",
    "yarr = np.linspace(-10,10,Ny)\n",
    "zarr = np.linspace(-10,10,Nz)\n"
   ]
  },
  {
   "cell_type": "markdown",
   "metadata": {},
   "source": [
    "default meshgrid\n",
    "---------------"
   ]
  },
  {
   "cell_type": "code",
   "execution_count": 3,
   "metadata": {},
   "outputs": [
    {
     "name": "stdout",
     "output_type": "stream",
     "text": [
      "time build default meshgrid: 0.0452718734741\n",
      "size build default meshgrid: 8.4890e+06 8.4890e+06 8.4890e+06\n",
      "X shape: (101, 102, 103)\n",
      "Y shape: (101, 102, 103)\n",
      "Z shape: (101, 102, 103)\n"
     ]
    }
   ],
   "source": [
    "start = time.time()\n",
    "Xm,Ym,Zm = np.meshgrid(xarr,yarr,zarr,indexing='ij')\n",
    "times['dMesh'] = time.time() - start\n",
    "sizes['dMeshX'] = getsizeof(Xm)\n",
    "sizes['dMeshY'] = getsizeof(Ym)\n",
    "sizes['dMeshZ'] = getsizeof(Zm)\n",
    "print(\"time build default meshgrid:\",times['dMesh'])\n",
    "print(\"size build default meshgrid: %1.4e %1.4e %1.4e\"%(sizes['dMeshX'],sizes['dMeshY'],sizes['dMeshZ']))\n",
    "print(\"X shape:\",Xm.shape)\n",
    "print(\"Y shape:\",Ym.shape)\n",
    "print(\"Z shape:\",Zm.shape)"
   ]
  },
  {
   "cell_type": "markdown",
   "metadata": {},
   "source": [
    "sparse meshgrid\n",
    "-----------"
   ]
  },
  {
   "cell_type": "code",
   "execution_count": 4,
   "metadata": {},
   "outputs": [
    {
     "name": "stdout",
     "output_type": "stream",
     "text": [
      "time build sparse meshgrid: 0.000879049301147\n",
      "size build sparse meshgrid: 9.3600e+02 9.4400e+02 9.5200e+02\n",
      "X shape: (101, 1, 1)\n",
      "Y shape: (1, 102, 1)\n",
      "Z shape: (1, 1, 103)\n"
     ]
    }
   ],
   "source": [
    "start = time.time()\n",
    "Xs,Ys,Zs = np.meshgrid(xarr,yarr,zarr,sparse = True,indexing='ij')\n",
    "times['sMesh'] = time.time() - start\n",
    "sizes['sMeshX'] = getsizeof(Xs)\n",
    "sizes['sMeshY'] = getsizeof(Ys)\n",
    "sizes['sMeshZ'] = getsizeof(Zs)\n",
    "print(\"time build sparse meshgrid:\",times['sMesh'])\n",
    "print(\"size build sparse meshgrid: %1.4e %1.4e %1.4e\"%(sizes['sMeshX'],sizes['sMeshY'],sizes['sMeshZ']))\n",
    "print(\"X shape:\",Xs.shape)\n",
    "print(\"Y shape:\",Ys.shape)\n",
    "print(\"Z shape:\",Zs.shape)"
   ]
  },
  {
   "cell_type": "markdown",
   "metadata": {},
   "source": [
    "Calculations with meshgrids\n",
    "======================="
   ]
  },
  {
   "cell_type": "code",
   "execution_count": 5,
   "metadata": {},
   "outputs": [],
   "source": [
    "def add(x,y,z):\n",
    "    return x+y+z\n",
    "\n",
    "\n",
    "def mul(x,y,z):\n",
    "    return x*y*z\n",
    "\n"
   ]
  },
  {
   "cell_type": "markdown",
   "metadata": {},
   "source": [
    "default meshgrid\n",
    "-----------"
   ]
  },
  {
   "cell_type": "code",
   "execution_count": 6,
   "metadata": {},
   "outputs": [
    {
     "data": {
      "text/plain": [
       "'\\nstart = time.time()\\ndAdd = add(Xm,Ym,Zm)\\ntimes[\\'dAdd\\'] = time.time() - start\\nsizes[\\'dAdd\\'] = getsizeof(dAdd)\\nprint(\"time add default mesh: \",times[\\'dAdd\\'])\\nprint(\"size add default mesh: \",sizes[\\'dAdd\\'])\\n\\nstart = time.time()\\ndMul = mul(Xm,Ym,Zm)\\ntimes[\\'dMul\\'] = time.time() - start\\nsizes[\\'dMul\\'] = getsizeof(dMul)\\nprint(\"time Mul default mesh: \",times[\\'dMul\\'])\\nprint(\"size Mul default mesh: \",sizes[\\'dMul\\'])\\nprint(\"add shape:\",dAdd.shape)\\nprint(\"mul shape:\",dMul.shape)\\n'"
      ]
     },
     "execution_count": 6,
     "metadata": {},
     "output_type": "execute_result"
    }
   ],
   "source": [
    "\"\"\"\n",
    "start = time.time()\n",
    "dAdd = add(Xm,Ym,Zm)\n",
    "times['dAdd'] = time.time() - start\n",
    "sizes['dAdd'] = getsizeof(dAdd)\n",
    "print(\"time add default mesh: \",times['dAdd'])\n",
    "print(\"size add default mesh: \",sizes['dAdd'])\n",
    "\n",
    "start = time.time()\n",
    "dMul = mul(Xm,Ym,Zm)\n",
    "times['dMul'] = time.time() - start\n",
    "sizes['dMul'] = getsizeof(dMul)\n",
    "print(\"time Mul default mesh: \",times['dMul'])\n",
    "print(\"size Mul default mesh: \",sizes['dMul'])\n",
    "print(\"add shape:\",dAdd.shape)\n",
    "print(\"mul shape:\",dMul.shape)\n",
    "\"\"\""
   ]
  },
  {
   "cell_type": "markdown",
   "metadata": {},
   "source": [
    "sparse meshgrid\n",
    "------------"
   ]
  },
  {
   "cell_type": "code",
   "execution_count": 7,
   "metadata": {},
   "outputs": [
    {
     "data": {
      "text/plain": [
       "'\\nstart = time.time()\\nsAdd = add(Xs,Ys,Zs)\\ntimes[\\'sAdd\\'] = time.time() - start\\nsizes[\\'sAdd\\'] = getsizeof(dAdd)\\nprint(\"time add sparse mesh: \",times[\\'sAdd\\'])\\nprint(\"size add sparse mesh: \",sizes[\\'sAdd\\'])\\n\\nstart = time.time()\\nsMul = mul(Xs,Ys,Zs)\\ntimes[\\'sMul\\'] = time.time() - start\\nsizes[\\'sMul\\'] = getsizeof(sMul)\\nprint(\"time Mul sparse mesh: \",times[\\'sMul\\'])\\nprint(\"size Mul sparse mesh: \",sizes[\\'sMul\\'])\\nprint(\"add shape:\",sAdd.shape)\\nprint(\"mul shape:\",sMul.shape)\\n'"
      ]
     },
     "execution_count": 7,
     "metadata": {},
     "output_type": "execute_result"
    }
   ],
   "source": [
    "\"\"\"\n",
    "start = time.time()\n",
    "sAdd = add(Xs,Ys,Zs)\n",
    "times['sAdd'] = time.time() - start\n",
    "sizes['sAdd'] = getsizeof(dAdd)\n",
    "print(\"time add sparse mesh: \",times['sAdd'])\n",
    "print(\"size add sparse mesh: \",sizes['sAdd'])\n",
    "\n",
    "start = time.time()\n",
    "sMul = mul(Xs,Ys,Zs)\n",
    "times['sMul'] = time.time() - start\n",
    "sizes['sMul'] = getsizeof(sMul)\n",
    "print(\"time Mul sparse mesh: \",times['sMul'])\n",
    "print(\"size Mul sparse mesh: \",sizes['sMul'])\n",
    "print(\"add shape:\",sAdd.shape)\n",
    "print(\"mul shape:\",sMul.shape)\n",
    "\"\"\""
   ]
  },
  {
   "cell_type": "markdown",
   "metadata": {},
   "source": [
    "conditions on meshgrids\n",
    "============"
   ]
  },
  {
   "cell_type": "code",
   "execution_count": 8,
   "metadata": {},
   "outputs": [],
   "source": [
    "def cond(x,y,z):\n",
    "    return (x>0)*(y>0)*(z>0)\n",
    "\n",
    "def cond2(x,y,z):\n",
    "    return (x>0)&(y>0)&(z>0)"
   ]
  },
  {
   "cell_type": "markdown",
   "metadata": {},
   "source": [
    "default meshgrid\n",
    "---------------"
   ]
  },
  {
   "cell_type": "code",
   "execution_count": 9,
   "metadata": {},
   "outputs": [
    {
     "name": "stdout",
     "output_type": "stream",
     "text": [
      "time cond default mesh:  0.0128951072693\n",
      "size cond default mesh:  1061234\n",
      "dCond shape: (101, 102, 103)\n"
     ]
    }
   ],
   "source": [
    "start = time.time()\n",
    "dCond = cond(Xm,Ym,Zm)\n",
    "times['dCond'] = time.time() - start\n",
    "sizes['dCond'] = getsizeof(dCond)\n",
    "print(\"time cond default mesh: \",times['dCond'])\n",
    "print(\"size cond default mesh: \",sizes['dCond'])\n",
    "print(\"dCond shape:\",dCond.shape)\n"
   ]
  },
  {
   "cell_type": "markdown",
   "metadata": {},
   "source": [
    "sparse meshgrid\n",
    "--------------"
   ]
  },
  {
   "cell_type": "code",
   "execution_count": 10,
   "metadata": {},
   "outputs": [
    {
     "name": "stdout",
     "output_type": "stream",
     "text": [
      "time cond sparse mesh:  0.00177812576294\n",
      "size cond sparse mesh:  1061234\n",
      "sCond shape: (101, 102, 103)\n"
     ]
    }
   ],
   "source": [
    "start = time.time()\n",
    "sCond = cond(Xs,Ys,Zs)\n",
    "times['sCond'] = time.time() - start\n",
    "sizes['sCond'] = getsizeof(sCond)\n",
    "print(\"time cond sparse mesh: \",times['sCond'])\n",
    "print(\"size cond sparse mesh: \",sizes['sCond'])\n",
    "print(\"sCond shape:\",sCond.shape)"
   ]
  },
  {
   "cell_type": "markdown",
   "metadata": {},
   "source": [
    "build cond arrays\n",
    "-------------"
   ]
  },
  {
   "cell_type": "code",
   "execution_count": 11,
   "metadata": {},
   "outputs": [
    {
     "name": "stdout",
     "output_type": "stream",
     "text": [
      "Xc shape: (130050,)\n",
      "Yc shape: (130050,)\n",
      "Zc shape: (130050,)\n"
     ]
    }
   ],
   "source": [
    "start = time.time()\n",
    "Xmc = Xm[dCond]\n",
    "times['dEvalCondX'] = time.time() - start\n",
    "sizes['dEvalCondX'] = getsizeof(Xmc)\n",
    "start = time.time()\n",
    "Ymc = Ym[dCond]\n",
    "times['dEvalCondY'] = time.time() - start\n",
    "sizes['dEvalCondY'] = getsizeof(Ymc)\n",
    "start = time.time()\n",
    "Zmc = Zm[dCond]\n",
    "times['dEvalCondZ'] = time.time() - start\n",
    "sizes['dEvalCondZ'] = getsizeof(Zmc)\n",
    "\n",
    "times['dEvalCond'] = times['dEvalCondX'] +times['dEvalCondY'] +times['dEvalCondZ'] \n",
    "sizes['dEvalCond'] = sizes['dEvalCondZ'] + sizes['dEvalCondY'] + sizes['dEvalCondZ']\n",
    "\n",
    "print(\"Xc shape:\",Xmc.shape)\n",
    "print(\"Yc shape:\",Ymc.shape)\n",
    "print(\"Zc shape:\",Zmc.shape)"
   ]
  },
  {
   "cell_type": "code",
   "execution_count": 12,
   "metadata": {},
   "outputs": [
    {
     "name": "stdout",
     "output_type": "stream",
     "text": [
      "Xc shape: (130050,)\n",
      "Yc shape: (130050,)\n",
      "Zc shape: (130050,)\n"
     ]
    }
   ],
   "source": [
    "start = time.time()\n",
    "condInd = np.where(sCond)\n",
    "times['sEvalCondOverhead'] = time.time() - start\n",
    "sizes['sEvalCondOverhead'] = getsizeof(condInd)\n",
    "\n",
    "start = time.time()\n",
    "Xsc = xarr[condInd[0]]\n",
    "times['sEvalCondX'] = time.time() - start\n",
    "sizes['sEvalCondX'] = getsizeof(Xsc)\n",
    "\n",
    "start = time.time()\n",
    "Ysc = yarr[condInd[1]]\n",
    "times['sEvalCondY'] = time.time() - start\n",
    "sizes['sEvalCondY'] = getsizeof(Ysc)\n",
    "\n",
    "start = time.time()\n",
    "Zsc = zarr[condInd[2]]\n",
    "times['sEvalCondZ'] = time.time() - start\n",
    "sizes['sEvalCondZ'] = getsizeof(Zsc)\n",
    "\n",
    "times['sEvalCond'] = times['sEvalCondX'] +times['sEvalCondY'] +times['sEvalCondZ'] +times['sEvalCondOverhead']\n",
    "sizes['sEvalCond'] = sizes['sEvalCondZ'] + sizes['sEvalCondY'] + sizes['sEvalCondZ'] + sizes['sEvalCondOverhead']\n",
    "\n",
    "\n",
    "print(\"Xc shape:\",Xsc.shape)\n",
    "print(\"Yc shape:\",Ysc.shape)\n",
    "print(\"Zc shape:\",Zsc.shape)"
   ]
  },
  {
   "cell_type": "code",
   "execution_count": 13,
   "metadata": {},
   "outputs": [
    {
     "name": "stdout",
     "output_type": "stream",
     "text": [
      "\tThe condArrayX are the same!\n",
      "\tThe condArrayY are the same!\n",
      "\tThe condArrayZ are the same!\n"
     ]
    }
   ],
   "source": [
    "if np.array_equiv(Xmc,Xsc):\n",
    "    print(\"\\tThe condArrayX are the same!\")\n",
    "else:\n",
    "    print(\"\\tThere is somthing wrong with the condArrayX!\")\n",
    "\n",
    "if np.array_equiv(Ymc,Ysc):\n",
    "    print(\"\\tThe condArrayY are the same!\")\n",
    "else:\n",
    "    print(\"\\tThere is somthing wrong with the condArrayY!\")\n",
    "\n",
    "if np.array_equiv(Zmc,Zsc):\n",
    "    print(\"\\tThe condArrayZ are the same!\")\n",
    "else:\n",
    "    print(\"\\tThere is somthing wrong with the condArrayZ!\")"
   ]
  },
  {
   "cell_type": "code",
   "execution_count": 14,
   "metadata": {},
   "outputs": [
    {
     "name": "stdout",
     "output_type": "stream",
     "text": [
      "TIMES\n",
      " --------------------\n",
      "EvalCondZ\n",
      "\ts 0.00203990936279\n",
      "\td 0.00330400466919\n",
      "EvalCondY\n",
      "\ts 0.00238299369812\n",
      "\td 0.00389504432678\n",
      "EvalCondX\n",
      "\ts 0.0049741268158\n",
      "\td 0.0027539730072\n",
      "EvalCondOverhead\n",
      "\ts 0.0111970901489\n",
      "Mesh\n",
      "\ts 0.000879049301147\n",
      "\td 0.0452718734741\n",
      "Cond\n",
      "\ts 0.00177812576294\n",
      "\td 0.0128951072693\n",
      "EvalCond\n",
      "\ts 0.0205941200256\n",
      "\td 0.00995302200317\n",
      "full time default: 7.8073e-02\n",
      "full time sparse:  3.2648e-02\n",
      "SIZES\n",
      " --------------------\n",
      "EvalCondZ\n",
      "\ts 1040496\n",
      "\td 1040496\n",
      "EvalCondY\n",
      "\ts 1040496\n",
      "\td 1040496\n",
      "EvalCondX\n",
      "\ts 1040496\n",
      "\td 1040496\n",
      "EvalCondOverhead\n",
      "\ts 80\n",
      "Cond\n",
      "\ts 1061234\n",
      "\td 1061234\n",
      "EvalCond\n",
      "\ts 3121568\n",
      "\td 3121488\n",
      "MeshX\n",
      "\ts 936\n",
      "\td 8488976\n",
      "MeshY\n",
      "\ts 944\n",
      "\td 8488976\n",
      "MeshZ\n",
      "\ts 952\n",
      "\td 8488976\n"
     ]
    }
   ],
   "source": [
    "print('TIMES\\n',\"-\"*20)\n",
    "timesKeys = times.keys()\n",
    "for i,el in enumerate(timesKeys):\n",
    "    timesKeys[i]=el[1:]\n",
    "timesKeys = list(dict.fromkeys(timesKeys))\n",
    "\n",
    "fullTd = 0.0\n",
    "fullTs= 0.0\n",
    "\n",
    "for el in timesKeys:\n",
    "    print(el)\n",
    "    print(\"\\ts\",times['s'+el])\n",
    "    fullTs+=times['s'+el]\n",
    "    try:\n",
    "        print(\"\\td\",times['d'+el])\n",
    "        fullTd += times['d'+el]\n",
    "    except:\n",
    "        pass\n",
    "\n",
    "print('full time default: %1.4e'%fullTd)\n",
    "print('full time sparse:  %1.4e'%(fullTs-times['sEvalCondOverhead']))\n",
    "\n",
    "\n",
    "print('SIZES\\n',\"-\"*20)\n",
    "sizesKeys = sizes.keys()\n",
    "for i,el in enumerate(sizesKeys):\n",
    "    sizesKeys[i]=el[1:]\n",
    "sizesKeys = list(dict.fromkeys(sizesKeys))\n",
    "\n",
    "for el in sizesKeys:\n",
    "    print(el)\n",
    "    print(\"\\ts\",sizes['s'+el])\n",
    "    try:\n",
    "        print(\"\\td\",sizes['d'+el])\n",
    "    except:\n",
    "        pass"
   ]
  },
  {
   "cell_type": "code",
   "execution_count": null,
   "metadata": {},
   "outputs": [],
   "source": []
  },
  {
   "cell_type": "code",
   "execution_count": null,
   "metadata": {},
   "outputs": [],
   "source": []
  }
 ],
 "metadata": {
  "kernelspec": {
   "display_name": "Python 2",
   "language": "python",
   "name": "python2"
  },
  "language_info": {
   "codemirror_mode": {
    "name": "ipython",
    "version": 2
   },
   "file_extension": ".py",
   "mimetype": "text/x-python",
   "name": "python",
   "nbconvert_exporter": "python",
   "pygments_lexer": "ipython2",
   "version": "2.7.10"
  }
 },
 "nbformat": 4,
 "nbformat_minor": 2
}
