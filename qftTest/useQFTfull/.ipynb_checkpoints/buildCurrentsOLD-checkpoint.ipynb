{
 "cells": [
  {
   "cell_type": "markdown",
   "metadata": {},
   "source": [
    "Build currents on momentum Grid\n",
    "=============="
   ]
  },
  {
   "cell_type": "code",
   "execution_count": 9,
   "metadata": {},
   "outputs": [],
   "source": [
    "import numpy as np\n",
    "from sftrident import qft\n",
    "\n"
   ]
  },
  {
   "cell_type": "markdown",
   "metadata": {},
   "source": [
    "Build grid of kinematic parameters\n",
    "-----------"
   ]
  },
  {
   "cell_type": "code",
   "execution_count": 43,
   "metadata": {},
   "outputs": [
    {
     "name": "stdout",
     "output_type": "stream",
     "text": [
      "shape: (1, 10, 10, 10, 10, 10, 10)\n"
     ]
    }
   ],
   "source": [
    "def GridShape(Grid):\n",
    "    #print [np.array(el.shape) for el in Grid]\n",
    "    return tuple(sum([np.array(el.shape) for el in Grid])-len(Grid)+1)\n",
    "\n",
    "def BuildGrid(ss,p1x,p1y,p1m,p2x,p2y,p2m):\n",
    "    SS  = qft.parray(ss)[:,np.newaxis,np.newaxis,np.newaxis,np.newaxis,np.newaxis,np.newaxis]\n",
    "    P1x = qft.parray(p1x)[np.newaxis,:,np.newaxis,np.newaxis,np.newaxis,np.newaxis,np.newaxis]\n",
    "    P1y = qft.parray(p1y)[np.newaxis,np.newaxis,:,np.newaxis,np.newaxis,np.newaxis,np.newaxis]\n",
    "    P1m = qft.parray(p1m)[np.newaxis,np.newaxis,np.newaxis,:,np.newaxis,np.newaxis,np.newaxis]\n",
    "    P2x = qft.parray(p2x)[np.newaxis,np.newaxis,np.newaxis,np.newaxis,:,np.newaxis,np.newaxis]\n",
    "    P2y = qft.parray(p2y)[np.newaxis,np.newaxis,np.newaxis,np.newaxis,np.newaxis,:,np.newaxis]\n",
    "    P2m = qft.parray(p2m)[np.newaxis,np.newaxis,np.newaxis,np.newaxis,np.newaxis,np.newaxis,:]\n",
    "    return [SS,P1x,P1y,P1m,P2x,P2y,P2m]\n",
    "\n",
    "\n",
    "ssInit = np.array([3.353])\n",
    "pa_x = np.linspace(0.0,3.5,10)\n",
    "pa_y = np.linspace(0.0,3.5,10)\n",
    "pa_m = np.linspace(0.1,3.5,10)\n",
    "\n",
    "pb_x = np.linspace(0.0,3.5,10)\n",
    "pb_y = np.linspace(0.0,3.5,10)\n",
    "pb_m = np.linspace(-1.0,3.5,10)\n",
    "\n",
    "kinGridRaw = BuildGrid(ssInit,pa_x,pa_y,pa_m,pb_x,pb_y,pb_m)\n",
    "print \"shape: %s\"%(str(GridShape(kinGridRaw)))"
   ]
  },
  {
   "cell_type": "markdown",
   "metadata": {},
   "source": [
    "Build secondary kinematic parameters (initial particles)\n",
    "----------"
   ]
  },
  {
   "cell_type": "code",
   "execution_count": 44,
   "metadata": {},
   "outputs": [
    {
     "name": "stdout",
     "output_type": "stream",
     "text": [
      "omega shape: (1, 1, 1, 1, 1, 1, 1)\n",
      "omega: [[[[[[[5.1213045]]]]]]]\n",
      "E shape: (1, 1, 1, 1, 1, 1, 1)\n",
      "E: [[[[[[[1.]]]]]]]\n",
      "Et shape: (1, 1, 1, 1, 1, 1, 1)\n",
      "Et: [[[[[[[6.1213045]]]]]]]\n",
      "pt shape: (1, 1, 1, 1, 1, 1, 1)\n",
      "pt: [[[[[[[5.1213045]]]]]]]\n"
     ]
    }
   ],
   "source": [
    "def omegaFromSS(ss):\n",
    "    #lab\n",
    "    return (ss**2 - 1.0)/2.0\n",
    "\n",
    "#initial particles\n",
    "omega = omegaFromSS(kinGridRaw[0])\n",
    "print \"omega shape: %s\"%(str(omega.shape))\n",
    "print \"omega: %s\"%omega\n",
    "\n",
    "E = np.ones(omega.shape)\n",
    "print \"E shape: %s\"%(str(E.shape))\n",
    "print \"E: %s\"%E\n",
    "\n",
    "Et = omega + E\n",
    "pt = omega\n",
    "print \"Et shape: %s\"%(str(Et.shape))\n",
    "print \"Et: %s\"%Et\n",
    "print \"pt shape: %s\"%(str(pt.shape))\n",
    "print \"pt: %s\"%pt\n",
    "\n",
    "#"
   ]
  },
  {
   "cell_type": "markdown",
   "metadata": {},
   "source": [
    "Build momenta of initial particles\n",
    "-------------"
   ]
  },
  {
   "cell_type": "code",
   "execution_count": 45,
   "metadata": {},
   "outputs": [],
   "source": [
    "K=qft.MinkowskiVector([omega,0,0,omega])\n",
    "P=qft.MinkowskiVector([E,0,0,0])"
   ]
  },
  {
   "cell_type": "markdown",
   "metadata": {},
   "source": [
    "Build secondary kinematic parameters (final particles)\n",
    "----------"
   ]
  },
  {
   "cell_type": "code",
   "execution_count": 46,
   "metadata": {},
   "outputs": [
    {
     "name": "stdout",
     "output_type": "stream",
     "text": [
      "Pcm shape: (1, 1, 1, 10, 1, 1, 10)\n",
      "Pcx shape: (1, 10, 1, 1, 10, 1, 1)\n",
      "Pcy shape: (1, 1, 10, 1, 1, 10, 1)\n"
     ]
    }
   ],
   "source": [
    "Pcm = 0.5*(P._0() - P._3()) - kinGridRaw[3] - kinGridRaw[6]\n",
    "Pcx =  - kinGridRaw[1] - kinGridRaw[4]\n",
    "Pcy =  - kinGridRaw[2] - kinGridRaw[5]\n",
    "\n",
    "print \"Pcm shape: %s\"%(str(Pcm.shape))\n",
    "print \"Pcx shape: %s\"%(str(Pcx.shape))\n",
    "print \"Pcy shape: %s\"%(str(Pcy.shape))"
   ]
  },
  {
   "cell_type": "markdown",
   "metadata": {},
   "source": [
    "Build momenta of final particles (under condition)\n",
    "------------"
   ]
  },
  {
   "cell_type": "code",
   "execution_count": 69,
   "metadata": {
    "scrolled": true
   },
   "outputs": [
    {
     "name": "stdout",
     "output_type": "stream",
     "text": [
      "(1, 1, 1, 10, 1, 1, 10)\n"
     ]
    },
    {
     "ename": "ValueError",
     "evalue": "operands could not be broadcast together with shapes (1,10,10,1,1,1,10) (1,1,1,1,10,10,7) ",
     "output_type": "error",
     "traceback": [
      "\u001b[0;31m---------------------------------------------------------------------------\u001b[0m",
      "\u001b[0;31mValueError\u001b[0m                                Traceback (most recent call last)",
      "\u001b[0;32m<ipython-input-69-14e5d07e6682>\u001b[0m in \u001b[0;36m<module>\u001b[0;34m()\u001b[0m\n\u001b[1;32m     17\u001b[0m \u001b[0mPc\u001b[0m \u001b[0;34m=\u001b[0m \u001b[0mBuildMomentum\u001b[0m\u001b[0;34m(\u001b[0m\u001b[0mPcx\u001b[0m\u001b[0;34m,\u001b[0m\u001b[0mPcy\u001b[0m\u001b[0;34m,\u001b[0m\u001b[0mPcm\u001b[0m\u001b[0;34m)\u001b[0m\u001b[0;34m\u001b[0m\u001b[0m\n\u001b[1;32m     18\u001b[0m \u001b[0;34m\u001b[0m\u001b[0m\n\u001b[0;32m---> 19\u001b[0;31m \u001b[0mPa\u001b[0m\u001b[0;34m*\u001b[0m\u001b[0mPb\u001b[0m\u001b[0;34m\u001b[0m\u001b[0m\n\u001b[0m",
      "\u001b[0;32m/Users/szabo/pyTableTest/venv/lib/python2.7/site-packages/sftrident/qft/minkowskispace.pyc\u001b[0m in \u001b[0;36m__mul__\u001b[0;34m(self, other)\u001b[0m\n\u001b[1;32m     95\u001b[0m                         \u001b[0motherind_space\u001b[0m  \u001b[0;34m=\u001b[0m \u001b[0;34m(\u001b[0m\u001b[0mslice\u001b[0m\u001b[0;34m(\u001b[0m\u001b[0;36m1\u001b[0m\u001b[0;34m,\u001b[0m\u001b[0mNone\u001b[0m\u001b[0;34m)\u001b[0m\u001b[0;34m,\u001b[0m\u001b[0;34m)\u001b[0m \u001b[0;34m+\u001b[0m \u001b[0motherindbase\u001b[0m\u001b[0;34m\u001b[0m\u001b[0m\n\u001b[1;32m     96\u001b[0m \u001b[0;34m\u001b[0m\u001b[0m\n\u001b[0;32m---> 97\u001b[0;31m \t\t\treturn parray(self.data[selfind_time]*other.data[otherind_time]\t\\\n\u001b[0m\u001b[1;32m     98\u001b[0m \t\t\t\t\t- sum(self.data[selfind_space] * other.data[otherind_space], axis=0))\n\u001b[1;32m     99\u001b[0m \u001b[0;34m\u001b[0m\u001b[0m\n",
      "\u001b[0;31mValueError\u001b[0m: operands could not be broadcast together with shapes (1,10,10,1,1,1,10) (1,1,1,1,10,10,7) "
     ]
    }
   ],
   "source": [
    "def physArea(P1m,P2m,P3m):\n",
    "    return (P1m>0) & (P2m>0) & (P3m>0) \n",
    "\n",
    "\n",
    "def BuildMomentum(px,py,pm):\n",
    "    pp = (px**2 + py**2 + 1)/(4.0*pm)\n",
    "    return qft.MinkowskiVector([pp+pm,px,py,pp-pm])\n",
    "\n",
    "\n",
    "def buildAllMom(p1x,p1y,p1m,p2x,p2y,p2m,p3x,p3y,p3m):\n",
    "    p1mT = p1m[p1m>0 & p2m>0 & p3m>0]\n",
    "    p2mT = p2m[p1m>0 & p2m>0 & p3m>0]\n",
    "    p2mT = p2m[p1m>0 & p2m>0 & p3m>0]\n",
    "    P1 = BuildMomentum(p1x,p1y,p1m)\n",
    "    P2 = BuildMomentum(p2x,p2y,p2m)\n",
    "    P3 = BuildMomentum(p3x,p3y,p3m)\n",
    "    return P1,P2,P3\n",
    "\n",
    "\n",
    "physAr = physArea(kinGridRaw[3],kinGridRaw[6],Pcm)\n",
    "print physAr.shape\n",
    "\n",
    "\n",
    "Pa = BuildMomentum(kinGridRaw[1],kinGridRaw[2],kinGridRaw[3])\n",
    "Pb = BuildMomentum(kinGridRaw[4],kinGridRaw[5],kinGridRaw[6])\n",
    "Pc = BuildMomentum(Pcx,Pcy,Pcm)"
   ]
  },
  {
   "cell_type": "code",
   "execution_count": 66,
   "metadata": {},
   "outputs": [
    {
     "name": "stdout",
     "output_type": "stream",
     "text": [
      "(1, 10, 10, 1, 1, 1, 10)\n",
      "(1, 1, 1, 1, 10, 10, 7)\n"
     ]
    }
   ],
   "source": [
    "def allowedMass(kinPara):\n",
    "    mom = BuildMomentum(*kinPara)\n",
    "    res = mom*mom\n",
    "    #print \"type: %s\"%(res.shape)\n",
    "    #print \"shape: %s\"%(str(res.shape))\n",
    "    return res\n",
    "\n",
    "\n",
    "def Mass(px,py,pm):\n",
    "    \"\"\"\n",
    "    calcs the mass on Grid where pm>0 (else mass=0)\n",
    "    \"\"\"\n",
    "    pmAllowed = pm[pm>0]\n",
    "    res = allowedMass([px,py,pmAllowed])\n",
    "    return res\n",
    "    \n",
    "m2= Mass(kinGridRaw[4],kinGridRaw[5],kinGridRaw[6])\n",
    "#allowedMass([kinGridRaw[1],kinGridRaw[2],kinGridRaw[3]])\n",
    "m1 = Mass(kinGridRaw[1],kinGridRaw[2],kinGridRaw[3])\n",
    "print np.asarray(m1).shape\n",
    "print np.asarray(m2).shape\n",
    "#Pa = BuildMomentum(kinGridRaw[1],kinGridRaw[2],kinGridRaw[3])\n",
    "#Pb = BuildMomentum(kinGridRaw[4],kinGridRaw[5],kinGridRaw[6])\n",
    "#Pc = BuildMomentum(Pcx,Pcy,Pcm)\n"
   ]
  },
  {
   "cell_type": "code",
   "execution_count": 26,
   "metadata": {},
   "outputs": [
    {
     "name": "stdout",
     "output_type": "stream",
     "text": [
      "(1, 10, 1, 10, 10, 1, 10)\n",
      "(1, 10, 1, 1, 10, 1, 1)\n"
     ]
    }
   ],
   "source": []
  },
  {
   "cell_type": "code",
   "execution_count": null,
   "metadata": {},
   "outputs": [],
   "source": []
  }
 ],
 "metadata": {
  "kernelspec": {
   "display_name": "Python 2",
   "language": "python",
   "name": "python2"
  },
  "language_info": {
   "codemirror_mode": {
    "name": "ipython",
    "version": 2
   },
   "file_extension": ".py",
   "mimetype": "text/x-python",
   "name": "python",
   "nbconvert_exporter": "python",
   "pygments_lexer": "ipython2",
   "version": "2.7.10"
  }
 },
 "nbformat": 4,
 "nbformat_minor": 2
}
