{
 "cells": [
  {
   "cell_type": "markdown",
   "metadata": {},
   "source": [
    "Prototyping filon single evaluation\n",
    "========="
   ]
  },
  {
   "cell_type": "markdown",
   "metadata": {},
   "source": [
    "The goal is to evaluate a highly oscillatory integral with the filon method. \n",
    "Thereby one only needs to evaluate the integral on one frequency for each point in the grid.\n",
    "(current build evaluates the whole frequency array at each point of the grid)\n",
    "\n",
    "The (test) integral to evaluate reads:\n",
    "$$\n",
    "I(a,r) = \\int_0^{2\\pi} \\log(ax) \\cos(rx)\\, dx.\n",
    "$$\n",
    "The exact solution is therefor:\n",
    "$$\n",
    "I(a,r) = \\frac{1}{r}(\\log(ax)\\sin(rx) - \\text{Si}(rx))\n",
    "$$\n",
    "The test case: we want to evaluate $I(a,a)$, $I(a,a^2 + 1)$ for some random a in the interval $(10^{-3},2)$."
   ]
  },
  {
   "cell_type": "markdown",
   "metadata": {},
   "source": [
    "Module: filon.py\n",
    "--------"
   ]
  },
  {
   "cell_type": "code",
   "execution_count": 1,
   "metadata": {},
   "outputs": [],
   "source": [
    "from numpy import sin, cos, pi, mod, \\\n",
    "    zeros, arange, linspace, require, \\\n",
    "    where, sum,isscalar\n",
    "\n",
    "from __future__ import print_function\n",
    "\n",
    "__doc__ = \"\"\"\n",
    "Python implementation of Filon's integration formula.\n",
    "\n",
    "For information about Filon's formula, see e.g.\n",
    "Abramowitz, Stegun, Handbook of Mathematical Functions, section 25,\n",
    "http://mathworld.wolfram.com/FilonsIntegrationFormula.html,\n",
    "Allen, Tildesley, Computer Simulation of Liquids, Appendix D.\n",
    "\n",
    "Integration is performed along one dimension (default axis=0), e.g.\n",
    "\n",
    " [F0[0]  F1[0] ..  FN[0] ]     [f0[0]  f1[0] ..  fN[0] ]\n",
    " [   .      .         .  ]     [   .      .         .  ]\n",
    " [F0[.]  F1[.] ..  FN[.] ] = I([f0[.]  f1[.] ..  fN[.] ], dx, [k[0] .. k[Nk]])\n",
    " [   .      .         .  ]     [   .      .         .  ]\n",
    " [F0[Nk] F1[Nk] .. FN[Nk]]     [f0[Nx] f1[Nx] .. fN[Nx]]\n",
    "\n",
    "where k and Fj have end index Nk, and fj have end index Nx.\n",
    "Nk is arbitray (implicitly derived from the length of k).\n",
    "Due to the algorithm, fj[Nx] must be of odd length (Nx must be an even number),\n",
    "and should correspond to a linearly spaced set of data points (separated by\n",
    "dx along the integration axis).\n",
    "\n",
    "sin_integral and cos_integral allows for shifted\n",
    "integration intervals by the optional argument x0.\n",
    "\n",
    "\"\"\"\n",
    "\n",
    "\n",
    "def fourier_cos(f, dx, k=None, axis=0):\n",
    "    \"\"\"Calculate a direct fourier cosine transform of function f(x) using\n",
    "    Filon's integration method\n",
    "\n",
    "    k, F = fourier_cos(f, dx)\n",
    "    Array values f[0]..f[2n] is expected to correspond to f(0.0)..f(2n*dx),\n",
    "    hence, it should contain an odd number of elements.\n",
    "    The transform is approximated with the integral\n",
    "    2*\\int_{0}^{xmax}\n",
    "    where xmax = 2n*dx\n",
    "\n",
    "    If k is not provided, linspace(0.0, 2*pi/dx, f.shape[axis]),\n",
    "    will be used.\n",
    "    \"\"\"\n",
    "\n",
    "    if k is None:\n",
    "        k = linspace(0.0, 2*pi/dx, f.shape[axis])\n",
    "\n",
    "    return k, 2*cos_integral(f, dx, k, x0=0.0, axis=axis)\n",
    "\n",
    "\n",
    "def cos_integral(f, dx, k, x0=0.0, axis=0):\n",
    "    \"\"\"\\int_{x0}^{2n*dx} f(x)*cos(k x) dx\n",
    "\n",
    "    f must have length 2n+1 along the integration axis.\n",
    "    \"\"\"\n",
    "    return _gen_sc_int(f, dx, k, x0, axis, cos)\n",
    "\n",
    "def sin_integral(f, dx, k, x0=0.0, axis=0):\n",
    "    \"\"\"\\int_{x0}^{2n*dx} f(x)*sin(k x) dx\n",
    "\n",
    "    f must have length 2n+1 along the integration axis.\n",
    "    \"\"\"\n",
    "    return _gen_sc_int(f, dx, k, x0, axis, sin)\n",
    "\n",
    "def _gen_sc_int(f, dx, k, x0, axis, sc):\n",
    "\n",
    "    f = require(f)\n",
    "    print(\"f.shape:\",f.shape)\n",
    "    print(\"f.ndim:\",f.ndim)\n",
    "    k = require(k)\n",
    "    print('k.shape',k.shape)\n",
    "\n",
    "    try:\n",
    "        axis = range(f.ndim)[axis]\n",
    "    except (IndexError, TypeError):\n",
    "        print('Error: axis(=%s) is invalid' % str(axis))\n",
    "        raise\n",
    "\n",
    "    if k.ndim != 1:\n",
    "        raise ValueError('k is not one dimensional, it is: \\n%s \\n%s \\n%s \\nisscalar: %s'%(type(k),k.ndim,k,isscalar(k)))\n",
    "\n",
    "    Nk = len(k)\n",
    "    print('Nk',Nk)\n",
    "    Nx = f.shape[axis]\n",
    "    print('Nx',Nx)\n",
    "    x_shape = [1]*f.ndim + [Nx] # We'll transpose axis and put it last\n",
    "    print('x_shape',x_shape)\n",
    "    k_shape = [1]*(f.ndim+1)    #\n",
    "    k_shape[axis] = Nk          #\n",
    "    print('k_shape',k_shape)\n",
    "\n",
    "    if mod((Nx-1), 2) != 0 or Nx < 3:\n",
    "        raise ValueError('f must have an odd length, >=3, along its integration axis')\n",
    "\n",
    "    print('f.ndim',f.ndim)\n",
    "    s = (slice(None),)*f.ndim\n",
    "    print(\"s\",s)\n",
    "    odd_index =   s + (slice(1,None,2),)\n",
    "    print('odd_index',odd_index)\n",
    "    even_index =  s + (slice(0,None,2),)\n",
    "    print('even_index',even_index)\n",
    "    first_index = s + ((0,),)\n",
    "    print('first_index',first_index)\n",
    "    last_index =  s + ((-1,),)\n",
    "    print('last_index',last_index)\n",
    "\n",
    "    alpha, beta, gamma = [x.reshape(k_shape[:-1]) for x in _alpha_beta_gamma(dx*k)]\n",
    "    print('alpha.shape',alpha.shape)\n",
    "    print('beta.shape',beta.shape)\n",
    "    print('gamma.shape',gamma.shape)\n",
    "    x = (x0+dx*arange(0.0, Nx)).reshape(x_shape)\n",
    "    print(\"x.shape\",x.shape)\n",
    "    k = k.reshape(k_shape)\n",
    "    print('k_shape',k_shape)\n",
    "\n",
    "    # Add an extra dimension to f, and transpose it to put the x-dimension at axis=-1\n",
    "    t = range(f.ndim+1)\n",
    "    t[axis], t[-1] = t[-1], t[axis]\n",
    "    f = f.reshape(f.shape+(1,)).transpose(t)\n",
    "    print(\"f.shape:\",f.shape)\n",
    "    sc_k_x = sc(k*x)\n",
    "    sc_k_x[first_index] *= 0.5\n",
    "    sc_k_x[last_index] *= 0.5\n",
    "    \n",
    "    print('sc_k_x.shape',sc_k_x.shape)\n",
    "    print('sc_k_x[even_index].shape',sc_k_x[even_index].shape)\n",
    "    \n",
    "    if sc == sin:\n",
    "        return dx*(alpha * sum((f[first_index] * cos(k*x0) -\n",
    "                                f[last_index]  * cos(k*x[last_index])), axis=-1) +\n",
    "                   beta  * sum(f[even_index] * sc_k_x[even_index],      axis=-1) +\n",
    "                   gamma * sum(f[odd_index]  * sc_k_x[odd_index],       axis=-1))\n",
    "\n",
    "    elif sc == cos:\n",
    "        return dx*(alpha * sum((f[last_index]  * sin(k*x[last_index]) -\n",
    "                                f[first_index] * sin(k*x0)),         axis=-1) +\n",
    "                   beta  * sum(f[even_index] * sc_k_x[even_index],   axis=-1) +\n",
    "                   gamma * sum(f[odd_index]  * sc_k_x[odd_index],    axis=-1))\n",
    "\n",
    "    raise RuntimeError('Internal error, this should not happen')\n",
    "\n",
    "\n",
    "\n",
    "def _alpha_beta_gamma(theta):\n",
    "    # From theta, calculate alpha, beta, and gamma\n",
    "\n",
    "    N = len(theta)\n",
    "    alpha = zeros(N)\n",
    "    beta = zeros(N)\n",
    "    gamma = zeros(N)\n",
    "\n",
    "    # theta==0 needs special treatment\n",
    "    I_nz, = theta.nonzero()\n",
    "    I_z, = where(theta==0.0)\n",
    "    if len(I_z) > 0:\n",
    "        beta[I_z] = 2.0/3.0\n",
    "        gamma[I_z] = 4.0/3.0\n",
    "        theta = theta[I_nz]\n",
    "\n",
    "    sin_t = sin(theta)\n",
    "    cos_t = cos(theta)\n",
    "    sin2_t = sin_t*sin_t\n",
    "    cos2_t = cos_t*cos_t\n",
    "    theta2 = theta*theta\n",
    "    itheta3 = 1.0/(theta2*theta)\n",
    "\n",
    "    alpha[I_nz] = itheta3*(theta2 + theta*sin_t*cos_t - 2*sin2_t)\n",
    "    beta[I_nz] = 2*itheta3*(theta*(1+cos2_t) - 2*sin_t*cos_t)\n",
    "    gamma[I_nz] = 4*itheta3*(sin_t - theta*cos_t)\n",
    "\n",
    "    return (alpha, beta, gamma)\n",
    "\n"
   ]
  },
  {
   "cell_type": "code",
   "execution_count": 2,
   "metadata": {},
   "outputs": [
    {
     "name": "stderr",
     "output_type": "stream",
     "text": [
      "/Users/szabo/pyTableTest/venv/lib/python2.7/site-packages/scipy/special/__init__.py:640: RuntimeWarning: numpy.dtype size changed, may indicate binary incompatibility. Expected 96, got 88\n",
      "  from ._ufuncs import *\n",
      "/Users/szabo/pyTableTest/venv/lib/python2.7/site-packages/scipy/linalg/basic.py:17: RuntimeWarning: numpy.dtype size changed, may indicate binary incompatibility. Expected 96, got 88\n",
      "  from ._solve_toeplitz import levinson\n",
      "/Users/szabo/pyTableTest/venv/lib/python2.7/site-packages/scipy/linalg/__init__.py:207: RuntimeWarning: numpy.dtype size changed, may indicate binary incompatibility. Expected 96, got 88\n",
      "  from ._decomp_update import *\n",
      "/Users/szabo/pyTableTest/venv/lib/python2.7/site-packages/scipy/special/_ellip_harm.py:7: RuntimeWarning: numpy.dtype size changed, may indicate binary incompatibility. Expected 96, got 88\n",
      "  from ._ellip_harm_2 import _ellipsoid, _ellipsoid_norm\n"
     ]
    }
   ],
   "source": [
    "import numpy as np\n",
    "from scipy.special import sici\n",
    "import time\n",
    "times = {}"
   ]
  },
  {
   "cell_type": "code",
   "execution_count": 38,
   "metadata": {},
   "outputs": [
    {
     "name": "stdout",
     "output_type": "stream",
     "text": [
      "aArr.shape (10,)\n",
      "rArr.shape (10,)\n"
     ]
    }
   ],
   "source": [
    "# prepare initial params\n",
    "aArr = np.random.uniform(1e-3,2,10)\n",
    "rArr = aArr**2 + 1\n",
    "\n",
    "print('aArr.shape',aArr.shape)\n",
    "print('rArr.shape',rArr.shape) "
   ]
  },
  {
   "cell_type": "code",
   "execution_count": 39,
   "metadata": {},
   "outputs": [
    {
     "name": "stdout",
     "output_type": "stream",
     "text": [
      "resEall.shape (10,)\n"
     ]
    }
   ],
   "source": [
    "def exactINDEF(r,a,x):\n",
    "    return (np.log(a*x)*np.sin(r*x) - sici(r*x)[0])/r\n",
    "\n",
    "def exact(r,a,low,up):\n",
    "    return exactINDEF(r,a,up) - exactINDEF(r,a,low)\n",
    "\n",
    "start = time.time()\n",
    "resEall = exact(rArr,aArr,1,2.0*np.pi)\n",
    "end = time.time() - start\n",
    "times['exactAll'] = end\n",
    "\n",
    "print('resEall.shape',resEall.shape)"
   ]
  },
  {
   "cell_type": "code",
   "execution_count": 40,
   "metadata": {},
   "outputs": [
    {
     "name": "stdout",
     "output_type": "stream",
     "text": [
      "f.shape: (1001, 10)\n",
      "f.ndim: 2\n",
      "k.shape (10,)\n",
      "Nk 10\n",
      "Nx 1001\n",
      "x_shape [1, 1, 1001]\n",
      "k_shape [10, 1, 1]\n",
      "f.ndim 2\n",
      "s (slice(None, None, None), slice(None, None, None))\n",
      "odd_index (slice(None, None, None), slice(None, None, None), slice(1, None, 2))\n",
      "even_index (slice(None, None, None), slice(None, None, None), slice(0, None, 2))\n",
      "first_index (slice(None, None, None), slice(None, None, None), (0,))\n",
      "last_index (slice(None, None, None), slice(None, None, None), (-1,))\n",
      "alpha.shape (10, 1)\n",
      "beta.shape (10, 1)\n",
      "gamma.shape (10, 1)\n",
      "x.shape (1, 1, 1001)\n",
      "k_shape [10, 1, 1]\n",
      "f.shape: (1, 10, 1001)\n",
      "sc_k_x.shape (10, 1, 1001)\n",
      "sc_k_x[even_index].shape (10, 1, 501)\n",
      "resFall.shape (10,)\n"
     ]
    }
   ],
   "source": [
    "\n",
    "def integrand(a,x):\n",
    "    return np.log(a*x)\n",
    "\n",
    "def filonIntAll(r,a,low,up,n=1001): \n",
    "    aGrid = a[np.newaxis,:]\n",
    "    args,steps = np.linspace(low,up,n,retstep=True,endpoint=True)\n",
    "    argsGrid = args[:,np.newaxis]\n",
    "    intArr = integrand(aGrid,argsGrid)\n",
    "    res = cos_integral(intArr,steps,r,low,axis=0)\n",
    "    #print a.shape\n",
    "    return res\n",
    "\n",
    "start = time.time()\n",
    "resFraw = filonIntAll(rArr,aArr,1,2.0*np.pi)\n",
    "resFall = np.diagonal(resFraw)\n",
    "end = time.time() - start\n",
    "times['filonAll'] = end\n",
    "\n",
    "\n",
    "print('resFall.shape',resFall.shape)"
   ]
  },
  {
   "cell_type": "code",
   "execution_count": 41,
   "metadata": {},
   "outputs": [
    {
     "name": "stdout",
     "output_type": "stream",
     "text": [
      "full time (10 calls):  \t9.9730e-03 | 2.5201e-04\n",
      "time per call:         \t\t9.9730e-04 | 2.5201e-05\n"
     ]
    }
   ],
   "source": [
    "#ind = 0\n",
    "#for ir,rel in enumerate(rArr):\n",
    "#    for ia,ael in enumerate(aArr):\n",
    "#        print \"%d:\\t %1.4e\\t%1.4e\\t| %1.4e \\t%1.4e \\t| %1.4e \\t%1.4e\"%(ind,rel,ael,resFall[ir][ia],resEall[ir][ia],resFall[ir][ia]-resEall[ir][ia],np.abs((resFall[ir][ia]-resEall[ir][ia])/(resFall[ir][ia]+resEall[ir][ia])))\n",
    "#       ind+=1\n",
    "calls = len(rArr)\n",
    "print(\"full time (%d calls):  \\t%1.4e | %1.4e\"%(calls,times['filonAll'],times['exactAll']))\n",
    "print(\"time per call:         \\t\\t%1.4e | %1.4e\"%(times['filonAll']/calls,times['exactAll']/calls))"
   ]
  },
  {
   "cell_type": "code",
   "execution_count": 42,
   "metadata": {},
   "outputs": [
    {
     "name": "stdout",
     "output_type": "stream",
     "text": [
      "[ 0.17053376 -0.11987018  0.22058861  0.79840037  0.03652049 -0.39017931\n",
      "  0.97565522 -0.06118498 -0.23911501 -0.70434216]\n",
      "[ 0.17053376 -0.11987018  0.22058861  0.79840037  0.03652049 -0.39017931\n",
      "  0.97565522 -0.06118498 -0.23911501 -0.70434216]\n",
      "max. relErr: (1.4939e+00,7.0278e-01) 1.5666e-10\n"
     ]
    }
   ],
   "source": [
    "print(resFall)\n",
    "print(resEall)\n",
    "\n",
    "\n",
    "\n",
    "relErr = np.abs((resFall-resEall)/(resFall+resEall))\n",
    "\n",
    "\n",
    "\n",
    "i = np.unravel_index(relErr.argmax(), relErr.shape)\n",
    "print(\"max. relErr: (%1.4e,%1.4e) %1.4e\"%(rArr[i],aArr[i],relErr[i]))"
   ]
  },
  {
   "cell_type": "code",
   "execution_count": null,
   "metadata": {},
   "outputs": [],
   "source": [
    "s = (slice(0,None,2))"
   ]
  },
  {
   "cell_type": "code",
   "execution_count": null,
   "metadata": {},
   "outputs": [],
   "source": [
    "print(s)"
   ]
  },
  {
   "cell_type": "code",
   "execution_count": null,
   "metadata": {},
   "outputs": [],
   "source": [
    "a=linspace(0,10,100)\n",
    "print(a)"
   ]
  },
  {
   "cell_type": "code",
   "execution_count": null,
   "metadata": {},
   "outputs": [],
   "source": [
    "print(a[s])"
   ]
  },
  {
   "cell_type": "code",
   "execution_count": null,
   "metadata": {},
   "outputs": [],
   "source": []
  }
 ],
 "metadata": {
  "kernelspec": {
   "display_name": "Python 2",
   "language": "python",
   "name": "python2"
  },
  "language_info": {
   "codemirror_mode": {
    "name": "ipython",
    "version": 2
   },
   "file_extension": ".py",
   "mimetype": "text/x-python",
   "name": "python",
   "nbconvert_exporter": "python",
   "pygments_lexer": "ipython2",
   "version": "2.7.10"
  }
 },
 "nbformat": 4,
 "nbformat_minor": 2
}
