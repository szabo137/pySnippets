{
 "cells": [
  {
   "cell_type": "markdown",
   "metadata": {},
   "source": [
    "Matrix element (weakfield) - BW version\n",
    "========\n",
    "Testenv to check the valitity of the matrix element calculation on a grid."
   ]
  },
  {
   "cell_type": "code",
   "execution_count": 1,
   "metadata": {},
   "outputs": [],
   "source": [
    "from __future__ import print_function\n",
    "import sftrident as sf\n",
    "import sftrident.coordinate as corr\n",
    "from sftrident.matrixElement2 import matrixElementWF\n",
    "import numpy as np\n",
    "import time\n",
    "times = {}"
   ]
  },
  {
   "cell_type": "code",
   "execution_count": 2,
   "metadata": {},
   "outputs": [
    {
     "name": "stdout",
     "output_type": "stream",
     "text": [
      "(6.378392537985453e-11-0j)\n"
     ]
    }
   ],
   "source": [
    "def buildArr_lcc(Nss,N1m,N1x,N1y,N2m,N2x,N2y,eps=1e-5):\n",
    "    ss = np.linspace(3.1,4.1,Nss)\n",
    "    p1m = np.linspace(eps,1.5,N1m)\n",
    "    p1x = np.linspace(-2,2,N1x)\n",
    "    p1y = np.linspace(-2,2,N1y)\n",
    "    p2m = np.linspace(eps,1.5,N2m)\n",
    "    p2x = np.linspace(-2,2,N2x)\n",
    "    p2y = np.linspace(-2,2,N2y)\n",
    "    return [ss,p1m,p1x,p1y,p2m,p2x,p2y]\n",
    "\n",
    "\n",
    "def buildArr_sph(Nss,Ne1,Nc1,Np1,Ne2,Nc2,Np2,eps=1e-5):\n",
    "    ss = np.linspace(3.1,4.1,Nss)\n",
    "    e1 = np.linspace(1.0+eps,5,Ne1)\n",
    "    c1 = np.linspace(-1.0,1.0,Nc1)\n",
    "    p1 = np.linspace(0.0,2.0*np.pi,Np1)\n",
    "    e2 = np.linspace(1.0+eps,5,Ne2)\n",
    "    c2 = np.linspace(-1.0,1.0,Nc2)\n",
    "    p2 = np.linspace(0.0,2.0*np.pi,Np2)\n",
    "    return [ss,e1,c1,p1,e2,c2,p2]\n",
    "\n",
    "\n",
    "mass = 1.0\n",
    "Narr1 = (2,3,4,5,6,7,8)\n",
    "frame = 'lab'\n",
    "tempDPHI = 50.0\n",
    "\n",
    "arrLCC = buildArr_lcc(*Narr1)\n",
    "\n",
    "arrSPH = buildArr_sph(*Narr1)\n",
    "\n",
    "start = time.time()\n",
    "#kinObj = corr.momenta(*arrLCC,mass = mass,frame = frame,coordSys='lcc')\n",
    "kinObj = corr.momenta(*arrSPH,mass = mass,frame = frame,coordSys='sph')\n",
    "end =  time.time() - start\n",
    "times['initMom']=end\n",
    "\n",
    "config = {'a0':1e-4,'mass':1.0,'xi':0.0,'dPhi':tempDPHI,'psBounds':[-tempDPHI,tempDPHI],'envelope':'cos','pulseOpt':['analytic'],'deg':2500,'wf':True,'system':'lab'}\n",
    "\n",
    "start = time.time()\n",
    "matObj = matrixElementWF(kinObj,**config)\n",
    "end =  time.time() - start\n",
    "times['initMat'] = end\n",
    "\n",
    "print(matObj.bw(0,1,1,0)[0])\n",
    "\n"
   ]
  },
  {
   "cell_type": "code",
   "execution_count": null,
   "metadata": {},
   "outputs": [],
   "source": []
  },
  {
   "cell_type": "code",
   "execution_count": null,
   "metadata": {},
   "outputs": [],
   "source": []
  },
  {
   "cell_type": "code",
   "execution_count": 3,
   "metadata": {},
   "outputs": [
    {
     "name": "stdout",
     "output_type": "stream",
     "text": [
      "(16, 960)\n"
     ]
    }
   ],
   "source": [
    "spins = [(0, 0, 0, 0), (0, 0, 0, 1), (0, 0, 1, 0), (0, 0, 1, 1), (0, 1, 0, 0), (0, 1, 0, 1), (0, 1, 1, 0), (0, 1, 1, 1), (1, 0, 0, 0), (1, 0, 0, 1), (1, 0, 1, 0), (1, 0, 1, 1), (1, 1, 0, 0), (1, 1, 0, 1), (1, 1, 1, 0), (1, 1, 1, 1)]\n",
    "\n",
    "wrappBW = lambda spn : np.asarray(matObj.bw(*spn))\n",
    "\n",
    "start = time.time()\n",
    "resBWgrid = np.array(map(wrappBW,spins))\n",
    "end =  time.time() - start\n",
    "times['mapMat'] =end\n",
    "\n",
    "print(resBWgrid.shape)"
   ]
  },
  {
   "cell_type": "code",
   "execution_count": null,
   "metadata": {},
   "outputs": [],
   "source": []
  },
  {
   "cell_type": "code",
   "execution_count": 4,
   "metadata": {},
   "outputs": [
    {
     "name": "stdout",
     "output_type": "stream",
     "text": [
      "Done with 0 errors.\n",
      "max. abs. error: 1.39e-17 + i 5.62e-23\n",
      "max. rel. error: 8.78e-15 + i 5.74e-15\n",
      "max. abs. error (Msq): 6.94e-18\n",
      "max. rel. error (Msq): 2.55e-16\n"
     ]
    }
   ],
   "source": [
    "def sorted2List(X,Y):\n",
    "    \"\"\"\n",
    "    sorts the list X with the values of Y\n",
    "    \"\"\"\n",
    "    return [x for _, x in sorted(zip(Y,X), key=lambda pair: pair[0])]\n",
    "\n",
    "\n",
    "modeDict={\n",
    "'bw':[0, 4, 8, 12, 1, 5, 9, 13, 2, 6, 10, 14, 3, 7, 11, 15],\n",
    "'c':[0, 1, 2, 3, 4, 5, 6, 7, 8, 9, 10, 11, 12, 13, 14, 15],\n",
    "'bwx':[0, 11, 8, 3, 14, 5, 6, 13, 2, 9, 10, 1, 12, 7, 4, 15],\n",
    "'cx':[0, 14, 2, 12, 11, 5, 9, 7, 8, 6, 10, 4, 3, 13, 1, 15]\n",
    "}\n",
    "spinMode = np.array([\n",
    "    (0,0,0,0),\n",
    "    (0,0,1,1),\n",
    "    (0,0,0,1),\n",
    "    (0,0,1,0),\n",
    "    (1,1,0,0),\n",
    "    (1,1,1,1),\n",
    "    (1,1,0,1),\n",
    "    (1,1,1,0),\n",
    "    (0,1,0,0),\n",
    "    (0,1,1,1),\n",
    "    (0,1,0,1),\n",
    "    (0,1,1,0),\n",
    "    (1,0,0,0),\n",
    "    (1,0,1,1),\n",
    "    (1,0,0,1),\n",
    "    (1,0,1,0),\n",
    "])\n",
    "    \n",
    "matObjSQ = sf.matrixElement(config)\n",
    "def getMatBW(n):\n",
    "    kinPara = [kinObj.grid.ssGrid[n],kinObj.grid.lccGrid1[1][n], kinObj.grid.lccGrid1[2][n],kinObj.grid.lccGrid1[0][n],kinObj.grid.lccGrid2[1][n], kinObj.grid.lccGrid2[2][n],kinObj.grid.lccGrid2[0][n]]\n",
    "    matObjSQ.setKin(kinPara)\n",
    "    resOld = matObjSQ.evalMdirPartBW()\n",
    "    tempSpins = spinMode[modeDict['bw']]\n",
    "    #print(sorted2List([list(t) for t in tempSpins],[list(t) for t in tempSpins]))\n",
    "    return sorted2List(np.asarray(resOld),[list(t) for t in tempSpins])\n",
    "    #return kinPara\n",
    "\n",
    "err = 0\n",
    "maxAERR_R = 0.0\n",
    "maxAERR_I = 0.0\n",
    "\n",
    "relERR_R = 0.0\n",
    "maxRERR_R = 0.0\n",
    "relERR_I = 0.0\n",
    "maxRERR_I = 0.0\n",
    "\n",
    "Msq_aerr=0.0\n",
    "Msq_rerr = 0.0\n",
    "Msq_rerr_max = 0.0\n",
    "\n",
    "for ind in np.arange(kinObj.grid.size):\n",
    "    bwResSQ = getMatBW(ind)\n",
    "    MsqSQ = 0.0\n",
    "    MsqNP = 0.0\n",
    "    for i,spin in enumerate(spins):\n",
    "        #print('i',i)\n",
    "        #print()\n",
    "        #print(el)\n",
    "        #print(\"\\t\",bwResSQ[i])\n",
    "        #print(\"\\t\",resBWgrid[i][ind])\n",
    "        test = np.isclose(bwResSQ[i],resBWgrid[i][ind],atol=1e-15,rtol=1e-8)\n",
    "        absERR_R = bwResSQ[i].real-resBWgrid[i][ind].real\n",
    "        maxAERR_R = max(maxAERR_R,absERR_R)\n",
    "        norm_R = bwResSQ[i].real+resBWgrid[i][ind].real\n",
    "        if norm_R != 0.0:\n",
    "            relERR_R = absERR_R/norm_R\n",
    "        maxRERR_R = max(maxRERR_R,relERR_R)\n",
    "        \n",
    "        absERR_I = bwResSQ[i].imag-resBWgrid[i][ind].imag\n",
    "        maxAERR_I = max(maxAERR_I,absERR_I)\n",
    "        norm_I = bwResSQ[i].imag+resBWgrid[i][ind].imag\n",
    "        if norm_I != 0.0:\n",
    "            relERR_I = absERR_I/norm_I\n",
    "        maxRERR_I = max(maxRERR_I,relERR_I)\n",
    "        #if not test:\n",
    "            #print(\"ind\",ind)\n",
    "            #print('i',i)\n",
    "            #print(spin)\n",
    "            #print(spins)\n",
    "            #print(\"\\t\",bwResSQ[i])\n",
    "            #print(\"\\t\",resBWgrid[i][ind])\n",
    "            #err+=1\n",
    "        MsqSQ += np.real(bwResSQ[i]*np.conjugate(bwResSQ[i]))\n",
    "        MsqNP += np.real(resBWgrid[i][ind]*np.conjugate(resBWgrid[i][ind]))\n",
    "    Msq_aerr = max(np.abs(MsqSQ-MsqNP),Msq_aerr)\n",
    "    Msq_norm =MsqSQ+MsqNP\n",
    "    if Msq_norm!=0.0:\n",
    "        Msq_rerr = np.abs(MsqSQ-MsqNP)/Msq_norm\n",
    "        \n",
    "    Msq_rerr_max = max(Msq_rerr,Msq_rerr_max)\n",
    "    if Msq_rerr>1.0:\n",
    "        print(\"relErr to high:\")\n",
    "        print(ind)\n",
    "        print(\"\\t\",Msq_rerr)\n",
    "        print(\"\\t\",MsqSQ)\n",
    "        print(\"\\t\",MsqNP)\n",
    "        \n",
    "    \n",
    "    if not np.isclose(MsqSQ,MsqNP):\n",
    "        print(ind)\n",
    "        print(\"\\t\",MsqSQ)\n",
    "        print(\"\\t\",MsqNP)\n",
    "        err+=1\n",
    "        \n",
    "print(\"Done with %d errors.\"%err)\n",
    "print(\"max. abs. error: %1.2e + i %1.2e\"%(maxAERR_R,maxAERR_I))\n",
    "print(\"max. rel. error: %1.2e + i %1.2e\"%(maxRERR_R,maxRERR_I))\n",
    "print(\"max. abs. error (Msq): %1.2e\"%(Msq_aerr))\n",
    "print(\"max. rel. error (Msq): %1.2e\"%(Msq_rerr_max))"
   ]
  },
  {
   "cell_type": "code",
   "execution_count": null,
   "metadata": {},
   "outputs": [],
   "source": []
  },
  {
   "cell_type": "code",
   "execution_count": null,
   "metadata": {},
   "outputs": [],
   "source": []
  },
  {
   "cell_type": "code",
   "execution_count": 5,
   "metadata": {},
   "outputs": [
    {
     "name": "stdout",
     "output_type": "stream",
     "text": [
      "mapMat 0.000481375058492\n",
      "initMom 3.11603148778e-05\n",
      "initMat 7.20761716366e-05\n"
     ]
    }
   ],
   "source": [
    "for el in times.iterkeys():\n",
    "    print(el,times[el]/(kinObj.grid.size*1.0))"
   ]
  },
  {
   "cell_type": "markdown",
   "metadata": {},
   "source": [
    "Conclusion\n",
    "==="
   ]
  },
  {
   "cell_type": "markdown",
   "metadata": {},
   "source": [
    "There are some issues with the spin mapping in sftrident.matrixElement. The results are (mostly) exactly the same, but with a overall minus. Therefore, the squared matrixElement is not influenced from this bug. But there need to be some research, where the bug comes from and how one may solve it. \n",
    "\n",
    "Overall, one may conclude, that the BW matrix element is computed with a grid evaluation and gives almost the same results as the serial evaluation (modulo sign). "
   ]
  },
  {
   "cell_type": "code",
   "execution_count": null,
   "metadata": {},
   "outputs": [],
   "source": []
  },
  {
   "cell_type": "code",
   "execution_count": null,
   "metadata": {},
   "outputs": [],
   "source": []
  },
  {
   "cell_type": "code",
   "execution_count": null,
   "metadata": {},
   "outputs": [],
   "source": []
  },
  {
   "cell_type": "code",
   "execution_count": null,
   "metadata": {},
   "outputs": [],
   "source": []
  }
 ],
 "metadata": {
  "kernelspec": {
   "display_name": "Python 2",
   "language": "python",
   "name": "python2"
  },
  "language_info": {
   "codemirror_mode": {
    "name": "ipython",
    "version": 2
   },
   "file_extension": ".py",
   "mimetype": "text/x-python",
   "name": "python",
   "nbconvert_exporter": "python",
   "pygments_lexer": "ipython2",
   "version": "2.7.12"
  }
 },
 "nbformat": 4,
 "nbformat_minor": 2
}
