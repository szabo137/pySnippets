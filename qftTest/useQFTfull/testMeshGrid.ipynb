{
 "cells": [
  {
   "cell_type": "markdown",
   "metadata": {},
   "source": [
    "Test Momenta with mesh grids\n",
    "==============="
   ]
  },
  {
   "cell_type": "code",
   "execution_count": null,
   "metadata": {},
   "outputs": [],
   "source": [
    "from __future__ import print_function\n",
    "import numpy as np\n",
    "import sftrident.qft as qft\n",
    "print(np.__version__)\n",
    "from sys import getsizeof\n",
    "print(getsizeof(1e30*np.ones((2,1,1),dtype=np.complex)))"
   ]
  },
  {
   "cell_type": "code",
   "execution_count": null,
   "metadata": {},
   "outputs": [],
   "source": [
    "E = np.linspace(1.1,3.5,2)\n",
    "C = np.linspace(-1.0,1.0,3)\n",
    "Ph = np.linspace(0.0,2.0*np.pi,4)\n",
    "\n",
    "E2 = np.linspace(1.1,3.5,5)\n",
    "C2 = np.linspace(-1.0,1.0,6)\n",
    "Ph2 = np.linspace(0.0,2.0*np.pi,7)\n",
    "\n",
    "\n",
    "#print(\"E:\",E)\n",
    "print(\"E size: %1.2e\"%getsizeof(E))\n",
    "\n",
    "#print(\"C:\",C)\n",
    "print(\"C size: %1.2e\"%getsizeof(C))\n",
    "#print(\"Ph:\",Ph)\n",
    "print(\"Ph size: %1.2e\"%getsizeof(Ph))\n",
    "\n",
    "\n",
    "\n",
    "#Egrid,Cgrid,Phgrid,Egrid2,Cgrid2,Phgrid2 = np.meshgrid(E,C,Ph,E2,C2,Ph2)\n",
    "Egrid,Cgrid,Phgrid = np.meshgrid(E,C,Ph,indexing='ij')\n",
    "\n",
    "\n",
    "#print(\"Egrid:\",Egrid)\n",
    "print(\"Egrid size: %1.2e\"%getsizeof(Egrid))\n",
    "#print(\"Cgrid:\",Cgrid)\n",
    "print(\"Cgrid size: %1.2e\"%getsizeof(Cgrid))\n",
    "#print(\"Phgrid:\",Phgrid)\n",
    "print(\"Phgrid size: %1.2e\"%getsizeof(Phgrid))\n",
    "\n",
    "\n",
    "print(\"Egrid:\",Egrid.shape)\n",
    "print(\"Cgrid:\",Egrid.shape)\n",
    "print(\"Phgrid:\",Egrid.shape)"
   ]
  },
  {
   "cell_type": "code",
   "execution_count": null,
   "metadata": {},
   "outputs": [],
   "source": []
  },
  {
   "cell_type": "code",
   "execution_count": null,
   "metadata": {},
   "outputs": [],
   "source": [
    "def buildMomenta(e,c,p):\n",
    "    r=np.sqrt(e**2 - 1.0)\n",
    "    sC = np.sin(np.arccos(c))\n",
    "    p0 = e\n",
    "    px = r*sC*np.cos(p)\n",
    "    py = r*sC*np.sin(p)\n",
    "    pz = r*c\n",
    "    return np.array([p0,px,py,pz])\n",
    "    \n",
    "\n",
    "momGrid = buildMomenta(Egrid,Cgrid,Phgrid)\n",
    "#momGrid2 = buildMomenta(Egrid2,Cgrid2,Phgrid2)\n",
    "\n",
    "print(\"momGrid\",momGrid.shape)\n",
    "print(\"momGrid size: %1.2e\"%getsizeof(momGrid))   "
   ]
  },
  {
   "cell_type": "code",
   "execution_count": null,
   "metadata": {},
   "outputs": [],
   "source": [
    "M = momGrid[0]**2 - momGrid[1]**2- momGrid[2]**2- momGrid[3]**2\n",
    "print(np.isclose(M,np.ones(M.shape),rtol=1e-8).all()==True)"
   ]
  },
  {
   "cell_type": "code",
   "execution_count": null,
   "metadata": {},
   "outputs": [],
   "source": [
    "mkvGrid = qft.MinkowskiVector(momGrid)\n",
    "Mmkv = mkvGrid*mkvGrid\n",
    "test = np.isclose(np.asarray(Mmkv),np.ones(np.asarray(Mmkv).shape),rtol=1e-8)\n",
    "print(test.all()==True)"
   ]
  },
  {
   "cell_type": "code",
   "execution_count": null,
   "metadata": {},
   "outputs": [],
   "source": []
  },
  {
   "cell_type": "code",
   "execution_count": null,
   "metadata": {},
   "outputs": [],
   "source": [
    "for iE,elE in enumerate(E):\n",
    "    for iC,elC in enumerate(C):\n",
    "        for iPh,elPh in enumerate(Ph):\n",
    "            tMom = buildMomenta(elE,elC,elPh)\n",
    "            \n",
    "            #print(elE,elC,elPh)\n",
    "            \n",
    "            EgridPKT = Egrid[iE,iC,iPh]\n",
    "            CgridPKT = Cgrid[iE,iC,iPh]\n",
    "            PhgridPKT = Phgrid[iE,iC,iPh]\n",
    "            #print(type(tMom))\n",
    "            #print(type(momGrid[:,iE,iC,iPh]))\n",
    "            if np.isclose(tMom,momGrid[:,iE,iC,iPh]).all()==True:\n",
    "                pass\n",
    "            else:\n",
    "                print(\"-\"*20,\"ERROR\")\n",
    "                print(\"tpara: ({},{},{})\".format(elE,elC,elPh))\n",
    "                print(\"Gpara: ({},{},{})\".format(EgridPKT,CgridPKT,PhgridPKT))\n",
    "                print(\"tmom: ({})\".format(tMom))\n",
    "                print(\"Gmom: ({})\".format(momGrid[:,iE,iC,iPh]))\n",
    "print(\"Done.\")"
   ]
  },
  {
   "cell_type": "code",
   "execution_count": null,
   "metadata": {},
   "outputs": [],
   "source": [
    "Etest = (Egrid>1.5)\n",
    "print(\"e\",Etest)\n",
    "Ctest = (Cgrid>=0)\n",
    "print(\"c\",Ctest)\n",
    "test = Etest * Ctest\n",
    "print(\"t\",test)\n",
    "\n",
    "testGrid = np.array([Egrid[test],Cgrid[test],Phgrid[test]])\n",
    "\n",
    "print(Egrid[test].shape)\n",
    "print(Cgrid[test].shape)\n",
    "print(Phgrid[test].shape)\n",
    "\n",
    "\n",
    "print(testGrid.shape)\n",
    "ind = 0\n",
    "\n",
    "for iE,elE in enumerate(E):\n",
    "    for iC,elC in enumerate(C):\n",
    "        for iPh,elPh in enumerate(Ph):\n",
    "            if elE>1.5 and elC>=0.0:\n",
    "                print(\"-\"*20)\n",
    "                print(\"single:\",elE,elC,elPh)\n",
    "                print(\"grid:  \",testGrid[:,ind])\n",
    "                ind+=1\n",
    "                \n",
    "testMom = buildMomenta(*testGrid)\n",
    "testMkv = qft.MinkowskiVector(testMom)\n",
    "print(testMkv*testMkv)"
   ]
  },
  {
   "cell_type": "code",
   "execution_count": null,
   "metadata": {},
   "outputs": [],
   "source": []
  }
 ],
 "metadata": {
  "kernelspec": {
   "display_name": "Python 2",
   "language": "python",
   "name": "python2"
  },
  "language_info": {
   "codemirror_mode": {
    "name": "ipython",
    "version": 2
   },
   "file_extension": ".py",
   "mimetype": "text/x-python",
   "name": "python",
   "nbconvert_exporter": "python",
   "pygments_lexer": "ipython2",
   "version": "2.7.12"
  }
 },
 "nbformat": 4,
 "nbformat_minor": 2
}
