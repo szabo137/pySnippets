{
 "cells": [
  {
   "cell_type": "markdown",
   "metadata": {},
   "source": [
    "Test Momenta with mesh grids\n",
    "==============="
   ]
  },
  {
   "cell_type": "code",
   "execution_count": 1,
   "metadata": {},
   "outputs": [
    {
     "name": "stderr",
     "output_type": "stream",
     "text": [
      "/Users/szabo/pyTableTest/venv/lib/python2.7/site-packages/scipy/special/__init__.py:640: RuntimeWarning: numpy.dtype size changed, may indicate binary incompatibility. Expected 96, got 88\n",
      "  from ._ufuncs import *\n",
      "/Users/szabo/pyTableTest/venv/lib/python2.7/site-packages/scipy/linalg/basic.py:17: RuntimeWarning: numpy.dtype size changed, may indicate binary incompatibility. Expected 96, got 88\n",
      "  from ._solve_toeplitz import levinson\n",
      "/Users/szabo/pyTableTest/venv/lib/python2.7/site-packages/scipy/linalg/__init__.py:207: RuntimeWarning: numpy.dtype size changed, may indicate binary incompatibility. Expected 96, got 88\n",
      "  from ._decomp_update import *\n",
      "/Users/szabo/pyTableTest/venv/lib/python2.7/site-packages/scipy/special/_ellip_harm.py:7: RuntimeWarning: numpy.dtype size changed, may indicate binary incompatibility. Expected 96, got 88\n",
      "  from ._ellip_harm_2 import _ellipsoid, _ellipsoid_norm\n",
      "/Users/szabo/pyTableTest/venv/lib/python2.7/site-packages/scipy/sparse/lil.py:19: RuntimeWarning: numpy.dtype size changed, may indicate binary incompatibility. Expected 96, got 88\n",
      "  from . import _csparsetools\n",
      "/Users/szabo/pyTableTest/venv/lib/python2.7/site-packages/scipy/sparse/csgraph/__init__.py:165: RuntimeWarning: numpy.dtype size changed, may indicate binary incompatibility. Expected 96, got 88\n",
      "  from ._shortest_path import shortest_path, floyd_warshall, dijkstra,\\\n",
      "/Users/szabo/pyTableTest/venv/lib/python2.7/site-packages/scipy/sparse/csgraph/_validation.py:5: RuntimeWarning: numpy.dtype size changed, may indicate binary incompatibility. Expected 96, got 88\n",
      "  from ._tools import csgraph_to_dense, csgraph_from_dense,\\\n",
      "/Users/szabo/pyTableTest/venv/lib/python2.7/site-packages/scipy/sparse/csgraph/__init__.py:167: RuntimeWarning: numpy.dtype size changed, may indicate binary incompatibility. Expected 96, got 88\n",
      "  from ._traversal import breadth_first_order, depth_first_order, \\\n",
      "/Users/szabo/pyTableTest/venv/lib/python2.7/site-packages/scipy/sparse/csgraph/__init__.py:169: RuntimeWarning: numpy.dtype size changed, may indicate binary incompatibility. Expected 96, got 88\n",
      "  from ._min_spanning_tree import minimum_spanning_tree\n",
      "/Users/szabo/pyTableTest/venv/lib/python2.7/site-packages/scipy/sparse/csgraph/__init__.py:170: RuntimeWarning: numpy.dtype size changed, may indicate binary incompatibility. Expected 96, got 88\n",
      "  from ._reordering import reverse_cuthill_mckee, maximum_bipartite_matching, \\\n",
      "/Users/szabo/pyTableTest/venv/lib/python2.7/site-packages/scipy/optimize/_trlib/__init__.py:1: RuntimeWarning: numpy.dtype size changed, may indicate binary incompatibility. Expected 96, got 88\n",
      "  from ._trlib import TRLIBQuadraticSubproblem\n",
      "/Users/szabo/pyTableTest/venv/lib/python2.7/site-packages/scipy/optimize/_numdiff.py:10: RuntimeWarning: numpy.dtype size changed, may indicate binary incompatibility. Expected 96, got 88\n",
      "  from ._group_columns import group_dense, group_sparse\n",
      "/Users/szabo/pyTableTest/venv/lib/python2.7/site-packages/scipy/interpolate/_bsplines.py:10: RuntimeWarning: numpy.dtype size changed, may indicate binary incompatibility. Expected 96, got 88\n",
      "  from . import _bspl\n",
      "/Users/szabo/pyTableTest/venv/lib/python2.7/site-packages/scipy/spatial/__init__.py:95: RuntimeWarning: numpy.dtype size changed, may indicate binary incompatibility. Expected 96, got 88\n",
      "  from .ckdtree import *\n",
      "/Users/szabo/pyTableTest/venv/lib/python2.7/site-packages/scipy/spatial/__init__.py:96: RuntimeWarning: numpy.dtype size changed, may indicate binary incompatibility. Expected 96, got 88\n",
      "  from .qhull import *\n",
      "/Users/szabo/pyTableTest/venv/lib/python2.7/site-packages/scipy/spatial/_spherical_voronoi.py:18: RuntimeWarning: numpy.dtype size changed, may indicate binary incompatibility. Expected 96, got 88\n",
      "  from . import _voronoi\n",
      "/Users/szabo/pyTableTest/venv/lib/python2.7/site-packages/scipy/spatial/distance.py:122: RuntimeWarning: numpy.dtype size changed, may indicate binary incompatibility. Expected 96, got 88\n",
      "  from . import _hausdorff\n"
     ]
    },
    {
     "name": "stdout",
     "output_type": "stream",
     "text": [
      "1.15.0\n",
      "160\n"
     ]
    },
    {
     "name": "stderr",
     "output_type": "stream",
     "text": [
      "/Users/szabo/pyTableTest/venv/lib/python2.7/site-packages/scipy/ndimage/measurements.py:36: RuntimeWarning: numpy.dtype size changed, may indicate binary incompatibility. Expected 96, got 88\n",
      "  from . import _ni_label\n"
     ]
    }
   ],
   "source": [
    "from __future__ import print_function\n",
    "import numpy as np\n",
    "import sftrident.qft as qft\n",
    "print(np.__version__)\n",
    "from sys import getsizeof\n",
    "print(getsizeof(1e30*np.ones((2,1,1),dtype=np.complex)))"
   ]
  },
  {
   "cell_type": "code",
   "execution_count": 2,
   "metadata": {},
   "outputs": [
    {
     "name": "stdout",
     "output_type": "stream",
     "text": [
      "E size: 1.12e+02\n",
      "C size: 1.20e+02\n",
      "Ph size: 1.28e+02\n",
      "Egrid size: 3.20e+02\n",
      "Cgrid size: 3.20e+02\n",
      "Phgrid size: 3.20e+02\n",
      "Egrid: (2, 3, 4)\n",
      "Cgrid: (2, 3, 4)\n",
      "Phgrid: (2, 3, 4)\n"
     ]
    }
   ],
   "source": [
    "E = np.linspace(1.1,3.5,2)\n",
    "C = np.linspace(-1.0,1.0,3)\n",
    "Ph = np.linspace(0.0,2.0*np.pi,4)\n",
    "\n",
    "E2 = np.linspace(1.1,3.5,5)\n",
    "C2 = np.linspace(-1.0,1.0,6)\n",
    "Ph2 = np.linspace(0.0,2.0*np.pi,7)\n",
    "\n",
    "\n",
    "#print(\"E:\",E)\n",
    "print(\"E size: %1.2e\"%getsizeof(E))\n",
    "\n",
    "#print(\"C:\",C)\n",
    "print(\"C size: %1.2e\"%getsizeof(C))\n",
    "#print(\"Ph:\",Ph)\n",
    "print(\"Ph size: %1.2e\"%getsizeof(Ph))\n",
    "\n",
    "\n",
    "\n",
    "#Egrid,Cgrid,Phgrid,Egrid2,Cgrid2,Phgrid2 = np.meshgrid(E,C,Ph,E2,C2,Ph2)\n",
    "Egrid,Cgrid,Phgrid = np.meshgrid(E,C,Ph,indexing='ij')\n",
    "\n",
    "\n",
    "#print(\"Egrid:\",Egrid)\n",
    "print(\"Egrid size: %1.2e\"%getsizeof(Egrid))\n",
    "#print(\"Cgrid:\",Cgrid)\n",
    "print(\"Cgrid size: %1.2e\"%getsizeof(Cgrid))\n",
    "#print(\"Phgrid:\",Phgrid)\n",
    "print(\"Phgrid size: %1.2e\"%getsizeof(Phgrid))\n",
    "\n",
    "\n",
    "print(\"Egrid:\",Egrid.shape)\n",
    "print(\"Cgrid:\",Egrid.shape)\n",
    "print(\"Phgrid:\",Egrid.shape)"
   ]
  },
  {
   "cell_type": "code",
   "execution_count": null,
   "metadata": {},
   "outputs": [],
   "source": []
  },
  {
   "cell_type": "code",
   "execution_count": 3,
   "metadata": {},
   "outputs": [
    {
     "name": "stdout",
     "output_type": "stream",
     "text": [
      "momGrid (4, 2, 3, 4)\n",
      "momGrid size: 9.12e+02\n"
     ]
    }
   ],
   "source": [
    "def buildMomenta(e,c,p):\n",
    "    r=np.sqrt(e**2 - 1.0)\n",
    "    sC = np.sin(np.arccos(c))\n",
    "    p0 = e\n",
    "    px = r*sC*np.cos(p)\n",
    "    py = r*sC*np.sin(p)\n",
    "    pz = r*c\n",
    "    return np.array([p0,px,py,pz])\n",
    "    \n",
    "\n",
    "momGrid = buildMomenta(Egrid,Cgrid,Phgrid)\n",
    "#momGrid2 = buildMomenta(Egrid2,Cgrid2,Phgrid2)\n",
    "\n",
    "print(\"momGrid\",momGrid.shape)\n",
    "print(\"momGrid size: %1.2e\"%getsizeof(momGrid))   "
   ]
  },
  {
   "cell_type": "code",
   "execution_count": 4,
   "metadata": {},
   "outputs": [
    {
     "name": "stdout",
     "output_type": "stream",
     "text": [
      "True\n"
     ]
    }
   ],
   "source": [
    "M = momGrid[0]**2 - momGrid[1]**2- momGrid[2]**2- momGrid[3]**2\n",
    "print(np.isclose(M,np.ones(M.shape),rtol=1e-8).all()==True)"
   ]
  },
  {
   "cell_type": "code",
   "execution_count": 5,
   "metadata": {},
   "outputs": [
    {
     "name": "stdout",
     "output_type": "stream",
     "text": [
      "True\n"
     ]
    }
   ],
   "source": [
    "mkvGrid = qft.MinkowskiVector(momGrid)\n",
    "Mmkv = mkvGrid*mkvGrid\n",
    "test = np.isclose(np.asarray(Mmkv),np.ones(np.asarray(Mmkv).shape),rtol=1e-8)\n",
    "print(test.all()==True)"
   ]
  },
  {
   "cell_type": "code",
   "execution_count": null,
   "metadata": {},
   "outputs": [],
   "source": []
  },
  {
   "cell_type": "code",
   "execution_count": 6,
   "metadata": {},
   "outputs": [
    {
     "name": "stdout",
     "output_type": "stream",
     "text": [
      "Done.\n"
     ]
    }
   ],
   "source": [
    "for iE,elE in enumerate(E):\n",
    "    for iC,elC in enumerate(C):\n",
    "        for iPh,elPh in enumerate(Ph):\n",
    "            tMom = buildMomenta(elE,elC,elPh)\n",
    "            \n",
    "            #print(elE,elC,elPh)\n",
    "            \n",
    "            EgridPKT = Egrid[iE,iC,iPh]\n",
    "            CgridPKT = Cgrid[iE,iC,iPh]\n",
    "            PhgridPKT = Phgrid[iE,iC,iPh]\n",
    "            #print(type(tMom))\n",
    "            #print(type(momGrid[:,iE,iC,iPh]))\n",
    "            if np.isclose(tMom,momGrid[:,iE,iC,iPh]).all()==True:\n",
    "                pass\n",
    "            else:\n",
    "                print(\"-\"*20,\"ERROR\")\n",
    "                print(\"tpara: ({},{},{})\".format(elE,elC,elPh))\n",
    "                print(\"Gpara: ({},{},{})\".format(EgridPKT,CgridPKT,PhgridPKT))\n",
    "                print(\"tmom: ({})\".format(tMom))\n",
    "                print(\"Gmom: ({})\".format(momGrid[:,iE,iC,iPh]))\n",
    "print(\"Done.\")"
   ]
  },
  {
   "cell_type": "code",
   "execution_count": 7,
   "metadata": {},
   "outputs": [
    {
     "name": "stdout",
     "output_type": "stream",
     "text": [
      "e [[[False False False False]\n",
      "  [False False False False]\n",
      "  [False False False False]]\n",
      "\n",
      " [[ True  True  True  True]\n",
      "  [ True  True  True  True]\n",
      "  [ True  True  True  True]]]\n",
      "c [[[False False False False]\n",
      "  [ True  True  True  True]\n",
      "  [ True  True  True  True]]\n",
      "\n",
      " [[False False False False]\n",
      "  [ True  True  True  True]\n",
      "  [ True  True  True  True]]]\n",
      "t [[[False False False False]\n",
      "  [False False False False]\n",
      "  [False False False False]]\n",
      "\n",
      " [[False False False False]\n",
      "  [ True  True  True  True]\n",
      "  [ True  True  True  True]]]\n",
      "(8,)\n",
      "(8,)\n",
      "(8,)\n",
      "(3, 8)\n",
      "--------------------\n",
      "single: 3.5 0.0 0.0\n",
      "grid:   [3.5 0.  0. ]\n",
      "--------------------\n",
      "single: 3.5 0.0 2.0943951023931953\n",
      "grid:   [3.5       0.        2.0943951]\n",
      "--------------------\n",
      "single: 3.5 0.0 4.1887902047863905\n",
      "grid:   [3.5       0.        4.1887902]\n",
      "--------------------\n",
      "single: 3.5 0.0 6.283185307179586\n",
      "grid:   [3.5        0.         6.28318531]\n",
      "--------------------\n",
      "single: 3.5 1.0 0.0\n",
      "grid:   [3.5 1.  0. ]\n",
      "--------------------\n",
      "single: 3.5 1.0 2.0943951023931953\n",
      "grid:   [3.5       1.        2.0943951]\n",
      "--------------------\n",
      "single: 3.5 1.0 4.1887902047863905\n",
      "grid:   [3.5       1.        4.1887902]\n",
      "--------------------\n",
      "single: 3.5 1.0 6.283185307179586\n",
      "grid:   [3.5        1.         6.28318531]\n",
      "[1. 1. 1. 1. 1. 1. 1. 1.]\n"
     ]
    }
   ],
   "source": [
    "Etest = (Egrid>1.5)\n",
    "print(\"e\",Etest)\n",
    "Ctest = (Cgrid>=0)\n",
    "print(\"c\",Ctest)\n",
    "test = Etest * Ctest\n",
    "print(\"t\",test)\n",
    "\n",
    "testGrid = np.array([Egrid[test],Cgrid[test],Phgrid[test]])\n",
    "\n",
    "print(Egrid[test].shape)\n",
    "print(Cgrid[test].shape)\n",
    "print(Phgrid[test].shape)\n",
    "\n",
    "\n",
    "print(testGrid.shape)\n",
    "ind = 0\n",
    "\n",
    "for iE,elE in enumerate(E):\n",
    "    for iC,elC in enumerate(C):\n",
    "        for iPh,elPh in enumerate(Ph):\n",
    "            if elE>1.5 and elC>=0.0:\n",
    "                print(\"-\"*20)\n",
    "                print(\"single:\",elE,elC,elPh)\n",
    "                print(\"grid:  \",testGrid[:,ind])\n",
    "                ind+=1\n",
    "                \n",
    "testMom = buildMomenta(*testGrid)\n",
    "testMkv = qft.MinkowskiVector(testMom)\n",
    "print(testMkv*testMkv)"
   ]
  },
  {
   "cell_type": "code",
   "execution_count": null,
   "metadata": {},
   "outputs": [],
   "source": []
  }
 ],
 "metadata": {
  "kernelspec": {
   "display_name": "Python 2",
   "language": "python",
   "name": "python2"
  },
  "language_info": {
   "codemirror_mode": {
    "name": "ipython",
    "version": 2
   },
   "file_extension": ".py",
   "mimetype": "text/x-python",
   "name": "python",
   "nbconvert_exporter": "python",
   "pygments_lexer": "ipython2",
   "version": "2.7.15rc1"
  }
 },
 "nbformat": 4,
 "nbformat_minor": 2
}
