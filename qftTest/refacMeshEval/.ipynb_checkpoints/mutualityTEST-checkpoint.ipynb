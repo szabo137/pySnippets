{
 "cells": [
  {
   "cell_type": "markdown",
   "metadata": {},
   "source": [
    "Mutuality of default class attributes\n",
    "========"
   ]
  },
  {
   "cell_type": "code",
   "execution_count": null,
   "metadata": {},
   "outputs": [],
   "source": [
    "from __future__ import print_function\n",
    "\n",
    "\n",
    "class defaultClass(object):\n",
    "    default = {}\n",
    "\n",
    "    def __init__(self, **kwargs):\n",
    "        [self.__setattr__(key,kwargs.pop(key,self.default[key]))for key in self.default.iterkeys()]\n",
    "        if len(kwargs.keys())!=0:\n",
    "            wrongargs = \",\".join([key for key in kwargs.iterkeys()])\n",
    "            raise AttributeError(\"%s has no keyword argument(s) named '%s'!\"%(self.__class__,wrongargs))\n",
    "\n",
    "\n",
    "class ExampleClass(defaultClass):\n",
    "\n",
    "    default = {'a':1.0,'b':2.0}\n",
    "\n",
    "    def __init__(self, **kwargs):\n",
    "        defaultClass.__init__(self,**kwargs)"
   ]
  },
  {
   "cell_type": "code",
   "execution_count": null,
   "metadata": {},
   "outputs": [],
   "source": [
    "foo = ExampleClass()\n",
    "\n",
    "bar = ExampleClass(a=2)\n",
    "\n",
    "foobar= ExampleClass(b=3)"
   ]
  },
  {
   "cell_type": "code",
   "execution_count": null,
   "metadata": {},
   "outputs": [],
   "source": [
    "print(foo.a)\n",
    "print(bar.a)\n",
    "print(foobar.a)\n",
    "\n",
    "print(foo.default)\n",
    "print(foobar.b)\n",
    "print(foobar.default)"
   ]
  },
  {
   "cell_type": "code",
   "execution_count": null,
   "metadata": {},
   "outputs": [],
   "source": [
    "import numpy as np\n",
    "b=np.array([[1,2,3],[1,2,3],[1,2,3]])\n",
    "a=b[:,1]\n",
    "if len(a.shape)==1:\n",
    "    a=a[:,np.newaxis]\n",
    "\n",
    "print(a.shape)\n",
    "print(a)"
   ]
  },
  {
   "cell_type": "code",
   "execution_count": null,
   "metadata": {},
   "outputs": [],
   "source": []
  }
 ],
 "metadata": {
  "kernelspec": {
   "display_name": "Python 2",
   "language": "python",
   "name": "python2"
  },
  "language_info": {
   "codemirror_mode": {
    "name": "ipython",
    "version": 2
   },
   "file_extension": ".py",
   "mimetype": "text/x-python",
   "name": "python",
   "nbconvert_exporter": "python",
   "pygments_lexer": "ipython2",
   "version": "2.7.12"
  }
 },
 "nbformat": 4,
 "nbformat_minor": 2
}
