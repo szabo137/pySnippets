{
 "cells": [
  {
   "cell_type": "markdown",
   "metadata": {},
   "source": [
    "coordinate2 implementation (build_mesh)\n",
    "=========="
   ]
  },
  {
   "cell_type": "code",
   "execution_count": null,
   "metadata": {},
   "outputs": [],
   "source": [
    "from __future__ import print_function\n",
    "import numpy as np\n",
    "\n",
    "from sftrident.coordinate2 import build_batch\n",
    "import sftrident.coordinate as coord\n",
    "import sftrident.util as util"
   ]
  },
  {
   "cell_type": "code",
   "execution_count": null,
   "metadata": {},
   "outputs": [],
   "source": [
    "class build_mesh(build_batch):\n",
    "    def __init__(self,*coordArrays,**kwargs):\n",
    "        self.meshShape=tuple([len(el) for el in coordArrays])\n",
    "        build_batch.__init__(self,util.cartesian_product(*coordArrays),**kwargs)\n",
    "    \n",
    "    def reconstruct(self,res_batch):\n",
    "        \"\"\"\n",
    "        reconstruction of the res_batch to res_mesh\n",
    "        \"\"\"\n",
    "        pass"
   ]
  },
  {
   "cell_type": "code",
   "execution_count": null,
   "metadata": {},
   "outputs": [],
   "source": [
    "def buildArr_lcc(Nss,N1m,N1x,N1y,N2m,N2x,N2y,eps=1e-5):\n",
    "    ss = np.random.uniform(3.1,4.1,Nss)\n",
    "    p1m = np.random.uniform(eps,1.5,N1m)\n",
    "    p1x = np.random.uniform(-2,2,N1x)\n",
    "    p1y = np.random.uniform(-2,2,N1y)\n",
    "    p2m = np.random.uniform(eps,1.5,N2m)\n",
    "    p2x = np.random.uniform(-2,2,N2x)\n",
    "    p2y = np.random.uniform(-2,2,N2y)\n",
    "    return [ss,p1m,p1x,p1y,p2m,p2x,p2y]\n",
    "\n",
    "\n",
    "N=(2,30,4,5,6,7,8)\n",
    "print('points',np.prod(N))\n",
    "coords = buildArr_lcc(*N)\n",
    "\n",
    "\n",
    "def buildArr_lcc_cart(Nss,N1m,N1x,N1y,N2m,N2x,N2y,eps=1e-4):\n",
    "    ss = np.linspace(3.1,4.1,Nss)\n",
    "    p1m = np.linspace(eps,1.5,N1m)\n",
    "    p1x = np.linspace(-2,2,N1x)\n",
    "    p1y = np.linspace(-2,2,N1y)\n",
    "    p2m = np.linspace(eps,1.5,N2m)\n",
    "    p2x = np.linspace(-2,2,N2x)\n",
    "    p2y = np.linspace(-2,2,N2y)\n",
    "    return (ss,p1m,p1x,p1y,p2m,p2x,p2y)\n",
    "\n",
    "N = (2,30,4,5,30,7,8)\n",
    "\n",
    "coords = buildArr_lcc_cart(*N)\n",
    "\n",
    "print('points',np.prod(N))"
   ]
  },
  {
   "cell_type": "code",
   "execution_count": null,
   "metadata": {},
   "outputs": [],
   "source": [
    "import time\n",
    "\"\"\"\n",
    "OLD\n",
    "\"\"\"\n",
    "start = time.time()\n",
    "meshObj = coord.buildLCCmesh(*coords,Nopt = 1)\n",
    "gridOLD = coord.physGrid(*util.groupList(meshObj.lccMesh,3),ssMesh=meshObj.optMesh)\n",
    "timeOLD = time.time() - start\n",
    "\n",
    "print(gridOLD.size)"
   ]
  },
  {
   "cell_type": "code",
   "execution_count": null,
   "metadata": {},
   "outputs": [],
   "source": [
    "start = time.time()\n",
    "gridNEW = build_mesh(*coords)\n",
    "timeNEW = time.time() -start"
   ]
  },
  {
   "cell_type": "code",
   "execution_count": null,
   "metadata": {},
   "outputs": [],
   "source": [
    "print(gridNEW.size)\n",
    "print(\"timeOLD\",timeOLD)\n",
    "print(\"timeNEW\",timeNEW)"
   ]
  },
  {
   "cell_type": "code",
   "execution_count": null,
   "metadata": {},
   "outputs": [],
   "source": [
    "test11=(np.abs(gridNEW.lccGrid1[0] - gridOLD.lccGrid1[0])<1e-10)\n",
    "test12=(np.abs(gridNEW.lccGrid1[1] - gridOLD.lccGrid1[1])<1e-10)\n",
    "test13=(np.abs(gridNEW.lccGrid1[2] - gridOLD.lccGrid1[2])<1e-10)\n",
    "print(\"test 1m:\",test11.all())\n",
    "print(\"test 2m:\",test12.all())\n",
    "print(\"test 3m:\",test13.all())"
   ]
  },
  {
   "cell_type": "code",
   "execution_count": null,
   "metadata": {},
   "outputs": [],
   "source": []
  },
  {
   "cell_type": "code",
   "execution_count": null,
   "metadata": {},
   "outputs": [],
   "source": []
  }
 ],
 "metadata": {
  "kernelspec": {
   "display_name": "Python 2",
   "language": "python",
   "name": "python2"
  },
  "language_info": {
   "codemirror_mode": {
    "name": "ipython",
    "version": 2
   },
   "file_extension": ".py",
   "mimetype": "text/x-python",
   "name": "python",
   "nbconvert_exporter": "python",
   "pygments_lexer": "ipython2",
   "version": "2.7.12"
  }
 },
 "nbformat": 4,
 "nbformat_minor": 2
}
