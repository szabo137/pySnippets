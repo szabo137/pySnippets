{
 "cells": [
  {
   "cell_type": "markdown",
   "metadata": {},
   "source": [
    "Test VEGAS for gauss integrals\n",
    "========="
   ]
  },
  {
   "cell_type": "code",
   "execution_count": null,
   "metadata": {},
   "outputs": [],
   "source": [
    "from __future__ import print_function\n",
    "import numpy as np\n",
    "import vegas\n",
    "print(\"vegas:\",vegas.__version__)"
   ]
  },
  {
   "cell_type": "markdown",
   "metadata": {},
   "source": [
    "1 Single Parameter Integration\n",
    "========"
   ]
  },
  {
   "cell_type": "markdown",
   "metadata": {},
   "source": [
    "1D Gauss Integral\n",
    "------"
   ]
  },
  {
   "cell_type": "code",
   "execution_count": null,
   "metadata": {},
   "outputs": [],
   "source": [
    "def integrand_single_1D(x,*args):\n",
    "    return np.exp(-args[0]*(x + args[1])**2)\n",
    "\n",
    "def single_1D_exact(*args):\n",
    "    return np.sqrt(np.pi/args[0])\n",
    "\n"
   ]
  },
  {
   "cell_type": "code",
   "execution_count": null,
   "metadata": {},
   "outputs": [],
   "source": [
    "a,b=1.0,3.0\n",
    "\n",
    "integFunc = lambda x: integrand_single_1D(x,a,b)\n",
    "\n",
    "integ = vegas.Integrator([[-12,12]])\n",
    "training = integ(integFunc, nitn=10, neval=10000)\n",
    "result = integ(integFunc, nitn=10, neval=10000)\n",
    "print(result.summary())\n",
    "\n",
    "print(\"exact:\",single_1D_exact(a))"
   ]
  },
  {
   "cell_type": "markdown",
   "metadata": {},
   "source": [
    "2D Gauss integral\n",
    "--------"
   ]
  },
  {
   "cell_type": "code",
   "execution_count": null,
   "metadata": {},
   "outputs": [],
   "source": [
    "def integrand_single_2D(x,*args):\n",
    "    return np.exp(-.5*(args[0]*x[0]**2 + args[1]*x[1]**2))\n",
    "\n",
    "\n",
    "def single_2D_exact(*args):\n",
    "    return 2.0*np.pi/(np.sqrt(a*b))\n"
   ]
  },
  {
   "cell_type": "code",
   "execution_count": null,
   "metadata": {},
   "outputs": [],
   "source": [
    "a,b=1.0,3.0\n",
    "\n",
    "integFunc = lambda x: integrand_single_2D(x,a,b)\n",
    "\n",
    "integ = vegas.Integrator([[-5,5],[-5,5]])\n",
    "training = integ(integFunc, nitn=10, neval=10000)\n",
    "result = integ(integFunc, nitn=10, neval=10000)\n",
    "print(result.summary())\n",
    "\n",
    "print(\"exact:\",single_2D_exact(a))"
   ]
  },
  {
   "cell_type": "markdown",
   "metadata": {},
   "source": [
    "2 Array Parameter Integration\n",
    "=========="
   ]
  },
  {
   "cell_type": "markdown",
   "metadata": {},
   "source": [
    "1D Gauss integral\n",
    "---------"
   ]
  },
  {
   "cell_type": "code",
   "execution_count": null,
   "metadata": {},
   "outputs": [],
   "source": [
    "def array_1D_exact(*args):\n",
    "    a=args[0][:,np.newaxis]\n",
    "    b=np.ones(args[0].shape)[np.newaxis,:]\n",
    "    return np.sqrt(np.pi/a)*b\n",
    "\n",
    "class integrand_1D(object):\n",
    "    def __init__(self,*args):\n",
    "        self.a = args[0][:,np.newaxis]\n",
    "        self.b = args[1][np.newaxis,:]\n",
    "    \n",
    "    def __call__(self,x):\n",
    "        return np.exp(-self.a*(x + self.b)**2)\n",
    "\n",
    "        "
   ]
  },
  {
   "cell_type": "code",
   "execution_count": null,
   "metadata": {},
   "outputs": [],
   "source": [
    "a=np.array([1.0,2.0])\n",
    "b=np.array([2.0,3.0])\n",
    "\n",
    "integFunc = integrand_1D(a,b)\n",
    "\n",
    "integ = vegas.Integrator([[-12,12]])\n",
    "training = integ(integFunc, nitn=10, neval=10000)\n",
    "result = integ(integFunc, nitn=10, neval=10000)\n",
    "print(result)\n",
    "\n",
    "print(\"exact:\",array_1D_exact(a))"
   ]
  },
  {
   "cell_type": "code",
   "execution_count": null,
   "metadata": {},
   "outputs": [],
   "source": []
  }
 ],
 "metadata": {
  "kernelspec": {
   "display_name": "Python 2",
   "language": "python",
   "name": "python2"
  },
  "language_info": {
   "codemirror_mode": {
    "name": "ipython",
    "version": 2
   },
   "file_extension": ".py",
   "mimetype": "text/x-python",
   "name": "python",
   "nbconvert_exporter": "python",
   "pygments_lexer": "ipython2",
   "version": "2.7.12"
  }
 },
 "nbformat": 4,
 "nbformat_minor": 2
}
