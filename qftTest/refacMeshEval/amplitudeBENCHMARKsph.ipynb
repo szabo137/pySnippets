{
 "cells": [
  {
   "cell_type": "markdown",
   "metadata": {},
   "source": [
    "Benchmark batch system (sph version)\n",
    "=========="
   ]
  },
  {
   "cell_type": "markdown",
   "metadata": {},
   "source": [
    "We want to benchmark the batchsystem against the mesh evaluation."
   ]
  },
  {
   "cell_type": "code",
   "execution_count": null,
   "metadata": {
    "scrolled": true
   },
   "outputs": [],
   "source": [
    "from __future__ import print_function\n",
    "\n",
    "import sftrident as sf\n",
    "from sftrident.amplitude import amplitude\n",
    "import sftrident.coordinate as coord\n",
    "import numpy as np\n",
    "import time\n",
    "timesBatch = {}\n",
    "timesMesh = {}\n"
   ]
  },
  {
   "cell_type": "code",
   "execution_count": null,
   "metadata": {},
   "outputs": [],
   "source": [
    "mass = 1.0\n",
    "Narr1 = (2,3,10,5,6,7,8)\n",
    "#Narr1 = (2,2,2,2,2,2,2)\n",
    "frame = 'lab'\n",
    "tempDPHI = 50.0\n",
    "points= np.prod(Narr1)\n",
    "print(\"points:\",points)"
   ]
  },
  {
   "cell_type": "code",
   "execution_count": null,
   "metadata": {
    "scrolled": true
   },
   "outputs": [],
   "source": [
    "def buildArr_sph_cart(Nss,Ne1,Nc1,Np1,Ne2,Nc2,Np2,eps=1e-5):\n",
    "    ss = np.linspace(3.1,4.1,Nss)\n",
    "    e1 = np.linspace(1.0+eps,5,Ne1)\n",
    "    c1 = np.linspace(-1.0,1.0,Nc1)\n",
    "    p1 = np.linspace(0.0,2.0*np.pi,Np1)\n",
    "    e2 = np.linspace(1.0+eps,5,Ne2)\n",
    "    c2 = np.linspace(-1.0,1.0,Nc2)\n",
    "    p2 = np.linspace(0.0,2.0*np.pi,Np2)\n",
    "    return sf.util.cartesian_product(ss,e1,c1,p1,e2,c2,p2)\n",
    "\n",
    "\n",
    "\n",
    "configBatch = {'a0':1e-4,'coordSys':'sph','mass':1.0,'xi':0.0,'dPhi':tempDPHI,'frame':frame,'mode':'batch'}\n",
    "\n",
    "\n",
    "start = time.time()\n",
    "cartLCC = buildArr_sph_cart(*Narr1)\n",
    "#arrLCC = buildArr_lcc_single(*Narr1)\n",
    "timesBatch['initArr'] = time.time() - start\n",
    "\n",
    "ampObjBatch = amplitude(**configBatch)\n",
    "\n",
    "start = time.time()\n",
    "resBatch = ampObjBatch(cartLCC)\n",
    "timesBatch['calc']=time.time() - start\n"
   ]
  },
  {
   "cell_type": "code",
   "execution_count": null,
   "metadata": {
    "scrolled": false
   },
   "outputs": [],
   "source": [
    "def buildArr_sph(Nss,Ne1,Nc1,Np1,Ne2,Nc2,Np2,eps=1e-5):\n",
    "    ss = np.linspace(3.1,4.1,Nss)\n",
    "    e1 = np.linspace(1.0+eps,5,Ne1)\n",
    "    c1 = np.linspace(-1.0,1.0,Nc1)\n",
    "    p1 = np.linspace(0.0,2.0*np.pi,Np1)\n",
    "    e2 = np.linspace(1.0+eps,5,Ne2)\n",
    "    c2 = np.linspace(-1.0,1.0,Nc2)\n",
    "    p2 = np.linspace(0.0,2.0*np.pi,Np2)\n",
    "    return [ss,e1,c1,p1,e2,c2,p2]\n",
    "\n",
    "\n",
    "configMesh = {'a0':1e-4,'coordSys':'sph','mass':1.0,'xi':0.0,'dPhi':tempDPHI,'frame':frame,'mode':'mesh'}\n",
    "\n",
    "\n",
    "start = time.time()\n",
    "arrLCC = buildArr_sph(*Narr1)\n",
    "#arrLCC = buildArr_lcc_single(*Narr1)\n",
    "timesMesh['initArr'] = time.time() - start\n",
    "\n",
    "ampObjMesh = amplitude(**configMesh)\n",
    "\n",
    "start = time.time()\n",
    "resMesh = ampObjMesh(*arrLCC)\n",
    "timesMesh['calc']=time.time() - start"
   ]
  },
  {
   "cell_type": "code",
   "execution_count": null,
   "metadata": {
    "scrolled": true
   },
   "outputs": [],
   "source": [
    "print(np.abs(resBatch-resMesh.flatten()).max())\n",
    "physPoints = len(resBatch[resBatch>0.0])\n",
    "print(physPoints)"
   ]
  },
  {
   "cell_type": "code",
   "execution_count": null,
   "metadata": {
    "scrolled": true
   },
   "outputs": [],
   "source": [
    "print(ampObjBatch.kin.grid.size)"
   ]
  },
  {
   "cell_type": "code",
   "execution_count": null,
   "metadata": {},
   "outputs": [],
   "source": [
    "for el in timesBatch.iterkeys():\n",
    "    print(el,':')\n",
    "    print(\"\\tbatch:\",\"%1.2e\"%timesBatch[el],\"(%1.2e)\"%(timesBatch[el]/(float(physPoints))))\n",
    "    print(\"\\tmesh: \",\"%1.2e\"%timesMesh[el],\"(%1.2e)\"%(timesMesh[el]/(float(physPoints))))\n",
    "    print()"
   ]
  },
  {
   "cell_type": "code",
   "execution_count": null,
   "metadata": {},
   "outputs": [],
   "source": []
  },
  {
   "cell_type": "code",
   "execution_count": null,
   "metadata": {},
   "outputs": [],
   "source": []
  }
 ],
 "metadata": {
  "kernelspec": {
   "display_name": "Python 2",
   "language": "python",
   "name": "python2"
  },
  "language_info": {
   "codemirror_mode": {
    "name": "ipython",
    "version": 2
   },
   "file_extension": ".py",
   "mimetype": "text/x-python",
   "name": "python",
   "nbconvert_exporter": "python",
   "pygments_lexer": "ipython2",
   "version": "2.7.12"
  }
 },
 "nbformat": 4,
 "nbformat_minor": 2
}
