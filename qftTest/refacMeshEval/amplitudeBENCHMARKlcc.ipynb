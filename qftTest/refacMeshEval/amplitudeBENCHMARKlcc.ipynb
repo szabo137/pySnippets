{
 "cells": [
  {
   "cell_type": "markdown",
   "metadata": {},
   "source": [
    "Benchmark batch system (lcc version)\n",
    "=========="
   ]
  },
  {
   "cell_type": "markdown",
   "metadata": {},
   "source": [
    "We want to benchmark the batchsystem against the mesh evaluation."
   ]
  },
  {
   "cell_type": "code",
   "execution_count": null,
   "metadata": {
    "scrolled": true
   },
   "outputs": [],
   "source": [
    "from __future__ import print_function\n",
    "\n",
    "import sftrident as sf\n",
    "from sftrident.amplitude import amplitude\n",
    "import sftrident.coordinate as coord\n",
    "import numpy as np\n",
    "import time\n",
    "timesBatch = {}\n",
    "timesMesh = {}\n"
   ]
  },
  {
   "cell_type": "code",
   "execution_count": null,
   "metadata": {},
   "outputs": [],
   "source": [
    "mass = 1.0\n",
    "Narr1 = (2,3,20,5,2,7,8)\n",
    "#Narr1 = (2,2,2,2,2,2,2)\n",
    "frame = 'lab'\n",
    "tempDPHI = 50.0\n",
    "points= np.prod(Narr1)\n",
    "print(\"points:\",points)"
   ]
  },
  {
   "cell_type": "code",
   "execution_count": null,
   "metadata": {
    "scrolled": true
   },
   "outputs": [],
   "source": [
    "def buildArr_lcc_cart(Nss,N1m,N1x,N1y,N2m,N2x,N2y,eps=1e-5):\n",
    "    ss = np.linspace(3.1,4.1,Nss)\n",
    "    p1m = np.linspace(eps,1.5,N1m)\n",
    "    p1x = np.linspace(-2,2,N1x)\n",
    "    p1y = np.linspace(-2,2,N1y)\n",
    "    p2m = np.linspace(eps,1.5,N2m)\n",
    "    p2x = np.linspace(-2,2,N2x)\n",
    "    p2y = np.linspace(-2,2,N2y)\n",
    "    return sf.util.cartesian_product(ss,p1m,p1x,p1y,p2m,p2x,p2y)\n",
    "\n",
    "\n",
    "\n",
    "configBatch = {'a0':1e-4,'coordSys':'lcc','mass':1.0,'xi':0.0,'dPhi':tempDPHI,'frame':frame,'mode':'batch'}\n",
    "\n",
    "\n",
    "start = time.time()\n",
    "cartLCC = buildArr_lcc_cart(*Narr1)\n",
    "#arrLCC = buildArr_lcc_single(*Narr1)\n",
    "timesBatch['initArr'] = time.time() - start\n",
    "\n",
    "ampObjBatch = amplitude(**configBatch)\n",
    "\n",
    "start = time.time()\n",
    "resBatch = ampObjBatch(cartLCC)\n",
    "timesBatch['calc']=time.time() - start\n"
   ]
  },
  {
   "cell_type": "code",
   "execution_count": null,
   "metadata": {
    "scrolled": false
   },
   "outputs": [],
   "source": [
    "def buildArr_lcc(Nss,N1m,N1x,N1y,N2m,N2x,N2y,eps=1e-5):\n",
    "    ss = np.linspace(3.1,4.1,Nss)\n",
    "    p1m = np.linspace(eps,1.5,N1m)\n",
    "    p1x = np.linspace(-2,2,N1x)\n",
    "    p1y = np.linspace(-2,2,N1y)\n",
    "    p2m = np.linspace(eps,1.5,N2m)\n",
    "    p2x = np.linspace(-2,2,N2x)\n",
    "    p2y = np.linspace(-2,2,N2y)\n",
    "    return [ss,p1m,p1x,p1y,p2m,p2x,p2y]\n",
    "\n",
    "\n",
    "configMesh = {'a0':1e-4,'coordSys':'lcc','mass':1.0,'xi':0.0,'dPhi':tempDPHI,'frame':frame,'mode':'mesh'}\n",
    "\n",
    "\n",
    "start = time.time()\n",
    "arrLCC = buildArr_lcc(*Narr1)\n",
    "#arrLCC = buildArr_lcc_single(*Narr1)\n",
    "timesMesh['initArr'] = time.time() - start\n",
    "\n",
    "ampObjMesh = amplitude(**configMesh)\n",
    "\n",
    "start = time.time()\n",
    "resMesh = ampObjMesh(*arrLCC)\n",
    "timesMesh['calc']=time.time() - start"
   ]
  },
  {
   "cell_type": "code",
   "execution_count": null,
   "metadata": {
    "scrolled": true
   },
   "outputs": [],
   "source": [
    "print(\"max abs err:\",np.abs(resBatch-resMesh.flatten()).max())\n",
    "physPoints = len(resBatch[resBatch>0.0])\n",
    "print(physPoints)"
   ]
  },
  {
   "cell_type": "code",
   "execution_count": null,
   "metadata": {
    "scrolled": true
   },
   "outputs": [],
   "source": [
    "for el in timesBatch.iterkeys():\n",
    "    print(el,':')\n",
    "    print(\"\\tbatch:\",\"%1.2e\"%timesBatch[el],\"(%1.2e)\"%(timesBatch[el]/(float(physPoints))))\n",
    "    print(\"\\tmesh: \",\"%1.2e\"%timesMesh[el],\"(%1.2e)\"%(timesMesh[el]/(float(physPoints))))\n",
    "    print()"
   ]
  },
  {
   "cell_type": "code",
   "execution_count": null,
   "metadata": {},
   "outputs": [],
   "source": []
  },
  {
   "cell_type": "code",
   "execution_count": null,
   "metadata": {},
   "outputs": [],
   "source": []
  },
  {
   "cell_type": "code",
   "execution_count": null,
   "metadata": {},
   "outputs": [],
   "source": []
  }
 ],
 "metadata": {
  "kernelspec": {
   "display_name": "Python 2",
   "language": "python",
   "name": "python2"
  },
  "language_info": {
   "codemirror_mode": {
    "name": "ipython",
    "version": 2
   },
   "file_extension": ".py",
   "mimetype": "text/x-python",
   "name": "python",
   "nbconvert_exporter": "python",
   "pygments_lexer": "ipython2",
   "version": "2.7.12"
  }
 },
 "nbformat": 4,
 "nbformat_minor": 2
}
