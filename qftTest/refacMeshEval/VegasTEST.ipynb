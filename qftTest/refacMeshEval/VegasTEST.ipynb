{
 "cells": [
  {
   "cell_type": "markdown",
   "metadata": {},
   "source": [
    "Parallel Batch Evalulation\n",
    "======="
   ]
  },
  {
   "cell_type": "markdown",
   "metadata": {},
   "source": [
    "We want to parallize the calculation in the batch mode."
   ]
  },
  {
   "cell_type": "code",
   "execution_count": null,
   "metadata": {},
   "outputs": [],
   "source": [
    "from __future__ import print_function\n",
    "\n",
    "import sftrident as sf\n",
    "from sftrident.amplitude import amplitude\n",
    "import sftrident.coordinate as coord\n",
    "import numpy as np\n",
    "import time\n",
    "timesSingle = {}\n",
    "timesParallel = {}\n",
    "\n"
   ]
  },
  {
   "cell_type": "code",
   "execution_count": null,
   "metadata": {},
   "outputs": [],
   "source": [
    "mass = 1.0\n",
    "#Narr1 = (2,3,20,5,2,7,8)\n",
    "Narr1 = (2,3,4,5,6,7,8)\n",
    "frame = 'lab'\n",
    "tempDPHI = 500.0\n",
    "points= np.prod(Narr1)\n",
    "print(\"points:\",points)"
   ]
  },
  {
   "cell_type": "code",
   "execution_count": null,
   "metadata": {},
   "outputs": [],
   "source": [
    "def buildArr_lcc_cart(Nss,N1m,N1x,N1y,N2m,N2x,N2y,eps=1e-5):\n",
    "    ss = np.linspace(3.1,4.1,Nss)\n",
    "    p1m = np.linspace(eps,1.5,N1m)\n",
    "    p1x = np.linspace(-2,2,N1x)\n",
    "    p1y = np.linspace(-2,2,N1y)\n",
    "    p2m = np.linspace(eps,1.5,N2m)\n",
    "    p2x = np.linspace(-2,2,N2x)\n",
    "    p2y = np.linspace(-2,2,N2y)\n",
    "    return sf.util.cartesian_product(ss,p1m,p1x,p1y,p2m,p2x,p2y)\n",
    "\n",
    "\n",
    "\n",
    "configBatch = {'a0':1e-4,'coordSys':'lcc','mass':1.0,'xi':0.0,'dPhi':tempDPHI,'frame':frame,'mode':'batch'}\n",
    "\n",
    "\n",
    "start = time.time()\n",
    "cartLCC = buildArr_lcc_cart(*Narr1)\n",
    "#arrLCC = buildArr_lcc_single(*Narr1)\n",
    "timesSingle['initArr'] = time.time() - start\n",
    "\n",
    "ampObjBatch = amplitude(**configBatch)\n",
    "\n",
    "start = time.time()\n",
    "resBatch = ampObjBatch(cartLCC)\n",
    "timesSingle['calc']=time.time() - start\n",
    "print(resBatch.shape)"
   ]
  },
  {
   "cell_type": "code",
   "execution_count": null,
   "metadata": {},
   "outputs": [],
   "source": [
    "import pathos.multiprocessing as multiprocessing\n",
    "\n",
    "class parallelintegrand(object):\n",
    "    \"\"\" Convert (batch) integrand into multiprocessor integrand.\n",
    "\n",
    "    Integrand should return a numpy array.\n",
    "    \"\"\"\n",
    "    def __init__(self, fcn, nproc=4):\n",
    "        \" Save integrand; create pool of nproc processes. \"\n",
    "        self.fcn = fcn\n",
    "        self.nproc = nproc\n",
    "        self.pool = multiprocessing.Pool(processes=nproc)\n",
    "    def __del__(self):\n",
    "        \" Standard cleanup. \"\n",
    "        self.pool.close()\n",
    "        self.pool.join()\n",
    "    def __call__(self, x):\n",
    "        \" Divide x into self.nproc chunks, feeding one to each process. \"\n",
    "        nx = x.shape[0] // self.nproc + 1\n",
    "        # launch evaluation of self.fcn for each chunk, in parallel\n",
    "        results = self.pool.map(\n",
    "            self.fcn,\n",
    "            [x[i*nx : (i+1)*nx] for i in range(self.nproc)],\n",
    "            1,\n",
    "            )\n",
    "        # convert list of results into a single numpy array\n",
    "        return np.concatenate(results)\n",
    "\n",
    "\n",
    "start = time.time() \n",
    "ampObjParallel = parallelintegrand(ampObjBatch,4)\n",
    "timesParallel['initArr']=time.time() - start\n",
    "\n",
    "start = time.time()\n",
    "resParallel = ampObjParallel(cartLCC)\n",
    "timesParallel['calc']=time.time() - start\n"
   ]
  },
  {
   "cell_type": "code",
   "execution_count": null,
   "metadata": {},
   "outputs": [],
   "source": [
    "print(np.abs(resParallel - resBatch).max())\n",
    "physPoints = len(resBatch[resBatch>0.0])\n",
    "print(physPoints)"
   ]
  },
  {
   "cell_type": "code",
   "execution_count": null,
   "metadata": {},
   "outputs": [],
   "source": [
    "for el in timesSingle.iterkeys():\n",
    "    print(el,':')\n",
    "    print(\"\\tbatch:    \",\"%1.2e\"%timesSingle[el],\"(%1.2e)\"%(timesSingle[el]/(float(physPoints))))\n",
    "    print(\"\\tparallel: \",\"%1.2e\"%timesParallel[el],\"(%1.2e)\"%(timesParallel[el]/(float(physPoints))))\n",
    "    print()"
   ]
  },
  {
   "cell_type": "code",
   "execution_count": null,
   "metadata": {},
   "outputs": [],
   "source": [
    "import vegas\n",
    "\n",
    "\n",
    "@vegas.batchintegrand\n",
    "def vegasIntegrand(kinPara):\n",
    "    if len(kinPara.shape)==1:\n",
    "        kinPara = np.array([kinPara])\n",
    "    #print(kinPara.shape)\n",
    "    ss=np.array([3.353]*len(kinPara))\n",
    "    kinArr = np.column_stack([ss,kinPara])\n",
    "    #print(kinArr.shape)\n",
    "    res = ampObjBatch(kinArr)\n",
    "    #print(res)\n",
    "    return res\n",
    "\n",
    "#integ = vegas.Integrator(2 * [(0,1)])\n",
    "p2mLim = (0.1,1.5)\n",
    "p2xLim = (-3.5,3.5)\n",
    "p2yLim = (-3.5,3.5)\n",
    "p3mLim = (0.1,1.5)\n",
    "p3xLim = (-3.5,3.5)\n",
    "p3yLim = (-3.5,3.5)\n",
    "\n",
    "start = time.time()\n",
    "integ = vegas.Integrator([p2mLim, p2xLim, p2yLim, p3mLim, p3xLim, p3yLim])\n",
    "timesSingle['integInit'] = time.time() - start\n",
    "\n",
    "start = time.time()\n",
    "training = integ(vegasIntegrand, nitn=10, neval=2000)\n",
    "timesSingle['integTraining'] = time.time() - start\n",
    "\n",
    "start = time.time()\n",
    "result = integ(vegasIntegrand, nitn=10, neval=10000)\n",
    "timesSingle['integ'] = time.time() - start\n",
    "\n",
    "print(result.summary())\n"
   ]
  },
  {
   "cell_type": "code",
   "execution_count": null,
   "metadata": {},
   "outputs": [],
   "source": [
    "\n"
   ]
  },
  {
   "cell_type": "code",
   "execution_count": null,
   "metadata": {},
   "outputs": [],
   "source": [
    "A = np.array([[0, 1, 2], [0, 2, 0]])\n",
    "print(A)\n",
    "newrow = [10,20]\n",
    "a = np.column_stack((newrow,A))\n",
    "print(a)\n"
   ]
  },
  {
   "cell_type": "code",
   "execution_count": null,
   "metadata": {},
   "outputs": [],
   "source": [
    "a = np.linspace(1,2,10)\n",
    "a=np.array([a])\n",
    "print(a.shape)\n",
    "print(a[:,0])"
   ]
  },
  {
   "cell_type": "code",
   "execution_count": null,
   "metadata": {},
   "outputs": [],
   "source": [
    "\n",
    "import vegas\n",
    "import numpy as np\n",
    "\n",
    "@vegas.batchintegrand\n",
    "def f_batch(x):\n",
    "    #print(x.shape)\n",
    "    # evaluate integrand at multiple points simultaneously\n",
    "    dim = x.shape[1]\n",
    "    norm = 1013.2118364296088 ** (dim / 4.)\n",
    "    dx2 = 0.0\n",
    "    for d in range(dim):\n",
    "        dx2 += (x[:, d] - 0.5) ** 2\n",
    "    res = np.exp(-100. * dx2) * norm\n",
    "    #print(res.shape)\n",
    "    return res\n",
    "\n",
    "integ = vegas.Integrator(4 * [[0, 1]])\n",
    "\n",
    "integ(f_batch, nitn=10, neval=2e5)\n",
    "result = integ(f_batch, nitn=10, neval=2e5)\n",
    "print(result.summary())\n",
    "print('result = %s   Q = %.2f' % (result, result.Q))"
   ]
  },
  {
   "cell_type": "code",
   "execution_count": null,
   "metadata": {},
   "outputs": [],
   "source": [
    "for el in timesSingle.iterkeys():\n",
    "    print(el,':')\n",
    "    print(\"\\tbatch:    \",\"%1.2e\"%timesSingle[el],\"(%1.2e)\"%(timesSingle[el]/(float(physPoints))))\n",
    "    print()"
   ]
  },
  {
   "cell_type": "code",
   "execution_count": null,
   "metadata": {},
   "outputs": [],
   "source": [
    "import vegas\n",
    "\n",
    "\n",
    "@vegas.batchintegrand\n",
    "def vegasIntegrand(kinPara):\n",
    "    if len(kinPara.shape)==1:\n",
    "        kinPara = np.array([kinPara])\n",
    "    #print(kinPara.shape)\n",
    "    ss=np.array([4.1]*len(kinPara))\n",
    "    kinArr = np.column_stack([ss,kinPara])\n",
    "    #print(kinArr.shape)\n",
    "    res = ampObjBatch(kinArr)\n",
    "    #print(res)\n",
    "    return res\n",
    "\n",
    "#integ = vegas.Integrator(2 * [(0,1)])\n",
    "p2mLim = (0.1,1.5)\n",
    "p2xLim = (-3.5,3.5)\n",
    "p2yLim = (-3.5,3.5)\n",
    "p3mLim = (0.1,1.5)\n",
    "p3xLim = (-3.5,3.5)\n",
    "p3yLim = (-3.5,3.5)\n",
    "\n",
    "start = time.time()\n",
    "integ = vegas.Integrator([p2mLim, p2xLim, p2yLim, p3mLim, p3xLim, p3yLim])\n",
    "timesSingle['integInit'] = time.time() - start\n",
    "\n",
    "start = time.time()\n",
    "training = integ(vegasIntegrand, nitn=10, neval=5000)\n",
    "timesSingle['integTraining'] = time.time() - start\n",
    "\n",
    "start = time.time()\n",
    "result = integ(vegasIntegrand, nitn=10, neval=20000)\n",
    "timesSingle['integ'] = time.time() - start\n",
    "\n",
    "print(result.summary())"
   ]
  },
  {
   "cell_type": "code",
   "execution_count": null,
   "metadata": {},
   "outputs": [],
   "source": [
    "for el in timesSingle.iterkeys():\n",
    "    print(el,':')\n",
    "    print(\"\\tbatch:    \",\"%1.2e\"%timesSingle[el],\"(%1.2e)\"%(timesSingle[el]/(float(physPoints))))\n",
    "    print()"
   ]
  },
  {
   "cell_type": "code",
   "execution_count": null,
   "metadata": {},
   "outputs": [],
   "source": [
    "import vegas\n",
    "\n",
    "\n",
    "@vegas.batchintegrand\n",
    "def vegasIntegrand(kinPara):\n",
    "    if len(kinPara.shape)==1:\n",
    "        kinPara = np.array([kinPara])\n",
    "    #print(kinPara.shape)\n",
    "    ss=np.array([3.353]*len(kinPara))\n",
    "    kinArr = np.column_stack([ss,kinPara])\n",
    "    #print(kinArr.shape)\n",
    "    res = ampObjBatch(kinArr)\n",
    "    #print(res)\n",
    "    return res\n",
    "\n",
    "#integ = vegas.Integrator(2 * [(0,1)])\n",
    "p2mLim = (0.0001,1.5)\n",
    "p2xLim = (-6.0,6.0)\n",
    "p2yLim = (-6.0,6.0)\n",
    "p3mLim = (0.0001,1.5)\n",
    "p3xLim = (-6.0,6.0)\n",
    "p3yLim = (-6.0,6.0)\n",
    "\n",
    "start = time.time()\n",
    "integ = vegas.Integrator([p2mLim, p2xLim, p2yLim, p3mLim, p3xLim, p3yLim])\n",
    "timesSingle['integInit'] = time.time() - start\n",
    "\n",
    "start = time.time()\n",
    "training = integ(vegasIntegrand, nitn=10, neval=5000)\n",
    "timesSingle['integTraining'] = time.time() - start\n",
    "\n",
    "start = time.time()\n",
    "result = integ(vegasIntegrand, nitn=10, neval=20000)\n",
    "timesSingle['integ'] = time.time() - start\n",
    "\n",
    "print(result.summary())"
   ]
  },
  {
   "cell_type": "code",
   "execution_count": null,
   "metadata": {},
   "outputs": [],
   "source": [
    "for el in timesSingle.iterkeys():\n",
    "    print(el,':')\n",
    "    print(\"\\tbatch:    \",\"%1.2e\"%timesSingle[el],\"(%1.2e)\"%(timesSingle[el]/(float(physPoints))))\n",
    "    print()"
   ]
  },
  {
   "cell_type": "code",
   "execution_count": null,
   "metadata": {},
   "outputs": [],
   "source": [
    "print(training.summary())"
   ]
  },
  {
   "cell_type": "code",
   "execution_count": null,
   "metadata": {},
   "outputs": [],
   "source": []
  }
 ],
 "metadata": {
  "kernelspec": {
   "display_name": "Python 2",
   "language": "python",
   "name": "python2"
  },
  "language_info": {
   "codemirror_mode": {
    "name": "ipython",
    "version": 2
   },
   "file_extension": ".py",
   "mimetype": "text/x-python",
   "name": "python",
   "nbconvert_exporter": "python",
   "pygments_lexer": "ipython2",
   "version": "2.7.12"
  }
 },
 "nbformat": 4,
 "nbformat_minor": 2
}
