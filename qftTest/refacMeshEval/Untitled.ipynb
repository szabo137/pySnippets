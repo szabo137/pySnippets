{
 "cells": [
  {
   "cell_type": "markdown",
   "metadata": {},
   "source": [
    "Phase space distribution (lcc)\n",
    "=================="
   ]
  },
  {
   "cell_type": "markdown",
   "metadata": {},
   "source": [
    "We want to calculate the phasespace distribution in light cone coordinates."
   ]
  },
  {
   "cell_type": "code",
   "execution_count": null,
   "metadata": {
    "scrolled": true
   },
   "outputs": [],
   "source": [
    "from __future__ import print_function\n",
    "\n",
    "import sftrident as sf\n",
    "from sftrident.amplitude import amplitude\n",
    "import sftrident.coordinate as coord\n",
    "import numpy as np\n",
    "import time\n",
    "times = {}\n",
    "\n",
    "import math\n",
    "def orderOfMagnitude(number):\n",
    "    return math.floor(math.log(number, 10))"
   ]
  },
  {
   "cell_type": "code",
   "execution_count": null,
   "metadata": {
    "scrolled": true
   },
   "outputs": [],
   "source": [
    "mass = 1.0\n",
    "frame = 'lab'\n",
    "tempDPHI = 50.0\n"
   ]
  },
  {
   "cell_type": "code",
   "execution_count": null,
   "metadata": {
    "scrolled": true
   },
   "outputs": [],
   "source": [
    "def buildArr_lcc(N1m,N1x,N1y,N2m,N2x,N2y,eps=1e-5):\n",
    "    ss = np.array([3.353])\n",
    "    p1m = np.linspace(eps,0.3,N1m)\n",
    "    p1x = np.linspace(-5,5,N1x)\n",
    "    p1y = np.linspace(-5,5,N1y)\n",
    "    p2m = np.linspace(eps,0.3,N2m)\n",
    "    p2x = np.linspace(-2,2,N2x)\n",
    "    p2y = np.linspace(-2,2,N2y)\n",
    "    return [ss,p1m,p1x,p1y,p2m,p2x,p2y]\n",
    "\n",
    "\n",
    "\n",
    "configBatch = {'a0':1e-4,'coordSys':'lcc','mass':1.0,'xi':0.0,'dPhi':tempDPHI,'frame':frame,'mode':'mesh'}\n",
    "\n",
    "\n",
    "\n",
    "Narr = (10,24,24,3,3,3)\n",
    "points = np.prod(Narr)\n",
    "print(\"raw points:\",points)\n",
    "\n",
    "try:\n",
    "    print(\"estimated time: %1.2e second\"%(sum(times.values())/(physPoints)*points))\n",
    "except NameError:\n",
    "    pass\n",
    "\n",
    "start = time.time()\n",
    "arrTrans = buildArr_lcc(*Narr)\n",
    "#arrLCC = buildArr_lcc_single(*Narr1)\n",
    "times['initArr'] = time.time() - start\n",
    "\n",
    "ampObj = amplitude(**configBatch)\n",
    "\n",
    "start = time.time()\n",
    "resMesh = ampObj(*arrTrans)\n",
    "times['calc']=time.time() - start\n",
    "\n",
    "physPoints = ampObj.kin.grid.size\n",
    "\n",
    "print(\"physpoints:\",physPoints)\n",
    "print(\"--- times ----\")\n",
    "for el in times.iterkeys():\n",
    "    print(el,times[el])"
   ]
  },
  {
   "cell_type": "code",
   "execution_count": null,
   "metadata": {
    "scrolled": false
   },
   "outputs": [],
   "source": [
    "import matplotlib.pylab as plt\n",
    "from matplotlib import rc, colors\n",
    "\n",
    "print(resMesh.shape)\n",
    "XX,YY = np.meshgrid(arrTrans[2],arrTrans[3])\n",
    "#levels_conf=np.logspace(-10,-8,600)\n",
    "N2m,N2x,N2y = (2,1,1)\n",
    "\n",
    "levels_conf = np.linspace(resMesh[0,:,:,:,N2m,N2x,N2y].min(),resMesh[0,:,:,:,N2m,N2x,N2y].max(),100)\n",
    "#levels_conf = np.logspace(orderOfMagnitude(resMesh[0,:,:,:,N2m,N2x,N2y].min()),orderOfMagnitude(resMesh[0,:,:,:,N2m,N2x,N2y].max()),100)\n",
    "for n,el in enumerate(arrTrans[1]):\n",
    "    fig=plt.figure(figsize=(13,10))\n",
    "    ZZ=resMesh[0,n,:,:,N2m,N2x,N2y].T\n",
    "    CS = plt.contourf(XX,YY,ZZ,levels = levels_conf,vmin=levels_conf.min(), vmax=levels_conf.max())\n",
    "    #CS = plt.contourf(XX,YY,ZZ)\n",
    "    #CS = plt.contourf(XX,YY,ZZ,levels = levels_conf,vmin=levels_conf.min(), vmax=levels_conf.max(),norm=colors.LogNorm())\n",
    "    cbar = fig.colorbar(CS,format=\"%1.2e\")\n",
    "    plt.title(\"$p_{1}^- = %s, p_2^-=%s, p_{2x}=%1.2f, p_{2y}=%1.2f$\"%(el,arrTrans[4][N2m],arrTrans[5][N2x],arrTrans[6][N2y]))\n",
    "plt.show()"
   ]
  },
  {
   "cell_type": "code",
   "execution_count": null,
   "metadata": {
    "scrolled": true
   },
   "outputs": [],
   "source": []
  }
 ],
 "metadata": {
  "kernelspec": {
   "display_name": "Python 2",
   "language": "python",
   "name": "python2"
  },
  "language_info": {
   "codemirror_mode": {
    "name": "ipython",
    "version": 2
   },
   "file_extension": ".py",
   "mimetype": "text/x-python",
   "name": "python",
   "nbconvert_exporter": "python",
   "pygments_lexer": "ipython2",
   "version": "2.7.12"
  }
 },
 "nbformat": 4,
 "nbformat_minor": 2
}
