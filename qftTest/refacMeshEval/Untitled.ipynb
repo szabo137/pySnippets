{
 "cells": [
  {
   "cell_type": "markdown",
   "metadata": {},
   "source": [
    "Tuplewise grid evaluation\n",
    "============"
   ]
  },
  {
   "cell_type": "code",
   "execution_count": null,
   "metadata": {},
   "outputs": [],
   "source": [
    "from __future__ import print_function\n",
    "\n",
    "import sftrident as sf\n",
    "import sftrident.coordinate as coord\n",
    "import numpy as np\n",
    "import time\n",
    "times = {}\n"
   ]
  },
  {
   "cell_type": "code",
   "execution_count": null,
   "metadata": {},
   "outputs": [],
   "source": [
    "def buildArr_lcc(Nss,N1m,N1x,N1y,N2m,N2x,N2y,eps=1e-5):\n",
    "    ss = np.linspace(3.1,4.1,Nss)\n",
    "    p1m = np.linspace(eps,1.5,N1m)\n",
    "    p1x = np.linspace(-2,2,N1x)\n",
    "    p1y = np.linspace(-2,2,N1y)\n",
    "    p2m = np.linspace(eps,1.5,N2m)\n",
    "    p2x = np.linspace(-2,2,N2x)\n",
    "    p2y = np.linspace(-2,2,N2y)\n",
    "    return sf.util.cartesian_product(ss,p1m,p1x,p1y,p2m,p2x,p2y)\n",
    "\n",
    "\n",
    "def buildArr_lcc_single(*arr):\n",
    "    eps=1e-5\n",
    "    ss = np.array([3.1])\n",
    "    p1m = np.array([eps])\n",
    "    p1x = np.array([-2.0])\n",
    "    p1y = np.array([-2.0])\n",
    "    p2m = np.array([eps])\n",
    "    p2x = np.array([-2.0])\n",
    "    p2y = np.array([-2.0])\n",
    "    return sf.util.cartesian_product(ss,p1m,p1x,p1y,p2m,p2x,p2y)\n",
    "\n",
    "mass = 1.0\n",
    "Narr1 = (2,3,20,5,20,7,8)\n",
    "#Narr1 = (2,2,2,2,2,2,2)\n",
    "frame = 'lab'\n",
    "tempDPHI = 50.0\n",
    "\n",
    "start = time.time()\n",
    "arrLCC = buildArr_lcc(*Narr1)\n",
    "#arrLCC = buildArr_lcc_single(*Narr1)\n",
    "times['initArr'] = time.time() - start"
   ]
  },
  {
   "cell_type": "code",
   "execution_count": null,
   "metadata": {},
   "outputs": [],
   "source": [
    "print(arrLCC.shape)\n",
    "\n",
    "start = time.time()\n",
    "E = coord.energyLAB(arrLCC[:,0],mass)\n",
    "rho = np.sqrt(E**2 - mass**2)\n",
    "times['buildP'] = time.time() - start"
   ]
  },
  {
   "cell_type": "code",
   "execution_count": null,
   "metadata": {},
   "outputs": [],
   "source": [
    "def physArea(kinTuple):\n",
    "    p3m = 0.5*(E + rho) - kinTuple[:,1] - kinTuple[:,4]\n",
    "    return (p3m>0)&(kinTuple[:,1]>0)&(kinTuple[:,4]>0)\n",
    "\n",
    "start = time.time()\n",
    "physInds = physArea(arrLCC)\n",
    "times['buildPhysArea'] = time.time() - start\n",
    "print(physInds.shape)\n",
    "print(physInds)"
   ]
  },
  {
   "cell_type": "code",
   "execution_count": null,
   "metadata": {},
   "outputs": [],
   "source": [
    "\n",
    "start = time.time()\n",
    "physGrid = arrLCC[physInds]\n",
    "times['buildPhysGrid'] = time.time() - start\n",
    "print(physGrid.shape)"
   ]
  },
  {
   "cell_type": "code",
   "execution_count": null,
   "metadata": {},
   "outputs": [],
   "source": [
    "fulltime= 0.0\n",
    "for el in times.iterkeys():\n",
    "    print(el,\"%1.2e\"%times[el])\n",
    "    fulltime+=times[el]\n",
    "print(\"fulltime\",fulltime)"
   ]
  },
  {
   "cell_type": "code",
   "execution_count": null,
   "metadata": {},
   "outputs": [],
   "source": []
  }
 ],
 "metadata": {
  "kernelspec": {
   "display_name": "Python 2",
   "language": "python",
   "name": "python2"
  },
  "language_info": {
   "codemirror_mode": {
    "name": "ipython",
    "version": 2
   },
   "file_extension": ".py",
   "mimetype": "text/x-python",
   "name": "python",
   "nbconvert_exporter": "python",
   "pygments_lexer": "ipython2",
   "version": "2.7.12"
  }
 },
 "nbformat": 4,
 "nbformat_minor": 2
}
