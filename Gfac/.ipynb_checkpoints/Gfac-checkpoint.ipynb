{
 "cells": [
  {
   "cell_type": "code",
   "execution_count": 1,
   "metadata": {},
   "outputs": [
    {
     "name": "stderr",
     "output_type": "stream",
     "text": [
      "/Users/szabo/pyTableTest/venv/lib/python2.7/site-packages/scipy/special/__init__.py:640: RuntimeWarning: numpy.dtype size changed, may indicate binary incompatibility. Expected 96, got 88\n",
      "  from ._ufuncs import *\n",
      "/Users/szabo/pyTableTest/venv/lib/python2.7/site-packages/scipy/linalg/basic.py:17: RuntimeWarning: numpy.dtype size changed, may indicate binary incompatibility. Expected 96, got 88\n",
      "  from ._solve_toeplitz import levinson\n",
      "/Users/szabo/pyTableTest/venv/lib/python2.7/site-packages/scipy/linalg/__init__.py:207: RuntimeWarning: numpy.dtype size changed, may indicate binary incompatibility. Expected 96, got 88\n",
      "  from ._decomp_update import *\n",
      "/Users/szabo/pyTableTest/venv/lib/python2.7/site-packages/scipy/special/_ellip_harm.py:7: RuntimeWarning: numpy.dtype size changed, may indicate binary incompatibility. Expected 96, got 88\n",
      "  from ._ellip_harm_2 import _ellipsoid, _ellipsoid_norm\n",
      "/Users/szabo/pyTableTest/venv/lib/python2.7/site-packages/scipy/sparse/lil.py:19: RuntimeWarning: numpy.dtype size changed, may indicate binary incompatibility. Expected 96, got 88\n",
      "  from . import _csparsetools\n",
      "/Users/szabo/pyTableTest/venv/lib/python2.7/site-packages/scipy/sparse/csgraph/__init__.py:165: RuntimeWarning: numpy.dtype size changed, may indicate binary incompatibility. Expected 96, got 88\n",
      "  from ._shortest_path import shortest_path, floyd_warshall, dijkstra,\\\n",
      "/Users/szabo/pyTableTest/venv/lib/python2.7/site-packages/scipy/sparse/csgraph/_validation.py:5: RuntimeWarning: numpy.dtype size changed, may indicate binary incompatibility. Expected 96, got 88\n",
      "  from ._tools import csgraph_to_dense, csgraph_from_dense,\\\n",
      "/Users/szabo/pyTableTest/venv/lib/python2.7/site-packages/scipy/sparse/csgraph/__init__.py:167: RuntimeWarning: numpy.dtype size changed, may indicate binary incompatibility. Expected 96, got 88\n",
      "  from ._traversal import breadth_first_order, depth_first_order, \\\n",
      "/Users/szabo/pyTableTest/venv/lib/python2.7/site-packages/scipy/sparse/csgraph/__init__.py:169: RuntimeWarning: numpy.dtype size changed, may indicate binary incompatibility. Expected 96, got 88\n",
      "  from ._min_spanning_tree import minimum_spanning_tree\n",
      "/Users/szabo/pyTableTest/venv/lib/python2.7/site-packages/scipy/sparse/csgraph/__init__.py:170: RuntimeWarning: numpy.dtype size changed, may indicate binary incompatibility. Expected 96, got 88\n",
      "  from ._reordering import reverse_cuthill_mckee, maximum_bipartite_matching, \\\n",
      "/Users/szabo/pyTableTest/venv/lib/python2.7/site-packages/scipy/optimize/_trlib/__init__.py:1: RuntimeWarning: numpy.dtype size changed, may indicate binary incompatibility. Expected 96, got 88\n",
      "  from ._trlib import TRLIBQuadraticSubproblem\n",
      "/Users/szabo/pyTableTest/venv/lib/python2.7/site-packages/scipy/optimize/_numdiff.py:10: RuntimeWarning: numpy.dtype size changed, may indicate binary incompatibility. Expected 96, got 88\n",
      "  from ._group_columns import group_dense, group_sparse\n",
      "/Users/szabo/pyTableTest/venv/lib/python2.7/site-packages/scipy/interpolate/_bsplines.py:10: RuntimeWarning: numpy.dtype size changed, may indicate binary incompatibility. Expected 96, got 88\n",
      "  from . import _bspl\n",
      "/Users/szabo/pyTableTest/venv/lib/python2.7/site-packages/scipy/spatial/__init__.py:95: RuntimeWarning: numpy.dtype size changed, may indicate binary incompatibility. Expected 96, got 88\n",
      "  from .ckdtree import *\n",
      "/Users/szabo/pyTableTest/venv/lib/python2.7/site-packages/scipy/spatial/__init__.py:96: RuntimeWarning: numpy.dtype size changed, may indicate binary incompatibility. Expected 96, got 88\n",
      "  from .qhull import *\n",
      "/Users/szabo/pyTableTest/venv/lib/python2.7/site-packages/scipy/spatial/_spherical_voronoi.py:18: RuntimeWarning: numpy.dtype size changed, may indicate binary incompatibility. Expected 96, got 88\n",
      "  from . import _voronoi\n",
      "/Users/szabo/pyTableTest/venv/lib/python2.7/site-packages/scipy/spatial/distance.py:122: RuntimeWarning: numpy.dtype size changed, may indicate binary incompatibility. Expected 96, got 88\n",
      "  from . import _hausdorff\n",
      "/Users/szabo/pyTableTest/venv/lib/python2.7/site-packages/scipy/ndimage/measurements.py:36: RuntimeWarning: numpy.dtype size changed, may indicate binary incompatibility. Expected 96, got 88\n",
      "  from . import _ni_label\n"
     ]
    }
   ],
   "source": [
    "import numpy as np\n",
    "import sftrident as sf\n",
    "import matplotlib.pylab as plt"
   ]
  },
  {
   "cell_type": "code",
   "execution_count": 2,
   "metadata": {},
   "outputs": [],
   "source": [
    "def internalInt(n):\n",
    "    def tempInt(x,dphi):\n",
    "        return sf.pulseLib.getPulse('cos',['analytic'])[1](n)(x,dphi)*(x<dphi)*(x>-dphi) + sf.pulseLib.getPulse('cos',['analytic'])[1](n)(np.array([dphi]),dphi)*(x>=dphi)+sf.pulseLib.getPulse('cos',['analytic'])[1](n)(-np.array([dphi]),dphi)*(x<=-dphi)\n",
    "    return tempInt"
   ]
  },
  {
   "cell_type": "code",
   "execution_count": 5,
   "metadata": {},
   "outputs": [],
   "source": [
    "def G(eta,alphas,a0,dphi):\n",
    "    etaArr = np.array([eta])\n",
    "    print \"G -----------------\"\n",
    "    print \"alpha1: %s\"%(alphas[0])\n",
    "    print \"alpha2: %s\"%(alphas[1])\n",
    "    print \"a0: %s\"%a0\n",
    "    print \"dphi: %s\"%dphi\n",
    "    print \"etaMax: %s\"%eta\n",
    "    print \"internalInt1: %s\"%(internalInt(0)(etaArr,dphi))\n",
    "    print \"internalInt2: %s\"%(internalInt(2)(etaArr,dphi))\n",
    "    print \"=====================\"\n",
    "    return a0*alphas[0]*internalInt(0)(etaArr,dphi) + a0*alphas[1]*internalInt(2)(etaArr,dphi)\n",
    "\n",
    "def Gfac(alphas,a0,dphi,etaMax=1000):\n",
    "    return np.exp(1j*G(etaMax,alphas,a0,dphi)) + np.exp(1j*G(-etaMax,alphas,a0,dphi))\n",
    "\n",
    "def GfacLin(alphas,a0,dphi,etaMax=1000):\n",
    "    etaArr = np.array([etaMax])\n",
    "    print \"alpha1: %s\"%(alphas[0])\n",
    "    print \"alpha2: %s\"%(alphas[1])\n",
    "    print \"a0: %s\"%a0\n",
    "    print \"dphi: %s\"%dphi\n",
    "    print \"etaMax: %s\"%etaMax\n",
    "    return 2 + 1j*a0*(alphas[0]*internalInt(0)(etaArr,dphi) + alphas[1]*internalInt(2)(etaArr,dphi)) + + 1j*a0*(alphas[0]*internalInt(0)(-etaArr,dphi) + alphas[1]*internalInt(2)(-etaArr,dphi))\n",
    "    #return 2 + 1j*(G(etaArr,alphas,a0,dphi) + G(-etaArr,alphas,a0,dphi))\n",
    "\n",
    "def Gfac2nd(alphas,a0,dphi,etaMax=1000):\n",
    "    etaArr = np.array([etaMax])\n",
    "    print \"-\"*15\n",
    "    print \"internalInt1: %s\"%(internalInt(0)(etaArr,dphi))\n",
    "    print \"internalInt2: %s\"%(internalInt(2)(etaArr,dphi))\n",
    "    return 2 + 1j*a0*(alphas[0]*internalInt(0)(etaArr,dphi) + alphas[1]*internalInt(2)(etaArr,dphi)) + (1j*a0)**2*((alphas[0]*internalInt(0)(etaArr,dphi))**2 + (alphas[1]*internalInt(2)(etaArr,dphi))**2)"
   ]
  },
  {
   "cell_type": "code",
   "execution_count": 6,
   "metadata": {},
   "outputs": [
    {
     "name": "stdout",
     "output_type": "stream",
     "text": [
      "G -----------------\n",
      "alpha1: [[-20.         -19.95995996 -19.91991992 ...  19.91991992  19.95995996\n",
      "   20.        ]\n",
      " [-20.         -19.95995996 -19.91991992 ...  19.91991992  19.95995996\n",
      "   20.        ]\n",
      " [-20.         -19.95995996 -19.91991992 ...  19.91991992  19.95995996\n",
      "   20.        ]\n",
      " ...\n",
      " [-20.         -19.95995996 -19.91991992 ...  19.91991992  19.95995996\n",
      "   20.        ]\n",
      " [-20.         -19.95995996 -19.91991992 ...  19.91991992  19.95995996\n",
      "   20.        ]\n",
      " [-20.         -19.95995996 -19.91991992 ...  19.91991992  19.95995996\n",
      "   20.        ]]\n",
      "alpha2: [[-20.         -20.         -20.         ... -20.         -20.\n",
      "  -20.        ]\n",
      " [-19.95995996 -19.95995996 -19.95995996 ... -19.95995996 -19.95995996\n",
      "  -19.95995996]\n",
      " [-19.91991992 -19.91991992 -19.91991992 ... -19.91991992 -19.91991992\n",
      "  -19.91991992]\n",
      " ...\n",
      " [ 19.91991992  19.91991992  19.91991992 ...  19.91991992  19.91991992\n",
      "   19.91991992]\n",
      " [ 19.95995996  19.95995996  19.95995996 ...  19.95995996  19.95995996\n",
      "   19.95995996]\n",
      " [ 20.          20.          20.         ...  20.          20.\n",
      "   20.        ]]\n",
      "a0: 0.0001\n",
      "dphi: 50\n",
      "etaMax: 100000\n",
      "internalInt1: [0.00051996]\n",
      "internalInt2: [9.37499981]\n",
      "=====================\n",
      "G -----------------\n",
      "alpha1: [[-20.         -19.95995996 -19.91991992 ...  19.91991992  19.95995996\n",
      "   20.        ]\n",
      " [-20.         -19.95995996 -19.91991992 ...  19.91991992  19.95995996\n",
      "   20.        ]\n",
      " [-20.         -19.95995996 -19.91991992 ...  19.91991992  19.95995996\n",
      "   20.        ]\n",
      " ...\n",
      " [-20.         -19.95995996 -19.91991992 ...  19.91991992  19.95995996\n",
      "   20.        ]\n",
      " [-20.         -19.95995996 -19.91991992 ...  19.91991992  19.95995996\n",
      "   20.        ]\n",
      " [-20.         -19.95995996 -19.91991992 ...  19.91991992  19.95995996\n",
      "   20.        ]]\n",
      "alpha2: [[-20.         -20.         -20.         ... -20.         -20.\n",
      "  -20.        ]\n",
      " [-19.95995996 -19.95995996 -19.95995996 ... -19.95995996 -19.95995996\n",
      "  -19.95995996]\n",
      " [-19.91991992 -19.91991992 -19.91991992 ... -19.91991992 -19.91991992\n",
      "  -19.91991992]\n",
      " ...\n",
      " [ 19.91991992  19.91991992  19.91991992 ...  19.91991992  19.91991992\n",
      "   19.91991992]\n",
      " [ 19.95995996  19.95995996  19.95995996 ...  19.95995996  19.95995996\n",
      "   19.95995996]\n",
      " [ 20.          20.          20.         ...  20.          20.\n",
      "   20.        ]]\n",
      "a0: 0.0001\n",
      "dphi: 50\n",
      "etaMax: -100000\n",
      "internalInt1: [-0.03581964]\n",
      "internalInt2: [-18749.98211935]\n",
      "=====================\n"
     ]
    },
    {
     "data": {
      "image/png": "[encoded data removed]",
      "text/plain": [
       "<Figure size 432x288 with 2 Axes>"
      ]
     },
     "metadata": {},
     "output_type": "display_data"
    }
   ],
   "source": [
    "a0=1e-4\n",
    "dphi=50\n",
    "etMax=100000\n",
    "al1=np.linspace(-20,20,1000)\n",
    "al2=np.linspace(-20,20,1000)\n",
    "\n",
    "XX,YY = np.meshgrid(al1,al2)\n",
    "ZZraw=np.real(Gfac([XX,YY],a0,dphi,etMax))\n",
    "#ZZ=np.ones(ZZraw.shape)*2-ZZraw\n",
    "ZZ=ZZraw\n",
    "contourLevels = np.linspace(ZZ.min(),ZZ.max(),300)\n",
    "\n",
    "CS = plt.contourf(XX,YY,ZZ,levels = contourLevels)\n",
    "barlines = np.linspace(ZZ.min(),ZZ.max(),5)\n",
    "plt.colorbar(CS,ticks=barlines)\n",
    "plt.show()"
   ]
  },
  {
   "cell_type": "code",
   "execution_count": 7,
   "metadata": {},
   "outputs": [
    {
     "name": "stdout",
     "output_type": "stream",
     "text": [
      "alpha1: [[-20.         -19.95995996 -19.91991992 ...  19.91991992  19.95995996\n",
      "   20.        ]\n",
      " [-20.         -19.95995996 -19.91991992 ...  19.91991992  19.95995996\n",
      "   20.        ]\n",
      " [-20.         -19.95995996 -19.91991992 ...  19.91991992  19.95995996\n",
      "   20.        ]\n",
      " ...\n",
      " [-20.         -19.95995996 -19.91991992 ...  19.91991992  19.95995996\n",
      "   20.        ]\n",
      " [-20.         -19.95995996 -19.91991992 ...  19.91991992  19.95995996\n",
      "   20.        ]\n",
      " [-20.         -19.95995996 -19.91991992 ...  19.91991992  19.95995996\n",
      "   20.        ]]\n",
      "alpha2: [[-20.         -20.         -20.         ... -20.         -20.\n",
      "  -20.        ]\n",
      " [-19.95995996 -19.95995996 -19.95995996 ... -19.95995996 -19.95995996\n",
      "  -19.95995996]\n",
      " [-19.91991992 -19.91991992 -19.91991992 ... -19.91991992 -19.91991992\n",
      "  -19.91991992]\n",
      " ...\n",
      " [ 19.91991992  19.91991992  19.91991992 ...  19.91991992  19.91991992\n",
      "   19.91991992]\n",
      " [ 19.95995996  19.95995996  19.95995996 ...  19.95995996  19.95995996\n",
      "   19.95995996]\n",
      " [ 20.          20.          20.         ...  20.          20.\n",
      "   20.        ]]\n",
      "a0: 0.0001\n",
      "dphi: 50\n",
      "etaMax: 100000000.0\n"
     ]
    },
    {
     "data": {
      "image/png": "[encoded data removed]",
      "text/plain": [
       "<Figure size 432x288 with 2 Axes>"
      ]
     },
     "metadata": {},
     "output_type": "display_data"
    }
   ],
   "source": [
    "a0=1e-4\n",
    "dphi=50\n",
    "etMax=1e8\n",
    "al1=np.linspace(-20,20,1000)\n",
    "al2=np.linspace(-20,20,1000)\n",
    "\n",
    "XX,YY = np.meshgrid(al1,al2)\n",
    "ZZraw=np.imag(GfacLin([XX,YY],a0,dphi,etMax))\n",
    "#ZZ=np.ones(ZZraw.shape)*2-ZZraw\n",
    "ZZ=ZZraw\n",
    "contourLevels = np.linspace(ZZ.min(),ZZ.max(),300)\n",
    "#print contourLevels\n",
    "\n",
    "CS = plt.contourf(XX,YY,ZZ,levels = contourLevels)\n",
    "barlines = np.linspace(ZZ.min(),ZZ.max(),5)\n",
    "plt.colorbar(CS,ticks=barlines)\n",
    "plt.show()"
   ]
  },
  {
   "cell_type": "code",
   "execution_count": 8,
   "metadata": {},
   "outputs": [
    {
     "name": "stdout",
     "output_type": "stream",
     "text": [
      "---------------\n",
      "internalInt1: [0.00051996]\n",
      "internalInt2: [9.37499981]\n",
      "[1.99964844 1.99964961 1.99965079 1.99965196 1.99965314 1.99965432\n",
      " 1.99965549 1.99965667 1.99965784 1.99965902 1.9996602  1.99966137\n",
      " 1.99966255 1.99966372 1.9996649  1.99966607 1.99966725 1.99966843\n",
      " 1.9996696  1.99967078 1.99967195 1.99967313 1.9996743  1.99967548\n",
      " 1.99967666 1.99967783 1.99967901 1.99968018 1.99968136 1.99968254\n",
      " 1.99968371 1.99968489 1.99968606 1.99968724 1.99968841 1.99968959\n",
      " 1.99969077 1.99969194 1.99969312 1.99969429 1.99969547 1.99969665\n",
      " 1.99969782 1.999699   1.99970017 1.99970135 1.99970252 1.9997037\n",
      " 1.99970488 1.99970605 1.99970723 1.9997084  1.99970958 1.99971075\n",
      " 1.99971193 1.99971311 1.99971428 1.99971546 1.99971663 1.99971781\n",
      " 1.99971899 1.99972016 1.99972134 1.99972251 1.99972369 1.99972486\n",
      " 1.99972604 1.99972722 1.99972839 1.99972957 1.99973074 1.99973192\n",
      " 1.99973309 1.99973427 1.99973545 1.99973662 1.9997378  1.99973897\n",
      " 1.99974015 1.99974133 1.9997425  1.99974368 1.99974485 1.99974603\n",
      " 1.9997472  1.99974838 1.99974956 1.99975073 1.99975191 1.99975308\n",
      " 1.99975426 1.99975543 1.99975661 1.99975779 1.99975896 1.99976014\n",
      " 1.99976131 1.99976249 1.99976367 1.99976484 1.99976602 1.99976719\n",
      " 1.99976837 1.99976954 1.99977072 1.9997719  1.99977307 1.99977425\n",
      " 1.99977542 1.9997766  1.99977777 1.99977895 1.99978013 1.9997813\n",
      " 1.99978248 1.99978365 1.99978483 1.99978601 1.99978718 1.99978836\n",
      " 1.99978953 1.99979071 1.99979188 1.99979306 1.99979424 1.99979541\n",
      " 1.99979659 1.99979776 1.99979894 1.99980011 1.99980129 1.99980247\n",
      " 1.99980364 1.99980482 1.99980599 1.99980717 1.99980835 1.99980952\n",
      " 1.9998107  1.99981187 1.99981305 1.99981422 1.9998154  1.99981658\n",
      " 1.99981775 1.99981893 1.9998201  1.99982128 1.99982245 1.99982363\n",
      " 1.99982481 1.99982598 1.99982716 1.99982833 1.99982951 1.99983069\n",
      " 1.99983186 1.99983304 1.99983421 1.99983539 1.99983656 1.99983774\n",
      " 1.99983892 1.99984009 1.99984127 1.99984244 1.99984362 1.99984479\n",
      " 1.99984597 1.99984715 1.99984832 1.9998495  1.99985067 1.99985185\n",
      " 1.99985303 1.9998542  1.99985538 1.99985655 1.99985773 1.9998589\n",
      " 1.99986008 1.99986126 1.99986243 1.99986361 1.99986478 1.99986596\n",
      " 1.99986714 1.99986831 1.99986949 1.99987066 1.99987184 1.99987301\n",
      " 1.99987419 1.99987537 1.99987654 1.99987772 1.99987889 1.99988007\n",
      " 1.99988124 1.99988242 1.9998836  1.99988477 1.99988595 1.99988712\n",
      " 1.9998883  1.99988948 1.99989065 1.99989183 1.999893   1.99989418\n",
      " 1.99989535 1.99989653 1.99989771 1.99989888 1.99990006 1.99990123\n",
      " 1.99990241 1.99990358 1.99990476 1.99990594 1.99990711 1.99990829\n",
      " 1.99990946 1.99991064 1.99991182 1.99991299 1.99991417 1.99991534\n",
      " 1.99991652 1.99991769 1.99991887 1.99992005 1.99992122 1.9999224\n",
      " 1.99992357 1.99992475 1.99992592 1.9999271  1.99992828 1.99992945\n",
      " 1.99993063 1.9999318  1.99993298 1.99993416 1.99993533 1.99993651\n",
      " 1.99993768 1.99993886 1.99994003 1.99994121 1.99994239 1.99994356\n",
      " 1.99994474 1.99994591 1.99994709 1.99994826 1.99994944 1.99995062\n",
      " 1.99995179 1.99995297 1.99995414 1.99995532 1.9999565  1.99995767\n",
      " 1.99995885 1.99996002 1.9999612  1.99996237 1.99996355 1.99996473\n",
      " 1.9999659  1.99996708 1.99996825 1.99996943 1.9999706  1.99997178\n",
      " 1.99997296 1.99997413 1.99997531 1.99997648 1.99997766 1.99997884\n",
      " 1.99998001 1.99998119 1.99998236 1.99998354 1.99998471 1.99998589\n",
      " 1.99998707 1.99998824 1.99998942 1.99999059 1.99999177 1.99999294\n",
      " 1.99999412 1.9999953  1.99999647 1.99999765 1.99999882 2.        ]\n"
     ]
    },
    {
     "data": {
      "image/png": "[encoded data removed]",
      "text/plain": [
       "<Figure size 432x288 with 2 Axes>"
      ]
     },
     "metadata": {},
     "output_type": "display_data"
    }
   ],
   "source": [
    "a0=1e-4\n",
    "dphi=50\n",
    "etMax=1e8\n",
    "al1=np.linspace(-20,20,1000)\n",
    "al2=np.linspace(-20,20,1000)\n",
    "\n",
    "XX,YY = np.meshgrid(al1,al2)\n",
    "ZZraw=np.real(Gfac2nd([XX,YY],a0,dphi,etMax))\n",
    "#ZZ=np.ones(ZZraw.shape)*2-ZZraw\n",
    "ZZ=ZZraw\n",
    "contourLevels = np.linspace(ZZ.min(),ZZ.max(),300)\n",
    "print contourLevels\n",
    "\n",
    "CS = plt.contourf(XX,YY,ZZ,levels = contourLevels)\n",
    "barlines = np.linspace(ZZ.min(),ZZ.max(),5)\n",
    "plt.colorbar(CS,ticks=barlines)\n",
    "plt.show()"
   ]
  },
  {
   "cell_type": "code",
   "execution_count": null,
   "metadata": {},
   "outputs": [],
   "source": [
    "dphi=50\n",
    "etaArr=np.linspace(0.0,100000,10000)\n",
    "vals1 = internalInt(0)(etaArr,dphi)\n",
    "vals2 = internalInt(2)(etaArr,dphi)\n",
    "plt.plot(etaArr,vals1,label='$I_1$')\n",
    "plt.plot(etaArr,vals2,label='$I_2$')\n",
    "plt.legend()\n",
    "plt.show()"
   ]
  },
  {
   "cell_type": "code",
   "execution_count": null,
   "metadata": {},
   "outputs": [],
   "source": []
  }
 ],
 "metadata": {
  "kernelspec": {
   "display_name": "Python 2",
   "language": "python",
   "name": "python2"
  },
  "language_info": {
   "codemirror_mode": {
    "name": "ipython",
    "version": 2
   },
   "file_extension": ".py",
   "mimetype": "text/x-python",
   "name": "python",
   "nbconvert_exporter": "python",
   "pygments_lexer": "ipython2",
   "version": "2.7.10"
  }
 },
 "nbformat": 4,
 "nbformat_minor": 2
}
